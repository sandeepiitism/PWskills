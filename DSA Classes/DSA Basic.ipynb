{
 "cells": [
  {
   "cell_type": "markdown",
   "id": "ed99d4ea-927e-4a27-9b01-73fa8c3168ca",
   "metadata": {},
   "source": [
    "# Data Structure and Algorithm <br>\n",
    "`28/10/2023`                              `Sandeep Chowdhury` "
   ]
  },
  {
   "cell_type": "markdown",
   "id": "68b12ca0-838a-4b52-9c4a-c6d11fb36d0e",
   "metadata": {},
   "source": [
    "### Data Structure: Linear and Non-Linear"
   ]
  },
  {
   "cell_type": "markdown",
   "id": "91b9c7c7-431a-4a32-bdb2-e9793014b395",
   "metadata": {},
   "source": [
    "- `Linear DS`: Array, LinkedList, Stack-Queue, HashMap(dict)\n",
    "- `Non-Linear DS`: Trees, Graphs"
   ]
  },
  {
   "cell_type": "markdown",
   "id": "1e4833db-27f4-4f48-834d-147d823148db",
   "metadata": {},
   "source": [
    "### Algorithm"
   ]
  },
  {
   "cell_type": "markdown",
   "id": "77cabd65-31b4-4b1d-9434-698eda246118",
   "metadata": {},
   "source": [
    "Set of instruction or logic tosolve a specific problem"
   ]
  },
  {
   "cell_type": "markdown",
   "id": "9889106f-34dd-47c7-a47f-744424eca381",
   "metadata": {},
   "source": [
    "- Recursion and Backtracking\n",
    "- Divide and Conquer\n",
    "- Greedy Algo\n",
    "- Dynamic Programming"
   ]
  },
  {
   "cell_type": "markdown",
   "id": "683c7392-d0ba-4d5d-81a8-c506b04e8360",
   "metadata": {},
   "source": [
    "Example:\n",
    "\n",
    "sum of num: two approaches\n",
    "1. for loop\n",
    "2. n(n+1)/2\n",
    "\n",
    "which is better ?\n",
    "\n",
    "Ans.: 2. n(n+1)/2 because for loop gives O(n) while n(n+1)/2 gives O(1)"
   ]
  },
  {
   "cell_type": "markdown",
   "id": "9f92f120-b9ed-4009-b41a-8c7f8a38f7e5",
   "metadata": {},
   "source": [
    "### Time Complexity and Space Complexity"
   ]
  },
  {
   "cell_type": "markdown",
   "id": "99015d56-3c36-4d4d-b1a2-34e146bf235b",
   "metadata": {},
   "source": [
    "- Time Comp.: How much time you wait to get the response\n",
    "- Space comp: Memory or computation it used"
   ]
  },
  {
   "cell_type": "markdown",
   "id": "e6ec95a3-0103-4fe7-a766-41664487766c",
   "metadata": {},
   "source": [
    "Q. Which is more important: \n",
    "1. High time comp and low space comp.\n",
    "2. Low time comp and high space comp.\n",
    "\n",
    "Ans: 2. "
   ]
  },
  {
   "cell_type": "markdown",
   "id": "029147c2-713e-494b-b9bf-f3db5dc90ff6",
   "metadata": {},
   "source": [
    "-----------------------------------------------------------------------------------------"
   ]
  },
  {
   "cell_type": "markdown",
   "id": "f50686b8-ad6b-45fa-906c-3af2c9f726f6",
   "metadata": {},
   "source": [
    "### Analysis Module\n",
    "Low time and low space complexity"
   ]
  },
  {
   "cell_type": "markdown",
   "id": "2787b1ed-6bfe-4e4a-ba89-0b077a021b24",
   "metadata": {},
   "source": [
    "Analysis:\n",
    "- Apriori Analysis\n",
    "- Apostiary Analysis"
   ]
  },
  {
   "cell_type": "markdown",
   "id": "b77a207e-7031-4bc2-8e04-f4b9f019e13a",
   "metadata": {},
   "source": [
    "#### Apriori Analysis\n",
    "\n",
    "- Your code doesn't depend on hardware configuration, only depend on approximation and Logic.\n",
    "- Example: O(n) where n is code variable not hardware \n",
    "- O(n) is approx because we never said it will take x-secs, we are saying if n inc., time will inc. <br>\n",
    "so, O(n) > O(1) as 1 is constant and n increases with time.\n",
    "\n",
    "\n",
    "#### Apostiary Analysis\n",
    "\n",
    "- Your code depends on hardware configuration and on exact Logic\n",
    "- Less required as not everyone is having same hardware config."
   ]
  },
  {
   "cell_type": "markdown",
   "id": "bde3ef00-3710-469d-b3d7-2d491327183b",
   "metadata": {},
   "source": [
    "----------------------------------------------------------------------------------------"
   ]
  },
  {
   "cell_type": "markdown",
   "id": "a4d29c15-80b8-4e44-a9c5-0b4aab70c8d6",
   "metadata": {},
   "source": [
    "### Apriori Analysis"
   ]
  },
  {
   "cell_type": "markdown",
   "id": "f96389e7-e9a6-4180-ad7c-f3711055b14d",
   "metadata": {},
   "source": [
    "#### `Time Complexity`"
   ]
  },
  {
   "cell_type": "markdown",
   "id": "6eaacdfb-e47b-437f-aa0b-91b62e3aae1d",
   "metadata": {},
   "source": [
    "Cormen Book: \n",
    "Time Complexity defined as order of magnitude of the statement --> means \" how many times the statement is running\" "
   ]
  },
  {
   "cell_type": "markdown",
   "id": "3d9903a4-a977-46f2-8353-1802c84a8ed0",
   "metadata": {},
   "source": [
    "Q.1<br>\n",
    "x=1, y=2\n",
    "z= x+y\n",
    "what is time complexity?\n",
    "\n",
    "Sol: constant i.e O(1) because only 1 time it runs and it is called constant\n",
    "\n",
    "- It is called `Constant Time Complexity`"
   ]
  },
  {
   "cell_type": "markdown",
   "id": "29b0cbfd-082c-4d8a-9d50-fbb86eb73fcc",
   "metadata": {},
   "source": [
    "Q.2 <br>\n",
    "\n",
    "for i in range(n):\n",
    "        z=x+y\n",
    "    \n",
    "Sol.: O(n) as n no.of times loops iterate n-1 times"
   ]
  },
  {
   "cell_type": "markdown",
   "id": "9fb80f62-8238-4661-b73d-6b6b5f2429bb",
   "metadata": {},
   "source": [
    "Q.3 <br>\n",
    "------------> O(1) <br>\n",
    "z= x+y <br>            \n",
    "\n",
    "-----------> O(n) <br>\n",
    "for i in range(n): \n",
    "        z=x+y <br>\n",
    "        \n",
    "-----------> O(n**2)<br>     \n",
    "for i in range(n): <br> \n",
    "    for j in range(n): <br>\n",
    "        z=x+y \n",
    "        \n",
    "        \n",
    "Sol.: So overall is O(n^2) as bigger loop is the time complexity"
   ]
  },
  {
   "cell_type": "markdown",
   "id": "fc935595-c682-4861-a106-d9ffa42a2803",
   "metadata": {},
   "source": [
    "Q.4 <br> n+ n*2+ n*3\n",
    "\n",
    "Sol: O(n*3)"
   ]
  },
  {
   "cell_type": "markdown",
   "id": "8b65a048-0d49-4e39-be36-acb42615860c",
   "metadata": {},
   "source": [
    "Q.5 <br>\n",
    "i=n <br>\n",
    "while (i>1): <br>\n",
    "    i=i-1 <br>\n",
    "    \n",
    "What is the time complexity?\n",
    "\n",
    "Sol: O(n) as while loop executes only n-1 so just n as O(n) is approx.(as per apriori analysis) <br>\n",
    "    also, suppose n =100 or n=1billion, so n-1 is so small that approx of it is n so O(n)"
   ]
  },
  {
   "cell_type": "markdown",
   "id": "c3014b45-3bc2-471c-a574-ed76be072419",
   "metadata": {},
   "source": [
    "Q.6 <br>\n",
    "i =n<br>\n",
    "while i>1:<br>\n",
    "i=i-2<br>\n",
    "i=i-3<br>\n",
    "\n",
    "Time comp?\n",
    "\n",
    "Sol: O(n) as i-2 and i-3 = i-5 so n."
   ]
  },
  {
   "cell_type": "markdown",
   "id": "8d6541d9-248e-4849-bb9f-118c5b15633d",
   "metadata": {},
   "source": [
    "Q.7 <br>\n",
    "\n",
    "while(i>=2): <br>\n",
    "i=i^(1/2)\n",
    "\n",
    "Sol: O(log(logn)) as 16 --> 4 -->2 <br>\n",
    "\n",
    "Explaination: <br>\n",
    "\n",
    "n^1/2(k)=2 <br>\n",
    "log(n^1/2(k))=log(2) <br>\n",
    "1/2*k*log(n) = 1 <br>\n",
    "log(n) = 2**k\n",
    "k=log(log(n))\n"
   ]
  },
  {
   "cell_type": "markdown",
   "id": "9e22da1e-3152-4b83-aa92-800a583363ca",
   "metadata": {},
   "source": [
    "----------------------------------------------------------------------------------------"
   ]
  },
  {
   "cell_type": "markdown",
   "id": "7a4825a5-a4ad-4005-87da-e21686259c90",
   "metadata": {},
   "source": [
    "### Complexity classes"
   ]
  },
  {
   "cell_type": "markdown",
   "id": "ef4772dc-a56d-4ae3-8130-e20bc7247e77",
   "metadata": {},
   "source": [
    "Types (in increasing order):\n"
   ]
  },
  {
   "cell_type": "markdown",
   "id": "55c1cbbc-5bd8-464c-8831-001cc5f896ac",
   "metadata": {},
   "source": [
    "1. Constant Time Complexity --> O(1)\n",
    "2. Logarithmic Time Complexity --> O(Log n) ex: Binary search\n",
    "3. Linear Time Complexity --> O(n)\n",
    "4. Quadratic Time Complexity --> O(n^2)\n",
    "5. Cubic Time Complexity --> O(n^3)\n",
    "6. Ploynomial Time Complexity --> O(n^c) where c>0.\n",
    "7. Expnential Time Complexity --> O(2^n) or O(c^n) where c>1 --> Ex: Dynamic programming (Recursion)"
   ]
  },
  {
   "cell_type": "markdown",
   "id": "04eb138b-87ed-4ea7-8c70-259c668fb154",
   "metadata": {},
   "source": [
    "### Asymptotic Notations:\n",
    "1. Best case Scneraio \n",
    "2. Average Case\n",
    "3. Worst Case  "
   ]
  },
  {
   "cell_type": "markdown",
   "id": "97247282-186c-4718-a008-9bde38c6b21a",
   "metadata": {},
   "source": [
    "When n is high still codes works well is called worst case. "
   ]
  },
  {
   "cell_type": "markdown",
   "id": "fd619e4b-0c32-4051-b01f-630f04d6cad2",
   "metadata": {},
   "source": [
    "---------------------------------------------------------------------------------------"
   ]
  },
  {
   "cell_type": "markdown",
   "id": "09f9745e-93b5-40ff-aedc-bbb3f44b1f55",
   "metadata": {},
   "source": [
    "`Conclusion`:\n",
    "- Data Structure vs algorithm\n",
    "- Linear and Non-Linear DS\n",
    "- Syllabus of DS \n",
    "- Module1: Analysis module\n",
    "- Apriori and Apostriary Analysis\n",
    "- Complexity classes\n",
    "- Space complexity"
   ]
  },
  {
   "cell_type": "markdown",
   "id": "f1d91ce7-05cd-4f6f-a624-771a633a4bec",
   "metadata": {},
   "source": []
  }
 ],
 "metadata": {
  "kernelspec": {
   "display_name": "Python 3 (ipykernel)",
   "language": "python",
   "name": "python3"
  },
  "language_info": {
   "codemirror_mode": {
    "name": "ipython",
    "version": 3
   },
   "file_extension": ".py",
   "mimetype": "text/x-python",
   "name": "python",
   "nbconvert_exporter": "python",
   "pygments_lexer": "ipython3",
   "version": "3.10.8"
  }
 },
 "nbformat": 4,
 "nbformat_minor": 5
}
