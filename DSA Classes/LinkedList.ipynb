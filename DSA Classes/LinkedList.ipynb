{
 "cells": [
  {
   "cell_type": "markdown",
   "id": "b02a9081-c53c-4798-819c-0417fca14a3b",
   "metadata": {},
   "source": [
    "# Linked List"
   ]
  },
  {
   "cell_type": "markdown",
   "id": "c71a9bf3-e041-45eb-9b41-09ac019de328",
   "metadata": {},
   "source": [
    "- Linear Data Structure: List, Linked-List, Stck, Queue\n",
    "- Non-Linear Data structure: Tree, Graph, priority Queue"
   ]
  },
  {
   "cell_type": "markdown",
   "id": "0999d2d8-f4d8-4961-94ca-a08d5ebbc071",
   "metadata": {},
   "source": [
    "`Challanges`: <br>\n",
    "- if you want to remove or insert array element to need a space. <br>\n",
    "- you need to fix the array lenth in initialize which cause data loss <br>\n",
    "- Arrays are always place next to each other, i.e. [2,5,3,7,8...] continuous they don't space in between but memories in real world are fragmented --> so they say out of memory but it is not true, just that memmories are not presented contineous.<br>"
   ]
  },
  {
   "cell_type": "markdown",
   "id": "149fe939-b72c-4080-83e2-1d46ba810543",
   "metadata": {},
   "source": [
    "`Solution`: <b> `Linked List` <b> <br>\n",
    "- faster insertion <br>\n",
    "- Dynamic size <br>\n",
    "- Fragmented memory <br>"
   ]
  },
  {
   "cell_type": "markdown",
   "id": "ac8dcfbc-5d26-4798-beb3-a5a1212d4b1e",
   "metadata": {},
   "source": [
    "`Linked List`: --> collection oof List Nodes <br>\n",
    "- List Node <br>"
   ]
  },
  {
   "cell_type": "markdown",
   "id": "9456e326-f89c-450a-9405-084f713ec0a0",
   "metadata": {},
   "source": [
    "`List node`: <br>\n",
    "- Data <br>\n",
    "- Reference to the next node <br>"
   ]
  },
  {
   "cell_type": "markdown",
   "id": "32a877b4-3f35-4e6a-a7b4-57de4d14f5fa",
   "metadata": {},
   "source": [
    "`Linked List Structure`: <br>\n",
    "- Data, pointer --> data, pointer---> data, pointer <br>\n",
    "- Start Node is called Head and Last node is called tail <br>\n",
    "- If person knows the head, he khows entire linked List <br>\n",
    "- So, in linked-list --> HEAD is most important."
   ]
  },
  {
   "cell_type": "markdown",
   "id": "94f81370-2daa-401a-9586-a7a3edb496fd",
   "metadata": {},
   "source": [
    "`Type of Linked-List`: <br>\n",
    "- Single Linked-List : only one direction i.e. head to tail, no coming back. <br>\n",
    "- Circular Linked-List: Resource sheduling and load balancing.\n",
    "- Linked-List can bend and twist like a snake.\n"
   ]
  },
  {
   "cell_type": "markdown",
   "id": "91645c1f-c4ec-4d01-85ba-e28110ad64f2",
   "metadata": {},
   "source": [
    "`Challenges` with Linked-List: <br>\n",
    "- Memory consumption is more as data and pointer address two things together. <br>\n",
    "- Linked-List (LL) has o(n) time complexity while array is just O(1) <br>"
   ]
  },
  {
   "cell_type": "markdown",
   "id": "d433da5a-8406-4396-aaf0-0d4ea13fc672",
   "metadata": {},
   "source": [
    "`Basic operation of LL` --> Iterate, Length, Indexing and deletion"
   ]
  },
  {
   "cell_type": "markdown",
   "id": "f206267f-a428-4744-8d8a-0b1065abbd6d",
   "metadata": {},
   "source": [
    "`Note`: In array we say inhdex, and in LL we say Head"
   ]
  },
  {
   "cell_type": "code",
   "execution_count": 5,
   "id": "507a8571-d7d3-4b00-a4e9-269aca399461",
   "metadata": {},
   "outputs": [],
   "source": [
    "## define the list node\n",
    "\n",
    "class Node:\n",
    "    \n",
    "    def __init__(self, Data=None, Next=None):\n",
    "        self.Data = Data\n",
    "        self.Next = Next\n",
    "        \n",
    "    ## method to set the data\n",
    "    def setData(self, Data):\n",
    "        self.Data = Data\n",
    "        \n",
    "    ## method to get the data\n",
    "    def getData(self):\n",
    "        return self.Data\n",
    "    \n",
    "    ## method to set the next\n",
    "    def setNext(self, Next):\n",
    "        self.Next = Next\n",
    "        \n",
    "    ## method to get the data\n",
    "    def getNext(self):\n",
    "        return self.Next"
   ]
  },
  {
   "cell_type": "code",
   "execution_count": 31,
   "id": "963b2a8b-61cb-4c34-9c2b-56cbd1e201a3",
   "metadata": {},
   "outputs": [
    {
     "name": "stdout",
     "output_type": "stream",
     "text": [
      "1->2->3->4->"
     ]
    }
   ],
   "source": [
    "#Create a linked list -> collection of list nodes --> using setNext()\n",
    "\n",
    "head = Node(1)\n",
    "node2 = Node(2)\n",
    "node3 = Node(3)\n",
    "node4 = Node(4)\n",
    "\n",
    "#Creating the linkage\n",
    "head.setNext(node2)\n",
    "node2.setNext(node3)\n",
    "node3.setNext(node4)\n",
    "\n",
    "def traverse(head):\n",
    "    temp = head\n",
    "    while(temp):\n",
    "        print(temp.getData(),end=\"->\")\n",
    "        temp = temp.getNext() #jump to the next node\n",
    "\n",
    "traverse(head)"
   ]
  },
  {
   "cell_type": "markdown",
   "id": "302eea31-9418-4a7a-b7a3-815ab2b8b634",
   "metadata": {},
   "source": [
    "#### using Recursion"
   ]
  },
  {
   "cell_type": "code",
   "execution_count": 16,
   "id": "0712a9de-02f9-4700-908a-6dc53e61c8d9",
   "metadata": {},
   "outputs": [
    {
     "name": "stdout",
     "output_type": "stream",
     "text": [
      "1->2->3->4->"
     ]
    }
   ],
   "source": [
    "### using recursive function\n",
    "\n",
    "def traverse_Recursive(head):\n",
    "    ## base condition\n",
    "    if not head:\n",
    "        return\n",
    "    \n",
    "    ## logic\n",
    "    print(head.getData(), end=\"->\")\n",
    "    traverse_Recursive(head.getNext())\n",
    "    \n",
    "traverse_Recursive(head)"
   ]
  },
  {
   "cell_type": "markdown",
   "id": "a6ddc3fb-b898-49bc-96bf-a9ffa5c0de17",
   "metadata": {},
   "source": [
    "#### now if head of the linked-list is given, find the length of the Linked-List"
   ]
  },
  {
   "cell_type": "code",
   "execution_count": 26,
   "id": "3eaf68fd-30a1-4cf0-b9d2-8e035425da9e",
   "metadata": {},
   "outputs": [
    {
     "data": {
      "text/plain": [
       "4"
      ]
     },
     "execution_count": 26,
     "metadata": {},
     "output_type": "execute_result"
    }
   ],
   "source": [
    "### count function to find the length\n",
    "\n",
    "def traverse_length(head):\n",
    "    temp = head\n",
    "    count = 0\n",
    "    while(temp):\n",
    "        count +=1\n",
    "        temp = temp.getNext() #jump to the next node\n",
    "    return count\n",
    "\n",
    "\n",
    "traverse_length(head)"
   ]
  },
  {
   "cell_type": "markdown",
   "id": "5ac96461-2e1e-4a7a-8629-b77b55e0546c",
   "metadata": {},
   "source": [
    "#### `Insertion` of Linked List: <br>\n",
    "- New Node insertion <br>\n",
    "- New Head inserstion <br>\n",
    "- New tail insertion <br>\n",
    "- Insert in the middle"
   ]
  },
  {
   "cell_type": "markdown",
   "id": "6aff6ded-a1d0-4de1-bcf8-3ea182254c67",
   "metadata": {},
   "source": [
    "`Insertion` at kth :"
   ]
  },
  {
   "cell_type": "code",
   "execution_count": 45,
   "id": "e1cc6bf5-cc39-4df8-9a32-55d341896d05",
   "metadata": {},
   "outputs": [
    {
     "name": "stdout",
     "output_type": "stream",
     "text": [
      "1->2->3->4->5->\n",
      "1->2->3->8->4->5->"
     ]
    }
   ],
   "source": [
    "def insertNode(head,data,k):\n",
    "    if (k > traverse_length(head) or k <0):\n",
    "        print(\"Argument k passed is not valid\")\n",
    "        return head\n",
    "\n",
    "    newNode = Node(data) #Create the new node object\n",
    "\n",
    "    if( k==0):\n",
    "        newNode.setNext(head)\n",
    "        head = newNode\n",
    "    else :\n",
    "        prev = head\n",
    "        i=0\n",
    "        while(i<k-1):\n",
    "            prev = prev.getNext()\n",
    "            i+=1\n",
    "        newNode.setNext(prev.getNext())\n",
    "        prev.setNext(newNode)\n",
    "    return head\n",
    "\n",
    "\n",
    "\n",
    "head = Node(1)\n",
    "node2 = Node(2)\n",
    "node3 = Node(3)\n",
    "node4 = Node(4)\n",
    "node5 = Node(5)\n",
    "\n",
    "#Creating the linkage\n",
    "head.setNext(node2)\n",
    "node2.setNext(node3)\n",
    "node3.setNext(node4)\n",
    "node4.setNext(node5)\n",
    "\n",
    "traverse(head)\n",
    "print()\n",
    "\n",
    "head = insertNode(head,8,3)\n",
    "\n",
    "traverse(head)"
   ]
  },
  {
   "cell_type": "code",
   "execution_count": null,
   "id": "c3e62ae5-ab5f-4504-a407-598e4812c8b9",
   "metadata": {},
   "outputs": [],
   "source": []
  }
 ],
 "metadata": {
  "kernelspec": {
   "display_name": "Python 3 (ipykernel)",
   "language": "python",
   "name": "python3"
  },
  "language_info": {
   "codemirror_mode": {
    "name": "ipython",
    "version": 3
   },
   "file_extension": ".py",
   "mimetype": "text/x-python",
   "name": "python",
   "nbconvert_exporter": "python",
   "pygments_lexer": "ipython3",
   "version": "3.10.8"
  }
 },
 "nbformat": 4,
 "nbformat_minor": 5
}
