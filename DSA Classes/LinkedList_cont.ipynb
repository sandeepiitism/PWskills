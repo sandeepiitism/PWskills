{
 "cells": [
  {
   "cell_type": "markdown",
   "id": "b02a9081-c53c-4798-819c-0417fca14a3b",
   "metadata": {},
   "source": [
    "# Linked List_17Dec"
   ]
  },
  {
   "cell_type": "markdown",
   "id": "5ac96461-2e1e-4a7a-8629-b77b55e0546c",
   "metadata": {},
   "source": [
    "#### `Insertion` of Linked List: <br>\n",
    "- New Node insertion <br>\n",
    "- New Head inserstion <br>\n",
    "- New tail insertion <br>\n",
    "- Insert in the middle"
   ]
  },
  {
   "cell_type": "markdown",
   "id": "a048ed47-b4d6-4ddf-b047-daa3698f1dfa",
   "metadata": {},
   "source": [
    "---------------------------------------------------------------------------------------------------------------"
   ]
  },
  {
   "cell_type": "markdown",
   "id": "6aff6ded-a1d0-4de1-bcf8-3ea182254c67",
   "metadata": {},
   "source": [
    "### `Insertion` at kth position:"
   ]
  },
  {
   "cell_type": "code",
   "execution_count": 8,
   "id": "e1cc6bf5-cc39-4df8-9a32-55d341896d05",
   "metadata": {},
   "outputs": [
    {
     "name": "stdout",
     "output_type": "stream",
     "text": [
      "1->2->3->4->5->\n",
      "1->2->3->8->4->5->"
     ]
    }
   ],
   "source": [
    "def insertNode(head,data,k):\n",
    "    if (k > traverse_length(head) or k <0):\n",
    "        print(\"Argument k passed is not valid\")\n",
    "        return head\n",
    "\n",
    "    newNode = Node(data) #Create the new node object\n",
    "\n",
    "    if( k==0):\n",
    "        newNode.setNext(head)\n",
    "        head = newNode\n",
    "    else :\n",
    "        prev = head\n",
    "        i=0\n",
    "        while(i<k-1):\n",
    "            prev = prev.getNext()\n",
    "            i+=1\n",
    "        newNode.setNext(prev.getNext())\n",
    "        prev.setNext(newNode)\n",
    "    return head\n",
    "\n",
    "\n",
    "\n",
    "head = Node(1)\n",
    "node2 = Node(2)\n",
    "node3 = Node(3)\n",
    "node4 = Node(4)\n",
    "node5 = Node(5)\n",
    "\n",
    "#Creating the linkage\n",
    "head.setNext(node2)\n",
    "node2.setNext(node3)\n",
    "node3.setNext(node4)\n",
    "node4.setNext(node5)\n",
    "\n",
    "traverse(head)\n",
    "print()\n",
    "\n",
    "head = insertNode(head,8,3)\n",
    "\n",
    "traverse(head)"
   ]
  },
  {
   "cell_type": "markdown",
   "id": "1ab90281-3688-4e46-8ff7-ea8bad411011",
   "metadata": {},
   "source": [
    "### `Deletion` at kth position:"
   ]
  },
  {
   "cell_type": "markdown",
   "id": "a81a05df-ef39-4be8-b8ab-88fc583b5d2c",
   "metadata": {},
   "source": [
    "- The nodes which are deleted stays in memory and after a while python remove it also from the memory"
   ]
  },
  {
   "cell_type": "code",
   "execution_count": 12,
   "id": "0a2ad76c-0f38-4ce9-ae30-fbd461fb73c2",
   "metadata": {},
   "outputs": [
    {
     "name": "stdout",
     "output_type": "stream",
     "text": [
      "1->2->3->4->5->6->7->\n",
      "1->2->3->5->6->7->"
     ]
    }
   ],
   "source": [
    "### removing the node from Kth position, and assign head of newly formed LinkedList\n",
    "\n",
    "#Code for deleting/removing the Node from the LinkedList\n",
    "\n",
    "def remove(head,k):  #Supposed to return the new head of the transformed LL ( by removing kth node)\n",
    "  #Check if k is valid\n",
    "    if(k<0 or k>= traverse_length(head) or not head):\n",
    "        return head\n",
    "\n",
    "    if(k==0):\n",
    "    # We are removing the first element\n",
    "        head = head.getNext()\n",
    "    else :\n",
    "\n",
    "    # We jump to k-1th position\n",
    "        i=0\n",
    "        prev = head\n",
    "        while(i< k-1):\n",
    "            prev = prev.getNext()\n",
    "            i +=1\n",
    "    #prev will be pointing to the node left of the kth position\n",
    "        prev.setNext(prev.getNext().getNext())\n",
    "\n",
    "    return head\n",
    "\n",
    "head = Node(1)\n",
    "node2 = Node(2)\n",
    "node3 = Node(3)\n",
    "node4 = Node(4)\n",
    "node5 = Node(5)\n",
    "node6 = Node(6)\n",
    "node7 = Node(7)\n",
    "\n",
    "#Creating the linkage\n",
    "head.setNext(node2)\n",
    "node2.setNext(node3)\n",
    "node3.setNext(node4)\n",
    "node4.setNext(node5)\n",
    "node5.setNext(node6)\n",
    "node6.setNext(node7)\n",
    "\n",
    "traverse(head)\n",
    "print()\n",
    "head = remove(head,3)\n",
    "traverse(head)"
   ]
  },
  {
   "cell_type": "markdown",
   "id": "9152f621-0684-4dc4-9e23-a9e30392f23d",
   "metadata": {},
   "source": [
    "### `Middle` of the LinkedList:"
   ]
  },
  {
   "cell_type": "markdown",
   "id": "b792e52e-6166-4186-ab1f-562e2d55cc97",
   "metadata": {},
   "source": [
    "- using 2-pointer method : slow and faast"
   ]
  },
  {
   "cell_type": "code",
   "execution_count": 16,
   "id": "afc495b9-f482-40e8-b2d3-84e64c49314d",
   "metadata": {},
   "outputs": [
    {
     "name": "stdout",
     "output_type": "stream",
     "text": [
      "1->2->3->4->5->6->7->\n",
      "4\n"
     ]
    }
   ],
   "source": [
    "#Find the middle element in the linkedlist for odd nodes\n",
    "\n",
    "def findMidPoint(head):\n",
    "    slow = head\n",
    "    fast = head\n",
    "\n",
    "    while(fast !=None and fast.getNext()!= None):\n",
    "        slow = slow.getNext()\n",
    "        fast = fast.getNext().getNext()\n",
    "\n",
    "    return slow.getData()\n",
    "\n",
    "head = Node(1)\n",
    "node2 = Node(2)\n",
    "node3 = Node(3)\n",
    "node4 = Node(4)\n",
    "node5 = Node(5)\n",
    "node6 = Node(6)\n",
    "node7 = Node(7)\n",
    "\n",
    "#Creating the linkage\n",
    "head.setNext(node2)\n",
    "node2.setNext(node3)\n",
    "node3.setNext(node4)\n",
    "node4.setNext(node5)\n",
    "node5.setNext(node6)\n",
    "node6.setNext(node7)\n",
    "\n",
    "traverse(head)\n",
    "print()\n",
    "print(findMidPoint(head))"
   ]
  },
  {
   "cell_type": "code",
   "execution_count": 15,
   "id": "403f727b-f1f3-49d8-a8b5-36745f9f0e0f",
   "metadata": {},
   "outputs": [
    {
     "name": "stdout",
     "output_type": "stream",
     "text": [
      "1->2->3->4->5->6->\n",
      "4\n"
     ]
    }
   ],
   "source": [
    "## for even nodes\n",
    "\n",
    "def findMidPoint(head):\n",
    "    slow = head\n",
    "    fast = head\n",
    "\n",
    "    while(fast !=None and fast.getNext()!= None):\n",
    "        slow = slow.getNext()\n",
    "        fast = fast.getNext().getNext()\n",
    "\n",
    "    return slow.getData()\n",
    "\n",
    "head = Node(1)\n",
    "node2 = Node(2)\n",
    "node3 = Node(3)\n",
    "node4 = Node(4)\n",
    "node5 = Node(5)\n",
    "node6 = Node(6)\n",
    "\n",
    "\n",
    "#Creating the linkage\n",
    "head.setNext(node2)\n",
    "node2.setNext(node3)\n",
    "node3.setNext(node4)\n",
    "node4.setNext(node5)\n",
    "node5.setNext(node6)\n",
    "\n",
    "\n",
    "traverse(head)\n",
    "print()\n",
    "print(findMidPoint(head))"
   ]
  },
  {
   "cell_type": "markdown",
   "id": "51ad32b5-e49d-47a0-83d5-d1d981193c83",
   "metadata": {},
   "source": [
    "### `Loop` of the LinkedList:"
   ]
  },
  {
   "cell_type": "markdown",
   "id": "8d12d39a-bbfb-4141-8bf1-10506345e891",
   "metadata": {},
   "source": [
    "- above is circular, just cycle/loop like : 1->2->3->4->5->2 (`Cycle detection Algorithm`)"
   ]
  },
  {
   "cell_type": "markdown",
   "id": "46ff4850-03c8-4948-8060-7e39bc76aa93",
   "metadata": {},
   "source": [
    "- `Problem-1`: Given is a Head of a linkedList, tell us whether there are any any cyclic loop? <br>\n",
    "- `Appraoch`: if slow and fast pointer moves in circle they will meet once but if not circular they will never meet"
   ]
  },
  {
   "cell_type": "code",
   "execution_count": 19,
   "id": "116087ec-eda3-46fd-b28d-f455918057a5",
   "metadata": {},
   "outputs": [
    {
     "name": "stdout",
     "output_type": "stream",
     "text": [
      "True\n"
     ]
    }
   ],
   "source": [
    "#Detect the cycle in the loop\n",
    "def isCyclePresent(head):\n",
    "    slow = head\n",
    "    fast = head\n",
    "\n",
    "    while(fast and fast.getNext()):            ### fast we taking so to avoid None at end\n",
    "        slow = slow.getNext()\n",
    "        fast = fast.getNext().getNext()\n",
    "\n",
    "        if fast and slow.getData() == fast.getData():\n",
    "            return True #cycle exists\n",
    "      \n",
    "    return False #Cycle doesn't exist\n",
    "\n",
    "\n",
    "head = Node(1)\n",
    "node2 = Node(2)\n",
    "node3 = Node(3)\n",
    "node4 = Node(4)\n",
    "node5 = Node(5)\n",
    "node6 = Node(6)\n",
    "\n",
    "#Creating the linkage\n",
    "head.setNext(node2)\n",
    "node2.setNext(node3)\n",
    "node3.setNext(node4)\n",
    "node4.setNext(node5)\n",
    "node5.setNext(node6)\n",
    "node6.setNext(node3)\n",
    "\n",
    "print(isCyclePresent(head))\n"
   ]
  },
  {
   "cell_type": "markdown",
   "id": "d2a7a813-7c9d-4753-a6f5-bcbd48b59533",
   "metadata": {},
   "source": [
    "- `Problem-2`: What if the cycle have duplicates ? <br>\n",
    "- Assignment !"
   ]
  },
  {
   "cell_type": "code",
   "execution_count": null,
   "id": "7ccb740c-a68b-45a9-b024-95917c153da5",
   "metadata": {},
   "outputs": [],
   "source": []
  },
  {
   "cell_type": "markdown",
   "id": "69c4c343-5ec4-429b-8b5c-d662db084f13",
   "metadata": {},
   "source": [
    "- `Problem-3`: Find the starting point of the cyclic Node ?\n",
    "- `Approach`: x=z where z is the distance from the head and z is the distance after nodes where fast and slow meets and from that to the comon noce."
   ]
  },
  {
   "cell_type": "code",
   "execution_count": 23,
   "id": "d63d4773-b8ec-41e3-8305-c42f232f78d9",
   "metadata": {},
   "outputs": [
    {
     "name": "stdout",
     "output_type": "stream",
     "text": [
      "3\n"
     ]
    }
   ],
   "source": [
    "#Find the starting point of the loop\n",
    "def startingPointOfCycle(head):\n",
    "    slow = head\n",
    "    fast = head\n",
    "    isCyclePresent = False\n",
    "    while( fast and fast.getNext()):\n",
    "        slow = slow.getNext()\n",
    "        fast = fast.getNext().getNext()\n",
    "\n",
    "        if(fast and slow.getData() == fast.getData()):\n",
    "            isCyclePresent = True\n",
    "            break\n",
    "\n",
    "    if not isCyclePresent :\n",
    "        return None\n",
    "\n",
    "    temp = head\n",
    "    while(temp.getData() != slow.getData()):\n",
    "        temp = temp.getNext()\n",
    "        slow = slow.getNext()\n",
    "\n",
    "    return temp.getData()\n",
    "\n",
    "head = Node(1)\n",
    "node2 = Node(2)\n",
    "node3 = Node(3)\n",
    "node4 = Node(4)\n",
    "node5 = Node(5)\n",
    "node6 = Node(6)\n",
    "\n",
    "#Creating the linkage\n",
    "head.setNext(node2)\n",
    "node2.setNext(node3)\n",
    "node3.setNext(node4)\n",
    "node4.setNext(node5)\n",
    "node5.setNext(node6)\n",
    "node6.setNext(node3)\n",
    "\n",
    "print(startingPointOfCycle(head))\n"
   ]
  },
  {
   "cell_type": "markdown",
   "id": "32960488-faad-4887-be80-9ac5f6b9b41e",
   "metadata": {},
   "source": [
    "-`Problem-4`: Reverse the node flow i.e 1->2->3->4 to 4->3->2->1"
   ]
  },
  {
   "cell_type": "code",
   "execution_count": null,
   "id": "290cebe2-5a9e-4136-a7e1-6eef83bdbf92",
   "metadata": {},
   "outputs": [],
   "source": []
  }
 ],
 "metadata": {
  "kernelspec": {
   "display_name": "Python 3 (ipykernel)",
   "language": "python",
   "name": "python3"
  },
  "language_info": {
   "codemirror_mode": {
    "name": "ipython",
    "version": 3
   },
   "file_extension": ".py",
   "mimetype": "text/x-python",
   "name": "python",
   "nbconvert_exporter": "python",
   "pygments_lexer": "ipython3",
   "version": "3.10.8"
  }
 },
 "nbformat": 4,
 "nbformat_minor": 5
}
