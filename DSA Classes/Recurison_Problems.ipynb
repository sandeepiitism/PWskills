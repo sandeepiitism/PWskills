{
  "nbformat": 4,
  "nbformat_minor": 0,
  "metadata": {
    "colab": {
      "provenance": []
    },
    "kernelspec": {
      "name": "python3",
      "display_name": "Python 3"
    },
    "language_info": {
      "name": "python"
    }
  },
  "cells": [
    {
      "cell_type": "markdown",
      "source": [
        "# **RECURSION PROBLEMS**\n",
        "\n",
        "Date: 02/12/2023"
      ],
      "metadata": {
        "id": "j3_TG8pwzlp9"
      }
    },
    {
      "cell_type": "markdown",
      "source": [
        "### **Linear Search** to **Recursion**"
      ],
      "metadata": {
        "id": "yUmm2JFT2tm-"
      }
    },
    {
      "cell_type": "markdown",
      "source": [
        "#### Linear search using loop"
      ],
      "metadata": {
        "id": "9OY1LLo4zi0M"
      }
    },
    {
      "cell_type": "code",
      "source": [
        "def find_num_linear(arr, num):\n",
        "    for index, element in enumerate(arr):\n",
        "        if element == num:\n",
        "            return index\n",
        "    return -1\n",
        "\n",
        "find_num_linear([1, 5, 8, 3, 9], 9)"
      ],
      "metadata": {
        "colab": {
          "base_uri": "https://localhost:8080/"
        },
        "id": "64YJUxnnzJrH",
        "outputId": "71e79aea-6298-46ab-bc7b-46a58c56f999"
      },
      "execution_count": 14,
      "outputs": [
        {
          "output_type": "execute_result",
          "data": {
            "text/plain": [
              "4"
            ]
          },
          "metadata": {},
          "execution_count": 14
        }
      ]
    },
    {
      "cell_type": "markdown",
      "source": [
        "#### Linear search using Recursion"
      ],
      "metadata": {
        "id": "Yt00z93UzFCz"
      }
    },
    {
      "cell_type": "code",
      "source": [
        "def find_num(arr, index, num):\n",
        "  ## base condition\n",
        "  if index >= len(arr):\n",
        "    return -1\n",
        "  ## Logic\n",
        "  if arr[index] == num:\n",
        "    return index\n",
        "  else:\n",
        "    return find_num(arr, index+1, num)\n",
        "\n",
        "find_num([1,5,8,3,9], 0, 9)"
      ],
      "metadata": {
        "colab": {
          "base_uri": "https://localhost:8080/"
        },
        "id": "Oqw59iLnylAU",
        "outputId": "de87e262-5bea-4c5c-b70a-49027fda8449"
      },
      "execution_count": 8,
      "outputs": [
        {
          "output_type": "execute_result",
          "data": {
            "text/plain": [
              "4"
            ]
          },
          "metadata": {},
          "execution_count": 8
        }
      ]
    },
    {
      "cell_type": "markdown",
      "source": [
        "**Binary Search** to **Recursion**"
      ],
      "metadata": {
        "id": "OIlGX-iB2308"
      }
    },
    {
      "cell_type": "markdown",
      "source": [
        "#### Binary sort using loop"
      ],
      "metadata": {
        "id": "GizakMBb3XPy"
      }
    },
    {
      "cell_type": "code",
      "source": [
        "def binarySearch(arr, num):\n",
        "    left = 0\n",
        "    right = len(arr)-1\n",
        "\n",
        "    mid = int(left + (right-left)/2)\n",
        "\n",
        "    while(left<=right):\n",
        "        mid = int(left + (right-left)/2)\n",
        "        if arr[mid] == num:\n",
        "            return mid\n",
        "        elif arr[mid]>num:\n",
        "            right = mid-1\n",
        "        else:\n",
        "            left = mid+1\n",
        "    return -1\n",
        "\n",
        "arr = [1,2,6,8,12]\n",
        "num=2\n",
        "binarySearch(arr, num)"
      ],
      "metadata": {
        "colab": {
          "base_uri": "https://localhost:8080/"
        },
        "id": "mcUyGRaSylLg",
        "outputId": "840ee332-4bb8-454e-950a-b03456802fd2"
      },
      "execution_count": 19,
      "outputs": [
        {
          "output_type": "execute_result",
          "data": {
            "text/plain": [
              "1"
            ]
          },
          "metadata": {},
          "execution_count": 19
        }
      ]
    },
    {
      "cell_type": "markdown",
      "source": [
        "#### Binary sort using Recursion"
      ],
      "metadata": {
        "id": "qVQXuLMD3lhE"
      }
    },
    {
      "cell_type": "code",
      "source": [
        "def binary_recusion(arr, start, end, num):\n",
        "  ## Base condition\n",
        "  if start>end:\n",
        "    return -1\n",
        "\n",
        "  ## Logic\n",
        "  mid = int(start+ (end-start)/2)\n",
        "\n",
        "  if arr[mid] == num:\n",
        "    return mid\n",
        "  elif arr[mid]>num:\n",
        "    return binary_recusion(arr, start, mid-1, num)\n",
        "  else:\n",
        "    return binary_recusion(arr, mid+1, end, num)\n",
        "\n",
        "binary_recusion([1,2,6,8,12], 0, 4, 2)\n"
      ],
      "metadata": {
        "colab": {
          "base_uri": "https://localhost:8080/"
        },
        "id": "9cL6rOp_3iXR",
        "outputId": "b071d172-3aa5-4044-c725-dd91d215613a"
      },
      "execution_count": 18,
      "outputs": [
        {
          "output_type": "execute_result",
          "data": {
            "text/plain": [
              "1"
            ]
          },
          "metadata": {},
          "execution_count": 18
        }
      ]
    },
    {
      "cell_type": "markdown",
      "source": [
        "#### Reverse an Array"
      ],
      "metadata": {
        "id": "ayuQm-6RAIGM"
      }
    },
    {
      "cell_type": "code",
      "source": [
        "arr = [1,2,3,4,5]\n",
        "arr[::-1]"
      ],
      "metadata": {
        "colab": {
          "base_uri": "https://localhost:8080/"
        },
        "id": "Z-Q5shPC9HM4",
        "outputId": "6c25426f-a407-45bd-e1b2-5383ac1fd5b9"
      },
      "execution_count": 20,
      "outputs": [
        {
          "output_type": "execute_result",
          "data": {
            "text/plain": [
              "[5, 4, 3, 2, 1]"
            ]
          },
          "metadata": {},
          "execution_count": 20
        }
      ]
    },
    {
      "cell_type": "markdown",
      "source": [
        "#### Reverse an Array using 2-pointer approach"
      ],
      "metadata": {
        "id": "WGMQLebHBz3e"
      }
    },
    {
      "cell_type": "code",
      "source": [
        "def rev_arr(arr):\n",
        "  start = 0\n",
        "  end = len(arr)-1\n",
        "\n",
        "  while (start<end):\n",
        "    arr[start], arr[end]=arr[end], arr[start]\n",
        "    start+=1\n",
        "    end-=1\n",
        "\n",
        "arr = [1,2,3,4,5]\n",
        "rev_arr(arr)\n",
        "print(arr)"
      ],
      "metadata": {
        "colab": {
          "base_uri": "https://localhost:8080/"
        },
        "id": "TR3GRCKn9HSj",
        "outputId": "345779f3-512a-48c4-f234-84d76fbf4c50"
      },
      "execution_count": 30,
      "outputs": [
        {
          "output_type": "stream",
          "name": "stdout",
          "text": [
            "[5, 4, 3, 2, 1]\n"
          ]
        }
      ]
    },
    {
      "cell_type": "markdown",
      "source": [
        "#### Reverse an Array Using Recursion"
      ],
      "metadata": {
        "id": "DA6gctLpIPyT"
      }
    },
    {
      "cell_type": "code",
      "source": [
        "def rev_arr_recursion(arr, start, end):\n",
        "  if start>=end:\n",
        "    return\n",
        "\n",
        "  arr[start], arr[end] = arr[end], arr[start]\n",
        "  rev_arr_recursion(arr, start+1, end-1)\n",
        "\n",
        "arr = [1,2,3,4,5]\n",
        "rev_arr_recursion(arr, 0, len(arr)-1)\n",
        "print(arr)"
      ],
      "metadata": {
        "id": "iYp6WoXoIOvG",
        "outputId": "1a146260-dd24-4a2e-dc67-0f84f4c9a2e8",
        "colab": {
          "base_uri": "https://localhost:8080/"
        }
      },
      "execution_count": 29,
      "outputs": [
        {
          "output_type": "stream",
          "name": "stdout",
          "text": [
            "[5, 4, 3, 2, 1]\n"
          ]
        }
      ]
    },
    {
      "cell_type": "markdown",
      "source": [
        "#### Palindrome"
      ],
      "metadata": {
        "id": "VfKBcoYTJLNT"
      }
    },
    {
      "cell_type": "code",
      "source": [
        "def is_palindrome(number):\n",
        "    num_str = str(number)\n",
        "\n",
        "    if len(num_str) <= 1:\n",
        "        return True\n",
        "\n",
        "    if num_str[0] == num_str[-1]:\n",
        "        return is_palindrome(num_str[1:-1])\n",
        "    else:\n",
        "        return False\n",
        "\n",
        "\n",
        "number_to_check = 12321\n",
        "result = is_palindrome(number_to_check)\n",
        "\n",
        "if result:\n",
        "    print(f\"{number_to_check} is a palindrome.\")\n",
        "else:\n",
        "    print(f\"{number_to_check} is not a palindrome.\")\n"
      ],
      "metadata": {
        "id": "eL5ZPutOJ-1X",
        "outputId": "84f847da-bb74-47c7-8b38-395c11df6d63",
        "colab": {
          "base_uri": "https://localhost:8080/"
        }
      },
      "execution_count": 33,
      "outputs": [
        {
          "output_type": "stream",
          "name": "stdout",
          "text": [
            "12321 is a palindrome.\n"
          ]
        }
      ]
    },
    {
      "cell_type": "markdown",
      "source": [
        "#### Palindrome using 2-pointer method"
      ],
      "metadata": {
        "id": "FjID7uoFLamu"
      }
    },
    {
      "cell_type": "code",
      "source": [
        "def Ispalindrome(arr):\n",
        "  start = 0\n",
        "  end = len(arr)-1\n",
        "\n",
        "  while(end<start):\n",
        "    if arr[start] != arr[end]:\n",
        "      return False\n",
        "    start+=1\n",
        "    end-=1\n",
        "  return True\n",
        "\n",
        "arr = [1,2,3,2,1]\n",
        "print(Ispalindrome(arr))\n",
        "\n"
      ],
      "metadata": {
        "id": "sLGe-ubRJUzG",
        "outputId": "3525cf87-0d97-4022-ed3a-67f6b08dfbd9",
        "colab": {
          "base_uri": "https://localhost:8080/"
        }
      },
      "execution_count": 37,
      "outputs": [
        {
          "output_type": "stream",
          "name": "stdout",
          "text": [
            "True\n"
          ]
        }
      ]
    },
    {
      "cell_type": "markdown",
      "source": [
        "#### Amazon Question: Rotate this array k-times left to right\n",
        "i.e [1,2,3,4,5] --> [5,1,2,3,4]"
      ],
      "metadata": {
        "id": "Tz0YV0KoM5Ff"
      }
    },
    {
      "cell_type": "code",
      "source": [
        "def rotate(arr,k):\n",
        "  k = k%len(arr)\n",
        "  for i in range(k):\n",
        "    prev = arr[0]\n",
        "    curr = arr[0]\n",
        "    arr[0] = arr[len(arr)-1]\n",
        "    j=1\n",
        "    while(j<len(arr)):\n",
        "      curr=arr[j]\n",
        "      arr[j]=prev\n",
        "      prev=curr\n",
        "      j+=1\n",
        "\n",
        "arr = [1,2,3,4,5]\n",
        "rotate(arr,2)\n",
        "print(arr)"
      ],
      "metadata": {
        "id": "sgTcTu0_RVe5",
        "outputId": "305c389f-8abb-4f34-9a7d-ecc4f0b2531c",
        "colab": {
          "base_uri": "https://localhost:8080/"
        }
      },
      "execution_count": 56,
      "outputs": [
        {
          "output_type": "stream",
          "name": "stdout",
          "text": [
            "[4, 5, 1, 2, 3]\n"
          ]
        }
      ]
    },
    {
      "cell_type": "markdown",
      "source": [
        "`Time complexity` = O(k*n) = O(n^2) if k=n"
      ],
      "metadata": {
        "id": "AuOxn1VpaUxV"
      }
    },
    {
      "cell_type": "markdown",
      "source": [
        "#### Rotate array using Reverse function"
      ],
      "metadata": {
        "id": "cnDlFQqiZZtE"
      }
    },
    {
      "cell_type": "code",
      "source": [
        "def rotate_k_times(arr, k):\n",
        "  k = k%len(arr)\n",
        "\n",
        "  ## call the reverse function from above\n",
        "  rev_arr_recursion(arr, 0, len(arr)-1)\n",
        "\n",
        "  ## reverse the first k-element\n",
        "  rev_arr_recursion(arr, 0, k-1)\n",
        "\n",
        "  ## reverse the first n-k element\n",
        "  rev_arr_recursion(arr, k, len(arr)-1)\n",
        "\n",
        "arr = [1,2,3,4,5]\n",
        "rotate(arr,2)\n",
        "print(arr)"
      ],
      "metadata": {
        "id": "HGZYY7waZfHS",
        "outputId": "23bf6eea-37b8-429a-8e96-bb470bdbf4bb",
        "colab": {
          "base_uri": "https://localhost:8080/"
        }
      },
      "execution_count": 57,
      "outputs": [
        {
          "output_type": "stream",
          "name": "stdout",
          "text": [
            "[4, 5, 1, 2, 3]\n"
          ]
        }
      ]
    },
    {
      "cell_type": "markdown",
      "source": [
        "`Time complexity` = O(n)"
      ],
      "metadata": {
        "id": "zWMSedgOadKG"
      }
    }
  ]
}