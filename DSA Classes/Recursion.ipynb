{
 "cells": [
  {
   "cell_type": "markdown",
   "id": "dac95846-63a6-434f-8634-6d87e069e150",
   "metadata": {},
   "source": [
    "## Recursion"
   ]
  },
  {
   "cell_type": "markdown",
   "id": "91383be1-5a06-4f65-a3d0-0f8ad794035c",
   "metadata": {},
   "source": [
    "`4/11/2023`                              `Sandeep Chowdhury` "
   ]
  },
  {
   "cell_type": "markdown",
   "id": "e6750f37-b8f6-4efb-8f55-e5cf06a8f748",
   "metadata": {},
   "source": [
    "### Factorial"
   ]
  },
  {
   "cell_type": "code",
   "execution_count": 2,
   "id": "ab58d214-10b4-4462-9ebf-0f9f58af3f8e",
   "metadata": {},
   "outputs": [
    {
     "name": "stdout",
     "output_type": "stream",
     "text": [
      "120\n"
     ]
    }
   ],
   "source": [
    "## Method\n",
    "def factorial(n):\n",
    "    ##  Base case condition\n",
    "    if n<=1:\n",
    "        return 1\n",
    "    \n",
    "    ## recursive function call\n",
    "    return n*factorial(n-1)\n",
    "\n",
    "### Driver Code\n",
    "n = 5\n",
    "result = factorial(n)\n",
    "print(result)"
   ]
  },
  {
   "cell_type": "markdown",
   "id": "9d11e7d7-d640-4085-8aec-92ccd5d5418d",
   "metadata": {},
   "source": [
    "`Time Complexity` <br>\n",
    "Above: <br>\n",
    "    Base case is O(1), if n<1 --> Constant Time Complexity <br>\n",
    "And: <br>\n",
    "    Recursion call is T(n)=T(n-1)+c if n>1 --> Linear Time complexity <br>\n",
    "    \n",
    "`Space Complexity` --> O(n) as memory is stacked as 5,4,3,2,1...."
   ]
  },
  {
   "cell_type": "markdown",
   "id": "704036ee-6d41-48d4-8146-b553cb42948b",
   "metadata": {},
   "source": [
    "Types of Recursion: <br>\n",
    "- Substitution Method\n",
    "- Recursive Tree Approach\n",
    "- Master's Theorem"
   ]
  },
  {
   "cell_type": "markdown",
   "id": "f2abdee5-3ff7-41b9-bfb2-766bc35d3cc7",
   "metadata": {},
   "source": [
    "### Fibonnaci series"
   ]
  },
  {
   "cell_type": "code",
   "execution_count": null,
   "id": "9996e8c9-97e2-4903-b0b5-33da480154ed",
   "metadata": {},
   "outputs": [],
   "source": [
    "### Use recursion\n",
    "\n",
    "\n",
    "\n",
    "\n",
    "\n"
   ]
  },
  {
   "cell_type": "code",
   "execution_count": null,
   "id": "f579fdfb-58ac-4b58-9e37-1c9483aef7bd",
   "metadata": {},
   "outputs": [],
   "source": [
    "### Use Iterative "
   ]
  },
  {
   "cell_type": "markdown",
   "id": "7733fe9e-450d-40b6-93c0-21acc51303da",
   "metadata": {},
   "source": [
    "`Time Complexity` <br>\n",
    "Above: <br>\n",
    "    Base case is O(1), if n<=1 --> Constant Time Complexity <br>\n",
    "And: <br>\n",
    "    Recursion call is T(n)=T(n-1)+ T(n-2)+ c if n>1 --> Linear Time complexity <br>\n",
    "    \n",
    "`Space Complexity` --> O(n) as memory is stacked as 5,4,3,2,1...."
   ]
  },
  {
   "cell_type": "markdown",
   "id": "f00a0b76-fa97-4dcc-811b-78c1571a5369",
   "metadata": {},
   "source": [
    "### Climbing Stairs"
   ]
  },
  {
   "cell_type": "markdown",
   "id": "3c3cd0ef-c310-4d09-8d08-56dc37dc30b4",
   "metadata": {},
   "source": [
    "#### https://leetcode.com/problems/climbing-stairs/description/\n",
    "\n",
    "__Possibilities__:<br>\n",
    "if 1 staircase --> one step --> 1 way <br>\n",
    "if 2 staircase --> 1+1 steps or 2 steps --> 2 ways <br>\n",
    "if 3 staircase --> 1+1+1, 1+2, 2+1 steps --> 3 ways <br>\n",
    "if 4 staircase --> 1+1+1+1, 1+2+1, 2+2, 2+1+1, 1+1+2 steps --> 5 ways <br>\n",
    "if 5 staircase --> 1+1+1+1+1, 1+1+1+2, 1+1+2+1, 1+2+1+1, 2+1+1+1, 2+2+1, 2+1+1+1, ... --> 8 Ways"
   ]
  },
  {
   "cell_type": "markdown",
   "id": "1e4a9d3a-d3d5-4f21-8984-484a32c81be6",
   "metadata": {},
   "source": [
    "1,2,3,4,8,...  ---> fibonacci series with base case 1 and 2 when n<=3"
   ]
  },
  {
   "cell_type": "code",
   "execution_count": 8,
   "id": "8e32b305-080d-4ce4-a8c2-e45979de80df",
   "metadata": {},
   "outputs": [
    {
     "ename": "NameError",
     "evalue": "name 'self' is not defined",
     "output_type": "error",
     "traceback": [
      "\u001b[0;31m---------------------------------------------------------------------------\u001b[0m",
      "\u001b[0;31mNameError\u001b[0m                                 Traceback (most recent call last)",
      "Cell \u001b[0;32mIn[8], line 9\u001b[0m\n\u001b[1;32m      6\u001b[0m     \u001b[38;5;28;01mreturn\u001b[39;00m \u001b[38;5;28mself\u001b[39m\u001b[38;5;241m.\u001b[39mclimbStairs(n\u001b[38;5;241m-\u001b[39m\u001b[38;5;241m1\u001b[39m)\u001b[38;5;241m+\u001b[39m\u001b[38;5;28mself\u001b[39m\u001b[38;5;241m.\u001b[39mclimbStairs(n\u001b[38;5;241m-\u001b[39m\u001b[38;5;241m2\u001b[39m)\n\u001b[1;32m      8\u001b[0m n \u001b[38;5;241m=\u001b[39m\u001b[38;5;241m6\u001b[39m\n\u001b[0;32m----> 9\u001b[0m climbStairs(\u001b[38;5;28;43mself\u001b[39;49m, n)\n",
      "\u001b[0;31mNameError\u001b[0m: name 'self' is not defined"
     ]
    }
   ],
   "source": [
    "def climbStairs(self, n: int) -> int:\n",
    "    ## base case\n",
    "    if n<=3:\n",
    "        return n\n",
    "\n",
    "    return self.climbStairs(n-1)+self.climbStairs(n-2)\n",
    "\n",
    "n =6\n",
    "climbStairs(self, n)"
   ]
  },
  {
   "cell_type": "markdown",
   "id": "d03869f5-8f7e-4426-8b9a-5c40de4fdf8a",
   "metadata": {},
   "source": [
    "above code is having `Overlapping sub-problem` which is bigger the tree more the branches of recursion and each branch will have similar function call like F(3), F(4) in all the branches -- > `re-computation` --> `wastage of time` --> more execution time --> `Time Limite Exceeded`"
   ]
  },
  {
   "cell_type": "markdown",
   "id": "88e1db94-685f-4114-a88b-86360af374de",
   "metadata": {},
   "source": [
    "#### Recursion Tree Approach \n",
    "To Solve the above issue: <br>\n",
    "when n is very high --> higher execution time --> O(2^n) --> `Recursion Tree Approach`\n"
   ]
  },
  {
   "cell_type": "markdown",
   "id": "ab4545be-9fe9-4ac9-9f28-6f7bfce8bdcf",
   "metadata": {},
   "source": [
    "Solution: `Dynamic Programming`\n",
    "\n",
    "It converts O(2^n) __exponential Time complexity__ to O(n) __Linear Time Complexity__"
   ]
  },
  {
   "cell_type": "markdown",
   "id": "e6a67724-478e-4fdb-b44f-2a59801c0b9f",
   "metadata": {},
   "source": [
    "### Iterative and Recursion\n",
    "\n",
    "__Note__: For every `Recursive code` there is a `Iterative code`."
   ]
  },
  {
   "cell_type": "markdown",
   "id": "0febe4fe-934c-4e1d-a456-f78c6b1d3f21",
   "metadata": {},
   "source": [
    "- Recursive have the lesser number of code lines and simple.\n",
    "- Recursive need estra stack space O(n) while iterative have constant space O(1).\n",
    "- Recursive have the Overlapping subproblem\n",
    "- But for Complex problem always use \"recursion\" "
   ]
  },
  {
   "cell_type": "code",
   "execution_count": null,
   "id": "3ad4a5df-67dc-4e1a-a2f1-3d8ac882ff26",
   "metadata": {},
   "outputs": [],
   "source": []
  },
  {
   "cell_type": "markdown",
   "id": "3890d9b7-decd-4d1f-9d20-49b8be091497",
   "metadata": {},
   "source": [
    "## Date: 05/11/2023 ---> Recursion Continues..."
   ]
  },
  {
   "cell_type": "markdown",
   "id": "a62d078d-ca70-434a-aa5f-2234fc3ad884",
   "metadata": {},
   "source": [
    "## Types of Recursion:\n",
    "\n",
    "\n",
    "- Substitution Method\n",
    "- Recursive Tree Approach\n",
    "- Master's Theorem"
   ]
  },
  {
   "cell_type": "markdown",
   "id": "3afc52f7-f884-47ab-b91a-544fd0c507a5",
   "metadata": {},
   "source": [
    "## 1. Substitution Method"
   ]
  },
  {
   "cell_type": "markdown",
   "id": "f411317a-0dc6-45dc-8a6a-a666e07e7b9b",
   "metadata": {},
   "source": [
    "#### Factorial Problem"
   ]
  },
  {
   "cell_type": "markdown",
   "id": "5fb04d68-2cfb-4cf5-a97c-96496bed074d",
   "metadata": {},
   "source": [
    "`Time Complexity` <br>\n",
    "Above: <br>\n",
    "    Base case is O(1), if n<1 --> Constant Time Complexity <br>\n",
    "And: <br>\n",
    "    Recursion call is T(n)=T(n-1)+c if n>1 --> Linear Time complexity <br>\n",
    "    \n",
    "`Space Complexity` --> O(n) as memory is stacked as 5,4,3,2,1...."
   ]
  },
  {
   "cell_type": "markdown",
   "id": "f29382e6-5c87-4bcf-bf80-72fe38b2bcaf",
   "metadata": {},
   "source": [
    "T(n) = T(n-1) + n where n is contant  <br>\n",
    "T(n-1) = T(n-2) + n-1 <br>\n",
    "so , T(n) = [T(n-2) + n-1] + n <br>\n",
    "also, T(n-2) = T(n-3) + n-2 <br>\n",
    "again, T(n) = [T(n-3) + n-2 + n-1] + n <br> <br>\n",
    "\n",
    "for, k-times --> (n-k)<br>\n",
    "T(n) = T(n-k)+(n-k+1)+(n-k+2)+.......+(n-2)+(n-1)+n <br> <br>\n",
    "\n",
    "if, n-k=1 <br>\n",
    "so, n-1 = k  <br>\n",
    "\n",
    "T(n) = T(n-(n-1)) + (n-((n-1)+1) + ....... + (n-2)+(n-1)+n <br>\n",
    "     = T(1) + 2 + 3+ ..................+ (n-2)+(n-1)+n <br>\n",
    "     = n(n+1)/n = n^2+n/n (as above is sum series) <br>\n",
    "     = O(n^2)  ----> `Quadratic Time Complexity`"
   ]
  },
  {
   "cell_type": "markdown",
   "id": "11e218d7-3dd9-4ceb-8f6a-b16e03cdb378",
   "metadata": {},
   "source": [
    "Q.  <br>\n",
    "\n",
    "T(n) = T(n-1) + c where n is contant  <br>\n",
    "T(n-1) = T(n-2) + c+c <br>\n",
    "so , T(n) = [T(n-2) + n-1] + c+c+c <br>\n",
    "also, T(n-2) = T(n-3) + 4c <br>\n",
    "\n",
    "\n",
    "for, k-times --> (n-k)<br>\n",
    "T(n) = T(n-k)+k.c <br> <br>\n",
    "\n",
    "if, n-k=1 <br>\n",
    "so, n-1 = k  <br>\n",
    "\n",
    "T(n) = T(n-(n-1)) + n-1 +K.c <br>\n",
    "     = T(1) + n-1+K.c <br>\n",
    "     = O(n)"
   ]
  },
  {
   "cell_type": "markdown",
   "id": "6fe1cdfe-a3e9-4d50-8e02-c067412285cf",
   "metadata": {},
   "source": [
    "Q.  <br>\n",
    "\n",
    "T(n) = T(n-1) + 1/n where n is contant  <br>\n",
    "T(n-1) = T(n-2) + 1/n-1 <br>\n",
    "so , T(n) = [T(n-2) + 1/n-1] + 1/n-1 <br>\n",
    "T(n-2) = T(n-3) +1/n-3 +\n",
    "also, T(n-2) = T(n-3) + 1/n-2 + 1/n-1 <br>\n",
    "\n",
    "\n",
    "for, k-times --> (n-k)<br>\n",
    "T(n) = T(n-k)+1/n-k+.......1/n-2+1/n-1+1/n <br> <br>\n",
    "\n",
    "if, n-k=1 <br>\n",
    "so, n-1 = k  <br>\n",
    "\n",
    "T(n) = T(n-k)+1/n-(n-1)+1+.......1/n-(n-1-2)+1/n-n-1-1+1/n-1 <br>\n",
    "     = 1+1/2+1/3+1/4+.....+1/n-1+1/n <br>\n",
    "     = O(log n) ---> `Logarithmic Time Complexity`"
   ]
  },
  {
   "cell_type": "markdown",
   "id": "99c70fb6-aa48-4862-8c3f-1d9b801a5e2d",
   "metadata": {},
   "source": []
  },
  {
   "cell_type": "markdown",
   "id": "d5e0c322-51c6-4801-b7e3-5300dafbb5a5",
   "metadata": {},
   "source": [
    "### Sum of Digits"
   ]
  },
  {
   "cell_type": "markdown",
   "id": "88cd066a-46aa-4c56-8c8a-b83ce0f9ae56",
   "metadata": {},
   "source": [
    "Q1. <br>\n",
    "num = 1234 <br>\n",
    "output = 10"
   ]
  },
  {
   "cell_type": "code",
   "execution_count": 1,
   "id": "246e3cd9-d90b-47d2-9bfa-4f5455015c1c",
   "metadata": {},
   "outputs": [
    {
     "name": "stdout",
     "output_type": "stream",
     "text": [
      "10\n"
     ]
    }
   ],
   "source": [
    "def sum_dig(n):\n",
    "    ## base condition\n",
    "    if n<10:\n",
    "        return n\n",
    "    ## recursion\n",
    "    else:\n",
    "        return n%10+sum_dig(n//10)\n",
    "    \n",
    "## driver code\n",
    "n = 1234\n",
    "result = sum_dig(n)\n",
    "print(result)"
   ]
  },
  {
   "cell_type": "markdown",
   "id": "9d15e29f-9bbb-4274-b0ed-5bcc4ee826c1",
   "metadata": {},
   "source": [
    "`Time Complexity`:\n",
    "- base condition : O(1)\n",
    "- recursion: T(d-1) <br>\n",
    "so, T(d) = T(d-1)+c ---> above using substitution method: O(n) <br>\n",
    "\n",
    "\n",
    "\n",
    "`Space complexity`:\n",
    "- Stacking the digits \n",
    "1234//10 --> 4 <br>\n",
    "123//10 -->3 <br>\n",
    "12//10 -->2<br>\n",
    "1//10 -->1<br>\n",
    "so, O(n)  \n",
    "    "
   ]
  },
  {
   "cell_type": "markdown",
   "id": "e1730d1a-e53f-4a33-8b74-b120310ee283",
   "metadata": {},
   "source": [
    "Q. <br>\n",
    "a = 2 <br>\n",
    "n = 16  <br>\n",
    "\n",
    "find a^n  <br>\n",
    "\n",
    "Note: Base case condition is if anything power 0 =1"
   ]
  },
  {
   "cell_type": "markdown",
   "id": "7f9b08f4-4773-46b6-b596-ec276cdb6f84",
   "metadata": {},
   "source": [
    "## Power of Digit"
   ]
  },
  {
   "cell_type": "code",
   "execution_count": 3,
   "id": "1d4dd6a7-8f16-4372-a11c-d57ebbebac04",
   "metadata": {},
   "outputs": [
    {
     "name": "stdout",
     "output_type": "stream",
     "text": [
      "65536\n"
     ]
    }
   ],
   "source": [
    "def pow_of(a,n):\n",
    "    ## base caase conditiom\n",
    "    if n==0:\n",
    "        return 1\n",
    "    ## recursion code\n",
    "    else:\n",
    "        return a*pow_of(a,n-1)\n",
    "\n",
    "## Driver code\n",
    "a = 2\n",
    "n = 16\n",
    "result = pow_of(a,n)\n",
    "print(result)"
   ]
  },
  {
   "cell_type": "markdown",
   "id": "25f8ace1-9020-4353-8c94-fe85bd901309",
   "metadata": {},
   "source": [
    " `Time Complexity`:\n",
    "- base condition : O(1)\n",
    "- recursion: T(d-1) <br>\n",
    "so, T(n) = T(n-1)+c ---> above using substitution method: `O(n)` <br>\n",
    "\n",
    "\n",
    "\n",
    "`Space complexity`:\n",
    "- Stacking the digits \n",
    "2--> 2 <br>\n",
    "2*2-->4 <br>\n",
    "2*2*2 -->8<br>\n",
    "2*2*2*2 -->16....<br>\n",
    "so, `O(n)`  "
   ]
  },
  {
   "cell_type": "markdown",
   "id": "c94699fe-da86-421e-935a-5cea1dc3ecfa",
   "metadata": {},
   "source": [
    "#### To reduced the computation divide 2^n into mid like 2^16 is 2^8 * 2^8 and so on...using `Divide and Conquer`"
   ]
  },
  {
   "cell_type": "markdown",
   "id": "1ab535b5-f03d-445e-a99b-2b7145e12a54",
   "metadata": {},
   "source": [
    "### Divide and Conquer Approach in Recursion"
   ]
  },
  {
   "cell_type": "code",
   "execution_count": 7,
   "id": "79b02259-0f3c-493c-9e2d-7599c12b25ac",
   "metadata": {},
   "outputs": [
    {
     "name": "stdout",
     "output_type": "stream",
     "text": [
      "65536\n"
     ]
    }
   ],
   "source": [
    "## Method defination\n",
    "\n",
    "def pow_of(a,n):\n",
    "    ## base case condition\n",
    "    if n==1:\n",
    "        return a\n",
    "    ## recursion code\n",
    "    else:\n",
    "        mid = n//2\n",
    "        result = pow_of(a,mid)\n",
    "        finalresult = result*result\n",
    "        \n",
    "        ## checking value of a is even or odd\n",
    "        if n%2==0:\n",
    "            return finalresult\n",
    "        else:\n",
    "            return a*finalresult\n",
    "    \n",
    "\n",
    "## Driver code\n",
    "a = 2\n",
    "n = 16\n",
    "result = pow_of(a,n)\n",
    "print(result)"
   ]
  },
  {
   "cell_type": "markdown",
   "id": "5b01a04b-1716-416e-bb86-a813d39397b8",
   "metadata": {},
   "source": [
    " `Time Complexity`:\n",
    "- base condition : O(1)\n",
    "- recursion: T(n/2) <br>\n",
    "so, T(n) = T(n/2)+c <br> \n",
    "replace T(n) by T(n/2) <br>\n",
    "T(n/2) = T(n/2/2) + c = T(n/2^2) + c <br>\n",
    "T(n) = T(n/2^k) + c <br>\n",
    "n = 2^k <br>\n",
    "log n = k log 2 <br>\n",
    "T(n) = T(n/2 log 2) + C log n <br>\n",
    "= a + c log n ---> O(log n) --> `logarithmic Time Complexity`\n",
    "\n",
    "\n",
    "\n",
    "\n",
    "\n",
    "`Space complexity`:\n",
    "- Stacking the digits \n",
    "pow 16 --> 4 stacks<br>\n",
    "so, only possible if log 16 = 4 <br>\n",
    "so, O(log n) --> `logarithmic Space Complexity`  "
   ]
  },
  {
   "cell_type": "code",
   "execution_count": null,
   "id": "899b093c-dbbd-489e-8e2e-9e6a531217c0",
   "metadata": {},
   "outputs": [],
   "source": []
  },
  {
   "cell_type": "markdown",
   "id": "a53421b3-a91b-430f-a4f0-3db3a4bcb808",
   "metadata": {},
   "source": [
    "## 2. Recursive Tree Approach"
   ]
  },
  {
   "cell_type": "markdown",
   "id": "c8519539-7288-494a-9523-62addb293587",
   "metadata": {},
   "source": [
    "#### in fibonnaci\n",
    "\n",
    "fib --> fib(n-1)*fib(n-2) in recursion <br>\n",
    "\n",
    "T(n) = c, if n=0,1 <br>\n",
    "or, T(n-1) + T(n-2) +c if n>1   ----> if extra T(n) is there use `recursion tree method` <br>  \n",
    "\n",
    "while diving in tree, you get <br>\n",
    "left tree => n=k = 0 => k=n <br>\n",
    "right tree => n-2k = 0 => k = n/2 <br>\n",
    "\n",
    "consider k = n as bigger value --> worst case scenario <br>\n",
    "k = n --> 1+2+4+8+16....--> sum of GP series <br>\n",
    "so, sum of GP = a(r^n-1)/(n-1) --> O(2^n) --> `Expoential Time Complexity`\n",
    "\n"
   ]
  },
  {
   "cell_type": "markdown",
   "id": "8c07979f-7e21-4ff4-ad51-f9d47d5d44af",
   "metadata": {},
   "source": [
    "Q. <br>\n",
    "T(n) = 1, n=1<br>\n",
    "or, T(n/5)+T(4n/5)+c n>1<br>\n",
    "\n",
    "Note: 2 T's there so go with Recursion Tree Approach <br>\n",
    "\n",
    "after branching, after k times: <br>\n",
    "left side: <br>\n",
    "n/5^k = 1 => k = log(base = 5) n <br>\n",
    "\n",
    "Right side:\n",
    "n/(5/4)^k = 1 => k = log(base=5/4) n --> biggesr value --> so worst case<br>  \n",
    "\n",
    "so, O(n log(base=5/4) n) --> `Logarithmic Time Comolexity`\n",
    "\n"
   ]
  },
  {
   "cell_type": "code",
   "execution_count": null,
   "id": "83e32bd0-1b2f-4a0a-bfc8-ace227533a35",
   "metadata": {},
   "outputs": [],
   "source": []
  }
 ],
 "metadata": {
  "kernelspec": {
   "display_name": "Python 3 (ipykernel)",
   "language": "python",
   "name": "python3"
  },
  "language_info": {
   "codemirror_mode": {
    "name": "ipython",
    "version": 3
   },
   "file_extension": ".py",
   "mimetype": "text/x-python",
   "name": "python",
   "nbconvert_exporter": "python",
   "pygments_lexer": "ipython3",
   "version": "3.10.8"
  }
 },
 "nbformat": 4,
 "nbformat_minor": 5
}
