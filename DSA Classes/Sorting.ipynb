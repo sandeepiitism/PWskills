{
 "cells": [
  {
   "cell_type": "markdown",
   "id": "d51366d1-cf9c-44ff-b9b7-29a0fd9780e4",
   "metadata": {},
   "source": [
    "# Sorting"
   ]
  },
  {
   "cell_type": "markdown",
   "id": "28e2d412-5c4b-4a1b-8d79-c43dcb6a737d",
   "metadata": {},
   "source": [
    "`26/11/2023`                              `Sandeep Chowdhury` "
   ]
  },
  {
   "cell_type": "markdown",
   "id": "ab9dd6d8-4938-4cbe-b9f9-5834c353d139",
   "metadata": {},
   "source": [
    "-----------------------------------------------------------------------------------------------------------------------"
   ]
  },
  {
   "cell_type": "markdown",
   "id": "f927ea15-7373-4eed-a2c8-0bd667cd14b0",
   "metadata": {},
   "source": [
    "## Bubble Sort"
   ]
  },
  {
   "cell_type": "code",
   "execution_count": 3,
   "id": "fcfe8517-0623-4a18-9bcf-83fe7ee876cc",
   "metadata": {},
   "outputs": [],
   "source": [
    "def bubblesort(arr):\n",
    "    for i in range(len(arr)-1, 0, -1):\n",
    "        for j in range(i):\n",
    "            if (arr[j]>arr[j+1]):\n",
    "                arr[j],arr[j+1]=arr[j+1],arr[j]"
   ]
  },
  {
   "cell_type": "code",
   "execution_count": 6,
   "id": "c0ab5200-9650-4ab1-a678-2294d3b4df3a",
   "metadata": {},
   "outputs": [
    {
     "name": "stdout",
     "output_type": "stream",
     "text": [
      "[1, 2, 3, 4]\n"
     ]
    }
   ],
   "source": [
    "arr = [4,3,2,1]\n",
    "bubblesort(arr)\n",
    "print(arr)"
   ]
  },
  {
   "cell_type": "code",
   "execution_count": 7,
   "id": "afab886a-f9e6-4ca8-8d71-1c4639b399da",
   "metadata": {},
   "outputs": [
    {
     "name": "stdout",
     "output_type": "stream",
     "text": [
      "[2, 4, 5, 6, 7]\n"
     ]
    }
   ],
   "source": [
    "arr = [7,4,6, 5,2]\n",
    "bubblesort(arr)\n",
    "print(arr)"
   ]
  },
  {
   "cell_type": "markdown",
   "id": "6a8ed6ea-7ba0-4426-bfa7-bd91cd23f16e",
   "metadata": {},
   "source": [
    "Time complexity = O(n^2)  --> `Worst Time Complexity`\n",
    "\n",
    "so, <br>\n",
    "worst case : O(n^2) <br>\n",
    "Best case: O(n^2)"
   ]
  },
  {
   "cell_type": "markdown",
   "id": "94534529-febe-4ae5-a66f-8a52a4cab50c",
   "metadata": {},
   "source": [
    "`Stable sorting` and `Unstable sorting`"
   ]
  },
  {
   "cell_type": "markdown",
   "id": "67ca2692-65d8-49f3-8085-1f53466e0a98",
   "metadata": {},
   "source": [
    "suppose arr = [3,5,6,`2`,9,2] ---> there are two \"2\" which are same\n",
    "\n",
    "[`2`,2,3,5,6,9] --> first 2 took the position and fixed then `Stable Sorting` <br>\n",
    "[2,`2`,3,5,6,9]  --> first goes back and last comes first then `Unstable Sorting`\n"
   ]
  },
  {
   "cell_type": "code",
   "execution_count": 11,
   "id": "7a33bf79-60b3-4ad7-a788-630ef43237fd",
   "metadata": {},
   "outputs": [
    {
     "name": "stdout",
     "output_type": "stream",
     "text": [
      "[4, 5, 6, 6, 7]\n"
     ]
    }
   ],
   "source": [
    "## this code above is an example of stable sort\n",
    "\n",
    "arr = [7,4,6, 5,6]\n",
    "bubblesort(arr)\n",
    "print(arr)"
   ]
  },
  {
   "cell_type": "markdown",
   "id": "82b24e01-366d-4a04-bb14-69cfdf4034d7",
   "metadata": {},
   "source": [
    "Suppose I provide an array = [1,2,3,4,5] which is already sorted --> still code runs for O(n^2) times\n",
    "\n",
    "so: new code"
   ]
  },
  {
   "cell_type": "code",
   "execution_count": 12,
   "id": "cbfe1906-8fbf-4a24-9c76-1e0350c9cff2",
   "metadata": {},
   "outputs": [],
   "source": [
    "def bubblesortOp(arr):\n",
    "    for i in range(len(arr)-1, 0, -1):\n",
    "        isSorted = True\n",
    "        for j in range(i):\n",
    "            if (arr[j]>arr[j+1]):\n",
    "                isSorted = False\n",
    "                arr[j],arr[j+1]=arr[j+1],arr[j]\n",
    "                \n",
    "        if isSorted:\n",
    "            print(\"Array is already sorted\")\n",
    "            break"
   ]
  },
  {
   "cell_type": "code",
   "execution_count": 13,
   "id": "945d5ff3-aba7-403c-a790-30559fdf0ce8",
   "metadata": {},
   "outputs": [
    {
     "name": "stdout",
     "output_type": "stream",
     "text": [
      "Array is already sorted\n",
      "[1, 2, 3, 4, 5]\n"
     ]
    }
   ],
   "source": [
    "arr = [1,2,3,4,5]\n",
    "bubblesortOp(arr)\n",
    "print(arr)"
   ]
  },
  {
   "cell_type": "markdown",
   "id": "cf70e5ac-a35e-4ca8-9fe3-d90403fcb378",
   "metadata": {},
   "source": [
    "Now take an example of Nearly sorted array = [1,2,3,5,4]"
   ]
  },
  {
   "cell_type": "code",
   "execution_count": 14,
   "id": "f07aea47-32b5-4b95-9895-3cd1ba8125c5",
   "metadata": {},
   "outputs": [
    {
     "name": "stdout",
     "output_type": "stream",
     "text": [
      "Array is already sorted\n",
      "[1, 2, 3, 4, 5]\n"
     ]
    }
   ],
   "source": [
    "arr = [1,2,3,5,4]\n",
    "bubblesortOp(arr)\n",
    "print(arr)"
   ]
  },
  {
   "cell_type": "markdown",
   "id": "afa2ec1b-68ed-4481-b926-b0647ca32068",
   "metadata": {},
   "source": [
    "In above new code: it is not taking O(n^2) times always if it already started it breaks the code <br>\n",
    "so, <br>\n",
    "worst case : O(n^2) <br>\n",
    "Best case: O(n)"
   ]
  },
  {
   "cell_type": "code",
   "execution_count": 15,
   "id": "15b03f06-0ecf-46b7-97b7-c1c7bd35eefa",
   "metadata": {},
   "outputs": [],
   "source": [
    "## just to check whether array is sorted or not\n",
    "def isSorted(arr):\n",
    "    isSorted = True\n",
    "    for i in range(len(arr)-1):\n",
    "        if arr[i]>arr[i+1]:\n",
    "            isSorted = False\n",
    "            break\n",
    "    if isSorted:\n",
    "        print(\"Array is sorted\")\n",
    "    else:\n",
    "        print(\"Array is not sorted\")"
   ]
  },
  {
   "cell_type": "code",
   "execution_count": 16,
   "id": "2a8caf54-53cd-4860-bc95-9f533ffbd378",
   "metadata": {},
   "outputs": [
    {
     "name": "stdout",
     "output_type": "stream",
     "text": [
      "Array is not sorted\n",
      "[1, 2, 3, 5, 4]\n"
     ]
    }
   ],
   "source": [
    "arr = [1,2,3,5,4]\n",
    "isSorted(arr)\n",
    "print(arr)"
   ]
  },
  {
   "cell_type": "markdown",
   "id": "53410400-2d8f-4825-beb4-8727a693d629",
   "metadata": {},
   "source": [
    "----------------------------------------------------------------------------------------------------"
   ]
  },
  {
   "cell_type": "markdown",
   "id": "c5f53357-b476-4d90-9455-858476c06772",
   "metadata": {},
   "source": [
    "## Selection Sort"
   ]
  },
  {
   "cell_type": "code",
   "execution_count": 28,
   "id": "6b7b8d4f-c247-43e9-aa2e-bb7cd45a4a58",
   "metadata": {},
   "outputs": [
    {
     "name": "stdout",
     "output_type": "stream",
     "text": [
      "[1, 2, 3, 4, 5]\n"
     ]
    }
   ],
   "source": [
    "def selectsort(arr):\n",
    "    for i in range (len(arr)):\n",
    "        minm = i\n",
    "        for j in range(i+1, len(arr)):\n",
    "            if arr[j]<arr[minm]:\n",
    "                minm = j\n",
    "        arr[i], arr[minm] = arr[minm], arr[i]\n",
    "\n",
    "arr = [3,2,1,4,5]\n",
    "selectsort(arr)\n",
    "print(arr)\n"
   ]
  },
  {
   "cell_type": "markdown",
   "id": "5a494a55-35c7-4607-970c-64b01fd6fd93",
   "metadata": {},
   "source": [
    "Comparison between Bubble Sort and Selection Sort"
   ]
  },
  {
   "cell_type": "code",
   "execution_count": 29,
   "id": "91a62d88-d52d-4fea-9f09-5d82901d10e4",
   "metadata": {},
   "outputs": [],
   "source": [
    "def bubblesort(arr):\n",
    "    for i in range(len(arr)-1, 0, -1):\n",
    "        for j in range(i):\n",
    "            if (arr[j]>arr[j+1]):\n",
    "                arr[j],arr[j+1]=arr[j+1],arr[j]\n",
    "                \n",
    "def select_sort(arr):\n",
    "    for i in range (len(arr)):\n",
    "        minm = i\n",
    "        for j in range(i+1, len(arr)):\n",
    "            if arr[j]<arr[minm]:\n",
    "                minm = j\n",
    "        arr[i], arr[minm] = arr[minm], arr[i]"
   ]
  },
  {
   "cell_type": "markdown",
   "id": "a4ff53a5-8c01-4b3e-b406-8f692e26c560",
   "metadata": {},
   "source": [
    "- Time Complexity: Both are `O(n^2)`\n",
    "- loop runs for comparison are both `n^2`\n",
    "- Number of Swaps: `n^2` in BubbleSort and `n` in SelectionSort\n",
    "- Bubble sort is `stable sort` and Select sort is `unstable sort`"
   ]
  },
  {
   "cell_type": "markdown",
   "id": "878101d2-ac89-48d9-9ad9-6af913d7670b",
   "metadata": {},
   "source": [
    "so `Selection Sort` is better than `Bubble Sort`"
   ]
  },
  {
   "cell_type": "markdown",
   "id": "209f65d1-35bd-41cf-852e-aebc95f8e7c2",
   "metadata": {},
   "source": [
    "-----------------------------------------------------------------------------------------------------------"
   ]
  },
  {
   "cell_type": "markdown",
   "id": "7930ad62-c2d7-44c8-aebc-fa7b5be5aadd",
   "metadata": {},
   "source": [
    "## Insertion Sort"
   ]
  },
  {
   "cell_type": "markdown",
   "id": "deccc121-6c8e-4e11-894b-7205cc3bf470",
   "metadata": {},
   "source": [
    "if you have a sorted array using Bubble sort or Selection sort, and again new input came in --> again you have to sort."
   ]
  },
  {
   "cell_type": "markdown",
   "id": "2192c2f0-5396-4f67-9a85-f8b5c472660c",
   "metadata": {},
   "source": [
    "So sort again and again --> O(n^2) again O(n^2) again O(n^2)...so to much time complexity"
   ]
  },
  {
   "cell_type": "markdown",
   "id": "a647269c-51dc-4650-99a2-ce7be148d371",
   "metadata": {},
   "source": [
    "Example: In twitter, Huge data in less time get sorted according not just in time but as per person, oe other condition"
   ]
  },
  {
   "cell_type": "markdown",
   "id": "167227f2-9f89-4163-b13f-3db5ef488c5c",
   "metadata": {},
   "source": [
    "`Insertion Sort`: Helps in sorting with less time complexity"
   ]
  },
  {
   "cell_type": "code",
   "execution_count": 30,
   "id": "7830a1ce-4f8e-448c-90ff-b1943a76bc7c",
   "metadata": {},
   "outputs": [],
   "source": [
    "def insertionSort(arr):\n",
    "    for i in range(1, len(arr)):\n",
    "        v = arr[i]\n",
    "        j = i\n",
    "        while (j>=1 and arr[j-1]>v):\n",
    "            arr[j] = arr[j-1]\n",
    "            j-=1\n",
    "        arr[j]=v"
   ]
  },
  {
   "cell_type": "code",
   "execution_count": 31,
   "id": "847c1304-b32e-4302-9276-9dd56dd35eec",
   "metadata": {},
   "outputs": [
    {
     "name": "stdout",
     "output_type": "stream",
     "text": [
      "[1, 2, 3, 4, 5]\n"
     ]
    }
   ],
   "source": [
    "arr = [3,5,2,1,4]\n",
    "insertionSort(arr)\n",
    "print(arr)"
   ]
  },
  {
   "cell_type": "markdown",
   "id": "bbd8abd9-728d-4de7-8941-00c4f63c865d",
   "metadata": {},
   "source": [
    "Comparing Bubble sort, Selection sort and Insertionsort"
   ]
  },
  {
   "cell_type": "code",
   "execution_count": 32,
   "id": "143e74a1-0ffd-4a79-8896-a12d136455ba",
   "metadata": {},
   "outputs": [],
   "source": [
    "def bubblesort(arr):\n",
    "    for i in range(len(arr)-1, 0, -1):\n",
    "        for j in range(i):\n",
    "            if (arr[j]>arr[j+1]):\n",
    "                arr[j],arr[j+1]=arr[j+1],arr[j]\n",
    "                \n",
    "                \n",
    "def selectsort(arr):\n",
    "    for i in range (len(arr)):\n",
    "        minm = i\n",
    "        for j in range(i+1, len(arr)):\n",
    "            if arr[j]<arr[minm]:\n",
    "                minm = j\n",
    "        arr[i], arr[minm] = arr[minm], arr[i]\n",
    "        \n",
    "\n",
    "def insertionSort(arr):\n",
    "    for i in range(1, len(arr)):\n",
    "        v = arr[i]\n",
    "        j = i\n",
    "        while (j>=1 and arr[j-1]>v):\n",
    "            arr[j] = arr[j-1]\n",
    "            j-=1\n",
    "        arr[j]=v"
   ]
  },
  {
   "cell_type": "markdown",
   "id": "f5ccb599-fe3f-41b2-bce6-2a0a81ae9d89",
   "metadata": {},
   "source": [
    "- Time Complexity: All three sorting are `O(n^2)`\n",
    "- loop runs for comparison for all three are `n^2`\n",
    "- Number of Swaps: `n^2` in BubbleSort and `n` in SelectionSort and `n` in InsertionSort\n",
    "- Bubble sort is `stable sort`, Select sort is `unstable sort` and Insertion sort is `stable sort`\n",
    "- Insertion sort used only special case when new element you want to insert in a sorted fashion - `Online sorting`\n",
    "- Bubble sort will use on `stable sort` and ....."
   ]
  },
  {
   "cell_type": "markdown",
   "id": "e5a21ace-f073-4772-85a8-50e4baae5228",
   "metadata": {},
   "source": [
    "`note`:\n",
    "    - PQ (priority Q sorting also): Page ranking algo for google"
   ]
  },
  {
   "cell_type": "markdown",
   "id": "d07a33f8-d03a-4840-8055-406344f23316",
   "metadata": {},
   "source": [
    "---------------------------------------------------------------------------------------------------------------------"
   ]
  },
  {
   "cell_type": "markdown",
   "id": "0aaac6a3-9ac7-4d7f-a953-326608214f02",
   "metadata": {},
   "source": [
    "# Search Algorithm"
   ]
  },
  {
   "cell_type": "markdown",
   "id": "28da2e7f-99fb-4d1f-9403-8d75746f3d56",
   "metadata": {},
   "source": [
    "#### Sorting makes search super super fast"
   ]
  },
  {
   "cell_type": "markdown",
   "id": "16b2c789-ba95-4cc6-ab69-69aff27be07d",
   "metadata": {},
   "source": [
    "## Linear Search"
   ]
  },
  {
   "cell_type": "code",
   "execution_count": 40,
   "id": "d6bc5f33-5ef5-488f-803b-75f7f2a6e886",
   "metadata": {},
   "outputs": [
    {
     "data": {
      "text/plain": [
       "3"
      ]
     },
     "execution_count": 40,
     "metadata": {},
     "output_type": "execute_result"
    }
   ],
   "source": [
    "def linearSearch(arr, num):\n",
    "    for i in range(len(arr)):\n",
    "        if arr[i] == num:\n",
    "            return i\n",
    "    return -1\n",
    "\n",
    "arr = [1,4,7,2,9]\n",
    "num=2\n",
    "\n",
    "linearSearch(arr, num)"
   ]
  },
  {
   "cell_type": "markdown",
   "id": "90399c61-438d-479f-a061-a657452cd013",
   "metadata": {},
   "source": [
    "Linear search is O(n) but when billion lines need to search linearly time increase"
   ]
  },
  {
   "cell_type": "code",
   "execution_count": 44,
   "id": "08660e4a-a153-44d8-a644-5e14d26df98c",
   "metadata": {},
   "outputs": [
    {
     "data": {
      "text/plain": [
       "1"
      ]
     },
     "execution_count": 44,
     "metadata": {},
     "output_type": "execute_result"
    }
   ],
   "source": [
    "## another way of writing\n",
    "def linearSearch1(arr, num):\n",
    "    if num in arr:\n",
    "        return 1\n",
    "    else:\n",
    "        return -1\n",
    "\n",
    "arr = [1,4,7,2,9]\n",
    "num=4\n",
    "\n",
    "linearSearch1(arr, num)"
   ]
  },
  {
   "cell_type": "markdown",
   "id": "fcd09e84-d843-4277-ad9b-0abe2a62f231",
   "metadata": {},
   "source": [
    "----------------------------------------------------------------------------------------------------------------------"
   ]
  },
  {
   "cell_type": "code",
   "execution_count": 43,
   "id": "f8d4772b-3b08-4af5-8b4c-d63e9cfe74df",
   "metadata": {},
   "outputs": [],
   "source": [
    "## Example: suppose I need to find the medicine in pharmacy or letter in a dictionary --> we dont go line by line rather check the \n",
    "## ordered/arranged way (sorted)"
   ]
  },
  {
   "cell_type": "markdown",
   "id": "79b93252-2ee8-4665-b5f4-e8e0db2975f5",
   "metadata": {},
   "source": [
    "## Binary Search"
   ]
  },
  {
   "cell_type": "markdown",
   "id": "83fd0f04-776a-4996-9c0c-e75d10d1cf6e",
   "metadata": {},
   "source": [
    "`Binary Search`: Sorting + finding middle point"
   ]
  },
  {
   "cell_type": "code",
   "execution_count": 51,
   "id": "ee35167d-38d2-4395-91b9-2a19760e4120",
   "metadata": {},
   "outputs": [],
   "source": [
    "def binarySearch(arr, num):\n",
    "    left = 0\n",
    "    right = len(arr)-1\n",
    "    \n",
    "    mid = int(left + (right-left)/2)\n",
    "    \n",
    "    while(left<=right):\n",
    "        mid = int(left + (right-left)/2)\n",
    "        if arr[mid] == num:\n",
    "            return mid\n",
    "        elif arr[mid]>num:\n",
    "            right = mid-1\n",
    "        else:\n",
    "            left = mid+1\n",
    "    return -1"
   ]
  },
  {
   "cell_type": "code",
   "execution_count": 52,
   "id": "2573d80c-8fa4-41ca-95d5-7021cf802e49",
   "metadata": {},
   "outputs": [
    {
     "data": {
      "text/plain": [
       "-1"
      ]
     },
     "execution_count": 52,
     "metadata": {},
     "output_type": "execute_result"
    }
   ],
   "source": [
    "arr = [1,4,7,2,9]\n",
    "num=2\n",
    "binarySearch(arr, num)"
   ]
  },
  {
   "cell_type": "code",
   "execution_count": 53,
   "id": "cd6a678b-a8d2-4b85-a439-2556ad78d1a2",
   "metadata": {},
   "outputs": [
    {
     "data": {
      "text/plain": [
       "4"
      ]
     },
     "execution_count": 53,
     "metadata": {},
     "output_type": "execute_result"
    }
   ],
   "source": [
    "arr = [2,4,6,8,10,12]\n",
    "num=10\n",
    "binarySearch(arr, num)"
   ]
  },
  {
   "cell_type": "markdown",
   "id": "822aeb25-0fef-4e8a-832d-64de01641777",
   "metadata": {},
   "source": [
    "`Time Complexity`: O(log(n))"
   ]
  }
 ],
 "metadata": {
  "kernelspec": {
   "display_name": "Python 3 (ipykernel)",
   "language": "python",
   "name": "python3"
  },
  "language_info": {
   "codemirror_mode": {
    "name": "ipython",
    "version": 3
   },
   "file_extension": ".py",
   "mimetype": "text/x-python",
   "name": "python",
   "nbconvert_exporter": "python",
   "pygments_lexer": "ipython3",
   "version": "3.10.8"
  }
 },
 "nbformat": 4,
 "nbformat_minor": 5
}
