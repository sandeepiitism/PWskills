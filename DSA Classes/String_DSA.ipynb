{
 "cells": [
  {
   "cell_type": "markdown",
   "id": "4124e1f9-3163-40eb-b59d-1e900ca05af3",
   "metadata": {},
   "source": [
    "# DSA for string"
   ]
  },
  {
   "cell_type": "markdown",
   "id": "01f5a38e-37ee-4947-a948-2dbc4236f702",
   "metadata": {},
   "source": [
    "### DSA Back Tracking and String Manipulation"
   ]
  },
  {
   "cell_type": "markdown",
   "id": "cf3df8b6-278f-4eb5-a05d-2fb8c3920bf1",
   "metadata": {},
   "source": [
    "#### write possible combinations using ABC "
   ]
  },
  {
   "cell_type": "markdown",
   "id": "e592dcd0-552d-40f0-b618-618e0af14f45",
   "metadata": {},
   "source": [
    "- Approach: fixed one character \"A\" and change \"BC\" using swapping to make it \"CB\".\n",
    "- go back to ABC (actual string) and fix \"B\" --> `Back-Tracking` and swap \"AC\"\n",
    "- Most of the thing is same, so we can use `recursion`.\n",
    "\n",
    "- `Base condition`: if only character left then just print it. (i.e start index=end index)\n",
    "- `Logic`: "
   ]
  },
  {
   "cell_type": "code",
   "execution_count": 1,
   "id": "b1ab6c2a-9387-46fd-8932-1a8f11119d1f",
   "metadata": {},
   "outputs": [
    {
     "name": "stdout",
     "output_type": "stream",
     "text": [
      "ABC\n",
      "ACB\n",
      "BAC\n",
      "BCA\n",
      "CBA\n",
      "CAB\n"
     ]
    }
   ],
   "source": [
    "def permute(char_arr, left, right):\n",
    "    ## base condition\n",
    "    if left == right:\n",
    "        print(\"\".join(char_arr))\n",
    "        return\n",
    "    else:\n",
    "        for i in range(left, right+1):\n",
    "            char_arr[left], char_arr[i] = char_arr[i], char_arr[left]\n",
    "            permute(char_arr, left+1, right)\n",
    "            char_arr[left], char_arr[i] = char_arr[i], char_arr[left]\n",
    "            \n",
    "permute(list(\"ABC\"),0,2)"
   ]
  },
  {
   "cell_type": "code",
   "execution_count": 2,
   "id": "4dc847dd-3cb4-4b47-8142-10140a877570",
   "metadata": {},
   "outputs": [
    {
     "name": "stdout",
     "output_type": "stream",
     "text": [
      "ABCD\n",
      "ABDC\n",
      "ACBD\n",
      "ACDB\n",
      "ADCB\n",
      "ADBC\n",
      "BACD\n",
      "BADC\n",
      "BCAD\n",
      "BCDA\n",
      "BDCA\n",
      "BDAC\n",
      "CBAD\n",
      "CBDA\n",
      "CABD\n",
      "CADB\n",
      "CDAB\n",
      "CDBA\n",
      "DBCA\n",
      "DBAC\n",
      "DCBA\n",
      "DCAB\n",
      "DACB\n",
      "DABC\n"
     ]
    }
   ],
   "source": [
    "def permute(char_arr, left, right):\n",
    "    ## base condition\n",
    "    if left == right:\n",
    "        print(\"\".join(char_arr))\n",
    "        return\n",
    "    else:\n",
    "        for i in range(left, right+1):\n",
    "            char_arr[left], char_arr[i] = char_arr[i], char_arr[left]\n",
    "            permute(char_arr, left+1, right)\n",
    "            char_arr[left], char_arr[i] = char_arr[i], char_arr[left]\n",
    "            \n",
    "permute(list(\"ABCD\"),0,3)"
   ]
  },
  {
   "cell_type": "code",
   "execution_count": null,
   "id": "d9d469cb-5e0c-4797-a3cd-d0451d51b47c",
   "metadata": {},
   "outputs": [],
   "source": []
  }
 ],
 "metadata": {
  "kernelspec": {
   "display_name": "Python 3 (ipykernel)",
   "language": "python",
   "name": "python3"
  },
  "language_info": {
   "codemirror_mode": {
    "name": "ipython",
    "version": 3
   },
   "file_extension": ".py",
   "mimetype": "text/x-python",
   "name": "python",
   "nbconvert_exporter": "python",
   "pygments_lexer": "ipython3",
   "version": "3.10.8"
  }
 },
 "nbformat": 4,
 "nbformat_minor": 5
}
