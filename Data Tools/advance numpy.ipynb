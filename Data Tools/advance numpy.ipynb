{
  "cells": [
    {
      "cell_type": "code",
      "execution_count": null,
      "id": "6d2c5c80",
      "metadata": {
        "id": "6d2c5c80"
      },
      "outputs": [],
      "source": [
        "import numpy as np\n",
        "arr = np.ones((3, 4))"
      ]
    },
    {
      "cell_type": "code",
      "execution_count": null,
      "id": "0cf245ff",
      "metadata": {
        "id": "0cf245ff",
        "outputId": "1376fd71-2af5-4162-9e05-c3e1feec3ef9"
      },
      "outputs": [
        {
          "data": {
            "text/plain": [
              "array([[1., 1., 1., 1.],\n",
              "       [1., 1., 1., 1.],\n",
              "       [1., 1., 1., 1.]])"
            ]
          },
          "execution_count": 4,
          "metadata": {},
          "output_type": "execute_result"
        }
      ],
      "source": [
        "arr"
      ]
    },
    {
      "cell_type": "code",
      "execution_count": null,
      "id": "3e3453da",
      "metadata": {
        "id": "3e3453da",
        "outputId": "cc1f2c56-dfc0-4acc-96c6-91fc22599e5c"
      },
      "outputs": [
        {
          "data": {
            "text/plain": [
              "array([[6., 6., 6., 6.],\n",
              "       [6., 6., 6., 6.],\n",
              "       [6., 6., 6., 6.]])"
            ]
          },
          "execution_count": 5,
          "metadata": {},
          "output_type": "execute_result"
        }
      ],
      "source": [
        "arr + 5"
      ]
    },
    {
      "cell_type": "code",
      "execution_count": null,
      "id": "d8ee1828",
      "metadata": {
        "id": "d8ee1828",
        "outputId": "c24f4dcc-7dd4-46da-efaf-a805b5eea89c"
      },
      "outputs": [
        {
          "data": {
            "text/plain": [
              "array([[5., 5., 5., 5.],\n",
              "       [5., 5., 5., 5.],\n",
              "       [5., 5., 5., 5.]])"
            ]
          },
          "execution_count": 6,
          "metadata": {},
          "output_type": "execute_result"
        }
      ],
      "source": [
        "arr*5"
      ]
    },
    {
      "cell_type": "code",
      "execution_count": null,
      "id": "780a18b9",
      "metadata": {
        "id": "780a18b9",
        "outputId": "a4cd6a32-fe58-4fc6-e20d-f89ee4097aea"
      },
      "outputs": [
        {
          "data": {
            "text/plain": [
              "array([[5., 5., 5., 5.],\n",
              "       [5., 5., 5., 5.],\n",
              "       [5., 5., 5., 5.]])"
            ]
          },
          "execution_count": 15,
          "metadata": {},
          "output_type": "execute_result"
        }
      ],
      "source": [
        "np.empty((3, 4))"
      ]
    },
    {
      "cell_type": "code",
      "execution_count": null,
      "id": "5276a22f",
      "metadata": {
        "id": "5276a22f",
        "outputId": "5a936061-4c9c-4818-8752-8961929d8604"
      },
      "outputs": [
        {
          "data": {
            "text/plain": [
              "array([[1, 0, 0],\n",
              "       [0, 1, 0],\n",
              "       [0, 0, 1]])"
            ]
          },
          "execution_count": 22,
          "metadata": {},
          "output_type": "execute_result"
        }
      ],
      "source": [
        "np.eye(3, dtype = int) #n*n matrix #tO calculate inverse of matroix"
      ]
    },
    {
      "cell_type": "code",
      "execution_count": null,
      "id": "fa09cc61",
      "metadata": {
        "id": "fa09cc61",
        "outputId": "36a87832-5d91-4596-ae9c-5030bab41e2a"
      },
      "outputs": [
        {
          "data": {
            "text/plain": [
              "array([[1., 1., 1., 1.],\n",
              "       [1., 1., 1., 1.],\n",
              "       [1., 1., 1., 1.]])"
            ]
          },
          "execution_count": 23,
          "metadata": {},
          "output_type": "execute_result"
        }
      ],
      "source": [
        "arr"
      ]
    },
    {
      "cell_type": "code",
      "execution_count": null,
      "id": "cf144ec0",
      "metadata": {
        "id": "cf144ec0",
        "outputId": "4ebfa697-b935-4c1f-9736-56b157c4a75e"
      },
      "outputs": [
        {
          "data": {
            "text/html": [
              "<div>\n",
              "<style scoped>\n",
              "    .dataframe tbody tr th:only-of-type {\n",
              "        vertical-align: middle;\n",
              "    }\n",
              "\n",
              "    .dataframe tbody tr th {\n",
              "        vertical-align: top;\n",
              "    }\n",
              "\n",
              "    .dataframe thead th {\n",
              "        text-align: right;\n",
              "    }\n",
              "</style>\n",
              "<table border=\"1\" class=\"dataframe\">\n",
              "  <thead>\n",
              "    <tr style=\"text-align: right;\">\n",
              "      <th></th>\n",
              "      <th>0</th>\n",
              "      <th>1</th>\n",
              "      <th>2</th>\n",
              "      <th>3</th>\n",
              "    </tr>\n",
              "  </thead>\n",
              "  <tbody>\n",
              "    <tr>\n",
              "      <th>0</th>\n",
              "      <td>1.0</td>\n",
              "      <td>1.0</td>\n",
              "      <td>1.0</td>\n",
              "      <td>1.0</td>\n",
              "    </tr>\n",
              "    <tr>\n",
              "      <th>1</th>\n",
              "      <td>1.0</td>\n",
              "      <td>1.0</td>\n",
              "      <td>1.0</td>\n",
              "      <td>1.0</td>\n",
              "    </tr>\n",
              "    <tr>\n",
              "      <th>2</th>\n",
              "      <td>1.0</td>\n",
              "      <td>1.0</td>\n",
              "      <td>1.0</td>\n",
              "      <td>1.0</td>\n",
              "    </tr>\n",
              "  </tbody>\n",
              "</table>\n",
              "</div>"
            ],
            "text/plain": [
              "     0    1    2    3\n",
              "0  1.0  1.0  1.0  1.0\n",
              "1  1.0  1.0  1.0  1.0\n",
              "2  1.0  1.0  1.0  1.0"
            ]
          },
          "execution_count": 24,
          "metadata": {},
          "output_type": "execute_result"
        }
      ],
      "source": [
        "#optional\n",
        "\n",
        "import pandas as pd\n",
        "pd.DataFrame(arr)"
      ]
    },
    {
      "cell_type": "code",
      "execution_count": null,
      "id": "09bf2be2",
      "metadata": {
        "id": "09bf2be2",
        "outputId": "d9d3f806-9e39-47be-d4e8-48f4887df56b"
      },
      "outputs": [
        {
          "data": {
            "text/plain": [
              "'j'"
            ]
          },
          "execution_count": 43,
          "metadata": {},
          "output_type": "execute_result"
        }
      ],
      "source": [
        "#extra topics\n",
        "import random\n",
        "random.choice((1, 2, 3, 4, 5, 6))\n",
        "\n",
        "random.choice('Ajay')\n",
        "random.randrange(1, 10)\n",
        "random.random() # a random no is generated between o (included), 1 will be excluded\n",
        "\n",
        "lis = [1, 2, 3, 4, 5]\n",
        "random.shuffle(lis)\n",
        "\n",
        "random.uniform(7, 14) #a no between 7 and 14"
      ]
    },
    {
      "cell_type": "code",
      "execution_count": null,
      "id": "8c35d578",
      "metadata": {
        "id": "8c35d578"
      },
      "outputs": [],
      "source": [
        "np.array([])"
      ]
    },
    {
      "cell_type": "code",
      "execution_count": null,
      "id": "1112871e",
      "metadata": {
        "id": "1112871e",
        "outputId": "d1d1ef48-3a21-4d91-b058-724efc96728a"
      },
      "outputs": [
        {
          "data": {
            "text/plain": [
              "0.9211111156563901"
            ]
          },
          "execution_count": 287,
          "metadata": {},
          "output_type": "execute_result"
        }
      ],
      "source": [
        "np.random.random_sample()"
      ]
    },
    {
      "cell_type": "code",
      "execution_count": null,
      "id": "cc3c3603",
      "metadata": {
        "id": "cc3c3603",
        "outputId": "43278612-47d6-4179-8658-1853f04ad8a6"
      },
      "outputs": [
        {
          "data": {
            "text/plain": [
              "float"
            ]
          },
          "execution_count": 279,
          "metadata": {},
          "output_type": "execute_result"
        }
      ],
      "source": [
        "type(np.random.random_sample())"
      ]
    },
    {
      "cell_type": "code",
      "execution_count": null,
      "id": "6515618a",
      "metadata": {
        "id": "6515618a",
        "outputId": "d7d3aace-0dda-489b-8f5f-a77c4409c7e9"
      },
      "outputs": [
        {
          "data": {
            "text/plain": [
              "array([0.90202035, 0.60630875, 0.15373777, 0.86313403, 0.42078372])"
            ]
          },
          "execution_count": 280,
          "metadata": {},
          "output_type": "execute_result"
        }
      ],
      "source": [
        "np.random.random_sample((5,))"
      ]
    },
    {
      "cell_type": "code",
      "execution_count": null,
      "id": "f016851d",
      "metadata": {
        "id": "f016851d",
        "outputId": "d14ab927-0223-4daa-da98-4c5b3d612a53"
      },
      "outputs": [
        {
          "data": {
            "text/plain": [
              "array([0.11447432])"
            ]
          },
          "execution_count": 47,
          "metadata": {},
          "output_type": "execute_result"
        }
      ],
      "source": [
        "np.random.rand(1)"
      ]
    },
    {
      "cell_type": "code",
      "execution_count": null,
      "id": "b406c5cf",
      "metadata": {
        "id": "b406c5cf",
        "outputId": "6236d2be-c725-4b1a-bceb-b92517eaabb0"
      },
      "outputs": [
        {
          "data": {
            "text/plain": [
              "array([[0.36447448, 0.62336784, 0.83770828],\n",
              "       [0.96798408, 0.50156134, 0.91970993]])"
            ]
          },
          "execution_count": 44,
          "metadata": {},
          "output_type": "execute_result"
        }
      ],
      "source": [
        "np.random.rand(2, 3)"
      ]
    },
    {
      "cell_type": "code",
      "execution_count": null,
      "id": "cf700afb",
      "metadata": {
        "id": "cf700afb",
        "outputId": "6f8f2151-bea9-48f3-b907-8ad95619c7b7"
      },
      "outputs": [
        {
          "data": {
            "text/plain": [
              "array([[ 0.6934026 , -0.40988039, -0.29346066],\n",
              "       [ 0.00731871,  1.51932967, -0.41561844]])"
            ]
          },
          "execution_count": 49,
          "metadata": {},
          "output_type": "execute_result"
        }
      ],
      "source": [
        "np.random.randn(2, 3)"
      ]
    },
    {
      "cell_type": "code",
      "execution_count": null,
      "id": "d299b157",
      "metadata": {
        "id": "d299b157",
        "outputId": "243c80fc-b862-421e-a524-1b6a0ba7be44"
      },
      "outputs": [
        {
          "data": {
            "text/plain": [
              "0.13122192085217144"
            ]
          },
          "execution_count": 50,
          "metadata": {},
          "output_type": "execute_result"
        }
      ],
      "source": [
        "np.random.random_sample()"
      ]
    },
    {
      "cell_type": "code",
      "execution_count": null,
      "id": "c3c0f7ec",
      "metadata": {
        "id": "c3c0f7ec",
        "outputId": "c2600d69-698a-4f96-a9e4-919067ebc408"
      },
      "outputs": [
        {
          "data": {
            "text/plain": [
              "array([[1, 2, 3, 3],\n",
              "       [2, 4, 1, 4],\n",
              "       [1, 4, 4, 4]])"
            ]
          },
          "execution_count": 51,
          "metadata": {},
          "output_type": "execute_result"
        }
      ],
      "source": [
        "np.random.randint(1, 5, size = (3, 4))"
      ]
    },
    {
      "cell_type": "code",
      "execution_count": null,
      "id": "630208a5",
      "metadata": {
        "id": "630208a5"
      },
      "outputs": [],
      "source": [
        "arr = np.random.randint(1, 5, size = (3, 4))"
      ]
    },
    {
      "cell_type": "code",
      "execution_count": null,
      "id": "90051fcc",
      "metadata": {
        "id": "90051fcc",
        "outputId": "2c50ef9f-ede3-4658-b67d-8b1505e878aa"
      },
      "outputs": [
        {
          "data": {
            "text/plain": [
              "array([[4, 1, 1, 2],\n",
              "       [3, 2, 3, 4],\n",
              "       [4, 1, 3, 1]])"
            ]
          },
          "execution_count": 53,
          "metadata": {},
          "output_type": "execute_result"
        }
      ],
      "source": [
        "arr"
      ]
    },
    {
      "cell_type": "code",
      "execution_count": null,
      "id": "304d2c66",
      "metadata": {
        "id": "304d2c66",
        "outputId": "c8b3d63e-5e13-4db4-bfb2-67dc4294f9bf"
      },
      "outputs": [
        {
          "data": {
            "text/plain": [
              "12"
            ]
          },
          "execution_count": 54,
          "metadata": {},
          "output_type": "execute_result"
        }
      ],
      "source": [
        "arr.size"
      ]
    },
    {
      "cell_type": "code",
      "execution_count": null,
      "id": "0a04274b",
      "metadata": {
        "id": "0a04274b",
        "outputId": "76638e95-27f0-460f-956b-b141f543347c"
      },
      "outputs": [
        {
          "data": {
            "text/plain": [
              "(3, 4)"
            ]
          },
          "execution_count": 55,
          "metadata": {},
          "output_type": "execute_result"
        }
      ],
      "source": [
        "arr.shape"
      ]
    },
    {
      "cell_type": "code",
      "execution_count": null,
      "id": "69d6405a",
      "metadata": {
        "id": "69d6405a",
        "outputId": "b7b4458c-dfd9-4ed4-c1f6-d29e21d42fe2"
      },
      "outputs": [
        {
          "data": {
            "text/plain": [
              "2"
            ]
          },
          "execution_count": 56,
          "metadata": {},
          "output_type": "execute_result"
        }
      ],
      "source": [
        "arr.ndim"
      ]
    },
    {
      "cell_type": "code",
      "execution_count": null,
      "id": "c0267eb1",
      "metadata": {
        "id": "c0267eb1",
        "outputId": "3bb0ddc5-f22c-46b3-e709-6f28bb79361f"
      },
      "outputs": [
        {
          "data": {
            "text/plain": [
              "array([[4, 1, 1, 2],\n",
              "       [3, 2, 3, 4],\n",
              "       [4, 1, 3, 1]])"
            ]
          },
          "execution_count": 57,
          "metadata": {},
          "output_type": "execute_result"
        }
      ],
      "source": [
        "arr"
      ]
    },
    {
      "cell_type": "code",
      "execution_count": null,
      "id": "cc0a7eef",
      "metadata": {
        "id": "cc0a7eef",
        "outputId": "c57e7bc4-9fae-4a99-d765-c24869eee21a"
      },
      "outputs": [
        {
          "data": {
            "text/plain": [
              "array([[4, 1, 1, 2, 3, 2],\n",
              "       [3, 4, 4, 1, 3, 1]])"
            ]
          },
          "execution_count": 60,
          "metadata": {},
          "output_type": "execute_result"
        }
      ],
      "source": [
        "arr.reshape(2, 6) #array size can not change, multiples of array size"
      ]
    },
    {
      "cell_type": "code",
      "execution_count": null,
      "id": "4111d896",
      "metadata": {
        "id": "4111d896",
        "outputId": "4a35f183-4ad4-4f93-b5a4-c4f95ac75c99"
      },
      "outputs": [
        {
          "data": {
            "text/plain": [
              "array([[4, 1],\n",
              "       [1, 2],\n",
              "       [3, 2],\n",
              "       [3, 4],\n",
              "       [4, 1],\n",
              "       [3, 1]])"
            ]
          },
          "execution_count": 61,
          "metadata": {},
          "output_type": "execute_result"
        }
      ],
      "source": [
        "arr.reshape(6, 2)"
      ]
    },
    {
      "cell_type": "code",
      "execution_count": null,
      "id": "7d982323",
      "metadata": {
        "id": "7d982323",
        "outputId": "6cd3ebf5-772a-4c32-ede1-88eba5f58c63"
      },
      "outputs": [
        {
          "data": {
            "text/plain": [
              "array([4, 1, 1, 2, 3, 2, 3, 4, 4, 1, 3, 1])"
            ]
          },
          "execution_count": 64,
          "metadata": {},
          "output_type": "execute_result"
        }
      ],
      "source": [
        "arr.reshape(12,)"
      ]
    },
    {
      "cell_type": "code",
      "execution_count": null,
      "id": "e2a4ab22",
      "metadata": {
        "id": "e2a4ab22",
        "outputId": "6b2e572d-948c-496f-bdd7-7c54fb6d96db"
      },
      "outputs": [
        {
          "data": {
            "text/plain": [
              "array([[4],\n",
              "       [1],\n",
              "       [1],\n",
              "       [2],\n",
              "       [3],\n",
              "       [2],\n",
              "       [3],\n",
              "       [4],\n",
              "       [4],\n",
              "       [1],\n",
              "       [3],\n",
              "       [1]])"
            ]
          },
          "execution_count": 65,
          "metadata": {},
          "output_type": "execute_result"
        }
      ],
      "source": [
        "arr.reshape(12, 1)"
      ]
    },
    {
      "cell_type": "code",
      "execution_count": null,
      "id": "dd8a93d2",
      "metadata": {
        "id": "dd8a93d2",
        "outputId": "b49a6c0f-de12-4d92-bc61-c12987e89854"
      },
      "outputs": [
        {
          "ename": "ValueError",
          "evalue": "cannot reshape array of size 12 into shape (12,2)",
          "output_type": "error",
          "traceback": [
            "\u001b[1;31m---------------------------------------------------------------------------\u001b[0m",
            "\u001b[1;31mValueError\u001b[0m                                Traceback (most recent call last)",
            "Cell \u001b[1;32mIn[66], line 1\u001b[0m\n\u001b[1;32m----> 1\u001b[0m arr\u001b[38;5;241m.\u001b[39mreshape(\u001b[38;5;241m12\u001b[39m,\u001b[38;5;241m2\u001b[39m)\n",
            "\u001b[1;31mValueError\u001b[0m: cannot reshape array of size 12 into shape (12,2)"
          ]
        }
      ],
      "source": [
        "arr.reshape(12,2)"
      ]
    },
    {
      "cell_type": "code",
      "execution_count": null,
      "id": "d27d2db9",
      "metadata": {
        "id": "d27d2db9",
        "outputId": "1695e877-ca3d-4869-a2df-fe2086f4262d"
      },
      "outputs": [
        {
          "data": {
            "text/plain": [
              "array([[4, 1, 1],\n",
              "       [2, 3, 2],\n",
              "       [3, 4, 4],\n",
              "       [1, 3, 1]])"
            ]
          },
          "execution_count": 67,
          "metadata": {},
          "output_type": "execute_result"
        }
      ],
      "source": [
        "arr.reshape(4, 3)"
      ]
    },
    {
      "cell_type": "code",
      "execution_count": null,
      "id": "88985273",
      "metadata": {
        "id": "88985273",
        "outputId": "481f0078-563e-4166-b36f-79c2991f1d71"
      },
      "outputs": [
        {
          "data": {
            "text/plain": [
              "array([[4, 1, 1, 2],\n",
              "       [3, 2, 3, 4],\n",
              "       [4, 1, 3, 1]])"
            ]
          },
          "execution_count": 68,
          "metadata": {},
          "output_type": "execute_result"
        }
      ],
      "source": [
        "arr.reshape(3,4)"
      ]
    },
    {
      "cell_type": "code",
      "execution_count": null,
      "id": "b1b1e75c",
      "metadata": {
        "id": "b1b1e75c",
        "outputId": "f5a7ce84-7690-4cd8-bbae-9258bce3a8ac"
      },
      "outputs": [
        {
          "data": {
            "text/plain": [
              "array([[4, 1, 1, 2],\n",
              "       [3, 2, 3, 4],\n",
              "       [4, 1, 3, 1]])"
            ]
          },
          "execution_count": 69,
          "metadata": {},
          "output_type": "execute_result"
        }
      ],
      "source": [
        "arr"
      ]
    },
    {
      "cell_type": "code",
      "execution_count": null,
      "id": "9b4a7848",
      "metadata": {
        "id": "9b4a7848",
        "outputId": "b45ef4f2-4449-4113-81bd-90284eae6ae8"
      },
      "outputs": [
        {
          "data": {
            "text/plain": [
              "array([[4, 1, 1],\n",
              "       [2, 3, 2],\n",
              "       [3, 4, 4],\n",
              "       [1, 3, 1]])"
            ]
          },
          "execution_count": 73,
          "metadata": {},
          "output_type": "execute_result"
        }
      ],
      "source": [
        "arr.reshape(4, -1)"
      ]
    },
    {
      "cell_type": "code",
      "execution_count": null,
      "id": "e906e39e",
      "metadata": {
        "id": "e906e39e",
        "outputId": "e32fd9f6-52e6-4b99-e37a-382a92bc2d7b"
      },
      "outputs": [
        {
          "data": {
            "text/plain": [
              "array([[4, 1, 1],\n",
              "       [2, 3, 2],\n",
              "       [3, 4, 4],\n",
              "       [1, 3, 1]])"
            ]
          },
          "execution_count": 74,
          "metadata": {},
          "output_type": "execute_result"
        }
      ],
      "source": [
        "arr.reshape(4, -100)"
      ]
    },
    {
      "cell_type": "code",
      "execution_count": null,
      "id": "2bff1250",
      "metadata": {
        "id": "2bff1250",
        "outputId": "3c079bdf-fc31-4eb8-ed36-267f1989e1b4"
      },
      "outputs": [
        {
          "data": {
            "text/plain": [
              "array([[4, 1, 1, 2],\n",
              "       [3, 2, 3, 4],\n",
              "       [4, 1, 3, 1]])"
            ]
          },
          "execution_count": 75,
          "metadata": {},
          "output_type": "execute_result"
        }
      ],
      "source": [
        "arr.reshape(3, -100)"
      ]
    },
    {
      "cell_type": "code",
      "execution_count": null,
      "id": "a068091e",
      "metadata": {
        "id": "a068091e",
        "outputId": "efe50f31-0f9a-4396-cb43-b1a387d834e6"
      },
      "outputs": [
        {
          "data": {
            "text/plain": [
              "array([[4, 1, 1, 2],\n",
              "       [3, 2, 3, 4],\n",
              "       [4, 1, 3, 1]])"
            ]
          },
          "execution_count": 81,
          "metadata": {},
          "output_type": "execute_result"
        }
      ],
      "source": [
        "arr.reshape(-1, 4)"
      ]
    },
    {
      "cell_type": "code",
      "execution_count": null,
      "id": "5ff5cb0a",
      "metadata": {
        "id": "5ff5cb0a",
        "outputId": "998c8c98-9de4-44e2-aec1-f1297a96b0f7"
      },
      "outputs": [
        {
          "data": {
            "text/plain": [
              "array([[4, 1, 1, 2],\n",
              "       [3, 2, 3, 4],\n",
              "       [4, 1, 3, 1]])"
            ]
          },
          "execution_count": 87,
          "metadata": {},
          "output_type": "execute_result"
        }
      ],
      "source": [
        "arr"
      ]
    },
    {
      "cell_type": "code",
      "execution_count": null,
      "id": "6c443454",
      "metadata": {
        "id": "6c443454",
        "outputId": "42790da9-ee18-42ac-ebee-b1485f633a2c"
      },
      "outputs": [
        {
          "data": {
            "text/plain": [
              "array([[4, 1, 1, 2],\n",
              "       [3, 2, 3, 4],\n",
              "       [4, 1, 3, 1]])"
            ]
          },
          "execution_count": 89,
          "metadata": {},
          "output_type": "execute_result"
        }
      ],
      "source": [
        "arr.reshape(12, ).base"
      ]
    },
    {
      "cell_type": "code",
      "execution_count": null,
      "id": "4f705183",
      "metadata": {
        "id": "4f705183",
        "outputId": "8cbf9560-1067-4e8a-aa1e-aa1c2854d9f3"
      },
      "outputs": [
        {
          "data": {
            "text/plain": [
              "array([[4, 1, 1, 2],\n",
              "       [3, 2, 3, 4],\n",
              "       [4, 1, 3, 1]])"
            ]
          },
          "execution_count": 90,
          "metadata": {},
          "output_type": "execute_result"
        }
      ],
      "source": [
        "arr"
      ]
    },
    {
      "cell_type": "code",
      "execution_count": null,
      "id": "0774e249",
      "metadata": {
        "id": "0774e249",
        "outputId": "30c97650-ddf0-44f2-cffb-0960d39948f3"
      },
      "outputs": [
        {
          "data": {
            "text/plain": [
              "12"
            ]
          },
          "execution_count": 91,
          "metadata": {},
          "output_type": "execute_result"
        }
      ],
      "source": [
        "arr.size"
      ]
    },
    {
      "cell_type": "code",
      "execution_count": null,
      "id": "d8f1159c",
      "metadata": {
        "id": "d8f1159c",
        "outputId": "f5d79149-5dcb-4aeb-eac9-290c825adb41"
      },
      "outputs": [
        {
          "data": {
            "text/plain": [
              "array([[[4, 1, 1],\n",
              "        [2, 3, 2]],\n",
              "\n",
              "       [[3, 4, 4],\n",
              "        [1, 3, 1]]])"
            ]
          },
          "execution_count": 92,
          "metadata": {},
          "output_type": "execute_result"
        }
      ],
      "source": [
        "arr.reshape(2, 2, 3)"
      ]
    },
    {
      "cell_type": "code",
      "execution_count": null,
      "id": "c91113ad",
      "metadata": {
        "id": "c91113ad",
        "outputId": "248e3d09-70d5-482f-d074-17ac9323a2c9"
      },
      "outputs": [
        {
          "data": {
            "text/plain": [
              "array([[[[4, 1, 1],\n",
              "         [2, 3, 2]],\n",
              "\n",
              "        [[3, 4, 4],\n",
              "         [1, 3, 1]]]])"
            ]
          },
          "execution_count": 93,
          "metadata": {},
          "output_type": "execute_result"
        }
      ],
      "source": [
        "arr.reshape(1, 2, 2, 3)"
      ]
    },
    {
      "cell_type": "code",
      "execution_count": null,
      "id": "a561838c",
      "metadata": {
        "id": "a561838c",
        "outputId": "ddbea59b-4ef0-4308-c39e-71848d38b8a0"
      },
      "outputs": [
        {
          "data": {
            "text/plain": [
              "array([[[4],\n",
              "        [1],\n",
              "        [1]],\n",
              "\n",
              "       [[2],\n",
              "        [3],\n",
              "        [2]],\n",
              "\n",
              "       [[3],\n",
              "        [4],\n",
              "        [4]],\n",
              "\n",
              "       [[1],\n",
              "        [3],\n",
              "        [1]]])"
            ]
          },
          "execution_count": 94,
          "metadata": {},
          "output_type": "execute_result"
        }
      ],
      "source": [
        "arr.reshape(4, 3, 1)"
      ]
    },
    {
      "cell_type": "code",
      "execution_count": null,
      "id": "a1b34382",
      "metadata": {
        "id": "a1b34382",
        "outputId": "836eb8d6-cfae-4d1a-ab7d-72c6093d5832"
      },
      "outputs": [
        {
          "data": {
            "text/plain": [
              "array([[[[[[[[[[[[4, 1, 1],\n",
              "                 [2, 3, 2]],\n",
              "\n",
              "                [[3, 4, 4],\n",
              "                 [1, 3, 1]]]]]]]]]]]])"
            ]
          },
          "execution_count": 96,
          "metadata": {},
          "output_type": "execute_result"
        }
      ],
      "source": [
        "arr.reshape(1, 1, 1, 1, 1, 1, 1, 1, 1, 2, 2, 3)"
      ]
    },
    {
      "cell_type": "code",
      "execution_count": null,
      "id": "ca5d4613",
      "metadata": {
        "id": "ca5d4613"
      },
      "outputs": [],
      "source": [
        "lis = [1, 2, 3, 4]\n",
        "arr = np.array(lis)"
      ]
    },
    {
      "cell_type": "code",
      "execution_count": null,
      "id": "c11b423b",
      "metadata": {
        "id": "c11b423b",
        "outputId": "e68a7337-ccc0-42cf-db23-e822de08b6a8"
      },
      "outputs": [
        {
          "data": {
            "text/plain": [
              "array([1, 2, 3, 4])"
            ]
          },
          "execution_count": 99,
          "metadata": {},
          "output_type": "execute_result"
        }
      ],
      "source": [
        "arr"
      ]
    },
    {
      "cell_type": "code",
      "execution_count": null,
      "id": "2264e026",
      "metadata": {
        "id": "2264e026",
        "outputId": "a31e634f-bdc9-472c-b88a-8bb2508a7040"
      },
      "outputs": [
        {
          "data": {
            "text/plain": [
              "1"
            ]
          },
          "execution_count": 100,
          "metadata": {},
          "output_type": "execute_result"
        }
      ],
      "source": [
        "arr.ndim"
      ]
    },
    {
      "cell_type": "code",
      "execution_count": null,
      "id": "ae1b54a7",
      "metadata": {
        "id": "ae1b54a7",
        "outputId": "b9c29560-3d90-4a05-93cb-9a0c8597db6a"
      },
      "outputs": [
        {
          "data": {
            "text/plain": [
              "array([[2, 3],\n",
              "       [4, 5]])"
            ]
          },
          "execution_count": 102,
          "metadata": {},
          "output_type": "execute_result"
        }
      ],
      "source": [
        "arr2 = np.array([[2, 3], [4, 5]])\n",
        "arr2"
      ]
    },
    {
      "cell_type": "code",
      "execution_count": null,
      "id": "8399c0c7",
      "metadata": {
        "id": "8399c0c7",
        "outputId": "35478422-8320-4d71-c8e9-169a921289b6"
      },
      "outputs": [
        {
          "data": {
            "text/plain": [
              "2"
            ]
          },
          "execution_count": 103,
          "metadata": {},
          "output_type": "execute_result"
        }
      ],
      "source": [
        "arr2.ndim"
      ]
    },
    {
      "cell_type": "code",
      "execution_count": null,
      "id": "3f743f0d",
      "metadata": {
        "id": "3f743f0d",
        "outputId": "0d41f177-dad2-4574-d260-f1badeb7a767"
      },
      "outputs": [
        {
          "data": {
            "text/plain": [
              "array([[0., 0., 0., 0.],\n",
              "       [0., 0., 0., 0.],\n",
              "       [0., 0., 0., 0.]])"
            ]
          },
          "execution_count": 105,
          "metadata": {},
          "output_type": "execute_result"
        }
      ],
      "source": [
        "arr2 = np.zeros((3, 4))\n",
        "arr2"
      ]
    },
    {
      "cell_type": "code",
      "execution_count": null,
      "id": "dbfe0fe6",
      "metadata": {
        "id": "dbfe0fe6",
        "outputId": "5373334c-9099-48d2-ec2c-edc2c4957bc4"
      },
      "outputs": [
        {
          "data": {
            "text/plain": [
              "2"
            ]
          },
          "execution_count": 106,
          "metadata": {},
          "output_type": "execute_result"
        }
      ],
      "source": [
        "arr2.ndim"
      ]
    },
    {
      "cell_type": "code",
      "execution_count": null,
      "id": "f98f0ec1",
      "metadata": {
        "id": "f98f0ec1",
        "outputId": "9a2d4059-9197-4f64-ebef-3fadabe612bf"
      },
      "outputs": [
        {
          "data": {
            "text/plain": [
              "array([[[0., 0., 0., 0.],\n",
              "        [0., 0., 0., 0.],\n",
              "        [0., 0., 0., 0.]]])"
            ]
          },
          "execution_count": 107,
          "metadata": {},
          "output_type": "execute_result"
        }
      ],
      "source": [
        "arr3 = np.zeros((1, 3, 4)) # 3 rows, 4 columns >> 2d array + 1d\n",
        "arr3"
      ]
    },
    {
      "cell_type": "code",
      "execution_count": null,
      "id": "23160134",
      "metadata": {
        "id": "23160134",
        "outputId": "dc4ba8c6-2400-48b8-c21e-f9782ab7bfdc"
      },
      "outputs": [
        {
          "data": {
            "text/plain": [
              "3"
            ]
          },
          "execution_count": 108,
          "metadata": {},
          "output_type": "execute_result"
        }
      ],
      "source": [
        "arr3.ndim"
      ]
    },
    {
      "cell_type": "code",
      "execution_count": null,
      "id": "07f9c9ca",
      "metadata": {
        "id": "07f9c9ca",
        "outputId": "f2e7f607-1626-4804-e586-c4dabd011f84"
      },
      "outputs": [
        {
          "data": {
            "text/plain": [
              "(1, 3, 4)"
            ]
          },
          "execution_count": 109,
          "metadata": {},
          "output_type": "execute_result"
        }
      ],
      "source": [
        "arr3.shape"
      ]
    },
    {
      "cell_type": "code",
      "execution_count": null,
      "id": "288b7fab",
      "metadata": {
        "id": "288b7fab",
        "outputId": "532dd42b-493c-4bd5-dd12-393db6730ad9"
      },
      "outputs": [
        {
          "data": {
            "text/plain": [
              "array([[[[0., 0., 0., 0.],\n",
              "         [0., 0., 0., 0.],\n",
              "         [0., 0., 0., 0.]]]])"
            ]
          },
          "execution_count": 110,
          "metadata": {},
          "output_type": "execute_result"
        }
      ],
      "source": [
        "arr4 = np.zeros((1, 1, 3, 4)) # 3 rows, 4 columns >> 2d array + 1d +1d\n",
        "arr4"
      ]
    },
    {
      "cell_type": "code",
      "execution_count": null,
      "id": "108874e3",
      "metadata": {
        "id": "108874e3",
        "outputId": "66e632e0-0603-4159-9bc4-93ce0463090b"
      },
      "outputs": [
        {
          "data": {
            "text/plain": [
              "4"
            ]
          },
          "execution_count": 111,
          "metadata": {},
          "output_type": "execute_result"
        }
      ],
      "source": [
        "arr4.ndim"
      ]
    },
    {
      "cell_type": "code",
      "execution_count": null,
      "id": "4908b59b",
      "metadata": {
        "id": "4908b59b",
        "outputId": "7eb30763-7807-4baf-a0f6-4617f5e11b8f"
      },
      "outputs": [
        {
          "data": {
            "text/plain": [
              "(1, 1, 3, 4)"
            ]
          },
          "execution_count": 112,
          "metadata": {},
          "output_type": "execute_result"
        }
      ],
      "source": [
        "arr4.shape"
      ]
    },
    {
      "cell_type": "code",
      "execution_count": null,
      "id": "239ee299",
      "metadata": {
        "id": "239ee299",
        "outputId": "178b5ce9-b940-4d22-b1a7-aaabec711082"
      },
      "outputs": [
        {
          "data": {
            "text/plain": [
              "array([[[0., 0., 0., 0.],\n",
              "        [0., 0., 0., 0.],\n",
              "        [0., 0., 0., 0.]],\n",
              "\n",
              "       [[0., 0., 0., 0.],\n",
              "        [0., 0., 0., 0.],\n",
              "        [0., 0., 0., 0.]],\n",
              "\n",
              "       [[0., 0., 0., 0.],\n",
              "        [0., 0., 0., 0.],\n",
              "        [0., 0., 0., 0.]]])"
            ]
          },
          "execution_count": 120,
          "metadata": {},
          "output_type": "execute_result"
        }
      ],
      "source": [
        "arr3 = np.zeros((3, 3, 4))\n",
        "arr3"
      ]
    },
    {
      "cell_type": "code",
      "execution_count": null,
      "id": "f0858ac2",
      "metadata": {
        "id": "f0858ac2",
        "outputId": "962e6715-466a-44d1-a539-79f29cc8c277"
      },
      "outputs": [
        {
          "data": {
            "text/plain": [
              "3"
            ]
          },
          "execution_count": 117,
          "metadata": {},
          "output_type": "execute_result"
        }
      ],
      "source": [
        "arr3.ndim"
      ]
    },
    {
      "cell_type": "code",
      "execution_count": null,
      "id": "7789f2cc",
      "metadata": {
        "id": "7789f2cc",
        "outputId": "710d5266-6a46-483a-f237-e326504c763b"
      },
      "outputs": [
        {
          "data": {
            "text/plain": [
              "(3, 3, 4)"
            ]
          },
          "execution_count": 121,
          "metadata": {},
          "output_type": "execute_result"
        }
      ],
      "source": [
        "arr3.shape"
      ]
    },
    {
      "cell_type": "code",
      "execution_count": null,
      "id": "bd85dfdc",
      "metadata": {
        "id": "bd85dfdc"
      },
      "outputs": [],
      "source": [
        "arr1 = np.random.randint(1, 10, (5, 6))"
      ]
    },
    {
      "cell_type": "code",
      "execution_count": null,
      "id": "c6cb842b",
      "metadata": {
        "id": "c6cb842b",
        "outputId": "71b019c9-5d4e-48cf-82bd-88a59a99db02"
      },
      "outputs": [
        {
          "data": {
            "text/plain": [
              "array([[2, 7, 4, 4, 8, 3],\n",
              "       [6, 4, 8, 4, 4, 2],\n",
              "       [3, 7, 5, 7, 2, 3],\n",
              "       [7, 4, 3, 5, 6, 8],\n",
              "       [5, 9, 4, 8, 4, 4]])"
            ]
          },
          "execution_count": 258,
          "metadata": {},
          "output_type": "execute_result"
        }
      ],
      "source": [
        "arr1"
      ]
    },
    {
      "cell_type": "code",
      "execution_count": null,
      "id": "d7604706",
      "metadata": {
        "id": "d7604706",
        "outputId": "ed1736b0-6251-45d8-cf22-82580e993451"
      },
      "outputs": [
        {
          "data": {
            "text/plain": [
              "array([[False,  True, False, False,  True, False],\n",
              "       [ True, False,  True, False, False, False],\n",
              "       [False,  True, False,  True, False, False],\n",
              "       [ True, False, False, False,  True,  True],\n",
              "       [False,  True, False,  True, False, False]])"
            ]
          },
          "execution_count": 259,
          "metadata": {},
          "output_type": "execute_result"
        }
      ],
      "source": [
        "arr1 > 5"
      ]
    },
    {
      "cell_type": "code",
      "execution_count": null,
      "id": "3ef7c073",
      "metadata": {
        "id": "3ef7c073",
        "outputId": "0684d8d8-878e-497d-8156-67c85f762a74"
      },
      "outputs": [
        {
          "data": {
            "text/plain": [
              "array([7, 8, 6, 8, 7, 7, 7, 6, 8, 9, 8])"
            ]
          },
          "execution_count": 260,
          "metadata": {},
          "output_type": "execute_result"
        }
      ],
      "source": [
        "arr1[arr1 > 5]"
      ]
    },
    {
      "cell_type": "code",
      "execution_count": null,
      "id": "1d34ad7c",
      "metadata": {
        "id": "1d34ad7c",
        "outputId": "bc272f0a-5f6c-4687-9a9e-6e6d4b143e25"
      },
      "outputs": [
        {
          "data": {
            "text/plain": [
              "array([2, 4, 4, 3, 4, 4, 4, 2, 3, 2, 3, 4, 3, 4, 4, 4])"
            ]
          },
          "execution_count": 261,
          "metadata": {},
          "output_type": "execute_result"
        }
      ],
      "source": [
        "arr1[arr1 < 5]"
      ]
    },
    {
      "cell_type": "code",
      "execution_count": null,
      "id": "73ed1e20",
      "metadata": {
        "id": "73ed1e20",
        "outputId": "945130ae-52be-4c34-9139-cbb7cd528fb8"
      },
      "outputs": [
        {
          "data": {
            "text/plain": [
              "array([[2, 7, 4, 4, 8, 3],\n",
              "       [6, 4, 8, 4, 4, 2],\n",
              "       [3, 7, 5, 7, 2, 3],\n",
              "       [7, 4, 3, 5, 6, 8],\n",
              "       [5, 9, 4, 8, 4, 4]])"
            ]
          },
          "execution_count": 262,
          "metadata": {},
          "output_type": "execute_result"
        }
      ],
      "source": [
        "arr1"
      ]
    },
    {
      "cell_type": "code",
      "execution_count": null,
      "id": "a2564283",
      "metadata": {
        "id": "a2564283",
        "outputId": "60a24f9d-f2be-4285-d4ac-62904535b5d0"
      },
      "outputs": [
        {
          "data": {
            "text/plain": [
              "array([[0., 0., 0., 0.],\n",
              "       [0., 0., 0., 0.],\n",
              "       [0., 0., 0., 0.]])"
            ]
          },
          "execution_count": 265,
          "metadata": {},
          "output_type": "execute_result"
        }
      ],
      "source": [
        "arr"
      ]
    },
    {
      "cell_type": "code",
      "execution_count": null,
      "id": "5adb3a1f",
      "metadata": {
        "id": "5adb3a1f",
        "outputId": "97430ace-fdfa-4263-9818-6ed5f677f660"
      },
      "outputs": [
        {
          "data": {
            "text/plain": [
              "array([0., 0., 0., 0.])"
            ]
          },
          "execution_count": 266,
          "metadata": {},
          "output_type": "execute_result"
        }
      ],
      "source": [
        "arr[0]"
      ]
    },
    {
      "cell_type": "code",
      "execution_count": null,
      "id": "5da9d061",
      "metadata": {
        "id": "5da9d061",
        "outputId": "731c37ba-2810-48a6-a92c-55e71340ab4c"
      },
      "outputs": [
        {
          "data": {
            "text/plain": [
              "array([0., 0., 0., 0.])"
            ]
          },
          "execution_count": 268,
          "metadata": {},
          "output_type": "execute_result"
        }
      ],
      "source": [
        "arr[0]"
      ]
    },
    {
      "cell_type": "code",
      "execution_count": null,
      "id": "427f6fa8",
      "metadata": {
        "id": "427f6fa8",
        "outputId": "056e51cc-b45f-4db5-903e-64765743f2d4"
      },
      "outputs": [
        {
          "data": {
            "text/plain": [
              "array([[2, 7, 4, 4, 8, 3],\n",
              "       [6, 4, 8, 4, 4, 2],\n",
              "       [3, 7, 5, 7, 2, 3],\n",
              "       [7, 4, 3, 5, 6, 8],\n",
              "       [5, 9, 4, 8, 4, 4]])"
            ]
          },
          "execution_count": 269,
          "metadata": {},
          "output_type": "execute_result"
        }
      ],
      "source": [
        "arr1"
      ]
    },
    {
      "cell_type": "code",
      "execution_count": null,
      "id": "c155e215",
      "metadata": {
        "id": "c155e215",
        "outputId": "382b1a9b-1485-4397-8245-5f56d239366f"
      },
      "outputs": [
        {
          "data": {
            "text/plain": [
              "array([[2, 4],\n",
              "       [6, 8]])"
            ]
          },
          "execution_count": 276,
          "metadata": {},
          "output_type": "execute_result"
        }
      ],
      "source": [
        "arr1[0:2, [0,2]] #0th - 1st row in continuation and 0th and 2nd column"
      ]
    },
    {
      "cell_type": "code",
      "execution_count": null,
      "id": "6a55275e",
      "metadata": {
        "id": "6a55275e",
        "outputId": "eff76acf-7923-40e9-b0a2-cddc37719008"
      },
      "outputs": [
        {
          "data": {
            "text/plain": [
              "array([[7, 4],\n",
              "       [4, 8]])"
            ]
          },
          "execution_count": 277,
          "metadata": {},
          "output_type": "execute_result"
        }
      ],
      "source": [
        "#slicing on both rows and column\n",
        "arr1[0:2, 1:3]"
      ]
    },
    {
      "cell_type": "code",
      "execution_count": null,
      "id": "fae3b9a8",
      "metadata": {
        "id": "fae3b9a8",
        "outputId": "393caa2e-fa67-4ca3-9300-3d160f6e39ce"
      },
      "outputs": [
        {
          "data": {
            "text/plain": [
              "array([[2, 7],\n",
              "       [6, 4]])"
            ]
          },
          "execution_count": 272,
          "metadata": {},
          "output_type": "execute_result"
        }
      ],
      "source": [
        "arr1[0:2, [0, 1]]"
      ]
    },
    {
      "cell_type": "code",
      "execution_count": null,
      "id": "ee573a81",
      "metadata": {
        "id": "ee573a81"
      },
      "outputs": [],
      "source": [
        "arr"
      ]
    },
    {
      "cell_type": "code",
      "execution_count": null,
      "id": "397dc291",
      "metadata": {
        "id": "397dc291",
        "outputId": "4105ff1c-b7d5-493c-a70d-46a898800daf"
      },
      "outputs": [
        {
          "data": {
            "text/plain": [
              "array([7, 1])"
            ]
          },
          "execution_count": 145,
          "metadata": {},
          "output_type": "execute_result"
        }
      ],
      "source": [
        "arr1[0, [1,3]]"
      ]
    },
    {
      "cell_type": "code",
      "execution_count": null,
      "id": "6c42bcde",
      "metadata": {
        "id": "6c42bcde",
        "outputId": "1979a9f2-c2d4-4cec-ae99-2d24e79d00fd"
      },
      "outputs": [
        {
          "data": {
            "text/plain": [
              "array([[2, 4],\n",
              "       [2, 9]])"
            ]
          },
          "execution_count": 154,
          "metadata": {},
          "output_type": "execute_result"
        }
      ],
      "source": [
        "arr1[2:4, [0, 2]]"
      ]
    },
    {
      "cell_type": "code",
      "execution_count": null,
      "id": "df6ece94",
      "metadata": {
        "id": "df6ece94",
        "outputId": "d2f8f368-c8e5-4051-af2a-a0f1abf7e511"
      },
      "outputs": [
        {
          "data": {
            "text/plain": [
              "array([[3, 7, 7, 1, 5, 2],\n",
              "       [6, 1, 5, 6, 6, 8],\n",
              "       [2, 8, 4, 2, 9, 3],\n",
              "       [2, 1, 9, 5, 8, 7],\n",
              "       [6, 2, 7, 6, 6, 1]])"
            ]
          },
          "execution_count": 156,
          "metadata": {},
          "output_type": "execute_result"
        }
      ],
      "source": [
        "arr1"
      ]
    },
    {
      "cell_type": "code",
      "execution_count": null,
      "id": "ab3e293d",
      "metadata": {
        "id": "ab3e293d",
        "outputId": "cf44214f-7ef5-49cc-c4fd-34c5d6d0421e"
      },
      "outputs": [
        {
          "data": {
            "text/plain": [
              "array([[2, 8, 4, 2, 9, 3],\n",
              "       [2, 1, 9, 5, 8, 7],\n",
              "       [6, 2, 7, 6, 6, 1]])"
            ]
          },
          "execution_count": 160,
          "metadata": {},
          "output_type": "execute_result"
        }
      ],
      "source": [
        "arr1[2:5]"
      ]
    },
    {
      "cell_type": "code",
      "execution_count": null,
      "id": "5b0571f2",
      "metadata": {
        "id": "5b0571f2",
        "outputId": "2460fc29-e162-4ebc-b8b0-e46817bcc2a7"
      },
      "outputs": [
        {
          "data": {
            "text/plain": [
              "array([[2, 8],\n",
              "       [2, 1],\n",
              "       [6, 2]])"
            ]
          },
          "execution_count": 164,
          "metadata": {},
          "output_type": "execute_result"
        }
      ],
      "source": [
        "arr1[2:5, 0:2] #slicing"
      ]
    },
    {
      "cell_type": "code",
      "execution_count": null,
      "id": "bd8c1e41",
      "metadata": {
        "id": "bd8c1e41",
        "outputId": "9ffe7e3b-0141-4586-bd9d-368958407623"
      },
      "outputs": [
        {
          "data": {
            "text/plain": [
              "array([[2, 4],\n",
              "       [2, 9],\n",
              "       [6, 7]])"
            ]
          },
          "execution_count": 167,
          "metadata": {},
          "output_type": "execute_result"
        }
      ],
      "source": [
        "arr1[2:5, [0, 2]]"
      ]
    },
    {
      "cell_type": "code",
      "execution_count": null,
      "id": "fc7dfcac",
      "metadata": {
        "id": "fc7dfcac",
        "outputId": "00f343ac-09f1-4473-a565-7443fa2edf3a"
      },
      "outputs": [
        {
          "data": {
            "text/plain": [
              "array([[2, 8, 4, 2, 9, 3],\n",
              "       [6, 2, 7, 6, 6, 1]])"
            ]
          },
          "execution_count": 170,
          "metadata": {},
          "output_type": "execute_result"
        }
      ],
      "source": [
        "arr1[[2,4]]"
      ]
    },
    {
      "cell_type": "code",
      "execution_count": null,
      "id": "64b48050",
      "metadata": {
        "id": "64b48050",
        "outputId": "6977a6ff-c78d-406b-994b-01a6d91983fe"
      },
      "outputs": [
        {
          "data": {
            "text/plain": [
              "array([[3, 7, 7, 1, 5, 2],\n",
              "       [6, 1, 5, 6, 6, 8],\n",
              "       [2, 8, 4, 2, 9, 3],\n",
              "       [2, 1, 9, 5, 8, 7],\n",
              "       [6, 2, 7, 6, 6, 1]])"
            ]
          },
          "execution_count": 171,
          "metadata": {},
          "output_type": "execute_result"
        }
      ],
      "source": [
        "arr1"
      ]
    },
    {
      "cell_type": "code",
      "execution_count": null,
      "id": "dd6ab048",
      "metadata": {
        "id": "dd6ab048",
        "outputId": "b785a95c-3fdb-47a0-c0b9-6270ffc31019"
      },
      "outputs": [
        {
          "data": {
            "text/plain": [
              "array([[3, 7, 7, 1, 5, 2],\n",
              "       [6, 1, 5, 6, 6, 8],\n",
              "       [2, 8, 4, 2, 9, 3],\n",
              "       [2, 1, 9, 5, 8, 7],\n",
              "       [6, 2, 7, 6, 6, 1]])"
            ]
          },
          "execution_count": 172,
          "metadata": {},
          "output_type": "execute_result"
        }
      ],
      "source": [
        "arr1"
      ]
    },
    {
      "cell_type": "code",
      "execution_count": null,
      "id": "d0b255b1",
      "metadata": {
        "id": "d0b255b1",
        "outputId": "35d5f4ed-3b47-4c0f-b486-2edc70fc4c5f"
      },
      "outputs": [
        {
          "data": {
            "text/plain": [
              "array([[2, 8, 4, 2, 9, 3],\n",
              "       [6, 2, 7, 6, 6, 1]])"
            ]
          },
          "execution_count": 175,
          "metadata": {},
          "output_type": "execute_result"
        }
      ],
      "source": [
        "arr1[[2, 4]] #selecting specific column"
      ]
    },
    {
      "cell_type": "code",
      "execution_count": null,
      "id": "da01af1e",
      "metadata": {
        "id": "da01af1e",
        "outputId": "f08ef66c-f4e9-4689-e47b-2e4278252412"
      },
      "outputs": [
        {
          "data": {
            "text/plain": [
              "array([[2, 8, 4, 2, 9, 3],\n",
              "       [2, 1, 9, 5, 8, 7]])"
            ]
          },
          "execution_count": 177,
          "metadata": {},
          "output_type": "execute_result"
        }
      ],
      "source": [
        "arr1[2 : 4] #slicing"
      ]
    },
    {
      "cell_type": "code",
      "execution_count": null,
      "id": "b7176e43",
      "metadata": {
        "id": "b7176e43",
        "outputId": "7d460e75-6f67-4f20-b9f8-374c677eb782"
      },
      "outputs": [
        {
          "data": {
            "text/plain": [
              "array([[3, 7, 7, 1, 5, 2],\n",
              "       [6, 1, 5, 6, 6, 8],\n",
              "       [2, 8, 4, 2, 9, 3],\n",
              "       [2, 1, 9, 5, 8, 7],\n",
              "       [6, 2, 7, 6, 6, 1]])"
            ]
          },
          "execution_count": 179,
          "metadata": {},
          "output_type": "execute_result"
        }
      ],
      "source": [
        "arr1"
      ]
    },
    {
      "cell_type": "code",
      "execution_count": null,
      "id": "623d223c",
      "metadata": {
        "id": "623d223c",
        "outputId": "b8c36e02-e8fc-4e00-9b00-833c24cf47fe"
      },
      "outputs": [
        {
          "data": {
            "text/plain": [
              "array([[8, 2],\n",
              "       [1, 5]])"
            ]
          },
          "execution_count": 182,
          "metadata": {},
          "output_type": "execute_result"
        }
      ],
      "source": [
        "arr1[2:4, [1, 3]]"
      ]
    },
    {
      "cell_type": "code",
      "execution_count": null,
      "id": "15556875",
      "metadata": {
        "id": "15556875"
      },
      "outputs": [],
      "source": [
        "arr1 = np.random.randint(1, 3, (3,3))\n",
        "arr2 = np.random.randint(1, 3, (3,3))"
      ]
    },
    {
      "cell_type": "code",
      "execution_count": null,
      "id": "3843c982",
      "metadata": {
        "id": "3843c982",
        "outputId": "ffa388cf-4d92-456c-8c33-dbda698d6870"
      },
      "outputs": [
        {
          "data": {
            "text/plain": [
              "array([[1, 2, 2],\n",
              "       [2, 2, 1],\n",
              "       [2, 1, 1]])"
            ]
          },
          "execution_count": 184,
          "metadata": {},
          "output_type": "execute_result"
        }
      ],
      "source": [
        "arr1"
      ]
    },
    {
      "cell_type": "markdown",
      "id": "5078fe84",
      "metadata": {
        "id": "5078fe84"
      },
      "source": [
        "##"
      ]
    },
    {
      "cell_type": "code",
      "execution_count": null,
      "id": "41c381ed",
      "metadata": {
        "id": "41c381ed",
        "outputId": "e4dde890-e236-4bf7-9e6e-8a60875e0cb0"
      },
      "outputs": [
        {
          "data": {
            "text/plain": [
              "array([[2, 1, 1],\n",
              "       [1, 1, 1],\n",
              "       [2, 1, 2]])"
            ]
          },
          "execution_count": 185,
          "metadata": {},
          "output_type": "execute_result"
        }
      ],
      "source": [
        "arr2"
      ]
    },
    {
      "cell_type": "code",
      "execution_count": null,
      "id": "10b0c059",
      "metadata": {
        "id": "10b0c059",
        "outputId": "e316a987-6bd7-46ee-f753-0c93f0f3bba6"
      },
      "outputs": [
        {
          "data": {
            "text/plain": [
              "array([[3, 3, 3],\n",
              "       [3, 3, 2],\n",
              "       [4, 2, 3]])"
            ]
          },
          "execution_count": 186,
          "metadata": {},
          "output_type": "execute_result"
        }
      ],
      "source": [
        "arr1 + arr2"
      ]
    },
    {
      "cell_type": "code",
      "execution_count": null,
      "id": "2378ec63",
      "metadata": {
        "id": "2378ec63",
        "outputId": "7c4c98c7-629e-4700-9128-9f1d60415a84"
      },
      "outputs": [
        {
          "data": {
            "text/plain": [
              "array([[-1,  1,  1],\n",
              "       [ 1,  1,  0],\n",
              "       [ 0,  0, -1]])"
            ]
          },
          "execution_count": 187,
          "metadata": {},
          "output_type": "execute_result"
        }
      ],
      "source": [
        "arr1 - arr2"
      ]
    },
    {
      "cell_type": "code",
      "execution_count": null,
      "id": "e47ef821",
      "metadata": {
        "id": "e47ef821",
        "outputId": "5060a7f8-9fcd-4eaa-9d29-ce0d4b0e3527"
      },
      "outputs": [
        {
          "data": {
            "text/plain": [
              "array([[2, 2, 2],\n",
              "       [2, 2, 1],\n",
              "       [4, 1, 2]])"
            ]
          },
          "execution_count": 188,
          "metadata": {},
          "output_type": "execute_result"
        }
      ],
      "source": [
        "arr1 * arr2"
      ]
    },
    {
      "cell_type": "code",
      "execution_count": null,
      "id": "5deffbb2",
      "metadata": {
        "id": "5deffbb2",
        "outputId": "64575fe3-a7df-4733-c73f-79597cdd7e31"
      },
      "outputs": [
        {
          "data": {
            "text/plain": [
              "array([[1, 2, 2],\n",
              "       [2, 2, 1],\n",
              "       [2, 1, 1]])"
            ]
          },
          "execution_count": 189,
          "metadata": {},
          "output_type": "execute_result"
        }
      ],
      "source": [
        "#matrix multiplication\n",
        "\n",
        "\n",
        "arr1"
      ]
    },
    {
      "cell_type": "code",
      "execution_count": null,
      "id": "7c831294",
      "metadata": {
        "id": "7c831294",
        "outputId": "e9de5f5f-91cf-416e-f78c-b566ddf43fdb"
      },
      "outputs": [
        {
          "data": {
            "text/plain": [
              "array([[2, 1, 1],\n",
              "       [1, 1, 1],\n",
              "       [2, 1, 2]])"
            ]
          },
          "execution_count": 190,
          "metadata": {},
          "output_type": "execute_result"
        }
      ],
      "source": [
        "arr2"
      ]
    },
    {
      "cell_type": "code",
      "execution_count": null,
      "id": "c3c78008",
      "metadata": {
        "id": "c3c78008",
        "outputId": "a989f5ed-ac18-41de-b72d-d04086666ed9"
      },
      "outputs": [
        {
          "data": {
            "text/plain": [
              "array([[8, 5, 7],\n",
              "       [8, 5, 6],\n",
              "       [7, 4, 5]])"
            ]
          },
          "execution_count": 191,
          "metadata": {},
          "output_type": "execute_result"
        }
      ],
      "source": [
        "arr1 @ arr2"
      ]
    },
    {
      "cell_type": "code",
      "execution_count": null,
      "id": "c69beefc",
      "metadata": {
        "id": "c69beefc",
        "outputId": "49fc6cfb-f542-41be-f665-874e9590ae98"
      },
      "outputs": [
        {
          "data": {
            "text/plain": [
              "array([[1, 2, 2],\n",
              "       [2, 2, 1],\n",
              "       [2, 1, 1]])"
            ]
          },
          "execution_count": 192,
          "metadata": {},
          "output_type": "execute_result"
        }
      ],
      "source": [
        "arr1"
      ]
    },
    {
      "cell_type": "code",
      "execution_count": null,
      "id": "7a2660f8",
      "metadata": {
        "id": "7a2660f8",
        "outputId": "e6ba87b6-1d47-4cd0-9d56-19d79f364cb7"
      },
      "outputs": [
        {
          "data": {
            "text/plain": [
              "array([[2, 1, 1],\n",
              "       [1, 1, 1],\n",
              "       [2, 1, 2]])"
            ]
          },
          "execution_count": 193,
          "metadata": {},
          "output_type": "execute_result"
        }
      ],
      "source": [
        "arr2"
      ]
    },
    {
      "cell_type": "code",
      "execution_count": null,
      "id": "0d4823ce",
      "metadata": {
        "id": "0d4823ce",
        "outputId": "7e6d4b17-ad0f-4a55-8dba-3d6b336dff27"
      },
      "outputs": [
        {
          "data": {
            "text/plain": [
              "array([[0.5, 2. , 2. ],\n",
              "       [2. , 2. , 1. ],\n",
              "       [1. , 1. , 0.5]])"
            ]
          },
          "execution_count": 194,
          "metadata": {},
          "output_type": "execute_result"
        }
      ],
      "source": [
        "arr1 / arr2 #index wise divison"
      ]
    },
    {
      "cell_type": "code",
      "execution_count": null,
      "id": "d83ad767",
      "metadata": {
        "id": "d83ad767",
        "outputId": "e5843f44-34f5-495f-e1d8-f3a75023d1a3"
      },
      "outputs": [
        {
          "data": {
            "text/plain": [
              "array([[1, 2, 2],\n",
              "       [2, 2, 1],\n",
              "       [2, 1, 1]])"
            ]
          },
          "execution_count": 196,
          "metadata": {},
          "output_type": "execute_result"
        }
      ],
      "source": [
        "arr1"
      ]
    },
    {
      "cell_type": "code",
      "execution_count": null,
      "id": "f28fff19",
      "metadata": {
        "id": "f28fff19",
        "outputId": "8a8edb91-4cb7-4ba8-a458-0e2d7d31f98f"
      },
      "outputs": [
        {
          "name": "stderr",
          "output_type": "stream",
          "text": [
            "C:\\Users\\ajayk\\AppData\\Local\\Temp\\ipykernel_12284\\824215542.py:1: RuntimeWarning: divide by zero encountered in divide\n",
            "  arr1 / 0\n"
          ]
        },
        {
          "data": {
            "text/plain": [
              "array([[inf, inf, inf],\n",
              "       [inf, inf, inf],\n",
              "       [inf, inf, inf]])"
            ]
          },
          "execution_count": 197,
          "metadata": {},
          "output_type": "execute_result"
        }
      ],
      "source": [
        "arr1 / 0"
      ]
    },
    {
      "cell_type": "code",
      "execution_count": null,
      "id": "b5ded093",
      "metadata": {
        "id": "b5ded093"
      },
      "outputs": [],
      "source": [
        "#Broad casting"
      ]
    },
    {
      "cell_type": "code",
      "execution_count": null,
      "id": "b0e00c9a",
      "metadata": {
        "id": "b0e00c9a"
      },
      "outputs": [],
      "source": [
        "arr = np.zeros((3, 4))"
      ]
    },
    {
      "cell_type": "code",
      "execution_count": null,
      "id": "55b7bd96",
      "metadata": {
        "id": "55b7bd96",
        "outputId": "44c89eac-18f2-430a-e9cc-4ca9d0148c7e"
      },
      "outputs": [
        {
          "data": {
            "text/plain": [
              "array([[0., 0., 0., 0.],\n",
              "       [0., 0., 0., 0.],\n",
              "       [0., 0., 0., 0.]])"
            ]
          },
          "execution_count": 199,
          "metadata": {},
          "output_type": "execute_result"
        }
      ],
      "source": [
        "arr"
      ]
    },
    {
      "cell_type": "code",
      "execution_count": null,
      "id": "47898885",
      "metadata": {
        "id": "47898885",
        "outputId": "6a0ed9eb-5636-401c-b8b9-070a5858e8ab"
      },
      "outputs": [
        {
          "data": {
            "text/plain": [
              "array([[5., 5., 5., 5.],\n",
              "       [5., 5., 5., 5.],\n",
              "       [5., 5., 5., 5.]])"
            ]
          },
          "execution_count": 200,
          "metadata": {},
          "output_type": "execute_result"
        }
      ],
      "source": [
        "arr + 5"
      ]
    },
    {
      "cell_type": "code",
      "execution_count": null,
      "id": "3e50be88",
      "metadata": {
        "id": "3e50be88",
        "outputId": "f9560825-6d46-45c2-c1b9-cf20118880f0"
      },
      "outputs": [
        {
          "data": {
            "text/plain": [
              "array([[0., 0., 0., 0.],\n",
              "       [0., 0., 0., 0.],\n",
              "       [0., 0., 0., 0.]])"
            ]
          },
          "execution_count": 253,
          "metadata": {},
          "output_type": "execute_result"
        }
      ],
      "source": [
        "arr"
      ]
    },
    {
      "cell_type": "code",
      "execution_count": null,
      "id": "c978f4d8",
      "metadata": {
        "id": "c978f4d8"
      },
      "outputs": [],
      "source": [
        "a = np.array([1, 2, 3, 4])"
      ]
    },
    {
      "cell_type": "code",
      "execution_count": null,
      "id": "3169f1ae",
      "metadata": {
        "id": "3169f1ae",
        "outputId": "6dced06c-8376-422f-d8d3-c0e3c1daf147"
      },
      "outputs": [
        {
          "data": {
            "text/plain": [
              "(4,)"
            ]
          },
          "execution_count": 255,
          "metadata": {},
          "output_type": "execute_result"
        }
      ],
      "source": [
        "a.shape"
      ]
    },
    {
      "cell_type": "code",
      "execution_count": null,
      "id": "55b0c659",
      "metadata": {
        "id": "55b0c659",
        "outputId": "210e5bdb-44c1-42cf-b52d-46adf56036ea"
      },
      "outputs": [
        {
          "data": {
            "text/plain": [
              "array([1, 2, 3, 4])"
            ]
          },
          "execution_count": 256,
          "metadata": {},
          "output_type": "execute_result"
        }
      ],
      "source": [
        "a"
      ]
    },
    {
      "cell_type": "code",
      "execution_count": null,
      "id": "0299ce78",
      "metadata": {
        "id": "0299ce78",
        "outputId": "bf2c4976-2c03-4c5d-90b2-dacd5bf4423e"
      },
      "outputs": [
        {
          "data": {
            "text/plain": [
              "array([[1., 2., 3., 4.],\n",
              "       [1., 2., 3., 4.],\n",
              "       [1., 2., 3., 4.]])"
            ]
          },
          "execution_count": 204,
          "metadata": {},
          "output_type": "execute_result"
        }
      ],
      "source": [
        "arr + a"
      ]
    },
    {
      "cell_type": "code",
      "execution_count": null,
      "id": "034c58d9",
      "metadata": {
        "id": "034c58d9",
        "outputId": "c26087e3-387a-427b-cf2c-cb2186fc60ad"
      },
      "outputs": [
        {
          "data": {
            "text/plain": [
              "array([[0., 0., 0., 0.],\n",
              "       [0., 0., 0., 0.],\n",
              "       [0., 0., 0., 0.]])"
            ]
          },
          "execution_count": 207,
          "metadata": {},
          "output_type": "execute_result"
        }
      ],
      "source": [
        "arr"
      ]
    },
    {
      "cell_type": "code",
      "execution_count": null,
      "id": "5a2fe461",
      "metadata": {
        "id": "5a2fe461",
        "outputId": "ec37a723-18c9-45d3-eb6c-89fff7d7f6c9"
      },
      "outputs": [
        {
          "data": {
            "text/plain": [
              "array([1, 2, 3])"
            ]
          },
          "execution_count": 208,
          "metadata": {},
          "output_type": "execute_result"
        }
      ],
      "source": [
        "a"
      ]
    },
    {
      "cell_type": "code",
      "execution_count": null,
      "id": "a2c96ff1",
      "metadata": {
        "id": "a2c96ff1"
      },
      "outputs": [],
      "source": [
        "a = np.array([1, 2, 3])"
      ]
    },
    {
      "cell_type": "code",
      "execution_count": null,
      "id": "718a6a3a",
      "metadata": {
        "id": "718a6a3a"
      },
      "outputs": [],
      "source": [
        "a = np.array([[1, 2, 3]])"
      ]
    },
    {
      "cell_type": "code",
      "execution_count": null,
      "id": "200aab46",
      "metadata": {
        "id": "200aab46",
        "outputId": "f5582021-fdc9-462d-867b-f7f2125b368f"
      },
      "outputs": [
        {
          "data": {
            "text/plain": [
              "array([[1],\n",
              "       [2],\n",
              "       [3]])"
            ]
          },
          "execution_count": 212,
          "metadata": {},
          "output_type": "execute_result"
        }
      ],
      "source": [
        "a.T"
      ]
    },
    {
      "cell_type": "code",
      "execution_count": null,
      "id": "f2be4d51",
      "metadata": {
        "id": "f2be4d51",
        "outputId": "6d53792e-9010-4851-fb52-b1dc37dc6170"
      },
      "outputs": [
        {
          "data": {
            "text/plain": [
              "array([[0., 0., 0., 0.],\n",
              "       [0., 0., 0., 0.],\n",
              "       [0., 0., 0., 0.]])"
            ]
          },
          "execution_count": 214,
          "metadata": {},
          "output_type": "execute_result"
        }
      ],
      "source": [
        "arr"
      ]
    },
    {
      "cell_type": "code",
      "execution_count": null,
      "id": "c1d91aa4",
      "metadata": {
        "id": "c1d91aa4",
        "outputId": "73c055fd-76cb-4bad-b4c8-988a52f9bc07"
      },
      "outputs": [
        {
          "data": {
            "text/plain": [
              "array([[1, 2, 3]])"
            ]
          },
          "execution_count": 215,
          "metadata": {},
          "output_type": "execute_result"
        }
      ],
      "source": [
        "a"
      ]
    },
    {
      "cell_type": "code",
      "execution_count": null,
      "id": "81197e9e",
      "metadata": {
        "id": "81197e9e",
        "outputId": "2d8c37c6-1824-4ea5-a2ab-efd4bc153213"
      },
      "outputs": [
        {
          "data": {
            "text/plain": [
              "array([[1., 1., 1., 1.],\n",
              "       [2., 2., 2., 2.],\n",
              "       [3., 3., 3., 3.]])"
            ]
          },
          "execution_count": 216,
          "metadata": {},
          "output_type": "execute_result"
        }
      ],
      "source": [
        "arr + a.T"
      ]
    },
    {
      "cell_type": "code",
      "execution_count": null,
      "id": "53c8e788",
      "metadata": {
        "id": "53c8e788",
        "outputId": "bc39f00a-72bb-4f19-c1ad-1182ac138b6c"
      },
      "outputs": [
        {
          "data": {
            "text/plain": [
              "array([[1],\n",
              "       [2],\n",
              "       [3]])"
            ]
          },
          "execution_count": 217,
          "metadata": {},
          "output_type": "execute_result"
        }
      ],
      "source": [
        "a.T"
      ]
    },
    {
      "cell_type": "code",
      "execution_count": null,
      "id": "86439d80",
      "metadata": {
        "id": "86439d80",
        "outputId": "357f966d-015e-468d-8b8b-f5adecfe4c5a"
      },
      "outputs": [
        {
          "data": {
            "text/plain": [
              "array([1, 2, 3])"
            ]
          },
          "execution_count": 218,
          "metadata": {},
          "output_type": "execute_result"
        }
      ],
      "source": [
        "a = np.array([1, 2, 3])\n",
        "a.T"
      ]
    },
    {
      "cell_type": "code",
      "execution_count": null,
      "id": "9a3d6d14",
      "metadata": {
        "id": "9a3d6d14",
        "outputId": "58a912a5-5dc2-4cea-e440-e96061f89c1e"
      },
      "outputs": [
        {
          "data": {
            "text/plain": [
              "array([[1, 2, 2],\n",
              "       [2, 2, 1],\n",
              "       [2, 1, 1]])"
            ]
          },
          "execution_count": 219,
          "metadata": {},
          "output_type": "execute_result"
        }
      ],
      "source": [
        "arr1"
      ]
    },
    {
      "cell_type": "code",
      "execution_count": null,
      "id": "82b980a2",
      "metadata": {
        "id": "82b980a2",
        "outputId": "53fe8e01-42c8-402b-d1c3-2e40559e3c5c"
      },
      "outputs": [
        {
          "data": {
            "text/plain": [
              "array([[1.        , 1.41421356, 1.41421356],\n",
              "       [1.41421356, 1.41421356, 1.        ],\n",
              "       [1.41421356, 1.        , 1.        ]])"
            ]
          },
          "execution_count": 220,
          "metadata": {},
          "output_type": "execute_result"
        }
      ],
      "source": [
        "np.sqrt(arr1)"
      ]
    },
    {
      "cell_type": "code",
      "execution_count": null,
      "id": "7dd0a1a0",
      "metadata": {
        "id": "7dd0a1a0",
        "outputId": "d51d1138-1ae8-49be-e27c-5dd5e186a3de"
      },
      "outputs": [
        {
          "data": {
            "text/plain": [
              "array([[0.     , 0.30103, 0.30103],\n",
              "       [0.30103, 0.30103, 0.     ],\n",
              "       [0.30103, 0.     , 0.     ]])"
            ]
          },
          "execution_count": 221,
          "metadata": {},
          "output_type": "execute_result"
        }
      ],
      "source": [
        "np.log10(arr1)"
      ]
    },
    {
      "cell_type": "code",
      "execution_count": null,
      "id": "6aa90ca6",
      "metadata": {
        "id": "6aa90ca6",
        "outputId": "f2878b9c-e523-4c48-8ddb-fb6bc5a7c784"
      },
      "outputs": [
        {
          "data": {
            "text/plain": [
              "array([[2.71828183, 7.3890561 , 7.3890561 ],\n",
              "       [7.3890561 , 7.3890561 , 2.71828183],\n",
              "       [7.3890561 , 2.71828183, 2.71828183]])"
            ]
          },
          "execution_count": 222,
          "metadata": {},
          "output_type": "execute_result"
        }
      ],
      "source": [
        "np.exp(arr1)"
      ]
    },
    {
      "cell_type": "code",
      "execution_count": null,
      "id": "0f87492c",
      "metadata": {
        "id": "0f87492c",
        "outputId": "4faaa2af-cfc7-44bd-da22-9c631d217a0c"
      },
      "outputs": [
        {
          "data": {
            "text/plain": [
              "array([1, 2, 3])"
            ]
          },
          "execution_count": 225,
          "metadata": {},
          "output_type": "execute_result"
        }
      ],
      "source": [
        "a"
      ]
    },
    {
      "cell_type": "code",
      "execution_count": null,
      "id": "854f7be9",
      "metadata": {
        "id": "854f7be9",
        "outputId": "3295d35c-e436-43b1-8b22-f0beb72e2a6c"
      },
      "outputs": [
        {
          "data": {
            "text/plain": [
              "1"
            ]
          },
          "execution_count": 224,
          "metadata": {},
          "output_type": "execute_result"
        }
      ],
      "source": [
        "np.min(a)"
      ]
    },
    {
      "cell_type": "code",
      "execution_count": null,
      "id": "a6029775",
      "metadata": {
        "id": "a6029775",
        "outputId": "19989cbb-d066-42dd-bb51-18a0afbe33d7"
      },
      "outputs": [
        {
          "data": {
            "text/plain": [
              "array([[1, 2, 2],\n",
              "       [2, 2, 1],\n",
              "       [2, 1, 1]])"
            ]
          },
          "execution_count": 226,
          "metadata": {},
          "output_type": "execute_result"
        }
      ],
      "source": [
        "arr1"
      ]
    },
    {
      "cell_type": "code",
      "execution_count": null,
      "id": "1f91f13b",
      "metadata": {
        "id": "1f91f13b",
        "outputId": "9abc2811-ca42-403a-feaa-d89977e6999e"
      },
      "outputs": [
        {
          "data": {
            "text/plain": [
              "1"
            ]
          },
          "execution_count": 227,
          "metadata": {},
          "output_type": "execute_result"
        }
      ],
      "source": [
        "np.min(arr1)"
      ]
    },
    {
      "cell_type": "code",
      "execution_count": null,
      "id": "87265817",
      "metadata": {
        "id": "87265817",
        "outputId": "3eece470-7eb4-4091-e2f5-379773f035b4"
      },
      "outputs": [
        {
          "data": {
            "text/plain": [
              "2"
            ]
          },
          "execution_count": 228,
          "metadata": {},
          "output_type": "execute_result"
        }
      ],
      "source": [
        "np.max(arr1)"
      ]
    },
    {
      "cell_type": "code",
      "execution_count": null,
      "id": "41e1309e",
      "metadata": {
        "id": "41e1309e",
        "outputId": "9915ad3b-deef-4a2a-b3ea-4bb71ac65ed2"
      },
      "outputs": [
        {
          "data": {
            "text/plain": [
              "array([[1, 2, 2],\n",
              "       [2, 2, 1],\n",
              "       [2, 1, 1]])"
            ]
          },
          "execution_count": 229,
          "metadata": {},
          "output_type": "execute_result"
        }
      ],
      "source": [
        "arr1"
      ]
    },
    {
      "cell_type": "code",
      "execution_count": null,
      "id": "f63f6a3b",
      "metadata": {
        "id": "f63f6a3b",
        "outputId": "9ff2cc1e-fc08-47c8-af2d-42521f263944"
      },
      "outputs": [
        {
          "data": {
            "text/plain": [
              "array([[1, 2, 2],\n",
              "       [2, 2, 1],\n",
              "       [2, 1, 1]])"
            ]
          },
          "execution_count": 230,
          "metadata": {},
          "output_type": "execute_result"
        }
      ],
      "source": [
        "arr1.T"
      ]
    },
    {
      "cell_type": "code",
      "execution_count": null,
      "id": "e2a97e60",
      "metadata": {
        "id": "e2a97e60",
        "outputId": "e7131d91-0d26-478e-8bd7-d23434738966"
      },
      "outputs": [
        {
          "data": {
            "text/plain": [
              "array([1, 2, 2, 2, 2, 1, 2, 1, 1])"
            ]
          },
          "execution_count": 231,
          "metadata": {},
          "output_type": "execute_result"
        }
      ],
      "source": [
        "arr1.flatten() #reduce higher dimension to 1 d"
      ]
    },
    {
      "cell_type": "code",
      "execution_count": null,
      "id": "2fa0bd02",
      "metadata": {
        "id": "2fa0bd02"
      },
      "outputs": [],
      "source": [
        "#expand_dims >>  expands the array by inserting a new axis"
      ]
    },
    {
      "cell_type": "code",
      "execution_count": null,
      "id": "48a65036",
      "metadata": {
        "id": "48a65036"
      },
      "outputs": [],
      "source": [
        "arr = np.array([[1, 2, 3], [4, 5, 6], [1, 2, 3]])"
      ]
    },
    {
      "cell_type": "code",
      "execution_count": null,
      "id": "d68d5563",
      "metadata": {
        "id": "d68d5563",
        "outputId": "b7346ffb-a09f-4863-f691-de6f019239f6"
      },
      "outputs": [
        {
          "data": {
            "text/plain": [
              "array([[1, 2, 3],\n",
              "       [4, 5, 6],\n",
              "       [1, 2, 3]])"
            ]
          },
          "execution_count": 236,
          "metadata": {},
          "output_type": "execute_result"
        }
      ],
      "source": [
        "arr"
      ]
    },
    {
      "cell_type": "code",
      "execution_count": null,
      "id": "e13ccc5e",
      "metadata": {
        "id": "e13ccc5e",
        "outputId": "1b79f699-07a3-4b75-d424-28683a709435"
      },
      "outputs": [
        {
          "data": {
            "text/plain": [
              "27"
            ]
          },
          "execution_count": 237,
          "metadata": {},
          "output_type": "execute_result"
        }
      ],
      "source": [
        "np.sum(arr)"
      ]
    },
    {
      "cell_type": "code",
      "execution_count": null,
      "id": "f19cc723",
      "metadata": {
        "id": "f19cc723",
        "outputId": "b17d0cc9-de65-46fe-cfef-7ed77b04bb5e"
      },
      "outputs": [
        {
          "data": {
            "text/plain": [
              "array([ 6,  9, 12])"
            ]
          },
          "execution_count": 238,
          "metadata": {},
          "output_type": "execute_result"
        }
      ],
      "source": [
        "np.sum(arr, axis = 0)"
      ]
    },
    {
      "cell_type": "code",
      "execution_count": null,
      "id": "0bccd187",
      "metadata": {
        "id": "0bccd187",
        "outputId": "bf600b13-a03c-416a-e41d-1ce7ec139e9a"
      },
      "outputs": [
        {
          "data": {
            "text/plain": [
              "array([ 6, 15,  6])"
            ]
          },
          "execution_count": 239,
          "metadata": {},
          "output_type": "execute_result"
        }
      ],
      "source": [
        "np.sum(arr, axis = 1)"
      ]
    },
    {
      "cell_type": "code",
      "execution_count": null,
      "id": "cb8dd6cc",
      "metadata": {
        "id": "cb8dd6cc",
        "outputId": "e8d68cda-9e8e-45c2-dff4-8f6598993e9b"
      },
      "outputs": [
        {
          "data": {
            "text/plain": [
              "array([1, 2, 3, 4])"
            ]
          },
          "execution_count": 240,
          "metadata": {},
          "output_type": "execute_result"
        }
      ],
      "source": [
        "#expand_dims >>expand the dimension of array\n",
        "arr = np.array([1, 2, 3, 4])\n",
        "arr"
      ]
    },
    {
      "cell_type": "code",
      "execution_count": null,
      "id": "8dac2abb",
      "metadata": {
        "id": "8dac2abb",
        "outputId": "1c996e59-5647-48c4-b085-859567ac8bcb"
      },
      "outputs": [
        {
          "data": {
            "text/plain": [
              "1"
            ]
          },
          "execution_count": 241,
          "metadata": {},
          "output_type": "execute_result"
        }
      ],
      "source": [
        "arr.ndim"
      ]
    },
    {
      "cell_type": "code",
      "execution_count": null,
      "id": "d2c32faa",
      "metadata": {
        "id": "d2c32faa",
        "outputId": "3dcc9ee6-86e5-4974-e95f-52cb0832acd8"
      },
      "outputs": [
        {
          "data": {
            "text/plain": [
              "array([[1, 2, 3, 4]])"
            ]
          },
          "execution_count": 242,
          "metadata": {},
          "output_type": "execute_result"
        }
      ],
      "source": [
        "arr1 = np.expand_dims(arr, axis = 0)\n",
        "arr1"
      ]
    },
    {
      "cell_type": "code",
      "execution_count": null,
      "id": "16c72f70",
      "metadata": {
        "id": "16c72f70",
        "outputId": "662921f4-2f2a-42b1-b133-6618f079caac"
      },
      "outputs": [
        {
          "data": {
            "text/plain": [
              "2"
            ]
          },
          "execution_count": 243,
          "metadata": {},
          "output_type": "execute_result"
        }
      ],
      "source": [
        "arr1.ndim"
      ]
    },
    {
      "cell_type": "code",
      "execution_count": null,
      "id": "aee06f68",
      "metadata": {
        "id": "aee06f68",
        "outputId": "634bb77e-9f33-4a0c-8f9f-aa254c69a4bb"
      },
      "outputs": [
        {
          "data": {
            "text/plain": [
              "array([[[1, 2, 3, 4]]])"
            ]
          },
          "execution_count": 244,
          "metadata": {},
          "output_type": "execute_result"
        }
      ],
      "source": [
        "arr2 = np.expand_dims(arr1, axis = 0)\n",
        "arr2"
      ]
    },
    {
      "cell_type": "code",
      "execution_count": null,
      "id": "6b0d0564",
      "metadata": {
        "id": "6b0d0564",
        "outputId": "d730dac8-6e23-4ac4-b2e8-1fe371b7da62"
      },
      "outputs": [
        {
          "data": {
            "text/plain": [
              "(1, 1, 4)"
            ]
          },
          "execution_count": 245,
          "metadata": {},
          "output_type": "execute_result"
        }
      ],
      "source": [
        "arr2.shape"
      ]
    },
    {
      "cell_type": "code",
      "execution_count": null,
      "id": "0e2c334a",
      "metadata": {
        "id": "0e2c334a",
        "outputId": "9674ac60-1498-45c6-915a-6c4ec357a12b"
      },
      "outputs": [
        {
          "data": {
            "text/plain": [
              "array([1, 2, 3, 4])"
            ]
          },
          "execution_count": 246,
          "metadata": {},
          "output_type": "execute_result"
        }
      ],
      "source": [
        "arr"
      ]
    },
    {
      "cell_type": "code",
      "execution_count": null,
      "id": "776f2f79",
      "metadata": {
        "id": "776f2f79",
        "outputId": "59fb734c-be78-44ad-a17f-7b442ae3d686"
      },
      "outputs": [
        {
          "data": {
            "text/plain": [
              "array([[1],\n",
              "       [2],\n",
              "       [3],\n",
              "       [4]])"
            ]
          },
          "execution_count": 247,
          "metadata": {},
          "output_type": "execute_result"
        }
      ],
      "source": [
        "arr1 = np.expand_dims(arr, axis = 1)\n",
        "arr1"
      ]
    },
    {
      "cell_type": "code",
      "execution_count": null,
      "id": "5355ca8f",
      "metadata": {
        "id": "5355ca8f"
      },
      "outputs": [],
      "source": [
        "arr = np.zeros((3, 4))"
      ]
    },
    {
      "cell_type": "code",
      "execution_count": null,
      "id": "94077756",
      "metadata": {
        "id": "94077756",
        "outputId": "0e59f2e1-1ec3-4634-8831-a1fc0493245d"
      },
      "outputs": [
        {
          "data": {
            "text/plain": [
              "array([[0., 0., 0., 0.],\n",
              "       [0., 0., 0., 0.],\n",
              "       [0., 0., 0., 0.]])"
            ]
          },
          "execution_count": 249,
          "metadata": {},
          "output_type": "execute_result"
        }
      ],
      "source": [
        "arr"
      ]
    },
    {
      "cell_type": "code",
      "execution_count": null,
      "id": "3d3e77d7",
      "metadata": {
        "id": "3d3e77d7",
        "outputId": "c69ad0bc-480c-4bc2-9041-32fa951b6888"
      },
      "outputs": [
        {
          "data": {
            "text/plain": [
              "array([[[0., 0., 0., 0.]],\n",
              "\n",
              "       [[0., 0., 0., 0.]],\n",
              "\n",
              "       [[0., 0., 0., 0.]]])"
            ]
          },
          "execution_count": 251,
          "metadata": {},
          "output_type": "execute_result"
        }
      ],
      "source": [
        "arr1 = np.expand_dims(arr, axis = 1)\n",
        "arr1"
      ]
    },
    {
      "cell_type": "code",
      "execution_count": null,
      "id": "5b28036c",
      "metadata": {
        "id": "5b28036c",
        "outputId": "619c9a9b-1b2f-477c-f69e-969b4629cfd5"
      },
      "outputs": [
        {
          "data": {
            "text/plain": [
              "array([[[0., 0., 0., 0.],\n",
              "        [0., 0., 0., 0.],\n",
              "        [0., 0., 0., 0.]]])"
            ]
          },
          "execution_count": 252,
          "metadata": {},
          "output_type": "execute_result"
        }
      ],
      "source": [
        "arr1 = np.expand_dims(arr, axis = 0)\n",
        "arr1"
      ]
    },
    {
      "cell_type": "code",
      "execution_count": null,
      "id": "f7f66d49",
      "metadata": {
        "id": "f7f66d49"
      },
      "outputs": [],
      "source": []
    }
  ],
  "metadata": {
    "kernelspec": {
      "display_name": "Python 3 (ipykernel)",
      "language": "python",
      "name": "python3"
    },
    "language_info": {
      "codemirror_mode": {
        "name": "ipython",
        "version": 3
      },
      "file_extension": ".py",
      "mimetype": "text/x-python",
      "name": "python",
      "nbconvert_exporter": "python",
      "pygments_lexer": "ipython3",
      "version": "3.11.4"
    },
    "colab": {
      "provenance": []
    }
  },
  "nbformat": 4,
  "nbformat_minor": 5
}