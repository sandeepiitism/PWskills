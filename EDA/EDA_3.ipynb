{
 "cells": [
  {
   "cell_type": "markdown",
   "id": "abe2cfaa",
   "metadata": {},
   "source": [
    "# EDA_3\n",
    "18/Feb/2024"
   ]
  },
  {
   "cell_type": "markdown",
   "id": "aeb0cbe4",
   "metadata": {},
   "source": [
    "### US Visa dataset"
   ]
  },
  {
   "cell_type": "code",
   "execution_count": 1,
   "id": "2c12c66d",
   "metadata": {},
   "outputs": [],
   "source": [
    "import pandas as pd\n",
    "import numpy as np\n",
    "import matplotlib.pyplot as plt\n",
    "import seaborn as sns\n",
    "import plotly.express as px\n",
    "\n",
    "import warnings\n",
    "warnings.filterwarnings('ignore')\n",
    "\n",
    "plt.style.use(\"fivethirtyeight\")\n",
    "# %matplotlib incline\n",
    "\n",
    "pd.set_option('display.max_columns', 30)"
   ]
  },
  {
   "cell_type": "code",
   "execution_count": 2,
   "id": "971bcc5a",
   "metadata": {},
   "outputs": [
    {
     "data": {
      "text/html": [
       "<div>\n",
       "<style scoped>\n",
       "    .dataframe tbody tr th:only-of-type {\n",
       "        vertical-align: middle;\n",
       "    }\n",
       "\n",
       "    .dataframe tbody tr th {\n",
       "        vertical-align: top;\n",
       "    }\n",
       "\n",
       "    .dataframe thead th {\n",
       "        text-align: right;\n",
       "    }\n",
       "</style>\n",
       "<table border=\"1\" class=\"dataframe\">\n",
       "  <thead>\n",
       "    <tr style=\"text-align: right;\">\n",
       "      <th></th>\n",
       "      <th>add_these_pw_job_title_9089</th>\n",
       "      <th>agent_city</th>\n",
       "      <th>agent_firm_name</th>\n",
       "      <th>agent_state</th>\n",
       "      <th>application_type</th>\n",
       "      <th>case_no</th>\n",
       "      <th>case_number</th>\n",
       "      <th>case_received_date</th>\n",
       "      <th>case_status</th>\n",
       "      <th>class_of_admission</th>\n",
       "      <th>country_of_citizenship</th>\n",
       "      <th>country_of_citzenship</th>\n",
       "      <th>decision_date</th>\n",
       "      <th>employer_address_1</th>\n",
       "      <th>employer_address_2</th>\n",
       "      <th>...</th>\n",
       "      <th>ri_layoff_in_past_six_months</th>\n",
       "      <th>ri_local_ethnic_paper_from</th>\n",
       "      <th>ri_local_ethnic_paper_to</th>\n",
       "      <th>ri_posted_notice_at_worksite</th>\n",
       "      <th>ri_pvt_employment_firm_from</th>\n",
       "      <th>ri_pvt_employment_firm_to</th>\n",
       "      <th>ri_us_workers_considered</th>\n",
       "      <th>schd_a_sheepherder</th>\n",
       "      <th>us_economic_sector</th>\n",
       "      <th>wage_offer_from_9089</th>\n",
       "      <th>wage_offer_to_9089</th>\n",
       "      <th>wage_offer_unit_of_pay_9089</th>\n",
       "      <th>wage_offered_from_9089</th>\n",
       "      <th>wage_offered_to_9089</th>\n",
       "      <th>wage_offered_unit_of_pay_9089</th>\n",
       "    </tr>\n",
       "  </thead>\n",
       "  <tbody>\n",
       "    <tr>\n",
       "      <th>0</th>\n",
       "      <td>NaN</td>\n",
       "      <td>NaN</td>\n",
       "      <td>NaN</td>\n",
       "      <td>NaN</td>\n",
       "      <td>PERM</td>\n",
       "      <td>A-07323-97014</td>\n",
       "      <td>NaN</td>\n",
       "      <td>NaN</td>\n",
       "      <td>Certified</td>\n",
       "      <td>J-1</td>\n",
       "      <td>NaN</td>\n",
       "      <td>ARMENIA</td>\n",
       "      <td>2012-02-01</td>\n",
       "      <td>24 WEST 25 STREET</td>\n",
       "      <td>5TH FLOOR</td>\n",
       "      <td>...</td>\n",
       "      <td>NaN</td>\n",
       "      <td>NaN</td>\n",
       "      <td>NaN</td>\n",
       "      <td>NaN</td>\n",
       "      <td>NaN</td>\n",
       "      <td>NaN</td>\n",
       "      <td>NaN</td>\n",
       "      <td>NaN</td>\n",
       "      <td>IT</td>\n",
       "      <td>75629.0</td>\n",
       "      <td>NaN</td>\n",
       "      <td>yr</td>\n",
       "      <td>NaN</td>\n",
       "      <td>NaN</td>\n",
       "      <td>NaN</td>\n",
       "    </tr>\n",
       "    <tr>\n",
       "      <th>1</th>\n",
       "      <td>NaN</td>\n",
       "      <td>NaN</td>\n",
       "      <td>NaN</td>\n",
       "      <td>NaN</td>\n",
       "      <td>PERM</td>\n",
       "      <td>A-07332-99439</td>\n",
       "      <td>NaN</td>\n",
       "      <td>NaN</td>\n",
       "      <td>Denied</td>\n",
       "      <td>B-2</td>\n",
       "      <td>NaN</td>\n",
       "      <td>POLAND</td>\n",
       "      <td>2011-12-21</td>\n",
       "      <td>200 BROAD STREET</td>\n",
       "      <td>NaN</td>\n",
       "      <td>...</td>\n",
       "      <td>NaN</td>\n",
       "      <td>NaN</td>\n",
       "      <td>NaN</td>\n",
       "      <td>NaN</td>\n",
       "      <td>NaN</td>\n",
       "      <td>NaN</td>\n",
       "      <td>NaN</td>\n",
       "      <td>NaN</td>\n",
       "      <td>Other Economic Sector</td>\n",
       "      <td>37024.0</td>\n",
       "      <td>NaN</td>\n",
       "      <td>yr</td>\n",
       "      <td>NaN</td>\n",
       "      <td>NaN</td>\n",
       "      <td>NaN</td>\n",
       "    </tr>\n",
       "    <tr>\n",
       "      <th>2</th>\n",
       "      <td>NaN</td>\n",
       "      <td>NaN</td>\n",
       "      <td>NaN</td>\n",
       "      <td>NaN</td>\n",
       "      <td>PERM</td>\n",
       "      <td>A-07333-99643</td>\n",
       "      <td>NaN</td>\n",
       "      <td>NaN</td>\n",
       "      <td>Certified</td>\n",
       "      <td>H-1B</td>\n",
       "      <td>NaN</td>\n",
       "      <td>INDIA</td>\n",
       "      <td>2011-12-01</td>\n",
       "      <td>1054 TECHNOLOGY PARK DRIVE</td>\n",
       "      <td>NaN</td>\n",
       "      <td>...</td>\n",
       "      <td>NaN</td>\n",
       "      <td>NaN</td>\n",
       "      <td>NaN</td>\n",
       "      <td>NaN</td>\n",
       "      <td>NaN</td>\n",
       "      <td>NaN</td>\n",
       "      <td>NaN</td>\n",
       "      <td>NaN</td>\n",
       "      <td>Aerospace</td>\n",
       "      <td>47923.0</td>\n",
       "      <td>NaN</td>\n",
       "      <td>yr</td>\n",
       "      <td>NaN</td>\n",
       "      <td>NaN</td>\n",
       "      <td>NaN</td>\n",
       "    </tr>\n",
       "    <tr>\n",
       "      <th>3</th>\n",
       "      <td>NaN</td>\n",
       "      <td>NaN</td>\n",
       "      <td>NaN</td>\n",
       "      <td>NaN</td>\n",
       "      <td>PERM</td>\n",
       "      <td>A-07339-01930</td>\n",
       "      <td>NaN</td>\n",
       "      <td>NaN</td>\n",
       "      <td>Certified</td>\n",
       "      <td>B-2</td>\n",
       "      <td>NaN</td>\n",
       "      <td>SOUTH KOREA</td>\n",
       "      <td>2011-12-01</td>\n",
       "      <td>33-17 PRINCE ST. 2ND FL</td>\n",
       "      <td>NaN</td>\n",
       "      <td>...</td>\n",
       "      <td>NaN</td>\n",
       "      <td>NaN</td>\n",
       "      <td>NaN</td>\n",
       "      <td>NaN</td>\n",
       "      <td>NaN</td>\n",
       "      <td>NaN</td>\n",
       "      <td>NaN</td>\n",
       "      <td>NaN</td>\n",
       "      <td>Other Economic Sector</td>\n",
       "      <td>10.97</td>\n",
       "      <td>NaN</td>\n",
       "      <td>hr</td>\n",
       "      <td>NaN</td>\n",
       "      <td>NaN</td>\n",
       "      <td>NaN</td>\n",
       "    </tr>\n",
       "    <tr>\n",
       "      <th>4</th>\n",
       "      <td>NaN</td>\n",
       "      <td>NaN</td>\n",
       "      <td>NaN</td>\n",
       "      <td>NaN</td>\n",
       "      <td>PERM</td>\n",
       "      <td>A-07345-03565</td>\n",
       "      <td>NaN</td>\n",
       "      <td>NaN</td>\n",
       "      <td>Certified</td>\n",
       "      <td>L-1</td>\n",
       "      <td>NaN</td>\n",
       "      <td>CANADA</td>\n",
       "      <td>2012-01-26</td>\n",
       "      <td>1373 BROADWAY</td>\n",
       "      <td>NaN</td>\n",
       "      <td>...</td>\n",
       "      <td>NaN</td>\n",
       "      <td>NaN</td>\n",
       "      <td>NaN</td>\n",
       "      <td>NaN</td>\n",
       "      <td>NaN</td>\n",
       "      <td>NaN</td>\n",
       "      <td>NaN</td>\n",
       "      <td>NaN</td>\n",
       "      <td>Advanced Mfg</td>\n",
       "      <td>100000.0</td>\n",
       "      <td>NaN</td>\n",
       "      <td>yr</td>\n",
       "      <td>NaN</td>\n",
       "      <td>NaN</td>\n",
       "      <td>NaN</td>\n",
       "    </tr>\n",
       "  </tbody>\n",
       "</table>\n",
       "<p>5 rows × 154 columns</p>\n",
       "</div>"
      ],
      "text/plain": [
       "  add_these_pw_job_title_9089 agent_city agent_firm_name agent_state  \\\n",
       "0                         NaN        NaN             NaN         NaN   \n",
       "1                         NaN        NaN             NaN         NaN   \n",
       "2                         NaN        NaN             NaN         NaN   \n",
       "3                         NaN        NaN             NaN         NaN   \n",
       "4                         NaN        NaN             NaN         NaN   \n",
       "\n",
       "  application_type        case_no case_number case_received_date case_status  \\\n",
       "0             PERM  A-07323-97014         NaN                NaN   Certified   \n",
       "1             PERM  A-07332-99439         NaN                NaN      Denied   \n",
       "2             PERM  A-07333-99643         NaN                NaN   Certified   \n",
       "3             PERM  A-07339-01930         NaN                NaN   Certified   \n",
       "4             PERM  A-07345-03565         NaN                NaN   Certified   \n",
       "\n",
       "  class_of_admission country_of_citizenship country_of_citzenship  \\\n",
       "0                J-1                    NaN               ARMENIA   \n",
       "1                B-2                    NaN                POLAND   \n",
       "2               H-1B                    NaN                 INDIA   \n",
       "3                B-2                    NaN           SOUTH KOREA   \n",
       "4                L-1                    NaN                CANADA   \n",
       "\n",
       "  decision_date          employer_address_1 employer_address_2  ...  \\\n",
       "0    2012-02-01           24 WEST 25 STREET          5TH FLOOR  ...   \n",
       "1    2011-12-21            200 BROAD STREET                NaN  ...   \n",
       "2    2011-12-01  1054 TECHNOLOGY PARK DRIVE                NaN  ...   \n",
       "3    2011-12-01     33-17 PRINCE ST. 2ND FL                NaN  ...   \n",
       "4    2012-01-26               1373 BROADWAY                NaN  ...   \n",
       "\n",
       "  ri_layoff_in_past_six_months ri_local_ethnic_paper_from  \\\n",
       "0                          NaN                        NaN   \n",
       "1                          NaN                        NaN   \n",
       "2                          NaN                        NaN   \n",
       "3                          NaN                        NaN   \n",
       "4                          NaN                        NaN   \n",
       "\n",
       "  ri_local_ethnic_paper_to ri_posted_notice_at_worksite  \\\n",
       "0                      NaN                          NaN   \n",
       "1                      NaN                          NaN   \n",
       "2                      NaN                          NaN   \n",
       "3                      NaN                          NaN   \n",
       "4                      NaN                          NaN   \n",
       "\n",
       "   ri_pvt_employment_firm_from ri_pvt_employment_firm_to  \\\n",
       "0                          NaN                       NaN   \n",
       "1                          NaN                       NaN   \n",
       "2                          NaN                       NaN   \n",
       "3                          NaN                       NaN   \n",
       "4                          NaN                       NaN   \n",
       "\n",
       "  ri_us_workers_considered schd_a_sheepherder     us_economic_sector  \\\n",
       "0                      NaN                NaN                     IT   \n",
       "1                      NaN                NaN  Other Economic Sector   \n",
       "2                      NaN                NaN              Aerospace   \n",
       "3                      NaN                NaN  Other Economic Sector   \n",
       "4                      NaN                NaN           Advanced Mfg   \n",
       "\n",
       "   wage_offer_from_9089 wage_offer_to_9089 wage_offer_unit_of_pay_9089  \\\n",
       "0               75629.0                NaN                          yr   \n",
       "1               37024.0                NaN                          yr   \n",
       "2               47923.0                NaN                          yr   \n",
       "3                 10.97                NaN                          hr   \n",
       "4              100000.0                NaN                          yr   \n",
       "\n",
       "  wage_offered_from_9089 wage_offered_to_9089 wage_offered_unit_of_pay_9089  \n",
       "0                    NaN                  NaN                           NaN  \n",
       "1                    NaN                  NaN                           NaN  \n",
       "2                    NaN                  NaN                           NaN  \n",
       "3                    NaN                  NaN                           NaN  \n",
       "4                    NaN                  NaN                           NaN  \n",
       "\n",
       "[5 rows x 154 columns]"
      ]
     },
     "execution_count": 2,
     "metadata": {},
     "output_type": "execute_result"
    }
   ],
   "source": [
    "df=pd.read_csv(\"us_perm_visas.csv\")\n",
    "df.head()"
   ]
  },
  {
   "cell_type": "code",
   "execution_count": 3,
   "id": "343c39f6",
   "metadata": {},
   "outputs": [
    {
     "data": {
      "text/plain": [
       "Index(['add_these_pw_job_title_9089', 'agent_city', 'agent_firm_name',\n",
       "       'agent_state', 'application_type', 'case_no', 'case_number',\n",
       "       'case_received_date', 'case_status', 'class_of_admission',\n",
       "       ...\n",
       "       'ri_pvt_employment_firm_to', 'ri_us_workers_considered',\n",
       "       'schd_a_sheepherder', 'us_economic_sector', 'wage_offer_from_9089',\n",
       "       'wage_offer_to_9089', 'wage_offer_unit_of_pay_9089',\n",
       "       'wage_offered_from_9089', 'wage_offered_to_9089',\n",
       "       'wage_offered_unit_of_pay_9089'],\n",
       "      dtype='object', length=154)"
      ]
     },
     "execution_count": 3,
     "metadata": {},
     "output_type": "execute_result"
    }
   ],
   "source": [
    "df.columns"
   ]
  },
  {
   "cell_type": "code",
   "execution_count": 4,
   "id": "202503db",
   "metadata": {},
   "outputs": [
    {
     "data": {
      "text/plain": [
       "array(['add_these_pw_job_title_9089', 'agent_city', 'agent_firm_name',\n",
       "       'agent_state', 'application_type', 'case_no', 'case_number',\n",
       "       'case_received_date', 'case_status', 'class_of_admission',\n",
       "       'country_of_citizenship', 'country_of_citzenship', 'decision_date',\n",
       "       'employer_address_1', 'employer_address_2', 'employer_city',\n",
       "       'employer_country', 'employer_decl_info_title', 'employer_name',\n",
       "       'employer_num_employees', 'employer_phone', 'employer_phone_ext',\n",
       "       'employer_postal_code', 'employer_state', 'employer_yr_estab',\n",
       "       'foreign_worker_info_alt_edu_experience',\n",
       "       'foreign_worker_info_birth_country', 'foreign_worker_info_city',\n",
       "       'foreign_worker_info_education',\n",
       "       'foreign_worker_info_education_other', 'foreign_worker_info_inst',\n",
       "       'foreign_worker_info_major', 'foreign_worker_info_postal_code',\n",
       "       'foreign_worker_info_rel_occup_exp',\n",
       "       'foreign_worker_info_req_experience', 'foreign_worker_info_state',\n",
       "       'foreign_worker_info_training_comp',\n",
       "       'foreign_worker_ownership_interest',\n",
       "       'foreign_worker_yr_rel_edu_completed',\n",
       "       'fw_info_alt_edu_experience', 'fw_info_birth_country',\n",
       "       'fw_info_education_other', 'fw_info_postal_code',\n",
       "       'fw_info_rel_occup_exp', 'fw_info_req_experience',\n",
       "       'fw_info_training_comp', 'fw_info_yr_rel_edu_completed',\n",
       "       'fw_ownership_interest', 'ji_foreign_worker_live_on_premises',\n",
       "       'ji_fw_live_on_premises', 'ji_live_in_dom_svc_contract',\n",
       "       'ji_live_in_domestic_service',\n",
       "       'ji_offered_to_sec_j_foreign_worker', 'ji_offered_to_sec_j_fw',\n",
       "       'job_info_alt_cmb_ed_oth_yrs', 'job_info_alt_combo_ed',\n",
       "       'job_info_alt_combo_ed_exp', 'job_info_alt_combo_ed_other',\n",
       "       'job_info_alt_field', 'job_info_alt_field_name',\n",
       "       'job_info_alt_occ', 'job_info_alt_occ_job_title',\n",
       "       'job_info_alt_occ_num_months', 'job_info_combo_occupation',\n",
       "       'job_info_education', 'job_info_education_other',\n",
       "       'job_info_experience', 'job_info_experience_num_months',\n",
       "       'job_info_foreign_ed', 'job_info_foreign_lang_req',\n",
       "       'job_info_job_req_normal', 'job_info_job_title', 'job_info_major',\n",
       "       'job_info_training', 'job_info_training_field',\n",
       "       'job_info_training_num_months', 'job_info_work_city',\n",
       "       'job_info_work_postal_code', 'job_info_work_state',\n",
       "       'naics_2007_us_code', 'naics_2007_us_title', 'naics_code',\n",
       "       'naics_title', 'naics_us_code', 'naics_us_code_2007',\n",
       "       'naics_us_title', 'naics_us_title_2007', 'orig_case_no',\n",
       "       'orig_file_date', 'preparer_info_emp_completed',\n",
       "       'preparer_info_title', 'pw_amount_9089', 'pw_determ_date',\n",
       "       'pw_expire_date', 'pw_job_title_908', 'pw_job_title_9089',\n",
       "       'pw_level_9089', 'pw_soc_code', 'pw_soc_title',\n",
       "       'pw_source_name_9089', 'pw_source_name_other_9089', 'pw_track_num',\n",
       "       'pw_unit_of_pay_9089', 'rec_info_barg_rep_notified',\n",
       "       'recr_info_barg_rep_notified', 'recr_info_coll_teach_comp_proc',\n",
       "       'recr_info_coll_univ_teacher', 'recr_info_employer_rec_payment',\n",
       "       'recr_info_first_ad_start', 'recr_info_job_fair_from',\n",
       "       'recr_info_job_fair_to', 'recr_info_on_campus_recr_from',\n",
       "       'recr_info_on_campus_recr_to', 'recr_info_pro_org_advert_from',\n",
       "       'recr_info_pro_org_advert_to', 'recr_info_prof_org_advert_from',\n",
       "       'recr_info_prof_org_advert_to', 'recr_info_professional_occ',\n",
       "       'recr_info_radio_tv_ad_from', 'recr_info_radio_tv_ad_to',\n",
       "       'recr_info_second_ad_start', 'recr_info_sunday_newspaper',\n",
       "       'recr_info_swa_job_order_end', 'recr_info_swa_job_order_start',\n",
       "       'refile', 'ri_1st_ad_newspaper_name', 'ri_2nd_ad_newspaper_name',\n",
       "       'ri_2nd_ad_newspaper_or_journal', 'ri_campus_placement_from',\n",
       "       'ri_campus_placement_to', 'ri_coll_tch_basic_process',\n",
       "       'ri_coll_teach_pro_jnl', 'ri_coll_teach_select_date',\n",
       "       'ri_employee_referral_prog_from', 'ri_employee_referral_prog_to',\n",
       "       'ri_employer_web_post_from', 'ri_employer_web_post_to',\n",
       "       'ri_job_search_website_from', 'ri_job_search_website_to',\n",
       "       'ri_layoff_in_past_six_months', 'ri_local_ethnic_paper_from',\n",
       "       'ri_local_ethnic_paper_to', 'ri_posted_notice_at_worksite',\n",
       "       'ri_pvt_employment_firm_from', 'ri_pvt_employment_firm_to',\n",
       "       'ri_us_workers_considered', 'schd_a_sheepherder',\n",
       "       'us_economic_sector', 'wage_offer_from_9089', 'wage_offer_to_9089',\n",
       "       'wage_offer_unit_of_pay_9089', 'wage_offered_from_9089',\n",
       "       'wage_offered_to_9089', 'wage_offered_unit_of_pay_9089'],\n",
       "      dtype=object)"
      ]
     },
     "execution_count": 4,
     "metadata": {},
     "output_type": "execute_result"
    }
   ],
   "source": [
    "df.columns.values"
   ]
  },
  {
   "cell_type": "code",
   "execution_count": 5,
   "id": "a8d12ef9",
   "metadata": {},
   "outputs": [
    {
     "data": {
      "text/plain": [
       "(374362, 154)"
      ]
     },
     "execution_count": 5,
     "metadata": {},
     "output_type": "execute_result"
    }
   ],
   "source": [
    "df.shape"
   ]
  },
  {
   "cell_type": "code",
   "execution_count": 6,
   "id": "57016648",
   "metadata": {},
   "outputs": [
    {
     "data": {
      "text/plain": [
       "add_these_pw_job_title_9089      332168\n",
       "agent_city                       162908\n",
       "agent_firm_name                  167365\n",
       "agent_state                      166123\n",
       "application_type                 239093\n",
       "                                  ...  \n",
       "wage_offer_to_9089               300728\n",
       "wage_offer_unit_of_pay_9089      115916\n",
       "wage_offered_from_9089           259715\n",
       "wage_offered_to_9089             343347\n",
       "wage_offered_unit_of_pay_9089    303663\n",
       "Length: 154, dtype: int64"
      ]
     },
     "execution_count": 6,
     "metadata": {},
     "output_type": "execute_result"
    }
   ],
   "source": [
    "df.isna().sum()"
   ]
  },
  {
   "cell_type": "code",
   "execution_count": null,
   "id": "c45c4a7b",
   "metadata": {},
   "outputs": [],
   "source": []
  },
  {
   "cell_type": "code",
   "execution_count": 7,
   "id": "1ccd81e0",
   "metadata": {},
   "outputs": [
    {
     "name": "stdout",
     "output_type": "stream",
     "text": [
      "<class 'pandas.core.frame.DataFrame'>\n",
      "RangeIndex: 374362 entries, 0 to 374361\n",
      "Columns: 154 entries, add_these_pw_job_title_9089 to wage_offered_unit_of_pay_9089\n",
      "dtypes: float64(10), object(144)\n",
      "memory usage: 439.8+ MB\n"
     ]
    }
   ],
   "source": [
    "df.info()"
   ]
  },
  {
   "cell_type": "code",
   "execution_count": 8,
   "id": "52a98757",
   "metadata": {},
   "outputs": [
    {
     "data": {
      "text/plain": [
       "<bound method NDFrame.describe of        add_these_pw_job_title_9089   agent_city  \\\n",
       "0                              NaN          NaN   \n",
       "1                              NaN          NaN   \n",
       "2                              NaN          NaN   \n",
       "3                              NaN          NaN   \n",
       "4                              NaN          NaN   \n",
       "...                            ...          ...   \n",
       "374357                         NaN   Buena Park   \n",
       "374358                         NaN      Seattle   \n",
       "374359                         NaN   Schaumburg   \n",
       "374360                         NaN  LOS ANGELES   \n",
       "374361                         NaN      Phoenix   \n",
       "\n",
       "                                          agent_firm_name agent_state  \\\n",
       "0                                                     NaN         NaN   \n",
       "1                                                     NaN         NaN   \n",
       "2                                                     NaN         NaN   \n",
       "3                                                     NaN         NaN   \n",
       "4                                                     NaN         NaN   \n",
       "...                                                   ...         ...   \n",
       "374357                           Law Offices of Yohan Lee          CA   \n",
       "374358                         MacDonald Hoague & Bayless          WA   \n",
       "374359  International Legal and Business Services Grou...          IL   \n",
       "374360                        LAW OFFICES OF JAMES S HONG          CA   \n",
       "374361            Fragomen, Del Rey, Bernsen & Loewy, LLP          AZ   \n",
       "\n",
       "       application_type        case_no    case_number case_received_date  \\\n",
       "0                  PERM  A-07323-97014            NaN                NaN   \n",
       "1                  PERM  A-07332-99439            NaN                NaN   \n",
       "2                  PERM  A-07333-99643            NaN                NaN   \n",
       "3                  PERM  A-07339-01930            NaN                NaN   \n",
       "4                  PERM  A-07345-03565            NaN                NaN   \n",
       "...                 ...            ...            ...                ...   \n",
       "374357              NaN            NaN  A-16363-85407         2016-12-29   \n",
       "374358              NaN            NaN  A-16271-56745         2016-12-30   \n",
       "374359              NaN            NaN  A-16354-82345         2016-12-30   \n",
       "374360              NaN            NaN  A-16357-84250         2016-12-30   \n",
       "374361              NaN            NaN  A-16279-59292         2016-12-30   \n",
       "\n",
       "       case_status class_of_admission country_of_citizenship  \\\n",
       "0        Certified                J-1                    NaN   \n",
       "1           Denied                B-2                    NaN   \n",
       "2        Certified               H-1B                    NaN   \n",
       "3        Certified                B-2                    NaN   \n",
       "4        Certified                L-1                    NaN   \n",
       "...            ...                ...                    ...   \n",
       "374357   Withdrawn                NaN            SOUTH KOREA   \n",
       "374358   Withdrawn                L-1                VIETNAM   \n",
       "374359   Withdrawn               H-1B                  INDIA   \n",
       "374360   Withdrawn                B-2            SOUTH KOREA   \n",
       "374361   Withdrawn               H-1B                  CHINA   \n",
       "\n",
       "       country_of_citzenship decision_date           employer_address_1  \\\n",
       "0                    ARMENIA    2012-02-01            24 WEST 25 STREET   \n",
       "1                     POLAND    2011-12-21             200 BROAD STREET   \n",
       "2                      INDIA    2011-12-01   1054 TECHNOLOGY PARK DRIVE   \n",
       "3                SOUTH KOREA    2011-12-01      33-17 PRINCE ST. 2ND FL   \n",
       "4                     CANADA    2012-01-26                1373 BROADWAY   \n",
       "...                      ...           ...                          ...   \n",
       "374357                   NaN    2016-12-30  434 S EUCLID STREET STE 100   \n",
       "374358                   NaN    2016-12-30            ONE MICROSOFT WAY   \n",
       "374359                   NaN    2016-12-30           220 W MICHIGAN AVE   \n",
       "374360                   NaN    2016-12-30         3957 E. Camelback Rd   \n",
       "374361                   NaN    2016-12-30   2200 MISSION COLLEGE BLVD.   \n",
       "\n",
       "       employer_address_2  ... ri_layoff_in_past_six_months  \\\n",
       "0               5TH FLOOR  ...                          NaN   \n",
       "1                     NaN  ...                          NaN   \n",
       "2                     NaN  ...                          NaN   \n",
       "3                     NaN  ...                          NaN   \n",
       "4                     NaN  ...                          NaN   \n",
       "...                   ...  ...                          ...   \n",
       "374357               None  ...                            N   \n",
       "374358               None  ...                            Y   \n",
       "374359               None  ...                            N   \n",
       "374360               None  ...                            N   \n",
       "374361               None  ...                            N   \n",
       "\n",
       "       ri_local_ethnic_paper_from ri_local_ethnic_paper_to  \\\n",
       "0                             NaN                      NaN   \n",
       "1                             NaN                      NaN   \n",
       "2                             NaN                      NaN   \n",
       "3                             NaN                      NaN   \n",
       "4                             NaN                      NaN   \n",
       "...                           ...                      ...   \n",
       "374357                        NaN                      NaN   \n",
       "374358                 2016-07-27               2016-07-27   \n",
       "374359                 2016-07-21               2016-07-28   \n",
       "374360                        NaN                      NaN   \n",
       "374361                 2016-08-19               2016-09-01   \n",
       "\n",
       "       ri_posted_notice_at_worksite  ri_pvt_employment_firm_from  \\\n",
       "0                               NaN                          NaN   \n",
       "1                               NaN                          NaN   \n",
       "2                               NaN                          NaN   \n",
       "3                               NaN                          NaN   \n",
       "4                               NaN                          NaN   \n",
       "...                             ...                          ...   \n",
       "374357                            Y                          NaN   \n",
       "374358                            Y                          NaN   \n",
       "374359                            Y                          NaN   \n",
       "374360                            Y                          NaN   \n",
       "374361                            Y                          NaN   \n",
       "\n",
       "       ri_pvt_employment_firm_to ri_us_workers_considered schd_a_sheepherder  \\\n",
       "0                            NaN                      NaN                NaN   \n",
       "1                            NaN                      NaN                NaN   \n",
       "2                            NaN                      NaN                NaN   \n",
       "3                            NaN                      NaN                NaN   \n",
       "4                            NaN                      NaN                NaN   \n",
       "...                          ...                      ...                ...   \n",
       "374357                       NaN                      NaN                  N   \n",
       "374358                       NaN                        Y                  N   \n",
       "374359                       NaN                      NaN                  N   \n",
       "374360                       NaN                      NaN                  N   \n",
       "374361                       NaN                      NaN                  N   \n",
       "\n",
       "           us_economic_sector  wage_offer_from_9089 wage_offer_to_9089  \\\n",
       "0                          IT               75629.0                NaN   \n",
       "1       Other Economic Sector               37024.0                NaN   \n",
       "2                   Aerospace               47923.0                NaN   \n",
       "3       Other Economic Sector                 10.97                NaN   \n",
       "4                Advanced Mfg              100000.0                NaN   \n",
       "...                       ...                   ...                ...   \n",
       "374357                    NaN             28,330.00                NaN   \n",
       "374358                    NaN            122,000.00         142,000.00   \n",
       "374359                    NaN             79,082.00          79,082.00   \n",
       "374360                    NaN             37,981.00                NaN   \n",
       "374361                    NaN             84,926.00         121,500.00   \n",
       "\n",
       "       wage_offer_unit_of_pay_9089 wage_offered_from_9089  \\\n",
       "0                               yr                    NaN   \n",
       "1                               yr                    NaN   \n",
       "2                               yr                    NaN   \n",
       "3                               hr                    NaN   \n",
       "4                               yr                    NaN   \n",
       "...                            ...                    ...   \n",
       "374357                        Year                    NaN   \n",
       "374358                        Year                    NaN   \n",
       "374359                        Year                    NaN   \n",
       "374360                        Year                    NaN   \n",
       "374361                        Year                    NaN   \n",
       "\n",
       "       wage_offered_to_9089 wage_offered_unit_of_pay_9089  \n",
       "0                       NaN                           NaN  \n",
       "1                       NaN                           NaN  \n",
       "2                       NaN                           NaN  \n",
       "3                       NaN                           NaN  \n",
       "4                       NaN                           NaN  \n",
       "...                     ...                           ...  \n",
       "374357                  NaN                           NaN  \n",
       "374358                  NaN                           NaN  \n",
       "374359                  NaN                           NaN  \n",
       "374360                  NaN                           NaN  \n",
       "374361                  NaN                           NaN  \n",
       "\n",
       "[374362 rows x 154 columns]>"
      ]
     },
     "execution_count": 8,
     "metadata": {},
     "output_type": "execute_result"
    }
   ],
   "source": [
    "df.describe"
   ]
  },
  {
   "cell_type": "code",
   "execution_count": 9,
   "id": "87ca89c2",
   "metadata": {},
   "outputs": [
    {
     "data": {
      "text/html": [
       "<div>\n",
       "<style scoped>\n",
       "    .dataframe tbody tr th:only-of-type {\n",
       "        vertical-align: middle;\n",
       "    }\n",
       "\n",
       "    .dataframe tbody tr th {\n",
       "        vertical-align: top;\n",
       "    }\n",
       "\n",
       "    .dataframe thead th {\n",
       "        text-align: right;\n",
       "    }\n",
       "</style>\n",
       "<table border=\"1\" class=\"dataframe\">\n",
       "  <thead>\n",
       "    <tr style=\"text-align: right;\">\n",
       "      <th></th>\n",
       "      <th>case_no</th>\n",
       "      <th>case_number</th>\n",
       "    </tr>\n",
       "  </thead>\n",
       "  <tbody>\n",
       "    <tr>\n",
       "      <th>0</th>\n",
       "      <td>A-07323-97014</td>\n",
       "      <td>NaN</td>\n",
       "    </tr>\n",
       "    <tr>\n",
       "      <th>1</th>\n",
       "      <td>A-07332-99439</td>\n",
       "      <td>NaN</td>\n",
       "    </tr>\n",
       "    <tr>\n",
       "      <th>2</th>\n",
       "      <td>A-07333-99643</td>\n",
       "      <td>NaN</td>\n",
       "    </tr>\n",
       "    <tr>\n",
       "      <th>3</th>\n",
       "      <td>A-07339-01930</td>\n",
       "      <td>NaN</td>\n",
       "    </tr>\n",
       "    <tr>\n",
       "      <th>4</th>\n",
       "      <td>A-07345-03565</td>\n",
       "      <td>NaN</td>\n",
       "    </tr>\n",
       "    <tr>\n",
       "      <th>...</th>\n",
       "      <td>...</td>\n",
       "      <td>...</td>\n",
       "    </tr>\n",
       "    <tr>\n",
       "      <th>374357</th>\n",
       "      <td>NaN</td>\n",
       "      <td>A-16363-85407</td>\n",
       "    </tr>\n",
       "    <tr>\n",
       "      <th>374358</th>\n",
       "      <td>NaN</td>\n",
       "      <td>A-16271-56745</td>\n",
       "    </tr>\n",
       "    <tr>\n",
       "      <th>374359</th>\n",
       "      <td>NaN</td>\n",
       "      <td>A-16354-82345</td>\n",
       "    </tr>\n",
       "    <tr>\n",
       "      <th>374360</th>\n",
       "      <td>NaN</td>\n",
       "      <td>A-16357-84250</td>\n",
       "    </tr>\n",
       "    <tr>\n",
       "      <th>374361</th>\n",
       "      <td>NaN</td>\n",
       "      <td>A-16279-59292</td>\n",
       "    </tr>\n",
       "  </tbody>\n",
       "</table>\n",
       "<p>374362 rows × 2 columns</p>\n",
       "</div>"
      ],
      "text/plain": [
       "              case_no    case_number\n",
       "0       A-07323-97014            NaN\n",
       "1       A-07332-99439            NaN\n",
       "2       A-07333-99643            NaN\n",
       "3       A-07339-01930            NaN\n",
       "4       A-07345-03565            NaN\n",
       "...               ...            ...\n",
       "374357            NaN  A-16363-85407\n",
       "374358            NaN  A-16271-56745\n",
       "374359            NaN  A-16354-82345\n",
       "374360            NaN  A-16357-84250\n",
       "374361            NaN  A-16279-59292\n",
       "\n",
       "[374362 rows x 2 columns]"
      ]
     },
     "execution_count": 9,
     "metadata": {},
     "output_type": "execute_result"
    }
   ],
   "source": [
    "df[['case_no', 'case_number']]"
   ]
  },
  {
   "cell_type": "code",
   "execution_count": 10,
   "id": "f4c59636",
   "metadata": {},
   "outputs": [],
   "source": [
    "df.drop('case_no', axis=1, inplace=True)"
   ]
  },
  {
   "cell_type": "code",
   "execution_count": 11,
   "id": "d808b234",
   "metadata": {},
   "outputs": [
    {
     "data": {
      "text/plain": [
       "array(['add_these_pw_job_title_9089', 'agent_city', 'agent_firm_name',\n",
       "       'agent_state', 'application_type', 'case_number',\n",
       "       'case_received_date', 'case_status', 'class_of_admission',\n",
       "       'country_of_citizenship', 'country_of_citzenship', 'decision_date',\n",
       "       'employer_address_1', 'employer_address_2', 'employer_city',\n",
       "       'employer_country', 'employer_decl_info_title', 'employer_name',\n",
       "       'employer_num_employees', 'employer_phone', 'employer_phone_ext',\n",
       "       'employer_postal_code', 'employer_state', 'employer_yr_estab',\n",
       "       'foreign_worker_info_alt_edu_experience',\n",
       "       'foreign_worker_info_birth_country', 'foreign_worker_info_city',\n",
       "       'foreign_worker_info_education',\n",
       "       'foreign_worker_info_education_other', 'foreign_worker_info_inst',\n",
       "       'foreign_worker_info_major', 'foreign_worker_info_postal_code',\n",
       "       'foreign_worker_info_rel_occup_exp',\n",
       "       'foreign_worker_info_req_experience', 'foreign_worker_info_state',\n",
       "       'foreign_worker_info_training_comp',\n",
       "       'foreign_worker_ownership_interest',\n",
       "       'foreign_worker_yr_rel_edu_completed',\n",
       "       'fw_info_alt_edu_experience', 'fw_info_birth_country',\n",
       "       'fw_info_education_other', 'fw_info_postal_code',\n",
       "       'fw_info_rel_occup_exp', 'fw_info_req_experience',\n",
       "       'fw_info_training_comp', 'fw_info_yr_rel_edu_completed',\n",
       "       'fw_ownership_interest', 'ji_foreign_worker_live_on_premises',\n",
       "       'ji_fw_live_on_premises', 'ji_live_in_dom_svc_contract',\n",
       "       'ji_live_in_domestic_service',\n",
       "       'ji_offered_to_sec_j_foreign_worker', 'ji_offered_to_sec_j_fw',\n",
       "       'job_info_alt_cmb_ed_oth_yrs', 'job_info_alt_combo_ed',\n",
       "       'job_info_alt_combo_ed_exp', 'job_info_alt_combo_ed_other',\n",
       "       'job_info_alt_field', 'job_info_alt_field_name',\n",
       "       'job_info_alt_occ', 'job_info_alt_occ_job_title',\n",
       "       'job_info_alt_occ_num_months', 'job_info_combo_occupation',\n",
       "       'job_info_education', 'job_info_education_other',\n",
       "       'job_info_experience', 'job_info_experience_num_months',\n",
       "       'job_info_foreign_ed', 'job_info_foreign_lang_req',\n",
       "       'job_info_job_req_normal', 'job_info_job_title', 'job_info_major',\n",
       "       'job_info_training', 'job_info_training_field',\n",
       "       'job_info_training_num_months', 'job_info_work_city',\n",
       "       'job_info_work_postal_code', 'job_info_work_state',\n",
       "       'naics_2007_us_code', 'naics_2007_us_title', 'naics_code',\n",
       "       'naics_title', 'naics_us_code', 'naics_us_code_2007',\n",
       "       'naics_us_title', 'naics_us_title_2007', 'orig_case_no',\n",
       "       'orig_file_date', 'preparer_info_emp_completed',\n",
       "       'preparer_info_title', 'pw_amount_9089', 'pw_determ_date',\n",
       "       'pw_expire_date', 'pw_job_title_908', 'pw_job_title_9089',\n",
       "       'pw_level_9089', 'pw_soc_code', 'pw_soc_title',\n",
       "       'pw_source_name_9089', 'pw_source_name_other_9089', 'pw_track_num',\n",
       "       'pw_unit_of_pay_9089', 'rec_info_barg_rep_notified',\n",
       "       'recr_info_barg_rep_notified', 'recr_info_coll_teach_comp_proc',\n",
       "       'recr_info_coll_univ_teacher', 'recr_info_employer_rec_payment',\n",
       "       'recr_info_first_ad_start', 'recr_info_job_fair_from',\n",
       "       'recr_info_job_fair_to', 'recr_info_on_campus_recr_from',\n",
       "       'recr_info_on_campus_recr_to', 'recr_info_pro_org_advert_from',\n",
       "       'recr_info_pro_org_advert_to', 'recr_info_prof_org_advert_from',\n",
       "       'recr_info_prof_org_advert_to', 'recr_info_professional_occ',\n",
       "       'recr_info_radio_tv_ad_from', 'recr_info_radio_tv_ad_to',\n",
       "       'recr_info_second_ad_start', 'recr_info_sunday_newspaper',\n",
       "       'recr_info_swa_job_order_end', 'recr_info_swa_job_order_start',\n",
       "       'refile', 'ri_1st_ad_newspaper_name', 'ri_2nd_ad_newspaper_name',\n",
       "       'ri_2nd_ad_newspaper_or_journal', 'ri_campus_placement_from',\n",
       "       'ri_campus_placement_to', 'ri_coll_tch_basic_process',\n",
       "       'ri_coll_teach_pro_jnl', 'ri_coll_teach_select_date',\n",
       "       'ri_employee_referral_prog_from', 'ri_employee_referral_prog_to',\n",
       "       'ri_employer_web_post_from', 'ri_employer_web_post_to',\n",
       "       'ri_job_search_website_from', 'ri_job_search_website_to',\n",
       "       'ri_layoff_in_past_six_months', 'ri_local_ethnic_paper_from',\n",
       "       'ri_local_ethnic_paper_to', 'ri_posted_notice_at_worksite',\n",
       "       'ri_pvt_employment_firm_from', 'ri_pvt_employment_firm_to',\n",
       "       'ri_us_workers_considered', 'schd_a_sheepherder',\n",
       "       'us_economic_sector', 'wage_offer_from_9089', 'wage_offer_to_9089',\n",
       "       'wage_offer_unit_of_pay_9089', 'wage_offered_from_9089',\n",
       "       'wage_offered_to_9089', 'wage_offered_unit_of_pay_9089'],\n",
       "      dtype=object)"
      ]
     },
     "execution_count": 11,
     "metadata": {},
     "output_type": "execute_result"
    }
   ],
   "source": [
    "df.columns.values"
   ]
  },
  {
   "cell_type": "code",
   "execution_count": 12,
   "id": "1916c50b",
   "metadata": {},
   "outputs": [
    {
     "data": {
      "text/plain": [
       "0         Certified\n",
       "1            Denied\n",
       "2         Certified\n",
       "3         Certified\n",
       "4         Certified\n",
       "            ...    \n",
       "374357    Withdrawn\n",
       "374358    Withdrawn\n",
       "374359    Withdrawn\n",
       "374360    Withdrawn\n",
       "374361    Withdrawn\n",
       "Name: case_status, Length: 374362, dtype: object"
      ]
     },
     "execution_count": 12,
     "metadata": {},
     "output_type": "execute_result"
    }
   ],
   "source": [
    "df['case_status']"
   ]
  },
  {
   "cell_type": "code",
   "execution_count": 13,
   "id": "daa87a6b",
   "metadata": {},
   "outputs": [],
   "source": [
    "df = df[df['case_status'] != \"Withdrawn\"]"
   ]
  },
  {
   "cell_type": "code",
   "execution_count": 14,
   "id": "e529310d",
   "metadata": {},
   "outputs": [
    {
     "data": {
      "text/plain": [
       "array(['Certified', 'Denied', 'Certified-Expired'], dtype=object)"
      ]
     },
     "execution_count": 14,
     "metadata": {},
     "output_type": "execute_result"
    }
   ],
   "source": [
    "df.case_status.unique()"
   ]
  },
  {
   "cell_type": "code",
   "execution_count": 15,
   "id": "5a07a7d1",
   "metadata": {},
   "outputs": [],
   "source": [
    "df.loc[df.case_status == \"Certified-Expired\", \"case_status\"] = \"Certified\""
   ]
  },
  {
   "cell_type": "code",
   "execution_count": 16,
   "id": "99e00b8a",
   "metadata": {},
   "outputs": [
    {
     "data": {
      "text/plain": [
       "array(['Certified', 'Denied'], dtype=object)"
      ]
     },
     "execution_count": 16,
     "metadata": {},
     "output_type": "execute_result"
    }
   ],
   "source": [
    "df.case_status.unique()"
   ]
  },
  {
   "cell_type": "code",
   "execution_count": 17,
   "id": "0ada5262",
   "metadata": {},
   "outputs": [
    {
     "data": {
      "text/plain": [
       "Certified    330519\n",
       "Denied        25649\n",
       "Name: case_status, dtype: int64"
      ]
     },
     "execution_count": 17,
     "metadata": {},
     "output_type": "execute_result"
    }
   ],
   "source": [
    "df.case_status.value_counts()"
   ]
  },
  {
   "cell_type": "code",
   "execution_count": 18,
   "id": "54dce548",
   "metadata": {},
   "outputs": [],
   "source": [
    "df.dropna(axis=1, how='all', inplace=True)   ### columns"
   ]
  },
  {
   "cell_type": "code",
   "execution_count": 19,
   "id": "c582c23c",
   "metadata": {},
   "outputs": [],
   "source": [
    "df.dropna(axis=0, how='all', inplace=True)   ### rows"
   ]
  },
  {
   "cell_type": "code",
   "execution_count": 20,
   "id": "32d20c2f",
   "metadata": {},
   "outputs": [
    {
     "data": {
      "text/plain": [
       "(356168, 153)"
      ]
     },
     "execution_count": 20,
     "metadata": {},
     "output_type": "execute_result"
    }
   ],
   "source": [
    "df.shape"
   ]
  },
  {
   "cell_type": "code",
   "execution_count": 22,
   "id": "79b4342e",
   "metadata": {},
   "outputs": [
    {
     "data": {
      "text/plain": [
       "<AxesSubplot:>"
      ]
     },
     "execution_count": 22,
     "metadata": {},
     "output_type": "execute_result"
    },
    {
     "data": {
      "image/png": "[encoded data removed]",
      "text/plain": [
       "<Figure size 432x288 with 1 Axes>"
      ]
     },
     "metadata": {},
     "output_type": "display_data"
    }
   ],
   "source": [
    "df[\"application_type\"].value_counts().plot(kind='bar')"
   ]
  },
  {
   "cell_type": "code",
   "execution_count": 21,
   "id": "c2ad5258",
   "metadata": {},
   "outputs": [
    {
     "data": {
      "text/plain": [
       "<AxesSubplot:xlabel='application_type', ylabel='count'>"
      ]
     },
     "execution_count": 21,
     "metadata": {},
     "output_type": "execute_result"
    },
    {
     "data": {
      "image/png": "[encoded data removed]",
      "text/plain": [
       "<Figure size 432x288 with 1 Axes>"
      ]
     },
     "metadata": {},
     "output_type": "display_data"
    }
   ],
   "source": [
    "sns.countplot(data=df, x=\"application_type\")"
   ]
  },
  {
   "cell_type": "code",
   "execution_count": 23,
   "id": "efe8a5ce",
   "metadata": {},
   "outputs": [
    {
     "data": {
      "text/plain": [
       "0                            IT\n",
       "1         Other Economic Sector\n",
       "2                     Aerospace\n",
       "3         Other Economic Sector\n",
       "4                  Advanced Mfg\n",
       "                  ...          \n",
       "374349                      NaN\n",
       "374350                      NaN\n",
       "374351                      NaN\n",
       "374352                      NaN\n",
       "374353                      NaN\n",
       "Name: us_economic_sector, Length: 356168, dtype: object"
      ]
     },
     "execution_count": 23,
     "metadata": {},
     "output_type": "execute_result"
    }
   ],
   "source": [
    "df.us_economic_sector"
   ]
  },
  {
   "cell_type": "code",
   "execution_count": 25,
   "id": "0c7b893b",
   "metadata": {},
   "outputs": [
    {
     "data": {
      "text/plain": [
       "IT                       49311\n",
       "Advanced Mfg             17601\n",
       "Other Economic Sector    14662\n",
       "Finance                   8686\n",
       "Educational Services      8561\n",
       "Health Care               6407\n",
       "Retail                    4208\n",
       "Aerospace                 3917\n",
       "Hospitality               1767\n",
       "Construction              1315\n",
       "Automotive                1084\n",
       "Energy                    1021\n",
       "Transportation             893\n",
       "Agribusiness               784\n",
       "Biotechnology              436\n",
       "Geospatial                 137\n",
       "Homeland Security           78\n",
       "Name: us_economic_sector, dtype: int64"
      ]
     },
     "execution_count": 25,
     "metadata": {},
     "output_type": "execute_result"
    }
   ],
   "source": [
    "econnomic_sector=df['us_economic_sector'].value_counts()\n",
    "econnomic_sector"
   ]
  },
  {
   "cell_type": "code",
   "execution_count": 28,
   "id": "ce3c1951",
   "metadata": {},
   "outputs": [
    {
     "data": {
      "image/png": "[encoded data removed]",
      "text/plain": [
       "<Figure size 432x288 with 1 Axes>"
      ]
     },
     "metadata": {},
     "output_type": "display_data"
    }
   ],
   "source": [
    "plt.pie(econnomic_sector, labels=econnomic_sector.index, autopct='%1.1f%%')\n",
    "plt.show()"
   ]
  },
  {
   "cell_type": "code",
   "execution_count": 29,
   "id": "d8c68352",
   "metadata": {},
   "outputs": [
    {
     "data": {
      "text/plain": [
       "0         2012-02-01\n",
       "1         2011-12-21\n",
       "2         2011-12-01\n",
       "3         2011-12-01\n",
       "4         2012-01-26\n",
       "             ...    \n",
       "374349    2016-12-30\n",
       "374350    2016-12-30\n",
       "374351    2016-12-30\n",
       "374352    2016-12-30\n",
       "374353    2016-12-30\n",
       "Name: decision_date, Length: 356168, dtype: object"
      ]
     },
     "execution_count": 29,
     "metadata": {},
     "output_type": "execute_result"
    }
   ],
   "source": [
    "df[\"decision_date\"]"
   ]
  },
  {
   "cell_type": "code",
   "execution_count": 30,
   "id": "da05d44b",
   "metadata": {},
   "outputs": [],
   "source": [
    "df[\"decision_date\"] = pd.to_datetime(df[\"decision_date\"])\n",
    "df[\"year\"] = df[\"decision_date\"].dt.year"
   ]
  },
  {
   "cell_type": "code",
   "execution_count": 31,
   "id": "91b39aa2",
   "metadata": {},
   "outputs": [
    {
     "data": {
      "text/plain": [
       "0         2012\n",
       "1         2011\n",
       "2         2011\n",
       "3         2011\n",
       "4         2012\n",
       "          ... \n",
       "374349    2016\n",
       "374350    2016\n",
       "374351    2016\n",
       "374352    2016\n",
       "374353    2016\n",
       "Name: year, Length: 356168, dtype: int64"
      ]
     },
     "execution_count": 31,
     "metadata": {},
     "output_type": "execute_result"
    }
   ],
   "source": [
    "df[\"year\"]"
   ]
  },
  {
   "cell_type": "code",
   "execution_count": 33,
   "id": "60c85262",
   "metadata": {},
   "outputs": [
    {
     "data": {
      "image/png": "[encoded data removed]",
      "text/plain": [
       "<Figure size 576x576 with 1 Axes>"
      ]
     },
     "metadata": {},
     "output_type": "display_data"
    }
   ],
   "source": [
    "fig,ax=plt.subplots(figsize=(8,8))\n",
    "\n",
    "sns.countplot(x='year', hue='case_status', data=df)\n",
    "ax.set(xlabel=\"Visa application year\", ylabel=\"No of applications\")\n",
    "plt.show()"
   ]
  },
  {
   "cell_type": "code",
   "execution_count": 38,
   "id": "ed48c76f",
   "metadata": {},
   "outputs": [
    {
     "data": {
      "image/png": "[encoded data removed]",
      "text/plain": [
       "<Figure size 1440x864 with 1 Axes>"
      ]
     },
     "metadata": {},
     "output_type": "display_data"
    }
   ],
   "source": [
    "fig,ax=plt.subplots(figsize=(20,12))\n",
    "\n",
    "sns.countplot(x='employer_city', hue='year', data=df, order=df.employer_city.value_counts().iloc[:10].index)\n",
    "ax.set(xlabel=\"employer status per year\", ylabel=\"No of applications\")\n",
    "plt.xticks(rotation=90)\n",
    "plt.show()"
   ]
  },
  {
   "cell_type": "code",
   "execution_count": null,
   "id": "afa3e864",
   "metadata": {},
   "outputs": [],
   "source": []
  }
 ],
 "metadata": {
  "kernelspec": {
   "display_name": "Python 3",
   "language": "python",
   "name": "python3"
  },
  "language_info": {
   "codemirror_mode": {
    "name": "ipython",
    "version": 3
   },
   "file_extension": ".py",
   "mimetype": "text/x-python",
   "name": "python",
   "nbconvert_exporter": "python",
   "pygments_lexer": "ipython3",
   "version": "3.8.8"
  }
 },
 "nbformat": 4,
 "nbformat_minor": 5
}
