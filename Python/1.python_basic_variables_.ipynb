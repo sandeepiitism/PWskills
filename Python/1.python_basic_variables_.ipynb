{
  "cells": [
    {
      "cell_type": "code",
      "execution_count": 1,
      "id": "b3eabf1e-3466-4598-bd17-a1137a9344fc",
      "metadata": {
        "id": "b3eabf1e-3466-4598-bd17-a1137a9344fc",
        "outputId": "4b78a45b-b60e-40df-9609-3dd6d1b195d9",
        "colab": {
          "base_uri": "https://localhost:8080/"
        }
      },
      "outputs": [
        {
          "output_type": "execute_result",
          "data": {
            "text/plain": [
              "3"
            ]
          },
          "metadata": {},
          "execution_count": 1
        }
      ],
      "source": [
        "1+2"
      ]
    },
    {
      "cell_type": "code",
      "source": [
        "x = 10\n",
        "\n",
        "x = x + 5\n",
        "print(x)"
      ],
      "metadata": {
        "colab": {
          "base_uri": "https://localhost:8080/"
        },
        "id": "jMASDfAEjtqz",
        "outputId": "e1a04adc-2706-407b-f2b3-2a12ae8a2800"
      },
      "id": "jMASDfAEjtqz",
      "execution_count": 2,
      "outputs": [
        {
          "output_type": "stream",
          "name": "stdout",
          "text": [
            "15\n"
          ]
        }
      ]
    },
    {
      "cell_type": "code",
      "source": [
        "v-ar = 10\n",
        "Print(v-ar)"
      ],
      "metadata": {
        "colab": {
          "base_uri": "https://localhost:8080/",
          "height": 110
        },
        "id": "Nm5ftQwZkEqq",
        "outputId": "13407a50-8871-4286-d4f0-7e8e477106f5"
      },
      "id": "Nm5ftQwZkEqq",
      "execution_count": 3,
      "outputs": [
        {
          "output_type": "error",
          "ename": "SyntaxError",
          "evalue": "cannot assign to expression here. Maybe you meant '==' instead of '='? (<ipython-input-3-28930b63a002>, line 1)",
          "traceback": [
            "\u001b[0;36m  File \u001b[0;32m\"<ipython-input-3-28930b63a002>\"\u001b[0;36m, line \u001b[0;32m1\u001b[0m\n\u001b[0;31m    v-ar = 10\u001b[0m\n\u001b[0m    ^\u001b[0m\n\u001b[0;31mSyntaxError\u001b[0m\u001b[0;31m:\u001b[0m cannot assign to expression here. Maybe you meant '==' instead of '='?\n"
          ]
        }
      ]
    },
    {
      "cell_type": "code",
      "source": [
        "name = \"John\"\n",
        "\n",
        "age = 25\n",
        "\n",
        "print(\"My name is\", name, \"and I am\", age, \"years old.\")"
      ],
      "metadata": {
        "colab": {
          "base_uri": "https://localhost:8080/"
        },
        "id": "tP4hVYFskUQq",
        "outputId": "4a3a46c8-2ea2-4265-d81f-bd31a3a3a720"
      },
      "id": "tP4hVYFskUQq",
      "execution_count": 4,
      "outputs": [
        {
          "output_type": "stream",
          "name": "stdout",
          "text": [
            "My name is John and I am 25 years old.\n"
          ]
        }
      ]
    },
    {
      "cell_type": "markdown",
      "source": [
        "variable is a vlaue stored in a memory"
      ],
      "metadata": {
        "id": "uo4Q3PSqVOSO"
      },
      "id": "uo4Q3PSqVOSO"
    },
    {
      "cell_type": "code",
      "execution_count": 5,
      "id": "c0d7b026-ce5e-4296-a740-01d53df56532",
      "metadata": {
        "id": "c0d7b026-ce5e-4296-a740-01d53df56532"
      },
      "outputs": [],
      "source": [
        "a = 10"
      ]
    },
    {
      "cell_type": "code",
      "execution_count": 6,
      "id": "1ffd6fda-c06f-4ac8-82ed-2085b68cc8d4",
      "metadata": {
        "id": "1ffd6fda-c06f-4ac8-82ed-2085b68cc8d4",
        "outputId": "b8664a9a-bfe8-44ed-c3a3-d5ffcf52c6c0",
        "colab": {
          "base_uri": "https://localhost:8080/"
        }
      },
      "outputs": [
        {
          "output_type": "execute_result",
          "data": {
            "text/plain": [
              "10"
            ]
          },
          "metadata": {},
          "execution_count": 6
        }
      ],
      "source": [
        "a"
      ]
    },
    {
      "cell_type": "code",
      "execution_count": 7,
      "id": "deed6720-a950-4bce-a506-94b0289d97e9",
      "metadata": {
        "id": "deed6720-a950-4bce-a506-94b0289d97e9"
      },
      "outputs": [],
      "source": [
        "sandeep = 324335235"
      ]
    },
    {
      "cell_type": "code",
      "execution_count": 8,
      "id": "8046ee24-f9e9-452a-b818-765274244910",
      "metadata": {
        "id": "8046ee24-f9e9-452a-b818-765274244910",
        "outputId": "806df4af-1244-41f9-c6a2-da238bc39327",
        "colab": {
          "base_uri": "https://localhost:8080/"
        }
      },
      "outputs": [
        {
          "output_type": "execute_result",
          "data": {
            "text/plain": [
              "324335235"
            ]
          },
          "metadata": {},
          "execution_count": 8
        }
      ],
      "source": [
        "sandeep"
      ]
    },
    {
      "cell_type": "code",
      "execution_count": 9,
      "id": "6f821f6c-5ece-4f37-ad07-0e8c3ef1f6b3",
      "metadata": {
        "id": "6f821f6c-5ece-4f37-ad07-0e8c3ef1f6b3",
        "outputId": "39e41913-feb5-4417-a90d-7df9900689d9",
        "colab": {
          "base_uri": "https://localhost:8080/"
        }
      },
      "outputs": [
        {
          "output_type": "execute_result",
          "data": {
            "text/plain": [
              "int"
            ]
          },
          "metadata": {},
          "execution_count": 9
        }
      ],
      "source": [
        "type(a)"
      ]
    },
    {
      "cell_type": "code",
      "execution_count": 10,
      "id": "1b022e17-b4b7-4646-95e2-621bfa01fc23",
      "metadata": {
        "id": "1b022e17-b4b7-4646-95e2-621bfa01fc23"
      },
      "outputs": [],
      "source": [
        "s = \"sandeep\""
      ]
    },
    {
      "cell_type": "code",
      "execution_count": 11,
      "id": "d434e346-be32-4165-8140-950c7c518573",
      "metadata": {
        "id": "d434e346-be32-4165-8140-950c7c518573",
        "outputId": "65cc9e1c-d622-491f-e284-5765fd26cd02",
        "colab": {
          "base_uri": "https://localhost:8080/"
        }
      },
      "outputs": [
        {
          "output_type": "execute_result",
          "data": {
            "text/plain": [
              "str"
            ]
          },
          "metadata": {},
          "execution_count": 11
        }
      ],
      "source": [
        "type(s)"
      ]
    },
    {
      "cell_type": "code",
      "execution_count": 12,
      "id": "b0ec814f-2284-481c-bc09-54b4bd4634d4",
      "metadata": {
        "id": "b0ec814f-2284-481c-bc09-54b4bd4634d4",
        "outputId": "9cab9268-2c6d-4fc1-cdd3-376c31b11117",
        "colab": {
          "base_uri": "https://localhost:8080/",
          "height": 36
        }
      },
      "outputs": [
        {
          "output_type": "execute_result",
          "data": {
            "text/plain": [
              "'sandeep'"
            ],
            "application/vnd.google.colaboratory.intrinsic+json": {
              "type": "string"
            }
          },
          "metadata": {},
          "execution_count": 12
        }
      ],
      "source": [
        "s"
      ]
    },
    {
      "cell_type": "code",
      "execution_count": 13,
      "id": "4f2b9936-090f-4a27-b3c4-a37a57b8d7fd",
      "metadata": {
        "id": "4f2b9936-090f-4a27-b3c4-a37a57b8d7fd"
      },
      "outputs": [],
      "source": [
        "s1 ='this is my first python practice'"
      ]
    },
    {
      "cell_type": "code",
      "execution_count": 14,
      "id": "8d3b7403-a8ad-4637-92dc-9de92eac7359",
      "metadata": {
        "id": "8d3b7403-a8ad-4637-92dc-9de92eac7359",
        "outputId": "df1b1fab-a067-47ad-d5cb-0c99004e492a",
        "colab": {
          "base_uri": "https://localhost:8080/",
          "height": 36
        }
      },
      "outputs": [
        {
          "output_type": "execute_result",
          "data": {
            "text/plain": [
              "'this is my first python practice'"
            ],
            "application/vnd.google.colaboratory.intrinsic+json": {
              "type": "string"
            }
          },
          "metadata": {},
          "execution_count": 14
        }
      ],
      "source": [
        "s1"
      ]
    },
    {
      "cell_type": "code",
      "execution_count": 15,
      "id": "a1da3bca-8538-4c1f-bb1f-6d05ddde6ee2",
      "metadata": {
        "id": "a1da3bca-8538-4c1f-bb1f-6d05ddde6ee2",
        "outputId": "dbe4eceb-ccae-431a-e49a-41619084101f",
        "colab": {
          "base_uri": "https://localhost:8080/"
        }
      },
      "outputs": [
        {
          "output_type": "execute_result",
          "data": {
            "text/plain": [
              "str"
            ]
          },
          "metadata": {},
          "execution_count": 15
        }
      ],
      "source": [
        "type(s1)"
      ]
    },
    {
      "cell_type": "code",
      "execution_count": 16,
      "id": "eb0731af-16e2-43f8-bfde-1c9cc3ea93e9",
      "metadata": {
        "id": "eb0731af-16e2-43f8-bfde-1c9cc3ea93e9"
      },
      "outputs": [],
      "source": [
        "f = 456.676"
      ]
    },
    {
      "cell_type": "code",
      "execution_count": 17,
      "id": "5976d820-6a96-41f3-8ec9-d1e37b7af9f9",
      "metadata": {
        "id": "5976d820-6a96-41f3-8ec9-d1e37b7af9f9",
        "outputId": "59ff38f8-81ed-4387-bb9d-82d20f3782bf",
        "colab": {
          "base_uri": "https://localhost:8080/"
        }
      },
      "outputs": [
        {
          "output_type": "execute_result",
          "data": {
            "text/plain": [
              "float"
            ]
          },
          "metadata": {},
          "execution_count": 17
        }
      ],
      "source": [
        "type(f)"
      ]
    },
    {
      "cell_type": "code",
      "execution_count": 18,
      "id": "425d80fe-03e3-4526-80ab-19310c9f53e4",
      "metadata": {
        "id": "425d80fe-03e3-4526-80ab-19310c9f53e4"
      },
      "outputs": [],
      "source": [
        "c = 5 + 6j"
      ]
    },
    {
      "cell_type": "code",
      "execution_count": 19,
      "id": "5f5b1c03-bdbe-4af7-bb4b-340bbc2b29d2",
      "metadata": {
        "id": "5f5b1c03-bdbe-4af7-bb4b-340bbc2b29d2",
        "outputId": "2cddf2f9-76e2-4dbc-a013-2f1030856720",
        "colab": {
          "base_uri": "https://localhost:8080/"
        }
      },
      "outputs": [
        {
          "output_type": "execute_result",
          "data": {
            "text/plain": [
              "complex"
            ]
          },
          "metadata": {},
          "execution_count": 19
        }
      ],
      "source": [
        "type(c)"
      ]
    },
    {
      "cell_type": "code",
      "execution_count": 20,
      "id": "c2d6e319-c982-46a4-9d3a-3963484107f2",
      "metadata": {
        "id": "c2d6e319-c982-46a4-9d3a-3963484107f2",
        "outputId": "43a74ce2-d496-47a8-d584-4c2949b22d7b",
        "colab": {
          "base_uri": "https://localhost:8080/"
        }
      },
      "outputs": [
        {
          "output_type": "execute_result",
          "data": {
            "text/plain": [
              "(5+6j)"
            ]
          },
          "metadata": {},
          "execution_count": 20
        }
      ],
      "source": [
        "c"
      ]
    },
    {
      "cell_type": "code",
      "execution_count": 21,
      "id": "80b1bd12-41f3-4421-a796-2c80e202efe1",
      "metadata": {
        "id": "80b1bd12-41f3-4421-a796-2c80e202efe1",
        "outputId": "c4ca0039-aaee-4539-e521-0ae7f17067c0",
        "colab": {
          "base_uri": "https://localhost:8080/"
        }
      },
      "outputs": [
        {
          "output_type": "execute_result",
          "data": {
            "text/plain": [
              "5.0"
            ]
          },
          "metadata": {},
          "execution_count": 21
        }
      ],
      "source": [
        "c.real"
      ]
    },
    {
      "cell_type": "code",
      "execution_count": 22,
      "id": "8342725c-9298-47e8-979d-529e79471240",
      "metadata": {
        "id": "8342725c-9298-47e8-979d-529e79471240",
        "outputId": "b6bda9e0-57d2-4943-cdf8-64201b0b4128",
        "colab": {
          "base_uri": "https://localhost:8080/"
        }
      },
      "outputs": [
        {
          "output_type": "execute_result",
          "data": {
            "text/plain": [
              "6.0"
            ]
          },
          "metadata": {},
          "execution_count": 22
        }
      ],
      "source": [
        "c.imag"
      ]
    },
    {
      "cell_type": "code",
      "execution_count": 23,
      "id": "4c19c15e-0916-49e7-bc9c-eb8a602a9456",
      "metadata": {
        "id": "4c19c15e-0916-49e7-bc9c-eb8a602a9456"
      },
      "outputs": [],
      "source": [
        "b = True"
      ]
    },
    {
      "cell_type": "code",
      "execution_count": 24,
      "id": "14bd5725-be38-42e4-bb54-c9d0ccd371e9",
      "metadata": {
        "id": "14bd5725-be38-42e4-bb54-c9d0ccd371e9",
        "outputId": "c0104c50-b827-4c4d-b6f4-9b0d58e804eb",
        "colab": {
          "base_uri": "https://localhost:8080/"
        }
      },
      "outputs": [
        {
          "output_type": "execute_result",
          "data": {
            "text/plain": [
              "bool"
            ]
          },
          "metadata": {},
          "execution_count": 24
        }
      ],
      "source": [
        "type(b)"
      ]
    },
    {
      "cell_type": "code",
      "execution_count": 25,
      "id": "db836909-da7c-4707-8862-dddbb82bfb78",
      "metadata": {
        "id": "db836909-da7c-4707-8862-dddbb82bfb78"
      },
      "outputs": [],
      "source": [
        "b1 = False"
      ]
    },
    {
      "cell_type": "code",
      "execution_count": 26,
      "id": "8e4f25d6-9ec5-4899-866e-3e614c879a68",
      "metadata": {
        "id": "8e4f25d6-9ec5-4899-866e-3e614c879a68",
        "outputId": "3a38c191-bf89-4e34-c064-e0d425a76a66",
        "colab": {
          "base_uri": "https://localhost:8080/"
        }
      },
      "outputs": [
        {
          "output_type": "execute_result",
          "data": {
            "text/plain": [
              "False"
            ]
          },
          "metadata": {},
          "execution_count": 26
        }
      ],
      "source": [
        "b1"
      ]
    },
    {
      "cell_type": "code",
      "execution_count": 27,
      "id": "5ae25948-22db-4e22-ad6a-d5a1ba7dac25",
      "metadata": {
        "id": "5ae25948-22db-4e22-ad6a-d5a1ba7dac25",
        "outputId": "3d02cab9-bb33-4126-8977-837bdb147b8d",
        "colab": {
          "base_uri": "https://localhost:8080/"
        }
      },
      "outputs": [
        {
          "output_type": "execute_result",
          "data": {
            "text/plain": [
              "bool"
            ]
          },
          "metadata": {},
          "execution_count": 27
        }
      ],
      "source": [
        "type(b1)"
      ]
    },
    {
      "cell_type": "code",
      "execution_count": 28,
      "id": "b4290a72-ef72-42fd-a477-d4fb2ffe52d7",
      "metadata": {
        "id": "b4290a72-ef72-42fd-a477-d4fb2ffe52d7"
      },
      "outputs": [],
      "source": [
        "a1 = 45\n",
        "a2 = 34"
      ]
    },
    {
      "cell_type": "markdown",
      "source": [
        "operators"
      ],
      "metadata": {
        "id": "aSp2XlQfVg0b"
      },
      "id": "aSp2XlQfVg0b"
    },
    {
      "cell_type": "code",
      "execution_count": 29,
      "id": "738f43a6-8140-429e-9836-ffa8665eeed9",
      "metadata": {
        "id": "738f43a6-8140-429e-9836-ffa8665eeed9",
        "outputId": "6722fd3d-f77a-4a8a-80ec-15467a45c110",
        "colab": {
          "base_uri": "https://localhost:8080/"
        }
      },
      "outputs": [
        {
          "output_type": "execute_result",
          "data": {
            "text/plain": [
              "79"
            ]
          },
          "metadata": {},
          "execution_count": 29
        }
      ],
      "source": [
        "a1+a2"
      ]
    },
    {
      "cell_type": "code",
      "execution_count": 30,
      "id": "942daaf8-ae09-42b8-b28e-6f1b72908013",
      "metadata": {
        "id": "942daaf8-ae09-42b8-b28e-6f1b72908013",
        "outputId": "3f61001f-fe83-4b90-8bf1-4a242aa62159",
        "colab": {
          "base_uri": "https://localhost:8080/"
        }
      },
      "outputs": [
        {
          "output_type": "execute_result",
          "data": {
            "text/plain": [
              "1530"
            ]
          },
          "metadata": {},
          "execution_count": 30
        }
      ],
      "source": [
        "a1*a2"
      ]
    },
    {
      "cell_type": "code",
      "execution_count": 31,
      "id": "051a05bd-92c3-4614-9dff-365ca0129104",
      "metadata": {
        "id": "051a05bd-92c3-4614-9dff-365ca0129104",
        "outputId": "d631d410-bd91-4ef7-f075-08637a4c57b6",
        "colab": {
          "base_uri": "https://localhost:8080/"
        }
      },
      "outputs": [
        {
          "output_type": "execute_result",
          "data": {
            "text/plain": [
              "1.3235294117647058"
            ]
          },
          "metadata": {},
          "execution_count": 31
        }
      ],
      "source": [
        "a1/a2"
      ]
    },
    {
      "cell_type": "code",
      "execution_count": 32,
      "id": "ba3ccb24-b344-4f1c-a5d6-51e17c5395e7",
      "metadata": {
        "id": "ba3ccb24-b344-4f1c-a5d6-51e17c5395e7",
        "outputId": "12187573-bbd0-4817-f55d-2bb37eb1892d",
        "colab": {
          "base_uri": "https://localhost:8080/"
        }
      },
      "outputs": [
        {
          "output_type": "execute_result",
          "data": {
            "text/plain": [
              "11"
            ]
          },
          "metadata": {},
          "execution_count": 32
        }
      ],
      "source": [
        "a1-a2"
      ]
    },
    {
      "cell_type": "code",
      "execution_count": 33,
      "id": "71e870f5-22a8-45da-b9dc-06200822d8a6",
      "metadata": {
        "id": "71e870f5-22a8-45da-b9dc-06200822d8a6",
        "outputId": "801372ce-fa35-40f1-880f-199ca7ce53c6",
        "colab": {
          "base_uri": "https://localhost:8080/"
        }
      },
      "outputs": [
        {
          "output_type": "execute_result",
          "data": {
            "text/plain": [
              "1.3235294117647058"
            ]
          },
          "metadata": {},
          "execution_count": 33
        }
      ],
      "source": [
        "45/34\n"
      ]
    },
    {
      "cell_type": "markdown",
      "source": [
        "variable declaration"
      ],
      "metadata": {
        "id": "BG6CTcujVlPg"
      },
      "id": "BG6CTcujVlPg"
    },
    {
      "cell_type": "code",
      "execution_count": 34,
      "id": "f66bc270-dd28-4dad-9623-dcbab6711e93",
      "metadata": {
        "id": "f66bc270-dd28-4dad-9623-dcbab6711e93"
      },
      "outputs": [],
      "source": [
        "a1 , a2 = 34,45"
      ]
    },
    {
      "cell_type": "code",
      "execution_count": 35,
      "id": "83fea6d5-ce21-4f63-989e-189e1f84c215",
      "metadata": {
        "id": "83fea6d5-ce21-4f63-989e-189e1f84c215",
        "outputId": "e1df7011-2f51-4803-aba7-64de9a8cdda4",
        "colab": {
          "base_uri": "https://localhost:8080/"
        }
      },
      "outputs": [
        {
          "output_type": "execute_result",
          "data": {
            "text/plain": [
              "34"
            ]
          },
          "metadata": {},
          "execution_count": 35
        }
      ],
      "source": [
        "a1"
      ]
    },
    {
      "cell_type": "code",
      "execution_count": 36,
      "id": "f3f5e6a0-2bfa-482d-b43b-6c9841466e2a",
      "metadata": {
        "id": "f3f5e6a0-2bfa-482d-b43b-6c9841466e2a",
        "outputId": "0924145a-3e38-48ba-e67a-4643ff9179d8",
        "colab": {
          "base_uri": "https://localhost:8080/"
        }
      },
      "outputs": [
        {
          "output_type": "execute_result",
          "data": {
            "text/plain": [
              "45"
            ]
          },
          "metadata": {},
          "execution_count": 36
        }
      ],
      "source": [
        "a2"
      ]
    },
    {
      "cell_type": "code",
      "execution_count": 37,
      "id": "48720898-185b-4068-a04f-82c8c13d2a8f",
      "metadata": {
        "id": "48720898-185b-4068-a04f-82c8c13d2a8f"
      },
      "outputs": [],
      "source": [
        "a, b,c,d = 354,\"sandeep\", 34.34 , True"
      ]
    },
    {
      "cell_type": "code",
      "execution_count": 38,
      "id": "2ba7a651-5ef2-41ff-905a-1aaa0c7c1635",
      "metadata": {
        "id": "2ba7a651-5ef2-41ff-905a-1aaa0c7c1635",
        "outputId": "c98641b2-d231-4d10-fcc2-cefbb60fe4ba",
        "colab": {
          "base_uri": "https://localhost:8080/"
        }
      },
      "outputs": [
        {
          "output_type": "execute_result",
          "data": {
            "text/plain": [
              "354"
            ]
          },
          "metadata": {},
          "execution_count": 38
        }
      ],
      "source": [
        "a"
      ]
    },
    {
      "cell_type": "code",
      "execution_count": 39,
      "id": "c8cc6a20-a882-4b47-8cce-55bec7776abf",
      "metadata": {
        "id": "c8cc6a20-a882-4b47-8cce-55bec7776abf",
        "outputId": "1388db3d-9ab8-476a-d70f-614bd414635b",
        "colab": {
          "base_uri": "https://localhost:8080/",
          "height": 36
        }
      },
      "outputs": [
        {
          "output_type": "execute_result",
          "data": {
            "text/plain": [
              "'sandeep'"
            ],
            "application/vnd.google.colaboratory.intrinsic+json": {
              "type": "string"
            }
          },
          "metadata": {},
          "execution_count": 39
        }
      ],
      "source": [
        "b"
      ]
    },
    {
      "cell_type": "code",
      "execution_count": 40,
      "id": "a82fc154-dd65-4303-ae2e-2a7c772812de",
      "metadata": {
        "id": "a82fc154-dd65-4303-ae2e-2a7c772812de",
        "outputId": "ab5b68ee-2776-4229-dc2c-cdcf8fafdc3d",
        "colab": {
          "base_uri": "https://localhost:8080/"
        }
      },
      "outputs": [
        {
          "output_type": "execute_result",
          "data": {
            "text/plain": [
              "34.34"
            ]
          },
          "metadata": {},
          "execution_count": 40
        }
      ],
      "source": [
        "c"
      ]
    },
    {
      "cell_type": "code",
      "execution_count": 41,
      "id": "bcca31b4-b271-4fb9-b8cc-67734575070e",
      "metadata": {
        "id": "bcca31b4-b271-4fb9-b8cc-67734575070e",
        "outputId": "c58689fe-1a7b-4ecd-f934-93303da1875e",
        "colab": {
          "base_uri": "https://localhost:8080/"
        }
      },
      "outputs": [
        {
          "output_type": "execute_result",
          "data": {
            "text/plain": [
              "True"
            ]
          },
          "metadata": {},
          "execution_count": 41
        }
      ],
      "source": [
        "d"
      ]
    },
    {
      "cell_type": "code",
      "execution_count": 42,
      "id": "6ade2742-8ddf-42cc-81b5-a31607065f95",
      "metadata": {
        "id": "6ade2742-8ddf-42cc-81b5-a31607065f95",
        "outputId": "074f3699-ca70-43ef-cd9d-9495f7440400",
        "colab": {
          "base_uri": "https://localhost:8080/"
        }
      },
      "outputs": [
        {
          "output_type": "stream",
          "name": "stderr",
          "text": [
            "UsageError: Line magic function `%a` not found.\n"
          ]
        }
      ],
      "source": [
        "### variable can't be declared with operators in front --> reserve keywords\n",
        "%a = 234"
      ]
    },
    {
      "cell_type": "code",
      "execution_count": 43,
      "id": "f5a89da0-6ebd-4422-985d-1a2f9f36fa14",
      "metadata": {
        "id": "f5a89da0-6ebd-4422-985d-1a2f9f36fa14",
        "outputId": "87ba2611-563b-4bfb-d7ec-e73423ca3aef",
        "colab": {
          "base_uri": "https://localhost:8080/",
          "height": 110
        }
      },
      "outputs": [
        {
          "output_type": "error",
          "ename": "SyntaxError",
          "evalue": "invalid binary literal (<ipython-input-43-c5abc2e4ece5>, line 2)",
          "traceback": [
            "\u001b[0;36m  File \u001b[0;32m\"<ipython-input-43-c5abc2e4ece5>\"\u001b[0;36m, line \u001b[0;32m2\u001b[0m\n\u001b[0;31m    0b = 2342\u001b[0m\n\u001b[0m     ^\u001b[0m\n\u001b[0;31mSyntaxError\u001b[0m\u001b[0;31m:\u001b[0m invalid binary literal\n"
          ]
        }
      ],
      "source": [
        "### numrical in first place can't be declared with operators in front\n",
        "0b = 2342"
      ]
    },
    {
      "cell_type": "code",
      "execution_count": 44,
      "id": "e06cd85c-e5dc-4884-8bb2-9e12aece9a26",
      "metadata": {
        "id": "e06cd85c-e5dc-4884-8bb2-9e12aece9a26"
      },
      "outputs": [],
      "source": [
        "b0 = 234"
      ]
    },
    {
      "cell_type": "code",
      "execution_count": 45,
      "id": "fe782cc8-9fa5-4e33-ae3c-7be6bac37434",
      "metadata": {
        "id": "fe782cc8-9fa5-4e33-ae3c-7be6bac37434",
        "outputId": "d4da6bd6-21c3-4d58-cb4a-6cf877db514a",
        "colab": {
          "base_uri": "https://localhost:8080/",
          "height": 110
        }
      },
      "outputs": [
        {
          "output_type": "error",
          "ename": "SyntaxError",
          "evalue": "invalid syntax. Maybe you meant '==' or ':=' instead of '='? (<ipython-input-45-21619ace1458>, line 1)",
          "traceback": [
            "\u001b[0;36m  File \u001b[0;32m\"<ipython-input-45-21619ace1458>\"\u001b[0;36m, line \u001b[0;32m1\u001b[0m\n\u001b[0;31m    @h = 3543\u001b[0m\n\u001b[0m     ^\u001b[0m\n\u001b[0;31mSyntaxError\u001b[0m\u001b[0;31m:\u001b[0m invalid syntax. Maybe you meant '==' or ':=' instead of '='?\n"
          ]
        }
      ],
      "source": [
        "@h = 3543"
      ]
    },
    {
      "cell_type": "code",
      "execution_count": 46,
      "id": "5d8d39a2-6bc0-4413-b220-108d77856b9d",
      "metadata": {
        "id": "5d8d39a2-6bc0-4413-b220-108d77856b9d"
      },
      "outputs": [],
      "source": [
        "_a = 34\n"
      ]
    },
    {
      "cell_type": "code",
      "execution_count": 47,
      "id": "bbdeb89b-935f-4955-8d76-f01ac83f1d9e",
      "metadata": {
        "id": "bbdeb89b-935f-4955-8d76-f01ac83f1d9e",
        "outputId": "f7f38cf6-8eb6-4d59-8bc9-c7c128119e54",
        "colab": {
          "base_uri": "https://localhost:8080/",
          "height": 110
        }
      },
      "outputs": [
        {
          "output_type": "error",
          "ename": "SyntaxError",
          "evalue": "cannot assign to expression here. Maybe you meant '==' instead of '='? (<ipython-input-47-bee40060e6ca>, line 1)",
          "traceback": [
            "\u001b[0;36m  File \u001b[0;32m\"<ipython-input-47-bee40060e6ca>\"\u001b[0;36m, line \u001b[0;32m1\u001b[0m\n\u001b[0;31m    -b = 234\u001b[0m\n\u001b[0m    ^\u001b[0m\n\u001b[0;31mSyntaxError\u001b[0m\u001b[0;31m:\u001b[0m cannot assign to expression here. Maybe you meant '==' instead of '='?\n"
          ]
        }
      ],
      "source": [
        "-b = 234"
      ]
    },
    {
      "cell_type": "code",
      "execution_count": 48,
      "id": "5ecb2cb6-04bc-4fc5-bd10-ac2a35335c79",
      "metadata": {
        "id": "5ecb2cb6-04bc-4fc5-bd10-ac2a35335c79",
        "outputId": "5eee0e51-8e37-4ba8-b3c3-ca37b05639f7",
        "colab": {
          "base_uri": "https://localhost:8080/",
          "height": 110
        }
      },
      "outputs": [
        {
          "output_type": "error",
          "ename": "SyntaxError",
          "evalue": "cannot assign to True (<ipython-input-48-366c2deeffec>, line 1)",
          "traceback": [
            "\u001b[0;36m  File \u001b[0;32m\"<ipython-input-48-366c2deeffec>\"\u001b[0;36m, line \u001b[0;32m1\u001b[0m\n\u001b[0;31m    True = 45\u001b[0m\n\u001b[0m    ^\u001b[0m\n\u001b[0;31mSyntaxError\u001b[0m\u001b[0;31m:\u001b[0m cannot assign to True\n"
          ]
        }
      ],
      "source": [
        "True = 45"
      ]
    },
    {
      "cell_type": "code",
      "execution_count": 49,
      "id": "42b94e54-358c-4d86-add9-3c7e6013b559",
      "metadata": {
        "id": "42b94e54-358c-4d86-add9-3c7e6013b559"
      },
      "outputs": [],
      "source": [
        "int = 345"
      ]
    },
    {
      "cell_type": "code",
      "execution_count": 50,
      "id": "b2e6d87a-e0b8-462f-b37c-2cc4a199b1ea",
      "metadata": {
        "id": "b2e6d87a-e0b8-462f-b37c-2cc4a199b1ea",
        "outputId": "37901258-fa21-4abe-c35b-95eafc916d8c",
        "colab": {
          "base_uri": "https://localhost:8080/"
        }
      },
      "outputs": [
        {
          "output_type": "execute_result",
          "data": {
            "text/plain": [
              "345"
            ]
          },
          "metadata": {},
          "execution_count": 50
        }
      ],
      "source": [
        "int"
      ]
    },
    {
      "cell_type": "code",
      "execution_count": 51,
      "id": "aac20f75-01ff-4b88-b97f-03508238d070",
      "metadata": {
        "id": "aac20f75-01ff-4b88-b97f-03508238d070"
      },
      "outputs": [],
      "source": [
        "b1 = True"
      ]
    },
    {
      "cell_type": "code",
      "execution_count": 52,
      "id": "d080827c-c72c-416e-b6fb-6787247807eb",
      "metadata": {
        "id": "d080827c-c72c-416e-b6fb-6787247807eb"
      },
      "outputs": [],
      "source": [
        "b2 = False"
      ]
    },
    {
      "cell_type": "code",
      "execution_count": 53,
      "id": "b7e36683-d268-4a47-8990-b051470f03fb",
      "metadata": {
        "id": "b7e36683-d268-4a47-8990-b051470f03fb",
        "outputId": "55ad08c1-aefa-4beb-a3a6-c770a8dcc664",
        "colab": {
          "base_uri": "https://localhost:8080/"
        }
      },
      "outputs": [
        {
          "output_type": "execute_result",
          "data": {
            "text/plain": [
              "1"
            ]
          },
          "metadata": {},
          "execution_count": 53
        }
      ],
      "source": [
        "b1 - b2"
      ]
    },
    {
      "cell_type": "code",
      "execution_count": 54,
      "id": "f82662bd-cf7c-45a4-93f1-b22d3a8cf9eb",
      "metadata": {
        "id": "f82662bd-cf7c-45a4-93f1-b22d3a8cf9eb",
        "outputId": "a32cf2d9-c07f-4046-8d2a-d137f3d45f26",
        "colab": {
          "base_uri": "https://localhost:8080/"
        }
      },
      "outputs": [
        {
          "output_type": "execute_result",
          "data": {
            "text/plain": [
              "1"
            ]
          },
          "metadata": {},
          "execution_count": 54
        }
      ],
      "source": [
        "b1*b1"
      ]
    },
    {
      "cell_type": "code",
      "execution_count": 55,
      "id": "2e85ce23-9ef8-4183-b0f0-79436d312525",
      "metadata": {
        "id": "2e85ce23-9ef8-4183-b0f0-79436d312525",
        "outputId": "30662520-dca5-4a52-b097-abdff3354364",
        "colab": {
          "base_uri": "https://localhost:8080/",
          "height": 146
        }
      },
      "outputs": [
        {
          "output_type": "error",
          "ename": "ZeroDivisionError",
          "evalue": "division by zero",
          "traceback": [
            "\u001b[0;31m---------------------------------------------------------------------------\u001b[0m",
            "\u001b[0;31mZeroDivisionError\u001b[0m                         Traceback (most recent call last)",
            "\u001b[0;32m<ipython-input-55-834e810e37ec>\u001b[0m in \u001b[0;36m<cell line: 1>\u001b[0;34m()\u001b[0m\n\u001b[0;32m----> 1\u001b[0;31m \u001b[0mb1\u001b[0m\u001b[0;34m/\u001b[0m\u001b[0mb2\u001b[0m\u001b[0;34m\u001b[0m\u001b[0;34m\u001b[0m\u001b[0m\n\u001b[0m",
            "\u001b[0;31mZeroDivisionError\u001b[0m: division by zero"
          ]
        }
      ],
      "source": [
        "b1/b2"
      ]
    },
    {
      "cell_type": "code",
      "execution_count": 56,
      "id": "b9134730-9f44-4029-ae5a-572573b94290",
      "metadata": {
        "id": "b9134730-9f44-4029-ae5a-572573b94290"
      },
      "outputs": [],
      "source": [
        "s1 = 'my name is Sandeep Chowdhury'"
      ]
    },
    {
      "cell_type": "code",
      "execution_count": 57,
      "id": "dc4ec548-157f-4c6b-a3b7-dc515ebf3836",
      "metadata": {
        "id": "dc4ec548-157f-4c6b-a3b7-dc515ebf3836",
        "outputId": "b1824c54-8e63-4b65-ea6b-cb86fb6c1970",
        "colab": {
          "base_uri": "https://localhost:8080/",
          "height": 36
        }
      },
      "outputs": [
        {
          "output_type": "execute_result",
          "data": {
            "text/plain": [
              "'my name is Sandeep Chowdhury'"
            ],
            "application/vnd.google.colaboratory.intrinsic+json": {
              "type": "string"
            }
          },
          "metadata": {},
          "execution_count": 57
        }
      ],
      "source": [
        "s1"
      ]
    },
    {
      "cell_type": "code",
      "execution_count": 58,
      "id": "043f55bc-e54e-4f09-a816-7565df20f90b",
      "metadata": {
        "id": "043f55bc-e54e-4f09-a816-7565df20f90b",
        "outputId": "7bbd9726-6b8d-47c8-b2a1-814cfaef0bd3",
        "colab": {
          "base_uri": "https://localhost:8080/"
        }
      },
      "outputs": [
        {
          "output_type": "execute_result",
          "data": {
            "text/plain": [
              "str"
            ]
          },
          "metadata": {},
          "execution_count": 58
        }
      ],
      "source": [
        "type(s1)"
      ]
    },
    {
      "cell_type": "code",
      "execution_count": 59,
      "id": "5e13d8e2-cbd4-4f86-be5f-489714f95155",
      "metadata": {
        "id": "5e13d8e2-cbd4-4f86-be5f-489714f95155"
      },
      "outputs": [],
      "source": [
        "s2 = \"this is my a pythin basic introduction\""
      ]
    },
    {
      "cell_type": "code",
      "execution_count": 60,
      "id": "f520a5db-2927-4fa8-9ed3-e74c6f580e00",
      "metadata": {
        "id": "f520a5db-2927-4fa8-9ed3-e74c6f580e00",
        "outputId": "7e8fbfb8-3c69-45d1-d04b-0965cab99565",
        "colab": {
          "base_uri": "https://localhost:8080/",
          "height": 36
        }
      },
      "outputs": [
        {
          "output_type": "execute_result",
          "data": {
            "text/plain": [
              "'this is my a pythin basic introduction'"
            ],
            "application/vnd.google.colaboratory.intrinsic+json": {
              "type": "string"
            }
          },
          "metadata": {},
          "execution_count": 60
        }
      ],
      "source": [
        "s2"
      ]
    },
    {
      "cell_type": "code",
      "execution_count": 61,
      "id": "a4383fc3-6c7b-4780-8816-f5eeeddcebac",
      "metadata": {
        "id": "a4383fc3-6c7b-4780-8816-f5eeeddcebac"
      },
      "outputs": [],
      "source": [
        "#this is my code to create a string variable with quotes\n",
        "\n",
        "s3='this lecture is made by sandeep'"
      ]
    },
    {
      "cell_type": "code",
      "source": [
        "\n",
        "s3\n"
      ],
      "metadata": {
        "colab": {
          "base_uri": "https://localhost:8080/",
          "height": 35
        },
        "id": "W48uNIjFI7GU",
        "outputId": "8c89f688-f4a8-4260-ea07-e8c12156424e"
      },
      "id": "W48uNIjFI7GU",
      "execution_count": null,
      "outputs": [
        {
          "output_type": "execute_result",
          "data": {
            "text/plain": [
              "'this is my first python class for data science master\"s'"
            ],
            "application/vnd.google.colaboratory.intrinsic+json": {
              "type": "string"
            }
          },
          "metadata": {},
          "execution_count": 2
        }
      ]
    },
    {
      "cell_type": "code",
      "execution_count": 62,
      "id": "48df7fe3-b73a-42ba-8f74-1b6832765277",
      "metadata": {
        "id": "48df7fe3-b73a-42ba-8f74-1b6832765277"
      },
      "outputs": [],
      "source": [
        "'''this is my first pyton practice\n",
        "i am trying to learn variable declaration\n",
        "so far i have learnt int , boolean, string , complex number , float variable declaration'''\n",
        "a = 10"
      ]
    },
    {
      "cell_type": "code",
      "execution_count": 63,
      "id": "44cfdaa3-7b10-4091-bd10-c361a1f0d578",
      "metadata": {
        "id": "44cfdaa3-7b10-4091-bd10-c361a1f0d578"
      },
      "outputs": [],
      "source": [
        "s1 = \"sandeep\""
      ]
    },
    {
      "cell_type": "code",
      "execution_count": 64,
      "id": "74d85a0a-2883-44a2-b542-05121f115c8c",
      "metadata": {
        "id": "74d85a0a-2883-44a2-b542-05121f115c8c"
      },
      "outputs": [],
      "source": [
        "a = 10"
      ]
    },
    {
      "cell_type": "code",
      "execution_count": 65,
      "id": "0a28ff3a-8ca4-473e-b02b-ad19c240d84a",
      "metadata": {
        "id": "0a28ff3a-8ca4-473e-b02b-ad19c240d84a",
        "outputId": "611a548b-5ab8-4c17-ce65-c0aa0db913d4",
        "colab": {
          "base_uri": "https://localhost:8080/",
          "height": 146
        }
      },
      "outputs": [
        {
          "output_type": "error",
          "ename": "NameError",
          "evalue": "name 'string' is not defined",
          "traceback": [
            "\u001b[0;31m---------------------------------------------------------------------------\u001b[0m",
            "\u001b[0;31mNameError\u001b[0m                                 Traceback (most recent call last)",
            "\u001b[0;32m<ipython-input-65-8945154e472d>\u001b[0m in \u001b[0;36m<cell line: 1>\u001b[0;34m()\u001b[0m\n\u001b[0;32m----> 1\u001b[0;31m \u001b[0ms1\u001b[0m \u001b[0;34m+\u001b[0m \u001b[0mstring\u001b[0m\u001b[0;34m(\u001b[0m\u001b[0ma\u001b[0m\u001b[0;34m)\u001b[0m\u001b[0;34m\u001b[0m\u001b[0;34m\u001b[0m\u001b[0m\n\u001b[0m",
            "\u001b[0;31mNameError\u001b[0m: name 'string' is not defined"
          ]
        }
      ],
      "source": [
        "s1 + string(a)"
      ]
    },
    {
      "cell_type": "code",
      "source": [
        "s1+str(a)"
      ],
      "metadata": {
        "id": "S3ms0NDxWcy7",
        "outputId": "5685d863-c3a3-409e-e87f-8f1c1de1a9d0",
        "colab": {
          "base_uri": "https://localhost:8080/",
          "height": 36
        }
      },
      "id": "S3ms0NDxWcy7",
      "execution_count": 66,
      "outputs": [
        {
          "output_type": "execute_result",
          "data": {
            "text/plain": [
              "'sandeep10'"
            ],
            "application/vnd.google.colaboratory.intrinsic+json": {
              "type": "string"
            }
          },
          "metadata": {},
          "execution_count": 66
        }
      ]
    },
    {
      "cell_type": "code",
      "execution_count": 72,
      "id": "ed3e7bd4-0bda-46e9-ac71-36dc3e963796",
      "metadata": {
        "id": "ed3e7bd4-0bda-46e9-ac71-36dc3e963796",
        "outputId": "84166df3-53c4-4f13-f748-e9dec303908e",
        "colab": {
          "base_uri": "https://localhost:8080/",
          "height": 36
        }
      },
      "outputs": [
        {
          "output_type": "execute_result",
          "data": {
            "text/plain": [
              "'sandeepchowdhury'"
            ],
            "application/vnd.google.colaboratory.intrinsic+json": {
              "type": "string"
            }
          },
          "metadata": {},
          "execution_count": 72
        }
      ],
      "source": [
        "'sandeep'  +  'chowdhury'"
      ]
    },
    {
      "cell_type": "code",
      "execution_count": 69,
      "id": "98d85abe-eba1-4e9b-a1a4-4b7577900b03",
      "metadata": {
        "id": "98d85abe-eba1-4e9b-a1a4-4b7577900b03",
        "outputId": "b466a6b9-8fca-473f-9065-90ee149bf35e",
        "colab": {
          "base_uri": "https://localhost:8080/"
        }
      },
      "outputs": [
        {
          "output_type": "execute_result",
          "data": {
            "text/plain": [
              "10"
            ]
          },
          "metadata": {},
          "execution_count": 69
        }
      ],
      "source": [
        "a"
      ]
    },
    {
      "cell_type": "code",
      "execution_count": 68,
      "id": "2945b85f-87a8-4261-b1d0-9a4378652a2c",
      "metadata": {
        "id": "2945b85f-87a8-4261-b1d0-9a4378652a2c",
        "outputId": "5af73339-a665-4e86-bc30-9ef1c893aa6b",
        "colab": {
          "base_uri": "https://localhost:8080/"
        }
      },
      "outputs": [
        {
          "output_type": "execute_result",
          "data": {
            "text/plain": [
              "int"
            ]
          },
          "metadata": {},
          "execution_count": 68
        }
      ],
      "source": [
        "type(a)"
      ]
    },
    {
      "cell_type": "code",
      "execution_count": 70,
      "id": "c8add096-ab4e-40fe-a745-31780d904259",
      "metadata": {
        "id": "c8add096-ab4e-40fe-a745-31780d904259",
        "outputId": "0b66d809-9c28-49ec-816e-d77a1f1d4d98",
        "colab": {
          "base_uri": "https://localhost:8080/",
          "height": 36
        }
      },
      "outputs": [
        {
          "output_type": "execute_result",
          "data": {
            "text/plain": [
              "'10'"
            ],
            "application/vnd.google.colaboratory.intrinsic+json": {
              "type": "string"
            }
          },
          "metadata": {},
          "execution_count": 70
        }
      ],
      "source": [
        "str(a)"
      ]
    },
    {
      "cell_type": "code",
      "execution_count": 71,
      "id": "1f123c5c-cb0e-4ffe-8097-d00542ba3de7",
      "metadata": {
        "id": "1f123c5c-cb0e-4ffe-8097-d00542ba3de7",
        "outputId": "deef62e3-aef0-410c-86d0-a7e90ade89e3",
        "colab": {
          "base_uri": "https://localhost:8080/",
          "height": 36
        }
      },
      "outputs": [
        {
          "output_type": "execute_result",
          "data": {
            "text/plain": [
              "'10'"
            ],
            "application/vnd.google.colaboratory.intrinsic+json": {
              "type": "string"
            }
          },
          "metadata": {},
          "execution_count": 71
        }
      ],
      "source": [
        "'10'"
      ]
    },
    {
      "cell_type": "code",
      "execution_count": 74,
      "id": "1d4f9509-40fc-4fd6-b8b9-9785f3b42ffe",
      "metadata": {
        "id": "1d4f9509-40fc-4fd6-b8b9-9785f3b42ffe",
        "outputId": "cd0084b1-00a6-4760-adfe-d315e44f1c92",
        "colab": {
          "base_uri": "https://localhost:8080/",
          "height": 36
        }
      },
      "outputs": [
        {
          "output_type": "execute_result",
          "data": {
            "text/plain": [
              "'sandeep 10'"
            ],
            "application/vnd.google.colaboratory.intrinsic+json": {
              "type": "string"
            }
          },
          "metadata": {},
          "execution_count": 74
        }
      ],
      "source": [
        "s1 = \"sandeep\"\n",
        "s1 + \" \" + str(10)"
      ]
    },
    {
      "cell_type": "code",
      "execution_count": 75,
      "id": "09ee1016-4dfb-4a32-b8ac-cd655174795f",
      "metadata": {
        "id": "09ee1016-4dfb-4a32-b8ac-cd655174795f",
        "outputId": "79bef2eb-114e-4a80-f645-c2d316bf7d59",
        "colab": {
          "base_uri": "https://localhost:8080/"
        }
      },
      "outputs": [
        {
          "output_type": "execute_result",
          "data": {
            "text/plain": [
              "10"
            ]
          },
          "metadata": {},
          "execution_count": 75
        }
      ],
      "source": [
        "a"
      ]
    },
    {
      "cell_type": "code",
      "execution_count": 76,
      "id": "b5a258d9-1d72-4e0a-92ea-94bb9349d2b6",
      "metadata": {
        "id": "b5a258d9-1d72-4e0a-92ea-94bb9349d2b6"
      },
      "outputs": [],
      "source": [
        "b = str(a)"
      ]
    },
    {
      "cell_type": "code",
      "execution_count": null,
      "id": "0dd4235e-3488-44f6-833c-f41031ca3e61",
      "metadata": {
        "id": "0dd4235e-3488-44f6-833c-f41031ca3e61",
        "outputId": "110d1315-24ef-4ae5-ee05-225c760355da"
      },
      "outputs": [
        {
          "data": {
            "text/plain": [
              "'10'"
            ]
          },
          "execution_count": 11,
          "metadata": {},
          "output_type": "execute_result"
        }
      ],
      "source": [
        "b"
      ]
    },
    {
      "cell_type": "code",
      "execution_count": 77,
      "id": "c973a624-2067-4a4f-845a-339e81bbb06c",
      "metadata": {
        "id": "c973a624-2067-4a4f-845a-339e81bbb06c",
        "outputId": "0cd1ff08-8b23-4a72-9cb1-5c93f91f56e4",
        "colab": {
          "base_uri": "https://localhost:8080/",
          "height": 146
        }
      },
      "outputs": [
        {
          "output_type": "error",
          "ename": "TypeError",
          "evalue": "'int' object is not callable",
          "traceback": [
            "\u001b[0;31m---------------------------------------------------------------------------\u001b[0m",
            "\u001b[0;31mTypeError\u001b[0m                                 Traceback (most recent call last)",
            "\u001b[0;32m<ipython-input-77-07ae29993d50>\u001b[0m in \u001b[0;36m<cell line: 1>\u001b[0;34m()\u001b[0m\n\u001b[0;32m----> 1\u001b[0;31m \u001b[0mint\u001b[0m\u001b[0;34m(\u001b[0m\u001b[0mb\u001b[0m\u001b[0;34m)\u001b[0m\u001b[0;34m\u001b[0m\u001b[0;34m\u001b[0m\u001b[0m\n\u001b[0m",
            "\u001b[0;31mTypeError\u001b[0m: 'int' object is not callable"
          ]
        }
      ],
      "source": [
        "int(b)"
      ]
    },
    {
      "cell_type": "code",
      "execution_count": 78,
      "id": "c3524472-45a4-4c54-9cf5-dbfb394cd029",
      "metadata": {
        "id": "c3524472-45a4-4c54-9cf5-dbfb394cd029"
      },
      "outputs": [],
      "source": [
        "s = \"sandeep\""
      ]
    },
    {
      "cell_type": "code",
      "execution_count": 79,
      "id": "f02a6294-31c5-430d-9cb8-a3809289f7f9",
      "metadata": {
        "id": "f02a6294-31c5-430d-9cb8-a3809289f7f9",
        "outputId": "b51838bf-f250-4890-e424-8d1eddc26e6a",
        "colab": {
          "base_uri": "https://localhost:8080/",
          "height": 146
        }
      },
      "outputs": [
        {
          "output_type": "error",
          "ename": "TypeError",
          "evalue": "'int' object is not callable",
          "traceback": [
            "\u001b[0;31m---------------------------------------------------------------------------\u001b[0m",
            "\u001b[0;31mTypeError\u001b[0m                                 Traceback (most recent call last)",
            "\u001b[0;32m<ipython-input-79-2c4720ab420a>\u001b[0m in \u001b[0;36m<cell line: 1>\u001b[0;34m()\u001b[0m\n\u001b[0;32m----> 1\u001b[0;31m \u001b[0mint\u001b[0m\u001b[0;34m(\u001b[0m\u001b[0ms\u001b[0m\u001b[0;34m)\u001b[0m\u001b[0;34m\u001b[0m\u001b[0;34m\u001b[0m\u001b[0m\n\u001b[0m",
            "\u001b[0;31mTypeError\u001b[0m: 'int' object is not callable"
          ]
        }
      ],
      "source": [
        "int(s)"
      ]
    },
    {
      "cell_type": "markdown",
      "source": [
        "Typecasting --> next chapter"
      ],
      "metadata": {
        "id": "JSZHIA9dW9P6"
      },
      "id": "JSZHIA9dW9P6"
    },
    {
      "cell_type": "code",
      "source": [
        "num = 10\n",
        "num_str=str(num)\n",
        "num_str"
      ],
      "metadata": {
        "id": "Lv989nBiWxeV",
        "outputId": "1227255a-70b2-44d6-a7a7-07ddba90dacd",
        "colab": {
          "base_uri": "https://localhost:8080/",
          "height": 36
        }
      },
      "id": "Lv989nBiWxeV",
      "execution_count": 80,
      "outputs": [
        {
          "output_type": "execute_result",
          "data": {
            "text/plain": [
              "'10'"
            ],
            "application/vnd.google.colaboratory.intrinsic+json": {
              "type": "string"
            }
          },
          "metadata": {},
          "execution_count": 80
        }
      ]
    },
    {
      "cell_type": "code",
      "execution_count": 81,
      "id": "b163363f-b838-4bdd-a29b-4fc930b807ac",
      "metadata": {
        "id": "b163363f-b838-4bdd-a29b-4fc930b807ac"
      },
      "outputs": [],
      "source": [
        "a = 453253"
      ]
    },
    {
      "cell_type": "code",
      "execution_count": 82,
      "id": "ab3e1e64-9828-4131-a6a4-7394df4571df",
      "metadata": {
        "id": "ab3e1e64-9828-4131-a6a4-7394df4571df",
        "outputId": "d493fe71-0cf1-4fe2-c57f-7d6413110157",
        "colab": {
          "base_uri": "https://localhost:8080/"
        }
      },
      "outputs": [
        {
          "name": "stdout",
          "output_type": "stream",
          "text": [
            "true\n"
          ]
        }
      ],
      "source": [
        "b = bool(input())"
      ]
    },
    {
      "cell_type": "code",
      "execution_count": 84,
      "id": "552c1085-d9d5-4957-9911-5800e5b3f7be",
      "metadata": {
        "id": "552c1085-d9d5-4957-9911-5800e5b3f7be",
        "outputId": "8b6e4b34-2e82-49d9-c3f7-0b221af29a6e",
        "colab": {
          "base_uri": "https://localhost:8080/"
        }
      },
      "outputs": [
        {
          "output_type": "execute_result",
          "data": {
            "text/plain": [
              "True"
            ]
          },
          "metadata": {},
          "execution_count": 84
        }
      ],
      "source": [
        "b"
      ]
    },
    {
      "cell_type": "code",
      "execution_count": 85,
      "id": "42a93666-b92f-4630-852c-38e698873e03",
      "metadata": {
        "id": "42a93666-b92f-4630-852c-38e698873e03",
        "outputId": "87bef884-ee51-4056-ac84-fef337972ab7",
        "colab": {
          "base_uri": "https://localhost:8080/"
        }
      },
      "outputs": [
        {
          "output_type": "execute_result",
          "data": {
            "text/plain": [
              "bool"
            ]
          },
          "metadata": {},
          "execution_count": 85
        }
      ],
      "source": [
        "type(b)"
      ]
    },
    {
      "cell_type": "code",
      "execution_count": 118,
      "id": "8ceba7be-b3fc-4b6b-a6f1-45c12614eea9",
      "metadata": {
        "id": "8ceba7be-b3fc-4b6b-a6f1-45c12614eea9",
        "outputId": "17763cab-f16d-45bd-e4e4-15cf94bd2933",
        "colab": {
          "base_uri": "https://localhost:8080/",
          "height": 164
        }
      },
      "outputs": [
        {
          "name": "stdout",
          "output_type": "stream",
          "text": [
            "6\n"
          ]
        },
        {
          "output_type": "error",
          "ename": "TypeError",
          "evalue": "'int' object is not callable",
          "traceback": [
            "\u001b[0;31m---------------------------------------------------------------------------\u001b[0m",
            "\u001b[0;31mTypeError\u001b[0m                                 Traceback (most recent call last)",
            "\u001b[0;32m<ipython-input-118-6a9dc6714793>\u001b[0m in \u001b[0;36m<cell line: 1>\u001b[0;34m()\u001b[0m\n\u001b[0;32m----> 1\u001b[0;31m \u001b[0md1\u001b[0m \u001b[0;34m=\u001b[0m \u001b[0mint\u001b[0m\u001b[0;34m(\u001b[0m\u001b[0minput\u001b[0m\u001b[0;34m(\u001b[0m\u001b[0;34m)\u001b[0m\u001b[0;34m)\u001b[0m\u001b[0;34m\u001b[0m\u001b[0;34m\u001b[0m\u001b[0m\n\u001b[0m",
            "\u001b[0;31mTypeError\u001b[0m: 'int' object is not callable"
          ]
        }
      ],
      "source": [
        "d1 = int(input())"
      ]
    },
    {
      "cell_type": "code",
      "source": [
        "d2 = float(input())\n",
        "d2"
      ],
      "metadata": {
        "id": "WgZYNgyDZ8Dl",
        "outputId": "98d44f5f-b62d-461b-8859-35345bff578f",
        "colab": {
          "base_uri": "https://localhost:8080/"
        }
      },
      "id": "WgZYNgyDZ8Dl",
      "execution_count": 119,
      "outputs": [
        {
          "name": "stdout",
          "output_type": "stream",
          "text": [
            "22.22\n"
          ]
        },
        {
          "output_type": "execute_result",
          "data": {
            "text/plain": [
              "22.22"
            ]
          },
          "metadata": {},
          "execution_count": 119
        }
      ]
    },
    {
      "cell_type": "code",
      "execution_count": 87,
      "id": "35b4f01e-eb21-489d-8500-a718d43aa979",
      "metadata": {
        "id": "35b4f01e-eb21-489d-8500-a718d43aa979",
        "outputId": "59bddbc9-012e-4b7b-9cc5-c77425273cd1",
        "colab": {
          "base_uri": "https://localhost:8080/"
        }
      },
      "outputs": [
        {
          "output_type": "execute_result",
          "data": {
            "text/plain": [
              "True"
            ]
          },
          "metadata": {},
          "execution_count": 87
        }
      ],
      "source": [
        "d"
      ]
    },
    {
      "cell_type": "code",
      "execution_count": 89,
      "id": "59091546-926d-494d-a85f-6d40d13f3ecd",
      "metadata": {
        "id": "59091546-926d-494d-a85f-6d40d13f3ecd",
        "outputId": "3d2b2c05-245c-478c-9da7-97cb454dae1b",
        "colab": {
          "base_uri": "https://localhost:8080/"
        }
      },
      "outputs": [
        {
          "output_type": "execute_result",
          "data": {
            "text/plain": [
              "bool"
            ]
          },
          "metadata": {},
          "execution_count": 89
        }
      ],
      "source": [
        "type(d)"
      ]
    },
    {
      "cell_type": "code",
      "execution_count": 90,
      "id": "cdc0a0a0-80f6-415b-bb33-523220a52c88",
      "metadata": {
        "id": "cdc0a0a0-80f6-415b-bb33-523220a52c88"
      },
      "outputs": [],
      "source": [
        "s = \"sandeep\""
      ]
    },
    {
      "cell_type": "code",
      "execution_count": 91,
      "id": "e5f0fca1-b995-4bd1-907b-fa74ff8a0d85",
      "metadata": {
        "id": "e5f0fca1-b995-4bd1-907b-fa74ff8a0d85",
        "outputId": "2b2fa632-4bda-448a-ab73-467f3e7954cc",
        "colab": {
          "base_uri": "https://localhost:8080/",
          "height": 36
        }
      },
      "outputs": [
        {
          "output_type": "execute_result",
          "data": {
            "text/plain": [
              "'a'"
            ],
            "application/vnd.google.colaboratory.intrinsic+json": {
              "type": "string"
            }
          },
          "metadata": {},
          "execution_count": 91
        }
      ],
      "source": [
        "s[1]"
      ]
    },
    {
      "cell_type": "code",
      "execution_count": 92,
      "id": "3e32240f-805f-4807-adca-a11db76b9e77",
      "metadata": {
        "id": "3e32240f-805f-4807-adca-a11db76b9e77",
        "outputId": "296bfd13-87a2-4e59-cb10-55f088c5fb61",
        "colab": {
          "base_uri": "https://localhost:8080/",
          "height": 36
        }
      },
      "outputs": [
        {
          "output_type": "execute_result",
          "data": {
            "text/plain": [
              "'d'"
            ],
            "application/vnd.google.colaboratory.intrinsic+json": {
              "type": "string"
            }
          },
          "metadata": {},
          "execution_count": 92
        }
      ],
      "source": [
        "s[3]"
      ]
    },
    {
      "cell_type": "code",
      "execution_count": 93,
      "id": "21edb6cb-07ed-4c41-8d76-d550d12210f1",
      "metadata": {
        "id": "21edb6cb-07ed-4c41-8d76-d550d12210f1",
        "outputId": "6c985cc4-4a60-4457-d68f-bf37d3225232",
        "colab": {
          "base_uri": "https://localhost:8080/",
          "height": 146
        }
      },
      "outputs": [
        {
          "output_type": "error",
          "ename": "IndexError",
          "evalue": "string index out of range",
          "traceback": [
            "\u001b[0;31m---------------------------------------------------------------------------\u001b[0m",
            "\u001b[0;31mIndexError\u001b[0m                                Traceback (most recent call last)",
            "\u001b[0;32m<ipython-input-93-2a138df92e52>\u001b[0m in \u001b[0;36m<cell line: 1>\u001b[0;34m()\u001b[0m\n\u001b[0;32m----> 1\u001b[0;31m \u001b[0ms\u001b[0m\u001b[0;34m[\u001b[0m\u001b[0;36m100\u001b[0m\u001b[0;34m]\u001b[0m\u001b[0;34m\u001b[0m\u001b[0;34m\u001b[0m\u001b[0m\n\u001b[0m",
            "\u001b[0;31mIndexError\u001b[0m: string index out of range"
          ]
        }
      ],
      "source": [
        "s[100]"
      ]
    },
    {
      "cell_type": "code",
      "execution_count": 94,
      "id": "6a364fd9-efaf-41ec-8f8b-5fdbe75c8cd6",
      "metadata": {
        "id": "6a364fd9-efaf-41ec-8f8b-5fdbe75c8cd6",
        "outputId": "51d74338-b38f-4988-b263-70831e4581a7",
        "colab": {
          "base_uri": "https://localhost:8080/",
          "height": 36
        }
      },
      "outputs": [
        {
          "output_type": "execute_result",
          "data": {
            "text/plain": [
              "'p'"
            ],
            "application/vnd.google.colaboratory.intrinsic+json": {
              "type": "string"
            }
          },
          "metadata": {},
          "execution_count": 94
        }
      ],
      "source": [
        "s[-1]"
      ]
    },
    {
      "cell_type": "code",
      "execution_count": 95,
      "id": "468b7904-9d03-4514-97ff-fa772af7f2c7",
      "metadata": {
        "id": "468b7904-9d03-4514-97ff-fa772af7f2c7",
        "outputId": "0f45cb49-ad6f-431e-c899-478ce15f6f41",
        "colab": {
          "base_uri": "https://localhost:8080/",
          "height": 36
        }
      },
      "outputs": [
        {
          "output_type": "execute_result",
          "data": {
            "text/plain": [
              "'d'"
            ],
            "application/vnd.google.colaboratory.intrinsic+json": {
              "type": "string"
            }
          },
          "metadata": {},
          "execution_count": 95
        }
      ],
      "source": [
        "s[-4]"
      ]
    },
    {
      "cell_type": "code",
      "execution_count": 96,
      "id": "58953ec4-36e7-4857-866b-18eb8d64769c",
      "metadata": {
        "id": "58953ec4-36e7-4857-866b-18eb8d64769c",
        "outputId": "d107489d-63cd-49f3-a61c-a295dfb33754",
        "colab": {
          "base_uri": "https://localhost:8080/",
          "height": 146
        }
      },
      "outputs": [
        {
          "output_type": "error",
          "ename": "IndexError",
          "evalue": "string index out of range",
          "traceback": [
            "\u001b[0;31m---------------------------------------------------------------------------\u001b[0m",
            "\u001b[0;31mIndexError\u001b[0m                                Traceback (most recent call last)",
            "\u001b[0;32m<ipython-input-96-dbf9ae6e9120>\u001b[0m in \u001b[0;36m<cell line: 1>\u001b[0;34m()\u001b[0m\n\u001b[0;32m----> 1\u001b[0;31m \u001b[0ms\u001b[0m\u001b[0;34m[\u001b[0m\u001b[0;34m-\u001b[0m\u001b[0;36m345\u001b[0m\u001b[0;34m]\u001b[0m\u001b[0;34m\u001b[0m\u001b[0;34m\u001b[0m\u001b[0m\n\u001b[0m",
            "\u001b[0;31mIndexError\u001b[0m: string index out of range"
          ]
        }
      ],
      "source": [
        "s[-345]"
      ]
    },
    {
      "cell_type": "code",
      "execution_count": 97,
      "id": "22e0d1b7-214b-4f2e-bafb-c4673370dbff",
      "metadata": {
        "id": "22e0d1b7-214b-4f2e-bafb-c4673370dbff"
      },
      "outputs": [],
      "source": [
        "s1 = \"sandeep\""
      ]
    },
    {
      "cell_type": "code",
      "execution_count": 98,
      "id": "f7a07440-5c80-41ae-b338-5f526364ae2a",
      "metadata": {
        "id": "f7a07440-5c80-41ae-b338-5f526364ae2a",
        "outputId": "ed30d601-5bf5-4996-d2dd-8035831f0944",
        "colab": {
          "base_uri": "https://localhost:8080/",
          "height": 36
        }
      },
      "outputs": [
        {
          "output_type": "execute_result",
          "data": {
            "text/plain": [
              "'sa'"
            ],
            "application/vnd.google.colaboratory.intrinsic+json": {
              "type": "string"
            }
          },
          "metadata": {},
          "execution_count": 98
        }
      ],
      "source": [
        "s1[0:2]"
      ]
    },
    {
      "cell_type": "code",
      "execution_count": 100,
      "id": "7cfc0552-edd1-44f7-8cbc-dd6b5c5c1d5a",
      "metadata": {
        "id": "7cfc0552-edd1-44f7-8cbc-dd6b5c5c1d5a",
        "outputId": "83a19513-0a72-4ee4-c0f1-7b94ddc85b97",
        "colab": {
          "base_uri": "https://localhost:8080/",
          "height": 36
        }
      },
      "outputs": [
        {
          "output_type": "execute_result",
          "data": {
            "text/plain": [
              "'deep'"
            ],
            "application/vnd.google.colaboratory.intrinsic+json": {
              "type": "string"
            }
          },
          "metadata": {},
          "execution_count": 100
        }
      ],
      "source": [
        "s1[3:7]"
      ]
    },
    {
      "cell_type": "code",
      "execution_count": 101,
      "id": "0658b969-44d2-4ab2-a154-e6d935b01672",
      "metadata": {
        "id": "0658b969-44d2-4ab2-a154-e6d935b01672",
        "outputId": "3bd7081f-e554-40b6-c8f3-023c1db08d3b",
        "colab": {
          "base_uri": "https://localhost:8080/",
          "height": 36
        }
      },
      "outputs": [
        {
          "output_type": "execute_result",
          "data": {
            "text/plain": [
              "'ndeep'"
            ],
            "application/vnd.google.colaboratory.intrinsic+json": {
              "type": "string"
            }
          },
          "metadata": {},
          "execution_count": 101
        }
      ],
      "source": [
        "s1[2:800]"
      ]
    },
    {
      "cell_type": "code",
      "execution_count": 102,
      "id": "e0b923d0-985d-4391-bf57-e38842f205ad",
      "metadata": {
        "id": "e0b923d0-985d-4391-bf57-e38842f205ad",
        "outputId": "4c281756-acc6-4630-d572-7e865449ca14",
        "colab": {
          "base_uri": "https://localhost:8080/",
          "height": 36
        }
      },
      "outputs": [
        {
          "output_type": "execute_result",
          "data": {
            "text/plain": [
              "'ndeep'"
            ],
            "application/vnd.google.colaboratory.intrinsic+json": {
              "type": "string"
            }
          },
          "metadata": {},
          "execution_count": 102
        }
      ],
      "source": [
        "s1[2:]"
      ]
    },
    {
      "cell_type": "markdown",
      "source": [
        "start, end, jump"
      ],
      "metadata": {
        "id": "DOX-bWVMaiyO"
      },
      "id": "DOX-bWVMaiyO"
    },
    {
      "cell_type": "code",
      "execution_count": 103,
      "id": "f658bcdc-33b2-4d41-92cb-47c4155fa674",
      "metadata": {
        "id": "f658bcdc-33b2-4d41-92cb-47c4155fa674",
        "outputId": "f7ece4a8-7f33-4cfe-a0bc-823fc6acca73",
        "colab": {
          "base_uri": "https://localhost:8080/",
          "height": 36
        }
      },
      "outputs": [
        {
          "output_type": "execute_result",
          "data": {
            "text/plain": [
              "'snep'"
            ],
            "application/vnd.google.colaboratory.intrinsic+json": {
              "type": "string"
            }
          },
          "metadata": {},
          "execution_count": 103
        }
      ],
      "source": [
        "s1[0:7:2]"
      ]
    },
    {
      "cell_type": "code",
      "execution_count": 104,
      "id": "25b68cd9-9ea5-45b0-9b74-941c28f4a649",
      "metadata": {
        "id": "25b68cd9-9ea5-45b0-9b74-941c28f4a649",
        "outputId": "e274a8dc-d8b4-45e2-b81f-423edbd9c648",
        "colab": {
          "base_uri": "https://localhost:8080/",
          "height": 36
        }
      },
      "outputs": [
        {
          "output_type": "execute_result",
          "data": {
            "text/plain": [
              "'sandeep'"
            ],
            "application/vnd.google.colaboratory.intrinsic+json": {
              "type": "string"
            }
          },
          "metadata": {},
          "execution_count": 104
        }
      ],
      "source": [
        "s1"
      ]
    },
    {
      "cell_type": "code",
      "source": [
        "s1[7:3]"
      ],
      "metadata": {
        "id": "yLk4sMXuaeTx",
        "outputId": "4a3b363e-5fdf-4ea6-df86-24487127b7fd",
        "colab": {
          "base_uri": "https://localhost:8080/",
          "height": 36
        }
      },
      "id": "yLk4sMXuaeTx",
      "execution_count": 120,
      "outputs": [
        {
          "output_type": "execute_result",
          "data": {
            "text/plain": [
              "''"
            ],
            "application/vnd.google.colaboratory.intrinsic+json": {
              "type": "string"
            }
          },
          "metadata": {},
          "execution_count": 120
        }
      ]
    },
    {
      "cell_type": "code",
      "execution_count": 105,
      "id": "a7960ea3-e10c-4b6b-95fa-f5eec61ef3a0",
      "metadata": {
        "id": "a7960ea3-e10c-4b6b-95fa-f5eec61ef3a0",
        "outputId": "d6ce588b-2ae8-4d7a-f00d-ff36b1c587ac",
        "colab": {
          "base_uri": "https://localhost:8080/",
          "height": 36
        }
      },
      "outputs": [
        {
          "output_type": "execute_result",
          "data": {
            "text/plain": [
              "'pee'"
            ],
            "application/vnd.google.colaboratory.intrinsic+json": {
              "type": "string"
            }
          },
          "metadata": {},
          "execution_count": 105
        }
      ],
      "source": [
        "s1[7:3:-1]"
      ]
    },
    {
      "cell_type": "code",
      "execution_count": 106,
      "id": "8ec0e17e-dae8-43b3-8762-351553e38c53",
      "metadata": {
        "id": "8ec0e17e-dae8-43b3-8762-351553e38c53",
        "outputId": "daae4915-80f1-4c2f-d83a-1d28de3cea4c",
        "colab": {
          "base_uri": "https://localhost:8080/",
          "height": 36
        }
      },
      "outputs": [
        {
          "output_type": "execute_result",
          "data": {
            "text/plain": [
              "'peed'"
            ],
            "application/vnd.google.colaboratory.intrinsic+json": {
              "type": "string"
            }
          },
          "metadata": {},
          "execution_count": 106
        }
      ],
      "source": [
        "s1[-1:-5:-1]"
      ]
    },
    {
      "cell_type": "code",
      "execution_count": 107,
      "id": "6e9c13f7-40ec-4b7b-a81c-fc8325eee815",
      "metadata": {
        "id": "6e9c13f7-40ec-4b7b-a81c-fc8325eee815",
        "outputId": "df1f1f3f-9b1c-49b1-9693-701cc6a93673",
        "colab": {
          "base_uri": "https://localhost:8080/",
          "height": 36
        }
      },
      "outputs": [
        {
          "output_type": "execute_result",
          "data": {
            "text/plain": [
              "'peednas'"
            ],
            "application/vnd.google.colaboratory.intrinsic+json": {
              "type": "string"
            }
          },
          "metadata": {},
          "execution_count": 107
        }
      ],
      "source": [
        "s1[7::-1]"
      ]
    },
    {
      "cell_type": "code",
      "execution_count": 108,
      "id": "9f520c72-9fb3-4484-abf2-f46ee4c01b6a",
      "metadata": {
        "id": "9f520c72-9fb3-4484-abf2-f46ee4c01b6a",
        "outputId": "df2ac4bb-a1d9-4804-995c-b97f162870ed",
        "colab": {
          "base_uri": "https://localhost:8080/",
          "height": 36
        }
      },
      "outputs": [
        {
          "output_type": "execute_result",
          "data": {
            "text/plain": [
              "'peednas'"
            ],
            "application/vnd.google.colaboratory.intrinsic+json": {
              "type": "string"
            }
          },
          "metadata": {},
          "execution_count": 108
        }
      ],
      "source": [
        "s1[::-1]"
      ]
    },
    {
      "cell_type": "code",
      "source": [
        "word = \"Python\"\n",
        "\n",
        "print(word[2])"
      ],
      "metadata": {
        "colab": {
          "base_uri": "https://localhost:8080/"
        },
        "id": "4A6y0TLlkwm2",
        "outputId": "09fa9a51-f1b0-481e-e690-b82773fa1d21"
      },
      "id": "4A6y0TLlkwm2",
      "execution_count": 109,
      "outputs": [
        {
          "output_type": "stream",
          "name": "stdout",
          "text": [
            "t\n"
          ]
        }
      ]
    },
    {
      "cell_type": "code",
      "source": [
        "len(\"chowdhury\")"
      ],
      "metadata": {
        "colab": {
          "base_uri": "https://localhost:8080/"
        },
        "id": "A6ZShz7Bk9f_",
        "outputId": "74a54e4b-621d-40e6-865f-adfbb39f12d9"
      },
      "id": "A6ZShz7Bk9f_",
      "execution_count": 110,
      "outputs": [
        {
          "output_type": "execute_result",
          "data": {
            "text/plain": [
              "9"
            ]
          },
          "metadata": {},
          "execution_count": 110
        }
      ]
    },
    {
      "cell_type": "code",
      "source": [
        "sh=\"chowdhury\"\n",
        "sh.upper()"
      ],
      "metadata": {
        "colab": {
          "base_uri": "https://localhost:8080/",
          "height": 36
        },
        "id": "kXKHEjAKlVee",
        "outputId": "c79796c6-0f4d-4db1-b12d-cd63bba6c0ee"
      },
      "id": "kXKHEjAKlVee",
      "execution_count": 111,
      "outputs": [
        {
          "output_type": "execute_result",
          "data": {
            "text/plain": [
              "'CHOWDHURY'"
            ],
            "application/vnd.google.colaboratory.intrinsic+json": {
              "type": "string"
            }
          },
          "metadata": {},
          "execution_count": 111
        }
      ]
    },
    {
      "cell_type": "code",
      "source": [
        "text = \"Hello, World!\"\n",
        "\n",
        "print(text[7:12])"
      ],
      "metadata": {
        "colab": {
          "base_uri": "https://localhost:8080/"
        },
        "id": "-Uq7QsLVlxbc",
        "outputId": "6754705c-380a-4940-9e87-194cbc5e5d50"
      },
      "id": "-Uq7QsLVlxbc",
      "execution_count": 112,
      "outputs": [
        {
          "output_type": "stream",
          "name": "stdout",
          "text": [
            "World\n"
          ]
        }
      ]
    },
    {
      "cell_type": "code",
      "source": [
        "word = \"Python\"\n",
        "\n",
        "repeated_word = word * 3\n",
        "\n",
        "print(repeated_word)\n"
      ],
      "metadata": {
        "colab": {
          "base_uri": "https://localhost:8080/"
        },
        "id": "eifczYVzmPDX",
        "outputId": "bbd0836e-7f20-4f63-8569-4f408f10a785"
      },
      "id": "eifczYVzmPDX",
      "execution_count": 113,
      "outputs": [
        {
          "output_type": "stream",
          "name": "stdout",
          "text": [
            "PythonPythonPython\n"
          ]
        }
      ]
    },
    {
      "cell_type": "code",
      "source": [
        "word = \"python\"\n",
        "\n",
        "capitalized_word = word.capitalize()\n",
        "\n",
        "print(capitalized_word)"
      ],
      "metadata": {
        "colab": {
          "base_uri": "https://localhost:8080/"
        },
        "id": "YO3vul0vmcFc",
        "outputId": "bb3e1f39-744a-4c90-a3f6-b5e6ff2d061f"
      },
      "id": "YO3vul0vmcFc",
      "execution_count": 114,
      "outputs": [
        {
          "output_type": "stream",
          "name": "stdout",
          "text": [
            "Python\n"
          ]
        }
      ]
    },
    {
      "cell_type": "code",
      "source": [
        "text = \"   Hello, World!   \"\n",
        "\n",
        "trimmed_text = text.strip()\n",
        "\n",
        "print(trimmed_text)"
      ],
      "metadata": {
        "colab": {
          "base_uri": "https://localhost:8080/"
        },
        "id": "TMDGfSH8nIBJ",
        "outputId": "81245b01-9c66-4a3a-ba05-59fad061e6c1"
      },
      "id": "TMDGfSH8nIBJ",
      "execution_count": 115,
      "outputs": [
        {
          "output_type": "stream",
          "name": "stdout",
          "text": [
            "Hello, World!\n"
          ]
        }
      ]
    },
    {
      "cell_type": "code",
      "source": [
        "### concatenation possible with same datatype\n",
        "### \" \" is used for space\n",
        "string1 = \"Python\"\n",
        "\n",
        "string2 = \"Programming\"\n",
        "\n",
        "result = string1 + \" \" + string2\n",
        "\n",
        "print(result)"
      ],
      "metadata": {
        "id": "06Ib-w43nTOU",
        "outputId": "e4b8a4e0-8c62-43f1-c061-812907cbc640",
        "colab": {
          "base_uri": "https://localhost:8080/"
        }
      },
      "id": "06Ib-w43nTOU",
      "execution_count": 117,
      "outputs": [
        {
          "output_type": "stream",
          "name": "stdout",
          "text": [
            "Python Programming\n"
          ]
        }
      ]
    }
  ],
  "metadata": {
    "kernelspec": {
      "display_name": "Python 3 (ipykernel)",
      "language": "python",
      "name": "python3"
    },
    "language_info": {
      "codemirror_mode": {
        "name": "ipython",
        "version": 3
      },
      "file_extension": ".py",
      "mimetype": "text/x-python",
      "name": "python",
      "nbconvert_exporter": "python",
      "pygments_lexer": "ipython3",
      "version": "3.10.8"
    },
    "colab": {
      "provenance": []
    }
  },
  "nbformat": 4,
  "nbformat_minor": 5
}