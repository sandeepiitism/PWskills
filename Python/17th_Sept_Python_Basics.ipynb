{
 "cells": [
  {
   "cell_type": "markdown",
   "id": "261a03c3",
   "metadata": {},
   "source": [
    "## `PWskills Assignment-17th_Sept_2023`"
   ]
  },
  {
   "cell_type": "markdown",
   "id": "2f9776da",
   "metadata": {},
   "source": [
    "### `TOPIC: For Loop`"
   ]
  },
  {
   "cell_type": "markdown",
   "id": "46a12aa7",
   "metadata": {},
   "source": [
    "#### 1.\tWrite a Python program to print numbers from 1 to 10 using a for loop."
   ]
  },
  {
   "cell_type": "code",
   "execution_count": 3,
   "id": "8f7e5af2",
   "metadata": {},
   "outputs": [
    {
     "name": "stdout",
     "output_type": "stream",
     "text": [
      "1\n",
      "2\n",
      "3\n",
      "4\n",
      "5\n",
      "6\n",
      "7\n",
      "8\n",
      "9\n",
      "10\n"
     ]
    }
   ],
   "source": [
    "for i in range(1,11):\n",
    "    print(i)"
   ]
  },
  {
   "cell_type": "markdown",
   "id": "f424d837",
   "metadata": {},
   "source": [
    "#### 2.\tExplain the difference between a for loop and a while loop in Python."
   ]
  },
  {
   "cell_type": "markdown",
   "id": "d7e2f560",
   "metadata": {},
   "source": [
    "`For Loop` is used to iterate over each element in the sequence without any condition in the for block.<br>\n",
    "`While Loop` executes only on some condition and then iterate over sequence untill the condition meets."
   ]
  },
  {
   "cell_type": "markdown",
   "id": "13b3550a",
   "metadata": {},
   "source": [
    "#### 3.\tWrite a Python program to calculate the sum of all numbers from 1 to 100 using a for loop."
   ]
  },
  {
   "cell_type": "code",
   "execution_count": 5,
   "id": "c4ccecac",
   "metadata": {},
   "outputs": [
    {
     "name": "stdout",
     "output_type": "stream",
     "text": [
      "5050\n"
     ]
    }
   ],
   "source": [
    "summ = 0\n",
    "for i in range(1,101):\n",
    "    summ+=i\n",
    "    \n",
    "print(summ)\n",
    "    "
   ]
  },
  {
   "cell_type": "markdown",
   "id": "1b6711e2",
   "metadata": {},
   "source": [
    "#### 4.\tHow do you iterate through a list using a for loop in Python?"
   ]
  },
  {
   "cell_type": "code",
   "execution_count": 7,
   "id": "7fe727f8",
   "metadata": {},
   "outputs": [
    {
     "name": "stdout",
     "output_type": "stream",
     "text": [
      "11\n",
      "24\n",
      "43\n",
      "78\n",
      "sandeep\n",
      "python\n"
     ]
    }
   ],
   "source": [
    "list_var = [11,24,43,78, \"sandeep\", \"python\"]\n",
    "\n",
    "for i in list_var:\n",
    "    print(i)"
   ]
  },
  {
   "cell_type": "markdown",
   "id": "594e8ceb",
   "metadata": {},
   "source": [
    "#### 5. Write a Python program to find the product of all elements in a list using a for loop."
   ]
  },
  {
   "cell_type": "code",
   "execution_count": 11,
   "id": "e54207ea",
   "metadata": {},
   "outputs": [
    {
     "name": "stdout",
     "output_type": "stream",
     "text": [
      "100\n"
     ]
    }
   ],
   "source": [
    "num = [1,2,2,5,5]\n",
    "mul = 1\n",
    "for i in num:\n",
    "    mul*=i\n",
    "    \n",
    "print(mul)"
   ]
  },
  {
   "cell_type": "markdown",
   "id": "f566adb3",
   "metadata": {},
   "source": [
    "#### 6. Create a Python program that prints all even numbers from 1 to 20 using a for loop."
   ]
  },
  {
   "cell_type": "code",
   "execution_count": 57,
   "id": "984df605",
   "metadata": {},
   "outputs": [
    {
     "name": "stdout",
     "output_type": "stream",
     "text": [
      "[2, 4, 6, 8, 10, 12, 14, 16, 18, 20]\n"
     ]
    }
   ],
   "source": [
    "lst = []\n",
    "for i in range(1,21):\n",
    "    if i%2==0:\n",
    "        lst.append(i)\n",
    "print(lst)"
   ]
  },
  {
   "cell_type": "markdown",
   "id": "e3df6d92",
   "metadata": {},
   "source": [
    "#### 7. Write a Python program that calculates the factorial of a number using a for loop."
   ]
  },
  {
   "cell_type": "code",
   "execution_count": 21,
   "id": "9de5f490",
   "metadata": {},
   "outputs": [
    {
     "name": "stdout",
     "output_type": "stream",
     "text": [
      "120\n"
     ]
    }
   ],
   "source": [
    "n = 5\n",
    "fact = 1\n",
    "\n",
    "for i in range(1,n+1):\n",
    "    fact = fact*i\n",
    "print(fact)"
   ]
  },
  {
   "cell_type": "markdown",
   "id": "2c30e085",
   "metadata": {},
   "source": [
    "#### 8. How can you iterate through the characters of a string using a for loop in Python?"
   ]
  },
  {
   "cell_type": "code",
   "execution_count": 80,
   "id": "5138e911",
   "metadata": {},
   "outputs": [
    {
     "name": "stdout",
     "output_type": "stream",
     "text": [
      "Enter string: Hello world\n",
      "['H', 'e', 'l', 'l', 'o', ' ', 'w', 'o', 'r', 'l', 'd']\n"
     ]
    }
   ],
   "source": [
    "user_input = str(input(\"Enter string: \"))\n",
    "user_input = list(user_input)\n",
    "\n",
    "lst = []\n",
    "\n",
    "for i in range(len(user_input)):\n",
    "    lst.append(user_input[i])\n",
    "    \n",
    "print(lst)\n",
    "    \n"
   ]
  },
  {
   "cell_type": "markdown",
   "id": "5c92362a",
   "metadata": {},
   "source": [
    "#### 9. Write a Python program to find the largest number in a list using a for loop.\n"
   ]
  },
  {
   "cell_type": "code",
   "execution_count": 39,
   "id": "65d83ee8",
   "metadata": {},
   "outputs": [
    {
     "name": "stdout",
     "output_type": "stream",
     "text": [
      "93\n"
     ]
    }
   ],
   "source": [
    "num = [11,55,25,74,93,29]\n",
    "\n",
    "max_num = num[0]\n",
    "\n",
    "for i in num:\n",
    "    if i>max_num:\n",
    "        max_num = i\n",
    "\n",
    "print(max_num)\n"
   ]
  },
  {
   "cell_type": "markdown",
   "id": "99a1ddd5",
   "metadata": {},
   "source": [
    "#### 10. Create a Python program that prints the Fibonacci sequence up to a specified limit using a for loop.\n"
   ]
  },
  {
   "cell_type": "code",
   "execution_count": 56,
   "id": "b0447f57",
   "metadata": {},
   "outputs": [],
   "source": [
    "# first = 0\n",
    "# second = 1\n",
    "# print(first)\n",
    "# print(second)\n",
    "\n",
    "# for i in range(1,9):\n",
    "#     third = first + second\n",
    "#     print(third)\n",
    "#     first,second=second,third\n",
    "\n",
    "\n",
    "    \n",
    "\n"
   ]
  },
  {
   "cell_type": "markdown",
   "id": "b95c721d",
   "metadata": {},
   "source": [
    "#### 11. Write a Python program to count the number of vowels in a given string using a for loop."
   ]
  },
  {
   "cell_type": "code",
   "execution_count": 84,
   "id": "1dc3a6df",
   "metadata": {},
   "outputs": [
    {
     "name": "stdout",
     "output_type": "stream",
     "text": [
      "enter sentence: hello world this is sandeep\n",
      "8\n"
     ]
    }
   ],
   "source": [
    "sentence = str(input(\"enter sentence: \"))\n",
    "vowel = ['a','e','i','o','u']\n",
    "count = 0\n",
    "\n",
    "for i in sentence:\n",
    "    if i in vowel:\n",
    "        count+=1\n",
    "        \n",
    "print(count)\n"
   ]
  },
  {
   "cell_type": "markdown",
   "id": "faa71c9d",
   "metadata": {},
   "source": [
    "#### 12. Create a Python program that generates a multiplication table for a given number using a for loop."
   ]
  },
  {
   "cell_type": "code",
   "execution_count": null,
   "id": "a7c358d4",
   "metadata": {},
   "outputs": [],
   "source": []
  },
  {
   "cell_type": "markdown",
   "id": "f0015bcf",
   "metadata": {},
   "source": [
    "#### 13. Write a Python program to reverse a list using a for loop."
   ]
  },
  {
   "cell_type": "code",
   "execution_count": 86,
   "id": "53b49e8d",
   "metadata": {},
   "outputs": [
    {
     "name": "stdout",
     "output_type": "stream",
     "text": [
      "['chowdhury', 'sandeep', 3, 2, 1]\n"
     ]
    }
   ],
   "source": [
    "lst = [1,2,3,\"sandeep\", \"chowdhury\"]\n",
    "\n",
    "for i in lst:\n",
    "    i=lst[::-1]\n",
    "    \n",
    "print(i)"
   ]
  },
  {
   "cell_type": "markdown",
   "id": "2083d610",
   "metadata": {},
   "source": [
    "#### 14. Write a Python program to find the common elements between two lists using a for loop."
   ]
  },
  {
   "cell_type": "code",
   "execution_count": 94,
   "id": "7f2996c3",
   "metadata": {},
   "outputs": [
    {
     "name": "stdout",
     "output_type": "stream",
     "text": [
      "1\n",
      "6\n",
      "world\n"
     ]
    }
   ],
   "source": [
    "lst1 = [1,2,6,\"sandeep\", \"world\"]\n",
    "lst2 = [1,6,\"hello\", \"world\", 7]\n",
    "\n",
    "for i in lst1:\n",
    "    if i in lst2:\n",
    "        print(i)\n",
    "    \n",
    "    "
   ]
  },
  {
   "cell_type": "markdown",
   "id": "bc1980e8",
   "metadata": {},
   "source": [
    "#### 15. Explain how to use a for loop to iterate through the keys and values of a dictionary in Python."
   ]
  },
  {
   "cell_type": "code",
   "execution_count": 108,
   "id": "46a983f0",
   "metadata": {},
   "outputs": [
    {
     "name": "stdout",
     "output_type": "stream",
     "text": [
      "----------------------- keys--------------------------------\n",
      "num1\n",
      "num2\n",
      "num3\n",
      "----------------------- values--------------------------------\n",
      "sandeep\n",
      "python\n",
      "world\n"
     ]
    }
   ],
   "source": [
    "lst = {'num1':\"sandeep\", 'num2':\"python\", 'num3':\"world\"}\n",
    "\n",
    "print('----------------------- keys--------------------------------')\n",
    "for key in lst:\n",
    "    print(key)\n",
    "    \n",
    "print('----------------------- values--------------------------------')\n",
    "\n",
    "for i in lst.values():\n",
    "    print(i)"
   ]
  },
  {
   "cell_type": "markdown",
   "id": "495a3d77",
   "metadata": {},
   "source": [
    "#### 16. Write a Python program to find the GCD (Greatest Common Divisor) of two numbers using a for loop."
   ]
  },
  {
   "cell_type": "code",
   "execution_count": 144,
   "id": "2f89f568",
   "metadata": {},
   "outputs": [
    {
     "name": "stdout",
     "output_type": "stream",
     "text": [
      "GCD of 25 and 125 is 5\n"
     ]
    }
   ],
   "source": [
    "num1 = 25\n",
    "num2 = 125\n",
    "\n",
    "# print(min(num1, num2))\n",
    "gcd = 1\n",
    " \n",
    "for i in range(1, min(num1, num2)):\n",
    "    if num1 % i == 0 and num2 % i == 0:\n",
    "        gcd = i\n",
    "print(\"GCD of\", num1, \"and\", num2, \"is\", gcd)"
   ]
  },
  {
   "cell_type": "markdown",
   "id": "2798c058",
   "metadata": {},
   "source": [
    "#### 17. Create a Python program that checks if a string is a palindrome using a for loop."
   ]
  },
  {
   "cell_type": "code",
   "execution_count": 140,
   "id": "e278296b",
   "metadata": {},
   "outputs": [
    {
     "name": "stdout",
     "output_type": "stream",
     "text": [
      "pallindrome\n"
     ]
    }
   ],
   "source": [
    "user_str = \"civic\"\n",
    "\n",
    "rev_str = \"\"\n",
    "\n",
    "for i in user_str:\n",
    "    rev_str = rev_str+i\n",
    "    \n",
    "if user_str == rev_str:\n",
    "        print(\"pallindrome\")\n",
    "else:\n",
    "        print(\"not pallindrome\")\n"
   ]
  },
  {
   "cell_type": "markdown",
   "id": "cea3294d",
   "metadata": {},
   "source": [
    "#### 18. Write a Python program to remove duplicates from a list using a for loop."
   ]
  },
  {
   "cell_type": "code",
   "execution_count": 135,
   "id": "5592b2e0",
   "metadata": {},
   "outputs": [
    {
     "name": "stdout",
     "output_type": "stream",
     "text": [
      "[1, 2, 4, 6, 'world', 'sandeep', 'hello']\n"
     ]
    }
   ],
   "source": [
    "lst = [1,2,4,2,6,4,2,\"world\",\"sandeep\", \"hello\",\"world\"]\n",
    "new_lst = []\n",
    "\n",
    "for i in lst:\n",
    "    if i not in new_lst:\n",
    "        new_lst.append(i)\n",
    "        \n",
    "print(new_lst)"
   ]
  },
  {
   "cell_type": "markdown",
   "id": "98b3b0b9",
   "metadata": {},
   "source": [
    "#### 19. Create a Python program that counts the number of words in a sentence using a for loop."
   ]
  },
  {
   "cell_type": "code",
   "execution_count": 124,
   "id": "1e218e05",
   "metadata": {},
   "outputs": [
    {
     "name": "stdout",
     "output_type": "stream",
     "text": [
      "enter sentence: hello world\n",
      "11\n"
     ]
    }
   ],
   "source": [
    "user_input = str(input(\"enter sentence: \"))\n",
    "\n",
    "count = 0\n",
    "\n",
    "for i in user_input:\n",
    "    count+=1\n",
    "#     print(i, count(i))\n",
    "\n",
    "print(count)\n",
    "                 "
   ]
  },
  {
   "cell_type": "markdown",
   "id": "b44eb4b3",
   "metadata": {},
   "source": [
    "#### 20. Write a Python program to find the sum of all odd numbers from 1 to 50 using a for loop."
   ]
  },
  {
   "cell_type": "code",
   "execution_count": 132,
   "id": "8f6d9428",
   "metadata": {},
   "outputs": [
    {
     "name": "stdout",
     "output_type": "stream",
     "text": [
      "625\n"
     ]
    }
   ],
   "source": [
    "summ = 0\n",
    "for i in range(1,51):\n",
    "    if i%2!=0:\n",
    "        summ+=i\n",
    "\n",
    "print(summ)"
   ]
  },
  {
   "cell_type": "markdown",
   "id": "bfbb80f9",
   "metadata": {},
   "source": [
    "#### 21. Write a Python program that checks if a given year is a leap year using a for loop."
   ]
  },
  {
   "cell_type": "code",
   "execution_count": 11,
   "id": "74aa258f",
   "metadata": {},
   "outputs": [
    {
     "name": "stdout",
     "output_type": "stream",
     "text": [
      "Please select a starting year: 2002\n",
      "Please select how many years you'd like to check: 20\n",
      "2002: Is not a leap year\n",
      "2003: Is not a leap year\n",
      "2004: Is a leap year\n",
      "2005: Is not a leap year\n",
      "2006: Is not a leap year\n",
      "2007: Is not a leap year\n",
      "2008: Is a leap year\n",
      "2009: Is not a leap year\n",
      "2010: Is not a leap year\n",
      "2011: Is not a leap year\n",
      "2012: Is a leap year\n",
      "2013: Is not a leap year\n",
      "2014: Is not a leap year\n",
      "2015: Is not a leap year\n",
      "2016: Is a leap year\n",
      "2017: Is not a leap year\n",
      "2018: Is not a leap year\n",
      "2019: Is not a leap year\n",
      "2020: Is a leap year\n",
      "2021: Is not a leap year\n",
      "2022: Is not a leap year\n"
     ]
    }
   ],
   "source": [
    "start_year = int(input(\"Please select a starting year: \"))\n",
    "num_of_years = int(input(\"Please select how many years you'd like to check: \"))\n",
    "end_year = start_year + num_of_years\n",
    "\n",
    "# The formula I used below to determine when a year is a leap year was copied from emrah-diril in this thread\n",
    "\n",
    "for i in range(start_year-1, end_year):\n",
    "    i += 1    \n",
    "    if i % 4 == 0 and (i % 100 != 0 or i % 400 == 0):\n",
    "        print (\"{}: Is a leap year\".format(i))\n",
    "    else:\n",
    "        print (f'{i}: Is not a leap year')"
   ]
  },
  {
   "cell_type": "markdown",
   "id": "76cf595c",
   "metadata": {},
   "source": [
    "#### 22. Create a Python program that calculates the square root of a number using a for loop."
   ]
  },
  {
   "cell_type": "code",
   "execution_count": 15,
   "id": "728c1c0e",
   "metadata": {},
   "outputs": [
    {
     "name": "stdout",
     "output_type": "stream",
     "text": [
      "[2.0, 4.0, 5.0]\n"
     ]
    }
   ],
   "source": [
    "import math\n",
    "num = [4,16,25]\n",
    "lst = []\n",
    "for i in num:\n",
    "    i=math.sqrt(i)\n",
    "    lst.append(i)\n",
    "print(lst)"
   ]
  },
  {
   "cell_type": "markdown",
   "id": "6199e5a5",
   "metadata": {},
   "source": [
    "#### 23. Write a Python program to find the LCM (Least Common Multiple) of two numbers using a for loop."
   ]
  },
  {
   "cell_type": "code",
   "execution_count": null,
   "id": "16265002",
   "metadata": {},
   "outputs": [],
   "source": []
  },
  {
   "cell_type": "markdown",
   "id": "50b3325a",
   "metadata": {},
   "source": [
    "### `TOPIC: If Else`"
   ]
  },
  {
   "cell_type": "markdown",
   "id": "e6bda0f3",
   "metadata": {},
   "source": [
    "#### 1. Write a Python program to check if a number is positive, negative, or zero using an if-else statement."
   ]
  },
  {
   "cell_type": "code",
   "execution_count": 17,
   "id": "2f7dc523",
   "metadata": {},
   "outputs": [
    {
     "name": "stdout",
     "output_type": "stream",
     "text": [
      "enter number: 22\n",
      "Positive\n"
     ]
    }
   ],
   "source": [
    "num = int(input(\"enter number: \"))\n",
    "\n",
    "if num>0:\n",
    "    print('Positive')\n",
    "elif num<0:\n",
    "    print('Negative')\n",
    "else:\n",
    "    print(zero)"
   ]
  },
  {
   "cell_type": "markdown",
   "id": "c0642f45",
   "metadata": {},
   "source": [
    "#### 2. Create a Python program that checks if a given number is even or odd using an if-else statement."
   ]
  },
  {
   "cell_type": "code",
   "execution_count": 18,
   "id": "af7443dd",
   "metadata": {},
   "outputs": [
    {
     "name": "stdout",
     "output_type": "stream",
     "text": [
      "Enter the number: 13\n",
      "Odd\n"
     ]
    }
   ],
   "source": [
    "num = int(input(\"Enter the number: \"))\n",
    "\n",
    "if num%2==0:\n",
    "    print('Even')\n",
    "else:\n",
    "    print('Odd')"
   ]
  },
  {
   "cell_type": "markdown",
   "id": "cb054f6b",
   "metadata": {},
   "source": [
    "#### 3. How can you use nested if-else statements in Python, and provide an example?"
   ]
  },
  {
   "cell_type": "code",
   "execution_count": 20,
   "id": "7a1fc4bf",
   "metadata": {},
   "outputs": [
    {
     "name": "stdout",
     "output_type": "stream",
     "text": [
      "Enter the number: 6\n",
      "even but not div by 4\n"
     ]
    }
   ],
   "source": [
    "\"\"\"if condition1:\n",
    "    if condition2:\n",
    "        do something\n",
    "    else:\n",
    "        do otherthing\n",
    "else:\n",
    "    do thisthing\"\"\"\n",
    "\n",
    "num = int(input(\"Enter the number: \"))\n",
    "\n",
    "if num%2==0:\n",
    "    if num%4==0:\n",
    "        print(\"even and div by 4\")\n",
    "    else:\n",
    "        print(\"even but not div by 4\")\n",
    "else:\n",
    "    print(\"not an even\")"
   ]
  },
  {
   "cell_type": "markdown",
   "id": "6e61899a",
   "metadata": {},
   "source": [
    "#### 4. Write a Python program to determine the largest of three numbers using if-else."
   ]
  },
  {
   "cell_type": "code",
   "execution_count": 24,
   "id": "c03a7ebc",
   "metadata": {},
   "outputs": [
    {
     "name": "stdout",
     "output_type": "stream",
     "text": [
      "65\n"
     ]
    }
   ],
   "source": [
    "a=23\n",
    "b=11\n",
    "c=65\n",
    "\n",
    "if a>b and a>c:\n",
    "    print(a)\n",
    "elif b>c:\n",
    "    print(b)\n",
    "else:\n",
    "    print(c)"
   ]
  },
  {
   "cell_type": "markdown",
   "id": "52cd5076",
   "metadata": {},
   "source": [
    "#### 5. Write a Python program that calculates the absolute value of a number using if-else."
   ]
  },
  {
   "cell_type": "code",
   "execution_count": 26,
   "id": "0311e857",
   "metadata": {},
   "outputs": [
    {
     "name": "stdout",
     "output_type": "stream",
     "text": [
      "Enter the num: -635\n",
      "absolute num is 635\n"
     ]
    }
   ],
   "source": [
    "num = int(input(\"Enter the num: \"))\n",
    "\n",
    "if num>=0:\n",
    "    print(f'absolute num is {num}')\n",
    "else:\n",
    "    print(f'absolute num is {-num}')"
   ]
  },
  {
   "cell_type": "markdown",
   "id": "831da205",
   "metadata": {},
   "source": [
    "#### 6. Create a Python program that checks if a given character is a vowel or consonant using if-else."
   ]
  },
  {
   "cell_type": "code",
   "execution_count": 32,
   "id": "3dd4d8e7",
   "metadata": {},
   "outputs": [
    {
     "name": "stdout",
     "output_type": "stream",
     "text": [
      "enter the character: sandeep\n",
      "consonant is \"s\"\n",
      "vowel is \"a\"\n",
      "consonant is \"n\"\n",
      "consonant is \"d\"\n",
      "vowel is \"e\"\n",
      "vowel is \"e\"\n",
      "consonant is \"p\"\n"
     ]
    }
   ],
   "source": [
    "charac = str(input(\"enter the character: \"))\n",
    "\n",
    "vowels = ['a','e','i','o','u']\n",
    "\n",
    "for i in charac:\n",
    "    if i in vowels:\n",
    "        print(f'vowel is \"{i}\"')\n",
    "    else:\n",
    "        print(f'consonant is \"{i}\"')\n",
    "\n"
   ]
  },
  {
   "cell_type": "markdown",
   "id": "b35ca461",
   "metadata": {},
   "source": [
    "#### 7. Write a Python program to determine if a user is eligible to vote based on their age using if-else."
   ]
  },
  {
   "cell_type": "code",
   "execution_count": 34,
   "id": "577922c1",
   "metadata": {},
   "outputs": [
    {
     "name": "stdout",
     "output_type": "stream",
     "text": [
      "Enter your age: 19\n",
      "You are eligible to vote\n"
     ]
    }
   ],
   "source": [
    "age = int(input(\"Enter your age: \"))\n",
    "\n",
    "if age>=18:\n",
    "    print(\"You are eligible to vote\")\n",
    "else:\n",
    "    print(\"you are not eligible to vote\")"
   ]
  },
  {
   "cell_type": "markdown",
   "id": "d5a2a5b6",
   "metadata": {},
   "source": [
    "#### 8. Create a Python program that calculates the discount amount based on the purchase amount using if-else."
   ]
  },
  {
   "cell_type": "code",
   "execution_count": 39,
   "id": "54ebfecd",
   "metadata": {},
   "outputs": [
    {
     "name": "stdout",
     "output_type": "stream",
     "text": [
      "Enter your purchase amount: 8000\n",
      "final price is 6400.0 as provided with 20% discount\n"
     ]
    }
   ],
   "source": [
    "purchase = int(input(\"Enter your purchase amount: \"))\n",
    "\n",
    "if purchase>5000:\n",
    "    discount = purchase - purchase*0.2\n",
    "    print(f'final price is {discount} as provided with 20% discount')\n",
    "else:\n",
    "    print(f'final price is {purchase} as not eligible for discount')"
   ]
  },
  {
   "cell_type": "markdown",
   "id": "d46ed932",
   "metadata": {},
   "source": [
    "#### 9. Write a Python program to check if a number is within a specified range using if-else."
   ]
  },
  {
   "cell_type": "code",
   "execution_count": 43,
   "id": "b4bef745",
   "metadata": {},
   "outputs": [
    {
     "name": "stdout",
     "output_type": "stream",
     "text": [
      "Enter num1: 2\n",
      "Number is in range\n"
     ]
    }
   ],
   "source": [
    "num=int(input(\"Enter num1: \"))\n",
    "\n",
    "\n",
    "if 1<num<10:\n",
    "    print(\"Number is in range\")\n",
    "else:\n",
    "    print(\"Number is out of range\")"
   ]
  },
  {
   "cell_type": "markdown",
   "id": "d05cec22",
   "metadata": {},
   "source": [
    "#### 10. Create a Python program that determines the grade of a student based on their score using if-else."
   ]
  },
  {
   "cell_type": "code",
   "execution_count": 44,
   "id": "51f9fcdb",
   "metadata": {},
   "outputs": [
    {
     "name": "stdout",
     "output_type": "stream",
     "text": [
      "Enter your marks out of 100: 79\n",
      "Grade B\n"
     ]
    }
   ],
   "source": [
    "marks = int(input(\"Enter your marks out of 100: \"))\n",
    "\n",
    "if 90<marks<=100:\n",
    "    print(\"Grade A\")\n",
    "elif 60<=marks<=90:\n",
    "    print(\"Grade B\")\n",
    "else:\n",
    "    print(\"Grade C\")\n",
    "    "
   ]
  },
  {
   "cell_type": "markdown",
   "id": "2769f54c",
   "metadata": {},
   "source": [
    "#### 11. Write a Python program to check if a string is empty or not using if-else."
   ]
  },
  {
   "cell_type": "code",
   "execution_count": 47,
   "id": "34b34ede",
   "metadata": {},
   "outputs": [
    {
     "name": "stdout",
     "output_type": "stream",
     "text": [
      "Enter your string: \n",
      "empty string\n"
     ]
    }
   ],
   "source": [
    "user_str = str(input(\"Enter your string: \"))\n",
    "\n",
    "if len(user_str)==0:\n",
    "    print(\"empty string\")\n",
    "else:\n",
    "    print(\"not empty\")"
   ]
  },
  {
   "cell_type": "markdown",
   "id": "aa5bcb45",
   "metadata": {},
   "source": [
    "#### 12. Create a Python program that identifies the type of a triangle (e.g., equilateral, isosceles, or scalene) based on input values using if-else.    "
   ]
  },
  {
   "cell_type": "code",
   "execution_count": null,
   "id": "3a677350",
   "metadata": {},
   "outputs": [],
   "source": []
  },
  {
   "cell_type": "markdown",
   "id": "ab886449",
   "metadata": {},
   "source": [
    "#### 13. Write a Python program to determine the day of the week based on a user-provided number using if-else."
   ]
  },
  {
   "cell_type": "code",
   "execution_count": null,
   "id": "07933196",
   "metadata": {},
   "outputs": [],
   "source": []
  }
 ],
 "metadata": {
  "kernelspec": {
   "display_name": "Python 3",
   "language": "python",
   "name": "python3"
  },
  "language_info": {
   "codemirror_mode": {
    "name": "ipython",
    "version": 3
   },
   "file_extension": ".py",
   "mimetype": "text/x-python",
   "name": "python",
   "nbconvert_exporter": "python",
   "pygments_lexer": "ipython3",
   "version": "3.8.8"
  }
 },
 "nbformat": 4,
 "nbformat_minor": 5
}
