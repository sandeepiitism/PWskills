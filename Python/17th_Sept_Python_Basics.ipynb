{
 "cells": [
  {
   "cell_type": "markdown",
   "id": "261a03c3",
   "metadata": {},
   "source": [
    "## `PWskills Assignment-17th_Sept_2023`"
   ]
  },
  {
   "cell_type": "markdown",
   "id": "2f9776da",
   "metadata": {},
   "source": [
    "### `TOPIC: For Loop`"
   ]
  },
  {
   "cell_type": "markdown",
   "id": "46a12aa7",
   "metadata": {},
   "source": [
    "#### 1.\tWrite a Python program to print numbers from 1 to 10 using a for loop."
   ]
  },
  {
   "cell_type": "code",
   "execution_count": 2,
   "id": "8f7e5af2",
   "metadata": {},
   "outputs": [
    {
     "name": "stdout",
     "output_type": "stream",
     "text": [
      "1\n",
      "2\n",
      "3\n",
      "4\n",
      "5\n",
      "6\n",
      "7\n",
      "8\n",
      "9\n",
      "10\n"
     ]
    }
   ],
   "source": [
    "for i in range(1,11):\n",
    "    print(i)"
   ]
  },
  {
   "cell_type": "markdown",
   "id": "f424d837",
   "metadata": {},
   "source": [
    "#### 2.\tExplain the difference between a for loop and a while loop in Python."
   ]
  },
  {
   "cell_type": "markdown",
   "id": "d7e2f560",
   "metadata": {},
   "source": [
    "`For Loop` is used to iterate over each element in the sequence without any condition in the for block.<br>\n",
    "`While Loop` executes only on some condition and then iterate over sequence untill the condition meets."
   ]
  },
  {
   "cell_type": "markdown",
   "id": "13b3550a",
   "metadata": {},
   "source": [
    "#### 3.\tWrite a Python program to calculate the sum of all numbers from 1 to 100 using a for loop."
   ]
  },
  {
   "cell_type": "code",
   "execution_count": 3,
   "id": "c4ccecac",
   "metadata": {},
   "outputs": [
    {
     "name": "stdout",
     "output_type": "stream",
     "text": [
      "5050\n"
     ]
    }
   ],
   "source": [
    "summ = 0\n",
    "for i in range(1,101):\n",
    "    summ+=i\n",
    "    \n",
    "print(summ)\n",
    "    "
   ]
  },
  {
   "cell_type": "markdown",
   "id": "1b6711e2",
   "metadata": {},
   "source": [
    "#### 4.\tHow do you iterate through a list using a for loop in Python?"
   ]
  },
  {
   "cell_type": "code",
   "execution_count": 4,
   "id": "7fe727f8",
   "metadata": {},
   "outputs": [
    {
     "name": "stdout",
     "output_type": "stream",
     "text": [
      "11\n",
      "24\n",
      "43\n",
      "78\n",
      "sandeep\n",
      "python\n"
     ]
    }
   ],
   "source": [
    "list_var = [11,24,43,78, \"sandeep\", \"python\"]\n",
    "\n",
    "for i in list_var:\n",
    "    print(i)"
   ]
  },
  {
   "cell_type": "markdown",
   "id": "594e8ceb",
   "metadata": {},
   "source": [
    "#### 5. Write a Python program to find the product of all elements in a list using a for loop."
   ]
  },
  {
   "cell_type": "code",
   "execution_count": 5,
   "id": "e54207ea",
   "metadata": {},
   "outputs": [
    {
     "name": "stdout",
     "output_type": "stream",
     "text": [
      "100\n"
     ]
    }
   ],
   "source": [
    "num = [1,2,2,5,5]\n",
    "mul = 1\n",
    "for i in num:\n",
    "    mul*=i\n",
    "    \n",
    "print(mul)"
   ]
  },
  {
   "cell_type": "markdown",
   "id": "f566adb3",
   "metadata": {},
   "source": [
    "#### 6. Create a Python program that prints all even numbers from 1 to 20 using a for loop."
   ]
  },
  {
   "cell_type": "code",
   "execution_count": 6,
   "id": "984df605",
   "metadata": {},
   "outputs": [
    {
     "name": "stdout",
     "output_type": "stream",
     "text": [
      "[2, 4, 6, 8, 10, 12, 14, 16, 18, 20]\n"
     ]
    }
   ],
   "source": [
    "lst = []\n",
    "for i in range(1,21):\n",
    "    if i%2==0:\n",
    "        lst.append(i)\n",
    "print(lst)"
   ]
  },
  {
   "cell_type": "markdown",
   "id": "e3df6d92",
   "metadata": {},
   "source": [
    "#### 7. Write a Python program that calculates the factorial of a number using a for loop."
   ]
  },
  {
   "cell_type": "code",
   "execution_count": 7,
   "id": "9de5f490",
   "metadata": {},
   "outputs": [
    {
     "name": "stdout",
     "output_type": "stream",
     "text": [
      "120\n"
     ]
    }
   ],
   "source": [
    "n = 5\n",
    "fact = 1\n",
    "\n",
    "for i in range(1,n+1):\n",
    "    fact = fact*i\n",
    "print(fact)"
   ]
  },
  {
   "cell_type": "markdown",
   "id": "2c30e085",
   "metadata": {},
   "source": [
    "#### 8. How can you iterate through the characters of a string using a for loop in Python?"
   ]
  },
  {
   "cell_type": "code",
   "execution_count": 8,
   "id": "5138e911",
   "metadata": {},
   "outputs": [
    {
     "name": "stdout",
     "output_type": "stream",
     "text": [
      "Enter string: sandeep hello\n",
      "['s', 'a', 'n', 'd', 'e', 'e', 'p', ' ', 'h', 'e', 'l', 'l', 'o']\n"
     ]
    }
   ],
   "source": [
    "user_input = str(input(\"Enter string: \"))\n",
    "user_input = list(user_input)\n",
    "\n",
    "lst = []\n",
    "\n",
    "for i in range(len(user_input)):\n",
    "    lst.append(user_input[i])\n",
    "    \n",
    "print(lst)\n",
    "    \n"
   ]
  },
  {
   "cell_type": "markdown",
   "id": "5c92362a",
   "metadata": {},
   "source": [
    "#### 9. Write a Python program to find the largest number in a list using a for loop.\n"
   ]
  },
  {
   "cell_type": "code",
   "execution_count": 9,
   "id": "65d83ee8",
   "metadata": {},
   "outputs": [
    {
     "name": "stdout",
     "output_type": "stream",
     "text": [
      "93\n"
     ]
    }
   ],
   "source": [
    "num = [11,55,25,74,93,29]\n",
    "\n",
    "max_num = num[0]\n",
    "\n",
    "for i in num:\n",
    "    if i>max_num:\n",
    "        max_num = i\n",
    "\n",
    "print(max_num)\n"
   ]
  },
  {
   "cell_type": "markdown",
   "id": "99a1ddd5",
   "metadata": {},
   "source": [
    "#### 10. Create a Python program that prints the Fibonacci sequence up to a specified limit using a for loop.\n"
   ]
  },
  {
   "cell_type": "code",
   "execution_count": 10,
   "id": "b0447f57",
   "metadata": {},
   "outputs": [],
   "source": [
    "# first = 0\n",
    "# second = 1\n",
    "# print(first)\n",
    "# print(second)\n",
    "\n",
    "# for i in range(1,9):\n",
    "#     third = first + second\n",
    "#     print(third)\n",
    "#     first,second=second,third\n",
    "\n",
    "\n",
    "    \n",
    "\n"
   ]
  },
  {
   "cell_type": "markdown",
   "id": "b95c721d",
   "metadata": {},
   "source": [
    "#### 11. Write a Python program to count the number of vowels in a given string using a for loop."
   ]
  },
  {
   "cell_type": "code",
   "execution_count": 11,
   "id": "1dc3a6df",
   "metadata": {},
   "outputs": [
    {
     "name": "stdout",
     "output_type": "stream",
     "text": [
      "enter sentence: hello sandeep\n",
      "5\n"
     ]
    }
   ],
   "source": [
    "sentence = str(input(\"enter sentence: \"))\n",
    "vowel = ['a','e','i','o','u']\n",
    "count = 0\n",
    "\n",
    "for i in sentence:\n",
    "    if i in vowel:\n",
    "        count+=1\n",
    "        \n",
    "print(count)\n"
   ]
  },
  {
   "cell_type": "markdown",
   "id": "faa71c9d",
   "metadata": {},
   "source": [
    "#### 12. Create a Python program that generates a multiplication table for a given number using a for loop."
   ]
  },
  {
   "cell_type": "code",
   "execution_count": null,
   "id": "a7c358d4",
   "metadata": {},
   "outputs": [],
   "source": []
  },
  {
   "cell_type": "markdown",
   "id": "f0015bcf",
   "metadata": {},
   "source": [
    "#### 13. Write a Python program to reverse a list using a for loop."
   ]
  },
  {
   "cell_type": "code",
   "execution_count": 12,
   "id": "53b49e8d",
   "metadata": {},
   "outputs": [
    {
     "name": "stdout",
     "output_type": "stream",
     "text": [
      "['chowdhury', 'sandeep', 3, 2, 1]\n"
     ]
    }
   ],
   "source": [
    "lst = [1,2,3,\"sandeep\", \"chowdhury\"]\n",
    "\n",
    "for i in lst:\n",
    "    i=lst[::-1]\n",
    "    \n",
    "print(i)"
   ]
  },
  {
   "cell_type": "markdown",
   "id": "2083d610",
   "metadata": {},
   "source": [
    "#### 14. Write a Python program to find the common elements between two lists using a for loop."
   ]
  },
  {
   "cell_type": "code",
   "execution_count": 13,
   "id": "7f2996c3",
   "metadata": {},
   "outputs": [
    {
     "name": "stdout",
     "output_type": "stream",
     "text": [
      "1\n",
      "6\n",
      "world\n"
     ]
    }
   ],
   "source": [
    "lst1 = [1,2,6,\"sandeep\", \"world\"]\n",
    "lst2 = [1,6,\"hello\", \"world\", 7]\n",
    "\n",
    "for i in lst1:\n",
    "    if i in lst2:\n",
    "        print(i)\n",
    "    \n",
    "    "
   ]
  },
  {
   "cell_type": "markdown",
   "id": "bc1980e8",
   "metadata": {},
   "source": [
    "#### 15. Explain how to use a for loop to iterate through the keys and values of a dictionary in Python."
   ]
  },
  {
   "cell_type": "code",
   "execution_count": 14,
   "id": "46a983f0",
   "metadata": {},
   "outputs": [
    {
     "name": "stdout",
     "output_type": "stream",
     "text": [
      "----------------------- keys--------------------------------\n",
      "num1\n",
      "num2\n",
      "num3\n",
      "----------------------- values--------------------------------\n",
      "sandeep\n",
      "python\n",
      "world\n"
     ]
    }
   ],
   "source": [
    "lst = {'num1':\"sandeep\", 'num2':\"python\", 'num3':\"world\"}\n",
    "\n",
    "print('----------------------- keys--------------------------------')\n",
    "for key in lst:\n",
    "    print(key)\n",
    "    \n",
    "print('----------------------- values--------------------------------')\n",
    "\n",
    "for i in lst.values():\n",
    "    print(i)"
   ]
  },
  {
   "cell_type": "markdown",
   "id": "495a3d77",
   "metadata": {},
   "source": [
    "#### 16. Write a Python program to find the GCD (Greatest Common Divisor) of two numbers using a for loop."
   ]
  },
  {
   "cell_type": "code",
   "execution_count": 15,
   "id": "2f89f568",
   "metadata": {},
   "outputs": [
    {
     "name": "stdout",
     "output_type": "stream",
     "text": [
      "GCD of 25 and 125 is 5\n"
     ]
    }
   ],
   "source": [
    "num1 = 25\n",
    "num2 = 125\n",
    "\n",
    "# print(min(num1, num2))\n",
    "gcd = 1\n",
    " \n",
    "for i in range(1, min(num1, num2)):\n",
    "    if num1 % i == 0 and num2 % i == 0:\n",
    "        gcd = i\n",
    "print(\"GCD of\", num1, \"and\", num2, \"is\", gcd)"
   ]
  },
  {
   "cell_type": "markdown",
   "id": "2798c058",
   "metadata": {},
   "source": [
    "#### 17. Create a Python program that checks if a string is a palindrome using a for loop."
   ]
  },
  {
   "cell_type": "code",
   "execution_count": 16,
   "id": "e278296b",
   "metadata": {},
   "outputs": [
    {
     "name": "stdout",
     "output_type": "stream",
     "text": [
      "pallindrome\n"
     ]
    }
   ],
   "source": [
    "user_str = \"civic\"\n",
    "\n",
    "rev_str = \"\"\n",
    "\n",
    "for i in user_str:\n",
    "    rev_str = rev_str+i\n",
    "    \n",
    "if user_str == rev_str:\n",
    "        print(\"pallindrome\")\n",
    "else:\n",
    "        print(\"not pallindrome\")\n"
   ]
  },
  {
   "cell_type": "markdown",
   "id": "cea3294d",
   "metadata": {},
   "source": [
    "#### 18. Write a Python program to remove duplicates from a list using a for loop."
   ]
  },
  {
   "cell_type": "code",
   "execution_count": 17,
   "id": "5592b2e0",
   "metadata": {},
   "outputs": [
    {
     "name": "stdout",
     "output_type": "stream",
     "text": [
      "[1, 2, 4, 6, 'world', 'sandeep', 'hello']\n"
     ]
    }
   ],
   "source": [
    "lst = [1,2,4,2,6,4,2,\"world\",\"sandeep\", \"hello\",\"world\"]\n",
    "new_lst = []\n",
    "\n",
    "for i in lst:\n",
    "    if i not in new_lst:\n",
    "        new_lst.append(i)\n",
    "        \n",
    "print(new_lst)"
   ]
  },
  {
   "cell_type": "markdown",
   "id": "98b3b0b9",
   "metadata": {},
   "source": [
    "#### 19. Create a Python program that counts the number of words in a sentence using a for loop."
   ]
  },
  {
   "cell_type": "code",
   "execution_count": 18,
   "id": "1e218e05",
   "metadata": {},
   "outputs": [
    {
     "name": "stdout",
     "output_type": "stream",
     "text": [
      "enter sentence: sandeep here from India\n",
      "23\n"
     ]
    }
   ],
   "source": [
    "user_input = str(input(\"enter sentence: \"))\n",
    "\n",
    "count = 0\n",
    "\n",
    "for i in user_input:\n",
    "    count+=1\n",
    "#     print(i, count(i))\n",
    "\n",
    "print(count)\n",
    "                 "
   ]
  },
  {
   "cell_type": "markdown",
   "id": "b44eb4b3",
   "metadata": {},
   "source": [
    "#### 20. Write a Python program to find the sum of all odd numbers from 1 to 50 using a for loop."
   ]
  },
  {
   "cell_type": "code",
   "execution_count": 19,
   "id": "8f6d9428",
   "metadata": {},
   "outputs": [
    {
     "name": "stdout",
     "output_type": "stream",
     "text": [
      "625\n"
     ]
    }
   ],
   "source": [
    "summ = 0\n",
    "for i in range(1,51):\n",
    "    if i%2!=0:\n",
    "        summ+=i\n",
    "\n",
    "print(summ)"
   ]
  },
  {
   "cell_type": "markdown",
   "id": "bfbb80f9",
   "metadata": {},
   "source": [
    "#### 21. Write a Python program that checks if a given year is a leap year using a for loop."
   ]
  },
  {
   "cell_type": "code",
   "execution_count": 20,
   "id": "74aa258f",
   "metadata": {},
   "outputs": [
    {
     "name": "stdout",
     "output_type": "stream",
     "text": [
      "Please select a starting year: 2002\n",
      "Please select how many years you'd like to check: 20\n",
      "2002: Is not a leap year\n",
      "2003: Is not a leap year\n",
      "2004: Is a leap year\n",
      "2005: Is not a leap year\n",
      "2006: Is not a leap year\n",
      "2007: Is not a leap year\n",
      "2008: Is a leap year\n",
      "2009: Is not a leap year\n",
      "2010: Is not a leap year\n",
      "2011: Is not a leap year\n",
      "2012: Is a leap year\n",
      "2013: Is not a leap year\n",
      "2014: Is not a leap year\n",
      "2015: Is not a leap year\n",
      "2016: Is a leap year\n",
      "2017: Is not a leap year\n",
      "2018: Is not a leap year\n",
      "2019: Is not a leap year\n",
      "2020: Is a leap year\n",
      "2021: Is not a leap year\n",
      "2022: Is not a leap year\n"
     ]
    }
   ],
   "source": [
    "start_year = int(input(\"Please select a starting year: \"))\n",
    "num_of_years = int(input(\"Please select how many years you'd like to check: \"))\n",
    "end_year = start_year + num_of_years\n",
    "\n",
    "# The formula I used below to determine when a year is a leap year was copied from emrah-diril in this thread\n",
    "\n",
    "for i in range(start_year-1, end_year):\n",
    "    i += 1    \n",
    "    if i % 4 == 0 and (i % 100 != 0 or i % 400 == 0):\n",
    "        print (\"{}: Is a leap year\".format(i))\n",
    "    else:\n",
    "        print (f'{i}: Is not a leap year')"
   ]
  },
  {
   "cell_type": "markdown",
   "id": "76cf595c",
   "metadata": {},
   "source": [
    "#### 22. Create a Python program that calculates the square root of a number using a for loop."
   ]
  },
  {
   "cell_type": "code",
   "execution_count": 21,
   "id": "728c1c0e",
   "metadata": {},
   "outputs": [
    {
     "name": "stdout",
     "output_type": "stream",
     "text": [
      "[2.0, 4.0, 5.0]\n"
     ]
    }
   ],
   "source": [
    "import math\n",
    "num = [4,16,25]\n",
    "lst = []\n",
    "for i in num:\n",
    "    i=math.sqrt(i)\n",
    "    lst.append(i)\n",
    "print(lst)"
   ]
  },
  {
   "cell_type": "markdown",
   "id": "6199e5a5",
   "metadata": {},
   "source": [
    "#### 23. Write a Python program to find the LCM (Least Common Multiple) of two numbers using a for loop."
   ]
  },
  {
   "cell_type": "code",
   "execution_count": null,
   "id": "16265002",
   "metadata": {},
   "outputs": [],
   "source": []
  },
  {
   "cell_type": "markdown",
   "id": "50b3325a",
   "metadata": {},
   "source": [
    "### `TOPIC: If Else`"
   ]
  },
  {
   "cell_type": "markdown",
   "id": "e6bda0f3",
   "metadata": {},
   "source": [
    "#### 1. Write a Python program to check if a number is positive, negative, or zero using an if-else statement."
   ]
  },
  {
   "cell_type": "code",
   "execution_count": 22,
   "id": "2f7dc523",
   "metadata": {},
   "outputs": [
    {
     "name": "stdout",
     "output_type": "stream",
     "text": [
      "enter number: -22\n",
      "Negative\n"
     ]
    }
   ],
   "source": [
    "num = int(input(\"enter number: \"))\n",
    "\n",
    "if num>0:\n",
    "    print('Positive')\n",
    "elif num<0:\n",
    "    print('Negative')\n",
    "else:\n",
    "    print(zero)"
   ]
  },
  {
   "cell_type": "markdown",
   "id": "c0642f45",
   "metadata": {},
   "source": [
    "#### 2. Create a Python program that checks if a given number is even or odd using an if-else statement."
   ]
  },
  {
   "cell_type": "code",
   "execution_count": 23,
   "id": "af7443dd",
   "metadata": {},
   "outputs": [
    {
     "name": "stdout",
     "output_type": "stream",
     "text": [
      "Enter the number: 35\n",
      "Odd\n"
     ]
    }
   ],
   "source": [
    "num = int(input(\"Enter the number: \"))\n",
    "\n",
    "if num%2==0:\n",
    "    print('Even')\n",
    "else:\n",
    "    print('Odd')"
   ]
  },
  {
   "cell_type": "markdown",
   "id": "cb054f6b",
   "metadata": {},
   "source": [
    "#### 3. How can you use nested if-else statements in Python, and provide an example?"
   ]
  },
  {
   "cell_type": "code",
   "execution_count": 24,
   "id": "7a1fc4bf",
   "metadata": {},
   "outputs": [
    {
     "name": "stdout",
     "output_type": "stream",
     "text": [
      "Enter the number: 6\n",
      "even but not div by 4\n"
     ]
    }
   ],
   "source": [
    "\"\"\"if condition1:\n",
    "    if condition2:\n",
    "        do something\n",
    "    else:\n",
    "        do otherthing\n",
    "else:\n",
    "    do thisthing\"\"\"\n",
    "\n",
    "num = int(input(\"Enter the number: \"))\n",
    "\n",
    "if num%2==0:\n",
    "    if num%4==0:\n",
    "        print(\"even and div by 4\")\n",
    "    else:\n",
    "        print(\"even but not div by 4\")\n",
    "else:\n",
    "    print(\"not an even\")"
   ]
  },
  {
   "cell_type": "markdown",
   "id": "6e61899a",
   "metadata": {},
   "source": [
    "#### 4. Write a Python program to determine the largest of three numbers using if-else."
   ]
  },
  {
   "cell_type": "code",
   "execution_count": 25,
   "id": "c03a7ebc",
   "metadata": {},
   "outputs": [
    {
     "name": "stdout",
     "output_type": "stream",
     "text": [
      "65\n"
     ]
    }
   ],
   "source": [
    "a=23\n",
    "b=11\n",
    "c=65\n",
    "\n",
    "if a>b and a>c:\n",
    "    print(a)\n",
    "elif b>c:\n",
    "    print(b)\n",
    "else:\n",
    "    print(c)"
   ]
  },
  {
   "cell_type": "markdown",
   "id": "52cd5076",
   "metadata": {},
   "source": [
    "#### 5. Write a Python program that calculates the absolute value of a number using if-else."
   ]
  },
  {
   "cell_type": "code",
   "execution_count": 26,
   "id": "0311e857",
   "metadata": {},
   "outputs": [
    {
     "name": "stdout",
     "output_type": "stream",
     "text": [
      "Enter the num: -9\n",
      "absolute num is 9\n"
     ]
    }
   ],
   "source": [
    "num = int(input(\"Enter the num: \"))\n",
    "\n",
    "if num>=0:\n",
    "    print(f'absolute num is {num}')\n",
    "else:\n",
    "    print(f'absolute num is {-num}')"
   ]
  },
  {
   "cell_type": "markdown",
   "id": "831da205",
   "metadata": {},
   "source": [
    "#### 6. Create a Python program that checks if a given character is a vowel or consonant using if-else."
   ]
  },
  {
   "cell_type": "code",
   "execution_count": 27,
   "id": "3dd4d8e7",
   "metadata": {},
   "outputs": [
    {
     "name": "stdout",
     "output_type": "stream",
     "text": [
      "enter the character: hello sandeep\n",
      "consonant is \"h\"\n",
      "vowel is \"e\"\n",
      "consonant is \"l\"\n",
      "consonant is \"l\"\n",
      "vowel is \"o\"\n",
      "consonant is \" \"\n",
      "consonant is \"s\"\n",
      "vowel is \"a\"\n",
      "consonant is \"n\"\n",
      "consonant is \"d\"\n",
      "vowel is \"e\"\n",
      "vowel is \"e\"\n",
      "consonant is \"p\"\n"
     ]
    }
   ],
   "source": [
    "charac = str(input(\"enter the character: \"))\n",
    "\n",
    "vowels = ['a','e','i','o','u']\n",
    "\n",
    "for i in charac:\n",
    "    if i in vowels:\n",
    "        print(f'vowel is \"{i}\"')\n",
    "    else:\n",
    "        print(f'consonant is \"{i}\"')\n",
    "\n"
   ]
  },
  {
   "cell_type": "markdown",
   "id": "b35ca461",
   "metadata": {},
   "source": [
    "#### 7. Write a Python program to determine if a user is eligible to vote based on their age using if-else."
   ]
  },
  {
   "cell_type": "code",
   "execution_count": 28,
   "id": "577922c1",
   "metadata": {},
   "outputs": [
    {
     "name": "stdout",
     "output_type": "stream",
     "text": [
      "Enter your age: 20\n",
      "You are eligible to vote\n"
     ]
    }
   ],
   "source": [
    "age = int(input(\"Enter your age: \"))\n",
    "\n",
    "if age>=18:\n",
    "    print(\"You are eligible to vote\")\n",
    "else:\n",
    "    print(\"you are not eligible to vote\")"
   ]
  },
  {
   "cell_type": "markdown",
   "id": "d5a2a5b6",
   "metadata": {},
   "source": [
    "#### 8. Create a Python program that calculates the discount amount based on the purchase amount using if-else."
   ]
  },
  {
   "cell_type": "code",
   "execution_count": 29,
   "id": "54ebfecd",
   "metadata": {},
   "outputs": [
    {
     "name": "stdout",
     "output_type": "stream",
     "text": [
      "Enter your purchase amount: 5000\n",
      "final price is 5000 as not eligible for discount\n"
     ]
    }
   ],
   "source": [
    "purchase = int(input(\"Enter your purchase amount: \"))\n",
    "\n",
    "if purchase>5000:\n",
    "    discount = purchase - purchase*0.2\n",
    "    print(f'final price is {discount} as provided with 20% discount')\n",
    "else:\n",
    "    print(f'final price is {purchase} as not eligible for discount')"
   ]
  },
  {
   "cell_type": "markdown",
   "id": "d46ed932",
   "metadata": {},
   "source": [
    "#### 9. Write a Python program to check if a number is within a specified range using if-else."
   ]
  },
  {
   "cell_type": "code",
   "execution_count": 30,
   "id": "b4bef745",
   "metadata": {},
   "outputs": [
    {
     "name": "stdout",
     "output_type": "stream",
     "text": [
      "Enter num1: 4\n",
      "Number is in range\n"
     ]
    }
   ],
   "source": [
    "num=int(input(\"Enter num1: \"))\n",
    "\n",
    "\n",
    "if 1<num<10:\n",
    "    print(\"Number is in range\")\n",
    "else:\n",
    "    print(\"Number is out of range\")"
   ]
  },
  {
   "cell_type": "markdown",
   "id": "d05cec22",
   "metadata": {},
   "source": [
    "#### 10. Create a Python program that determines the grade of a student based on their score using if-else."
   ]
  },
  {
   "cell_type": "code",
   "execution_count": 31,
   "id": "51f9fcdb",
   "metadata": {},
   "outputs": [
    {
     "name": "stdout",
     "output_type": "stream",
     "text": [
      "Enter your marks out of 100: 70\n",
      "Grade B\n"
     ]
    }
   ],
   "source": [
    "marks = int(input(\"Enter your marks out of 100: \"))\n",
    "\n",
    "if 90<marks<=100:\n",
    "    print(\"Grade A\")\n",
    "elif 60<=marks<=90:\n",
    "    print(\"Grade B\")\n",
    "else:\n",
    "    print(\"Grade C\")\n",
    "    "
   ]
  },
  {
   "cell_type": "markdown",
   "id": "2769f54c",
   "metadata": {},
   "source": [
    "#### 11. Write a Python program to check if a string is empty or not using if-else."
   ]
  },
  {
   "cell_type": "code",
   "execution_count": 32,
   "id": "34b34ede",
   "metadata": {},
   "outputs": [
    {
     "name": "stdout",
     "output_type": "stream",
     "text": [
      "Enter your string: \n",
      "empty string\n"
     ]
    }
   ],
   "source": [
    "user_str = str(input(\"Enter your string: \"))\n",
    "\n",
    "if len(user_str)==0:\n",
    "    print(\"empty string\")\n",
    "else:\n",
    "    print(\"not empty\")"
   ]
  },
  {
   "cell_type": "markdown",
   "id": "aa5bcb45",
   "metadata": {},
   "source": [
    "#### 12. Create a Python program that identifies the type of a triangle (e.g., equilateral, isosceles, or scalene) based on input values using if-else.    "
   ]
  },
  {
   "cell_type": "code",
   "execution_count": null,
   "id": "3a677350",
   "metadata": {},
   "outputs": [],
   "source": []
  },
  {
   "cell_type": "markdown",
   "id": "ab886449",
   "metadata": {},
   "source": [
    "#### 13. Write a Python program to determine the day of the week based on a user-provided number using if-else."
   ]
  },
  {
   "cell_type": "code",
   "execution_count": 33,
   "id": "07933196",
   "metadata": {},
   "outputs": [
    {
     "name": "stdout",
     "output_type": "stream",
     "text": [
      "Enter number in between 1-7: 5\n",
      "Friday\n"
     ]
    }
   ],
   "source": [
    "user_input = int(input(\"Enter number in between 1-7: \"))\n",
    "\n",
    "if user_input ==1:\n",
    "    print(\"Monday\")\n",
    "elif user_input ==2:\n",
    "    print(\"Tuesday\")\n",
    "elif user_input ==3:\n",
    "    print(\"Wednesday\")\n",
    "elif user_input ==4:\n",
    "    print(\"Thursday\")\n",
    "elif user_input ==5:\n",
    "    print(\"Friday\")\n",
    "elif user_input ==6:\n",
    "    print(\"Saturday\")\n",
    "elif user_input ==7:\n",
    "    print(\"Sunday\")\n",
    "else:\n",
    "    print(\"Enter corrcet number\")"
   ]
  },
  {
   "cell_type": "markdown",
   "id": "0180e6bc",
   "metadata": {},
   "source": [
    "#### 14. Create a Python program that checks if a given year is a leap year using both if-else and a function."
   ]
  },
  {
   "cell_type": "code",
   "execution_count": 34,
   "id": "247b0f72",
   "metadata": {},
   "outputs": [
    {
     "name": "stdout",
     "output_type": "stream",
     "text": [
      "2002: Is not a leap year\n",
      "2003: Is not a leap year\n",
      "2004: Is a leap year\n",
      "2005: Is not a leap year\n",
      "2006: Is not a leap year\n",
      "2007: Is not a leap year\n",
      "2008: Is a leap year\n",
      "2009: Is not a leap year\n",
      "2010: Is not a leap year\n",
      "2011: Is not a leap year\n",
      "2012: Is a leap year\n",
      "2013: Is not a leap year\n",
      "2014: Is not a leap year\n",
      "2015: Is not a leap year\n",
      "2016: Is a leap year\n",
      "2017: Is not a leap year\n",
      "2018: Is not a leap year\n",
      "2019: Is not a leap year\n",
      "2020: Is a leap year\n",
      "2021: Is not a leap year\n",
      "2022: Is not a leap year\n"
     ]
    }
   ],
   "source": [
    "def leap_year(start_year, num_of_years):\n",
    "    \n",
    "    end_year = start_year + num_of_years\n",
    "\n",
    "    # The formula I used below to determine when a year is a leap year was copied from emrah-diril in this thread\n",
    "\n",
    "    for i in range(start_year-1, end_year):\n",
    "        i += 1    \n",
    "        if i % 4 == 0 and (i % 100 != 0 or i % 400 == 0):\n",
    "            print (\"{}: Is a leap year\".format(i))\n",
    "        else:\n",
    "            print (f'{i}: Is not a leap year')\n",
    "            \n",
    "leap_year(2002,20)"
   ]
  },
  {
   "cell_type": "markdown",
   "id": "6bbfb81c",
   "metadata": {},
   "source": [
    "#### 15.How do you use the \"assert\" statement in Python to add debugging checks within if-else blocks?"
   ]
  },
  {
   "cell_type": "markdown",
   "id": "34f0c456",
   "metadata": {},
   "source": [
    "The assert statement in Python is used to add debugging checks within if-else blocks by verifying whether a specified condition is true."
   ]
  },
  {
   "cell_type": "markdown",
   "id": "0f482017",
   "metadata": {},
   "source": [
    "#### 16.Create a Python program that determines the eligibility of a person for a senior citizen discount based on age using if-else."
   ]
  },
  {
   "cell_type": "code",
   "execution_count": 1,
   "id": "326fac24",
   "metadata": {},
   "outputs": [
    {
     "name": "stdout",
     "output_type": "stream",
     "text": [
      "Enter Age: 66\n",
      "Eligible for Senior citizen discount\n"
     ]
    }
   ],
   "source": [
    "age = int(input(\"Enter Age: \"))\n",
    "\n",
    "if age>=60:\n",
    "    print(\"Eligible for Senior citizen discount\")\n",
    "else:\n",
    "    print(\"Not eligible for Senior citizen discount\")"
   ]
  },
  {
   "cell_type": "markdown",
   "id": "16c517a3",
   "metadata": {},
   "source": [
    "#### 17.Write a Python program to categorize a given character as uppercase, lowercase, or neither using if-else."
   ]
  },
  {
   "cell_type": "code",
   "execution_count": 2,
   "id": "208ca48a",
   "metadata": {},
   "outputs": [
    {
     "name": "stdout",
     "output_type": "stream",
     "text": [
      "Enter the character: A\n",
      "its uppercase\n"
     ]
    }
   ],
   "source": [
    "char = str(input(\"Enter the character: \"))\n",
    "\n",
    "if char.isupper():\n",
    "    print(\"its uppercase\")\n",
    "elif char.islower():\n",
    "    print(\"its lowercase\")\n",
    "else:\n",
    "    print(\"Neither\")"
   ]
  },
  {
   "cell_type": "markdown",
   "id": "33f60152",
   "metadata": {},
   "source": [
    "#### 18.Write a Python program to determine the roots of a quadratic equation using if-else."
   ]
  },
  {
   "cell_type": "code",
   "execution_count": 4,
   "id": "740a5780",
   "metadata": {},
   "outputs": [
    {
     "name": "stdout",
     "output_type": "stream",
     "text": [
      "Insert coefficient a: 2\n",
      "Insert coefficient b: 4\n",
      "Insert coefficient c: 6\n",
      "roots are : ((-1+1.5811388300841898j), (-1-1.5811388300841898j))\n"
     ]
    }
   ],
   "source": [
    "import math\n",
    "\n",
    "a = float(input(\"Insert coefficient a: \"))\n",
    "b = float(input(\"Insert coefficient b: \"))\n",
    "c = float(input(\"Insert coefficient c: \"))\n",
    "\n",
    "eqtn = b*2 - 4*a*c\n",
    "\n",
    "if eqtn >= 0:\n",
    "    x1=(-b+math.sqrt(eqtn))/2*a\n",
    "    x2=(-b-math.sqrt(eqtn))/2*a\n",
    "    print(f'roots are : {x1,x2}')\n",
    "else:\n",
    "    x1= complex((-b/(2*a)),math.sqrt(-eqtn)/(2*a))\n",
    "    x2= complex((-b/(2*a)),-math.sqrt(-eqtn)/(2*a))\n",
    "    print(f'roots are : {x1,x2}')\n",
    " \n",
    "    "
   ]
  },
  {
   "cell_type": "markdown",
   "id": "3b6e5e33",
   "metadata": {},
   "source": [
    "#### 19.Create a Python program that checks if a given year is a century year or not using if-else."
   ]
  },
  {
   "cell_type": "code",
   "execution_count": 5,
   "id": "5455eccb",
   "metadata": {},
   "outputs": [
    {
     "name": "stdout",
     "output_type": "stream",
     "text": [
      "Enter the year: 2009\n",
      "its a century year\n"
     ]
    }
   ],
   "source": [
    "year = int(input(\"Enter the year: \"))\n",
    "\n",
    "if (year+99)//100:\n",
    "    print(\"its a century year\")\n",
    "else:\n",
    "    print(\"not a century year\")"
   ]
  },
  {
   "cell_type": "markdown",
   "id": "2a795b4d",
   "metadata": {},
   "source": [
    "#### 20.Write a Python program to determine if a given number is a perfect square using if-else."
   ]
  },
  {
   "cell_type": "code",
   "execution_count": 7,
   "id": "8a275ef7",
   "metadata": {},
   "outputs": [
    {
     "name": "stdout",
     "output_type": "stream",
     "text": [
      "Enter the number: 36\n",
      "Its a perfect square\n"
     ]
    }
   ],
   "source": [
    "from math import sqrt\n",
    "n = int(input(\"Enter the number: \"))\n",
    "\n",
    "sq_root = int(sqrt(n))\n",
    "if sq_root*sq_root == n:\n",
    "    print(\"Its a perfect square\")\n",
    "else:\n",
    "    print(\"Not a perfect square\")\n"
   ]
  },
  {
   "cell_type": "markdown",
   "id": "1d691b97",
   "metadata": {},
   "source": [
    "#### 21.Explain the purpose of the \"continue\" and \"break\" statements within if-else loops."
   ]
  },
  {
   "cell_type": "markdown",
   "id": "0bb4f559",
   "metadata": {},
   "source": [
    "`Break` exits the current loop when certain condition is met.<br>\n",
    "\n",
    "`Continue` skip the line where condition is met and move to the next lines."
   ]
  },
  {
   "cell_type": "markdown",
   "id": "e17da38d",
   "metadata": {},
   "source": [
    "#### 22.Create a Python program that calculates the BMI (Body Mass Index) of a person based on their weight and height using if-else.\n"
   ]
  },
  {
   "cell_type": "code",
   "execution_count": 21,
   "id": "0e6bffc4",
   "metadata": {},
   "outputs": [
    {
     "name": "stdout",
     "output_type": "stream",
     "text": [
      "Enter the weight: 65\n",
      "Enter the height: 5\n",
      "Your BMI is 2.6 which means you are underweight.\n"
     ]
    }
   ],
   "source": [
    "weight = float(input(\"Enter the weight: \"))\n",
    "height = float(input(\"Enter the height: \"))\n",
    "\n",
    "bmi = weight/(height*height)\n",
    "\n",
    "if bmi <= 18.5:\n",
    "    print('Your BMI is', bmi,'which means you are underweight.')\n",
    "\n",
    "elif bmi > 18.5 and bmi < 25:\n",
    "    print('Your BMI is', bmi,'which means you are normal.')\n",
    "\n",
    "elif bmi > 25 and bmi < 30:\n",
    "    print('your BMI is', bmi,'overweight.')\n",
    "\n",
    "elif bmi > 30:\n",
    "    print('Your BMI is', bmi,'which means you are obese.')\n",
    "\n",
    "else:\n",
    "    print('There is an error with your input')\n"
   ]
  },
  {
   "cell_type": "markdown",
   "id": "183da496",
   "metadata": {},
   "source": [
    "#### 23.How can you use the \"filter()\" function with if-else statements to filter elements from a list?"
   ]
  },
  {
   "cell_type": "code",
   "execution_count": 40,
   "id": "c239462a",
   "metadata": {},
   "outputs": [
    {
     "name": "stdout",
     "output_type": "stream",
     "text": [
      "ajay\n",
      "evan\n"
     ]
    }
   ],
   "source": [
    "names = [\"ajay\", \"bipin\", \"chirag\", \"dipak\", \"evan\", \"feroz\"]\n",
    "\n",
    "vowels = \"aeiou\"\n",
    "\n",
    "for i in range(len(names)):\n",
    "    if names[i][0] in vowels:\n",
    "        print(names[i])\n",
    "    else:\n",
    "        pass\n"
   ]
  },
  {
   "cell_type": "markdown",
   "id": "941f96e2",
   "metadata": {},
   "source": [
    "#### 24. Write a Python program to determine if a given number is prime or not using if-else"
   ]
  },
  {
   "cell_type": "code",
   "execution_count": 41,
   "id": "c9e9539e",
   "metadata": {},
   "outputs": [
    {
     "name": "stdout",
     "output_type": "stream",
     "text": [
      "Enter num: 13\n",
      "13 is a prime number\n"
     ]
    }
   ],
   "source": [
    "num = int(input(\"Enter num: \"))\n",
    "\n",
    "if num > 1:\n",
    "\n",
    "    for i in range(2, int(num/2)+1):\n",
    "        if (num % i) == 0:\n",
    "            print(num, \"is not a prime number\")\n",
    "            break\n",
    "    else:\n",
    "        print(num, \"is a prime number\")\n",
    "else:\n",
    "    print(num, \"is not a prime number\")\n"
   ]
  },
  {
   "cell_type": "markdown",
   "id": "e601008d",
   "metadata": {},
   "source": [
    "### `TOPIC: Map`"
   ]
  },
  {
   "cell_type": "markdown",
   "id": "08cf0edb",
   "metadata": {},
   "source": [
    "#### 1.Explain the purpose of the `map()` function in Python and provide an example of how it can be used to apply a function to each element of an iterable."
   ]
  },
  {
   "cell_type": "markdown",
   "id": "4c2a192a",
   "metadata": {},
   "source": [
    "It takes the function and iterable i.e map(function,iterable) and return an iterator that applies function to every item of iterator\n",
    "\n",
    "example below: Making all the numbers odd "
   ]
  },
  {
   "cell_type": "code",
   "execution_count": 6,
   "id": "9d1a16e0",
   "metadata": {},
   "outputs": [
    {
     "name": "stdout",
     "output_type": "stream",
     "text": [
      "[1, 3, 5, 7, 3, 9, 9]\n"
     ]
    }
   ],
   "source": [
    "def make_odd(num):\n",
    "    if num%2==0:\n",
    "        return num+1\n",
    "    else:\n",
    "        return num\n",
    "        \n",
    "x = [1,3,4,7,2,8,9]\n",
    "\n",
    "y = list(map(make_odd,x))\n",
    "print(y)"
   ]
  },
  {
   "cell_type": "markdown",
   "id": "ac1c488e",
   "metadata": {},
   "source": [
    "#### 2.Write a Python program that uses the `map()` function to square each element of a list of numbers."
   ]
  },
  {
   "cell_type": "code",
   "execution_count": 9,
   "id": "212c5360",
   "metadata": {},
   "outputs": [
    {
     "name": "stdout",
     "output_type": "stream",
     "text": [
      "[1, 9, 16, 49, 4, 64, 81]\n"
     ]
    }
   ],
   "source": [
    "num = [1,3,4,7,2,8,9]\n",
    "\n",
    "def separate_num(num):\n",
    "    return num*num\n",
    "        \n",
    "y = list(map(separate_num,num))\n",
    "print(y)"
   ]
  },
  {
   "cell_type": "markdown",
   "id": "1f2457b3",
   "metadata": {},
   "source": [
    "#### 3.How does the `map()` function differ from a list comprehension in Python, and when would you choose one over the other?"
   ]
  },
  {
   "cell_type": "markdown",
   "id": "f2c9d2b7",
   "metadata": {},
   "source": [
    "`map()` is used when you have an existing function and want to apply it to each element in an iterable without creating a new list explicitly. `List comprehensions` are a better choice when you want to create a new list with optional filtering or transformations in a more concise and readable way."
   ]
  },
  {
   "cell_type": "markdown",
   "id": "23c4c566",
   "metadata": {},
   "source": [
    "#### 4.Create a Python program that uses the `map()` function to convert a list of names to uppercase."
   ]
  },
  {
   "cell_type": "code",
   "execution_count": 12,
   "id": "bd404580",
   "metadata": {},
   "outputs": [
    {
     "name": "stdout",
     "output_type": "stream",
     "text": [
      "HELLO WORLD, THIS IS SANDEEP\n"
     ]
    }
   ],
   "source": [
    "string = \"Hello world, this is sandeep\"\n",
    "\n",
    "def convert_upper(x):\n",
    "    return ''.join(map(str.upper, x))\n",
    "        \n",
    "uppercase_string = convert_upper(string)\n",
    "print(uppercase_string)"
   ]
  },
  {
   "cell_type": "markdown",
   "id": "33745cf2",
   "metadata": {},
   "source": [
    "#### 5.Write a Python program that uses the `map()` function to calculate the length of each word in a list of strings."
   ]
  },
  {
   "cell_type": "code",
   "execution_count": 18,
   "id": "7ccd290b",
   "metadata": {},
   "outputs": [
    {
     "name": "stdout",
     "output_type": "stream",
     "text": [
      "[5, 6, 4, 2, 7]\n"
     ]
    }
   ],
   "source": [
    "string = \"Hello world, this is sandeep\"\n",
    "\n",
    "def len_word(x):\n",
    "    return len(x)\n",
    "\n",
    "words = string.split()\n",
    "# print(words)\n",
    "\n",
    "word_lengths = list(map(len_word, words))\n",
    "\n",
    "print(word_lengths)"
   ]
  },
  {
   "cell_type": "markdown",
   "id": "1c50ceac",
   "metadata": {},
   "source": [
    "#### 6.How can you use the `map()` function to apply a custom function to elements of multiple lists simultaneously in Python?"
   ]
  },
  {
   "cell_type": "code",
   "execution_count": 19,
   "id": "fbb526c4",
   "metadata": {},
   "outputs": [
    {
     "name": "stdout",
     "output_type": "stream",
     "text": [
      "[1, 3, 5, 7, 3, 9, 9]\n"
     ]
    }
   ],
   "source": [
    "## for example\n",
    "\n",
    "def make_odd(num):\n",
    "    if num%2==0:\n",
    "        return num+1\n",
    "    else:\n",
    "        return num\n",
    "        \n",
    "x = [1,3,4,7,2,8,9]\n",
    "\n",
    "y = list(map(make_odd,x))\n",
    "print(y)"
   ]
  },
  {
   "cell_type": "markdown",
   "id": "74a23fce",
   "metadata": {},
   "source": [
    "#### 7.Create a Python program that uses `map()` to convert a list of temperatures from Celsius to Fahrenheit."
   ]
  },
  {
   "cell_type": "code",
   "execution_count": 20,
   "id": "52505bee",
   "metadata": {},
   "outputs": [
    {
     "name": "stdout",
     "output_type": "stream",
     "text": [
      "[87.8, 89.6, 91.4, 93.2, 95.0, 90.5, 92.66]\n"
     ]
    }
   ],
   "source": [
    "temp_celcius = [31,32,33,34,35,32.5,33.7]\n",
    "\n",
    "def c_to_f(celsius):\n",
    "    fahrenheit = (celsius * 9/5) + 32\n",
    "    return fahrenheit\n",
    "\n",
    "fahrenheit = list(map(c_to_f,temp_celcius))\n",
    "print(fahrenheit)"
   ]
  },
  {
   "cell_type": "markdown",
   "id": "d581fe2c",
   "metadata": {},
   "source": [
    "#### 8.Write a Python program that uses the `map()` function to round each element of a list of floating-point numbers to the nearest integer."
   ]
  },
  {
   "cell_type": "code",
   "execution_count": 21,
   "id": "ece79167",
   "metadata": {},
   "outputs": [
    {
     "name": "stdout",
     "output_type": "stream",
     "text": [
      "[32, 33, 33, 35, 36, 33, 34]\n"
     ]
    }
   ],
   "source": [
    "float_num = [31.777,32.986,33.095,34.556,35.546,32.5007,33.711]\n",
    "\n",
    "def float_to_round(x):\n",
    "    return round(x)\n",
    "\n",
    "round_num = list(map(float_to_round,float_num))\n",
    "print(round_num)"
   ]
  },
  {
   "cell_type": "markdown",
   "id": "67a1f762",
   "metadata": {},
   "source": [
    "### `TOPIC: Reduce`"
   ]
  },
  {
   "cell_type": "markdown",
   "id": "0ced61e9",
   "metadata": {},
   "source": [
    "#### 1. What is the `reduce()` function in Python, and what module should you import to use it? Provide an example of its basic usage."
   ]
  },
  {
   "cell_type": "markdown",
   "id": "726686fe",
   "metadata": {},
   "source": [
    "The `reduce(fun,seq)` function is used to apply a particular function passed in its argument to all of the list elements mentioned in the sequence passed along reducing the list to a single accumulated result. <br>\n",
    "\n",
    "Need to “functools” module."
   ]
  },
  {
   "cell_type": "code",
   "execution_count": 22,
   "id": "1d0c4fc8",
   "metadata": {},
   "outputs": [
    {
     "name": "stdout",
     "output_type": "stream",
     "text": [
      "15\n"
     ]
    }
   ],
   "source": [
    "import functools\n",
    "\n",
    "num = [1, 2, 3, 4, 5]\n",
    "\n",
    "def add(x, y):\n",
    "    return x + y\n",
    "\n",
    "\n",
    "y = functools.reduce(add, num)\n",
    "print(y) \n"
   ]
  },
  {
   "cell_type": "markdown",
   "id": "612c46f8",
   "metadata": {},
   "source": [
    "#### 2. Write a Python program that uses the `reduce()` function to find the product of all elements in a list."
   ]
  },
  {
   "cell_type": "code",
   "execution_count": 26,
   "id": "768d8a48",
   "metadata": {},
   "outputs": [
    {
     "name": "stdout",
     "output_type": "stream",
     "text": [
      "120\n"
     ]
    }
   ],
   "source": [
    "import functools\n",
    "\n",
    "num = [1, 2, 3, 4, 5]\n",
    "\n",
    "def mul(x, y):\n",
    "    return x * y\n",
    "\n",
    "\n",
    "y = functools.reduce(mul, num)\n",
    "print(y) "
   ]
  },
  {
   "cell_type": "markdown",
   "id": "2c82e8dc",
   "metadata": {},
   "source": [
    "#### 3. Create a Python program that uses `reduce()` to find the maximum element in a list of numbers"
   ]
  },
  {
   "cell_type": "code",
   "execution_count": 27,
   "id": "5d4a10c6",
   "metadata": {},
   "outputs": [
    {
     "name": "stdout",
     "output_type": "stream",
     "text": [
      "67\n"
     ]
    }
   ],
   "source": [
    "import functools\n",
    "\n",
    "num = [1,55,34,67,24,53]\n",
    "\n",
    "def find_max(x,y):\n",
    "    return max(x,y)\n",
    "\n",
    "\n",
    "y = functools.reduce(find_max, num)\n",
    "print(y) "
   ]
  },
  {
   "cell_type": "markdown",
   "id": "7e93fbcf",
   "metadata": {},
   "source": [
    "#### 4.How can you use the `reduce()` function to concatenate a list of strings into a single string?"
   ]
  },
  {
   "cell_type": "code",
   "execution_count": 28,
   "id": "cd453cc6",
   "metadata": {},
   "outputs": [
    {
     "name": "stdout",
     "output_type": "stream",
     "text": [
      "hello world I am Sandeep\n"
     ]
    }
   ],
   "source": [
    "import functools\n",
    "\n",
    "list_str = [\"hello\", \"world\", \"I\", \"am\", \"Sandeep\"]\n",
    "\n",
    "def concate_word(x,y):\n",
    "    return x+' '+y\n",
    "\n",
    "\n",
    "y = functools.reduce(concate_word, list_str)\n",
    "print(y) "
   ]
  },
  {
   "cell_type": "markdown",
   "id": "e67e0777",
   "metadata": {},
   "source": [
    "#### 5. Write a Python program that calculates the factorial of a number using the `reduce()` function"
   ]
  },
  {
   "cell_type": "code",
   "execution_count": 30,
   "id": "e47066e1",
   "metadata": {},
   "outputs": [
    {
     "name": "stdout",
     "output_type": "stream",
     "text": [
      "Enter a number: 5\n",
      "Factorial of 5 is 120\n"
     ]
    }
   ],
   "source": [
    "import functools\n",
    "\n",
    "num = int(input(\"Enter a number: \"))\n",
    "\n",
    "def factorial(x, y):\n",
    "    return x * y\n",
    "\n",
    "if num < 0:\n",
    "    print(\"error\")\n",
    "elif num == 0:\n",
    "    print(\"Factorial of 0 is 1\")\n",
    "else:\n",
    "    x = list(range(1, num + 1))\n",
    "    y = functools.reduce(factorial, x)\n",
    "\n",
    "    print(f\"Factorial of {num} is {y}\")\n"
   ]
  },
  {
   "cell_type": "markdown",
   "id": "6a67904e",
   "metadata": {},
   "source": [
    "#### 6. Create a Python program that uses `reduce()` to find the GCD (Greatest Common Divisor) of a list of numbers."
   ]
  },
  {
   "cell_type": "code",
   "execution_count": 32,
   "id": "ca9d9924",
   "metadata": {},
   "outputs": [
    {
     "name": "stdout",
     "output_type": "stream",
     "text": [
      "GCD of the numbers [24, 36, 48, 60, 72] is 12\n"
     ]
    }
   ],
   "source": [
    "import functools\n",
    "import math\n",
    "\n",
    "numbers = [24, 36, 48, 60, 72]\n",
    "\n",
    "def gcd(x, y):\n",
    "    return math.gcd(x, y)\n",
    "\n",
    "result = functools.reduce(gcd, numbers)\n",
    "\n",
    "print(f\"GCD of the numbers {numbers} is {result}\")\n"
   ]
  },
  {
   "cell_type": "markdown",
   "id": "6d87c6cd",
   "metadata": {},
   "source": [
    "#### 7. Write a Python program that uses the `reduce()` function to find the sum of the digits of a given number."
   ]
  },
  {
   "cell_type": "code",
   "execution_count": 34,
   "id": "3b8ef143",
   "metadata": {},
   "outputs": [
    {
     "name": "stdout",
     "output_type": "stream",
     "text": [
      "60\n"
     ]
    }
   ],
   "source": [
    "import functools\n",
    "\n",
    "num = [24, 36]\n",
    "          \n",
    "def add(x, y):\n",
    "    return x + y\n",
    "\n",
    "\n",
    "y = functools.reduce(add, num)\n",
    "print(y)"
   ]
  },
  {
   "cell_type": "markdown",
   "id": "e83f4f0b",
   "metadata": {},
   "source": [
    "### `TOPIC: Filter`"
   ]
  },
  {
   "cell_type": "markdown",
   "id": "4b3d944e",
   "metadata": {},
   "source": [
    "#### 1. Explain the purpose of the `filter()` function in Python and provide an example of how it can be used to filter elements from an iterable."
   ]
  },
  {
   "cell_type": "markdown",
   "id": "ae14672b",
   "metadata": {},
   "source": [
    "`Filter()` returns only those elements which meet the condition. It takes two inputs (the function, the condition)"
   ]
  },
  {
   "cell_type": "code",
   "execution_count": 2,
   "id": "750c7aff",
   "metadata": {},
   "outputs": [
    {
     "data": {
      "text/plain": [
       "[4, 8, 4, 5, 7]"
      ]
     },
     "execution_count": 2,
     "metadata": {},
     "output_type": "execute_result"
    }
   ],
   "source": [
    "num = [1,4,2,8,4,5,2,7]\n",
    "\n",
    "def filter_func(condition):\n",
    "    return condition>3\n",
    "\n",
    "list(filter(filter_func, num))\n",
    "    \n"
   ]
  },
  {
   "cell_type": "markdown",
   "id": "80c963a2",
   "metadata": {},
   "source": [
    "#### 2. Write a Python program that uses the `filter()` function to select even numbers from a list of integers."
   ]
  },
  {
   "cell_type": "code",
   "execution_count": 5,
   "id": "e8a3f63b",
   "metadata": {},
   "outputs": [
    {
     "data": {
      "text/plain": [
       "[44, 82, 48, 76]"
      ]
     },
     "execution_count": 5,
     "metadata": {},
     "output_type": "execute_result"
    }
   ],
   "source": [
    "num = [1,44,23,82,48,51,29,76]\n",
    "\n",
    "def find_even(condition):\n",
    "    return condition%2==0\n",
    "\n",
    "list(filter(find_even, num))"
   ]
  },
  {
   "cell_type": "markdown",
   "id": "7dc17904",
   "metadata": {},
   "source": [
    "#### 3. Create a Python program that uses the `filter()` function to select names that start with a specific letter from a list of strings."
   ]
  },
  {
   "cell_type": "code",
   "execution_count": 10,
   "id": "284df31d",
   "metadata": {},
   "outputs": [
    {
     "data": {
      "text/plain": [
       "['ajay']"
      ]
     },
     "execution_count": 10,
     "metadata": {},
     "output_type": "execute_result"
    }
   ],
   "source": [
    "names = [\"ajay\", \"bipin\", \"chirag\", \"dipak\", \"evan\", \"feroz\"]\n",
    "\n",
    "specific_letter = \"a\"\n",
    "\n",
    "def start_letter(name):\n",
    "    return name.startswith(specific_letter)\n",
    "\n",
    "list(filter(start_letter, names))"
   ]
  },
  {
   "cell_type": "markdown",
   "id": "3bf1ddeb",
   "metadata": {},
   "source": [
    "#### 4. Write a Python program that uses the `filter()` function to select prime numbers from a list of integers."
   ]
  },
  {
   "cell_type": "code",
   "execution_count": 11,
   "id": "104bc349",
   "metadata": {},
   "outputs": [
    {
     "data": {
      "text/plain": [
       "[23, 29]"
      ]
     },
     "execution_count": 11,
     "metadata": {},
     "output_type": "execute_result"
    }
   ],
   "source": [
    "num = [1,44,23,82,48,51,29,76]\n",
    "\n",
    "def find_prime(num):\n",
    "    if num <= 1:\n",
    "        return False\n",
    "    elif num == 2:\n",
    "        return True\n",
    "    elif num % 2 == 0:\n",
    "        return False\n",
    "    else:\n",
    "        for i in range(3, int(num ** 0.5) + 1, 2):\n",
    "            if num % i == 0:\n",
    "                return False\n",
    "        return True\n",
    "\n",
    "\n",
    "list(filter(find_prime, num))"
   ]
  },
  {
   "cell_type": "markdown",
   "id": "faea324d",
   "metadata": {},
   "source": [
    "#### 5. How can you use the `filter()` function to remove None values from a list in Python?"
   ]
  },
  {
   "cell_type": "code",
   "execution_count": 3,
   "id": "f527d3e2",
   "metadata": {},
   "outputs": [
    {
     "data": {
      "text/plain": [
       "[0, 23, 234, 89, 0, 35, 9]"
      ]
     },
     "execution_count": 3,
     "metadata": {},
     "output_type": "execute_result"
    }
   ],
   "source": [
    "L = [0, 23, None, 234, 89, None, 0, 35, 9]\n",
    "\n",
    "list(filter(lambda v: v is not None, L))"
   ]
  },
  {
   "cell_type": "markdown",
   "id": "1f68083f",
   "metadata": {},
   "source": [
    "#### 6. Create a Python program that uses `filter()` to select words longer than a certain length from a list of strings."
   ]
  },
  {
   "cell_type": "code",
   "execution_count": 22,
   "id": "66583b63",
   "metadata": {},
   "outputs": [
    {
     "data": {
      "text/plain": [
       "['Sandeep', 'Python', 'country']"
      ]
     },
     "execution_count": 22,
     "metadata": {},
     "output_type": "execute_result"
    }
   ],
   "source": [
    "L = [\"hello\", \"Sandeep\", \"Python\", \"world\", \"Hi\", \"country\"]\n",
    "\n",
    "limit = 5\n",
    "\n",
    "list(filter(lambda word: len(word) > limit, L))\n"
   ]
  },
  {
   "cell_type": "markdown",
   "id": "a9e143a6",
   "metadata": {},
   "source": [
    "#### 7. Write a Python program that uses the `filter()` function to select elements greater than a specified threshold from a list of values."
   ]
  },
  {
   "cell_type": "code",
   "execution_count": 24,
   "id": "69bd65e1",
   "metadata": {},
   "outputs": [
    {
     "data": {
      "text/plain": [
       "['hello', 'world', 'Hi']"
      ]
     },
     "execution_count": 24,
     "metadata": {},
     "output_type": "execute_result"
    }
   ],
   "source": [
    "L = [\"hello\", \"Sandeep\", \"Python\", \"world\", \"Hi\", \"country\"]\n",
    "\n",
    "limit = 6\n",
    "\n",
    "list(filter(lambda word: len(word) < limit, L))"
   ]
  },
  {
   "cell_type": "markdown",
   "id": "ebf58572",
   "metadata": {},
   "source": [
    "### `TOPIC: Recursion`"
   ]
  },
  {
   "cell_type": "markdown",
   "id": "b2d32fa2",
   "metadata": {},
   "source": [
    "#### 1. Explain the concept of recursion in Python. How does it differ from iteration?"
   ]
  },
  {
   "cell_type": "markdown",
   "id": "de9d8948",
   "metadata": {},
   "source": [
    "`Recursion` is the function call inside the same function while `iteration` is the control flow achieved using loop."
   ]
  },
  {
   "cell_type": "markdown",
   "id": "7684d568",
   "metadata": {},
   "source": [
    "#### 2. Write a Python program to calculate the factorial of a number using recursion."
   ]
  },
  {
   "cell_type": "code",
   "execution_count": 2,
   "id": "c23ec91b",
   "metadata": {},
   "outputs": [
    {
     "data": {
      "text/plain": [
       "120"
      ]
     },
     "execution_count": 2,
     "metadata": {},
     "output_type": "execute_result"
    }
   ],
   "source": [
    "def fact(n):\n",
    "    if n ==0:\n",
    "        return 1\n",
    "    else:\n",
    "        return n*fact(n-1)\n",
    "    \n",
    "fact(5)"
   ]
  },
  {
   "cell_type": "markdown",
   "id": "ae1fdc8c",
   "metadata": {},
   "source": [
    "#### 3. Create a recursive Python function to find the nth Fibonacci number."
   ]
  },
  {
   "cell_type": "code",
   "execution_count": 10,
   "id": "de3b6b80",
   "metadata": {},
   "outputs": [
    {
     "data": {
      "text/plain": [
       "34"
      ]
     },
     "execution_count": 10,
     "metadata": {},
     "output_type": "execute_result"
    }
   ],
   "source": [
    "# Function for nth Fibonacci number\n",
    "\n",
    "def Fib(n):\n",
    "    if n<=0:\n",
    "        print(\"wrong input\")\n",
    "    elif n==1:\n",
    "        return 0\n",
    "    elif n ==2:\n",
    "        return 1\n",
    "    else:\n",
    "        return Fib(n-1)+Fib(n-2) \n",
    "\n",
    "\n",
    "Fib(10)\n"
   ]
  },
  {
   "cell_type": "markdown",
   "id": "50f674d3",
   "metadata": {},
   "source": [
    "#### 4. Write a recursive Python function to calculate the sum of all elements in a list."
   ]
  },
  {
   "cell_type": "code",
   "execution_count": 5,
   "id": "67d1d80c",
   "metadata": {},
   "outputs": [
    {
     "data": {
      "text/plain": [
       "15"
      ]
     },
     "execution_count": 5,
     "metadata": {},
     "output_type": "execute_result"
    }
   ],
   "source": [
    "a = [1,2,3,4,5]\n",
    "\n",
    "def sum_num(l):\n",
    "    if len(l) == 0:\n",
    "        return 0\n",
    "    else:\n",
    "        return l[0]+sum_num(l[1:])\n",
    "    \n",
    "sum_num(a)"
   ]
  },
  {
   "cell_type": "markdown",
   "id": "a4f6d182",
   "metadata": {},
   "source": [
    "#### 5. How can you prevent a recursive function from running indefinitely, causing a stack overflow error?"
   ]
  },
  {
   "cell_type": "markdown",
   "id": "f92ecd2d",
   "metadata": {},
   "source": [
    "using dynamic programming we can avoid redundant calculations by using dynamic programming techniques, such as memoization or tabulation"
   ]
  },
  {
   "cell_type": "markdown",
   "id": "d99f78cd",
   "metadata": {},
   "source": [
    "#### 6. Create a recursive Python function to find the greatest common divisor (GCD) of two numbers using the Euclidean algorithm."
   ]
  },
  {
   "cell_type": "code",
   "execution_count": 14,
   "id": "3e3e0173",
   "metadata": {},
   "outputs": [
    {
     "name": "stdout",
     "output_type": "stream",
     "text": [
      "GCD of 48 and 18 is 6\n"
     ]
    }
   ],
   "source": [
    "def gcd(a, b):\n",
    "    if b == 0:\n",
    "        return a\n",
    "    return gcd(b, a % b)\n",
    "\n",
    "num1 = 48\n",
    "num2 = 18\n",
    "result = gcd(num1, num2)\n",
    "print(f\"GCD of {num1} and {num2} is {result}\")\n"
   ]
  },
  {
   "cell_type": "markdown",
   "id": "50cbb346",
   "metadata": {},
   "source": [
    "#### 7. Write a recursive Python function to reverse a string."
   ]
  },
  {
   "cell_type": "code",
   "execution_count": 13,
   "id": "7cb3dfb4",
   "metadata": {},
   "outputs": [
    {
     "name": "stdout",
     "output_type": "stream",
     "text": [
      "peednas si siht dlrow olleH\n"
     ]
    }
   ],
   "source": [
    "str_input = \"Hello world this is sandeep\"\n",
    "def rev_str(a):\n",
    "    if len(a)<=1:\n",
    "        return a\n",
    "    else:\n",
    "        return rev_str(a[1:])+a[0]\n",
    "    \n",
    "print(rev_str(str_input))"
   ]
  },
  {
   "cell_type": "markdown",
   "id": "a41ec1f4",
   "metadata": {},
   "source": [
    "#### 8. Create a recursive Python function to calculate the power of a number (x^n)."
   ]
  },
  {
   "cell_type": "code",
   "execution_count": 15,
   "id": "ab121e5e",
   "metadata": {},
   "outputs": [
    {
     "name": "stdout",
     "output_type": "stream",
     "text": [
      "2^5 is 32\n"
     ]
    }
   ],
   "source": [
    "def power(x, n):\n",
    "    if n == 0:\n",
    "        return 1\n",
    "    return x * power(x, n - 1)\n",
    "\n",
    "\n",
    "base = 2\n",
    "exponent = 5\n",
    "result = power(base, exponent)\n",
    "print(f\"{base}^{exponent} is {result}\")\n"
   ]
  },
  {
   "cell_type": "markdown",
   "id": "0ce553f4",
   "metadata": {},
   "source": [
    "#### 9. Write a recursive Python function to find all permutations of a given string."
   ]
  },
  {
   "cell_type": "code",
   "execution_count": null,
   "id": "5b50150b",
   "metadata": {},
   "outputs": [],
   "source": []
  },
  {
   "cell_type": "markdown",
   "id": "c06cc0f0",
   "metadata": {},
   "source": [
    "#### 10. Write a recursive Python function to check if a string is a palindrome."
   ]
  },
  {
   "cell_type": "code",
   "execution_count": null,
   "id": "196f2698",
   "metadata": {},
   "outputs": [],
   "source": []
  },
  {
   "cell_type": "markdown",
   "id": "2d8d57b6",
   "metadata": {},
   "source": [
    "#### 11. Create a recursive Python function to generate all possible combinations of a list of elements."
   ]
  },
  {
   "cell_type": "code",
   "execution_count": null,
   "id": "e9ca69c5",
   "metadata": {},
   "outputs": [],
   "source": []
  },
  {
   "cell_type": "markdown",
   "id": "920fb333",
   "metadata": {},
   "source": [
    "### `TOPIC: Basics of Function`"
   ]
  },
  {
   "cell_type": "markdown",
   "id": "50a5359e",
   "metadata": {},
   "source": [
    "#### 1.What is a function in Python, and why is it used?"
   ]
  },
  {
   "cell_type": "markdown",
   "id": "dc9cb574",
   "metadata": {},
   "source": [
    "Function used to wrap a code which used again and again. To avoid such repeatation of code block, we just call the function once."
   ]
  },
  {
   "cell_type": "markdown",
   "id": "0e4afe34",
   "metadata": {},
   "source": [
    "#### 2.How do you define a function in Python? Provide an example."
   ]
  },
  {
   "cell_type": "code",
   "execution_count": 2,
   "id": "d9a5678e",
   "metadata": {},
   "outputs": [
    {
     "data": {
      "text/plain": [
       "7"
      ]
     },
     "execution_count": 2,
     "metadata": {},
     "output_type": "execute_result"
    }
   ],
   "source": [
    "## calling the function with a name and parameters inside it and returning or printing the output\n",
    "\n",
    "def anyFunc(a,b):\n",
    "    c = a+b\n",
    "    return c\n",
    "\n",
    "anyFunc(2,5)\n",
    "    "
   ]
  },
  {
   "cell_type": "markdown",
   "id": "b3d0c58c",
   "metadata": {},
   "source": [
    "#### 3. Explain the difference between a function definition and a function call."
   ]
  },
  {
   "cell_type": "markdown",
   "id": "edcc65e5",
   "metadata": {},
   "source": [
    "Function defination is the name of the function which include all the code block while function call is involing that function def in any line of code "
   ]
  },
  {
   "cell_type": "markdown",
   "id": "984f8e0a",
   "metadata": {},
   "source": [
    "#### 4. Write a Python program that defines a function to calculate the sum of two numbers and then calls the function"
   ]
  },
  {
   "cell_type": "code",
   "execution_count": 3,
   "id": "9f7a949d",
   "metadata": {},
   "outputs": [
    {
     "data": {
      "text/plain": [
       "30"
      ]
     },
     "execution_count": 3,
     "metadata": {},
     "output_type": "execute_result"
    }
   ],
   "source": [
    "def sum_num(a,b):\n",
    "    return a+b\n",
    "\n",
    "sum_num(10,20)"
   ]
  },
  {
   "cell_type": "markdown",
   "id": "7c9c3edb",
   "metadata": {},
   "source": [
    "#### 5. What is a function signature, and what information does it typically include?"
   ]
  },
  {
   "cell_type": "markdown",
   "id": "199a85ea",
   "metadata": {},
   "source": [
    "A function signature defines input and output of functions or methods. Function signature might includes:\n",
    "\n",
    "- The function name\n",
    "- The number, order, and type of its formal parameters\n",
    "- The return type (in some languages)\n",
    "- The class or namespace scope of the function name\n",
    "- The const, volatile, or const volatile qualification of the function\n",
    "- Exceptions that might be thrown or passed back (in some languages)"
   ]
  },
  {
   "cell_type": "markdown",
   "id": "08ffc44b",
   "metadata": {},
   "source": [
    "#### 6. Create a Python function that takes two arguments and returns their product."
   ]
  },
  {
   "cell_type": "code",
   "execution_count": 4,
   "id": "8b7393d9",
   "metadata": {},
   "outputs": [
    {
     "data": {
      "text/plain": [
       "10"
      ]
     },
     "execution_count": 4,
     "metadata": {},
     "output_type": "execute_result"
    }
   ],
   "source": [
    "def prod(a,b):\n",
    "    return a*b\n",
    "\n",
    "prod(2,5)"
   ]
  },
  {
   "cell_type": "code",
   "execution_count": null,
   "id": "93a338c3",
   "metadata": {},
   "outputs": [],
   "source": []
  }
 ],
 "metadata": {
  "kernelspec": {
   "display_name": "Python 3",
   "language": "python",
   "name": "python3"
  },
  "language_info": {
   "codemirror_mode": {
    "name": "ipython",
    "version": 3
   },
   "file_extension": ".py",
   "mimetype": "text/x-python",
   "name": "python",
   "nbconvert_exporter": "python",
   "pygments_lexer": "ipython3",
   "version": "3.8.8"
  }
 },
 "nbformat": 4,
 "nbformat_minor": 5
}
