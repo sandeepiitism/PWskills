{
 "cells": [
  {
   "cell_type": "markdown",
   "id": "261a03c3",
   "metadata": {},
   "source": [
    "## `PWskills Assignment-17th_Sept_2023`"
   ]
  },
  {
   "cell_type": "markdown",
   "id": "2f9776da",
   "metadata": {},
   "source": [
    "### `TOPIC: For Loop`"
   ]
  },
  {
   "cell_type": "markdown",
   "id": "46a12aa7",
   "metadata": {},
   "source": [
    "#### 1.\tWrite a Python program to print numbers from 1 to 10 using a for loop."
   ]
  },
  {
   "cell_type": "code",
   "execution_count": 3,
   "id": "8f7e5af2",
   "metadata": {},
   "outputs": [
    {
     "name": "stdout",
     "output_type": "stream",
     "text": [
      "1\n",
      "2\n",
      "3\n",
      "4\n",
      "5\n",
      "6\n",
      "7\n",
      "8\n",
      "9\n",
      "10\n"
     ]
    }
   ],
   "source": [
    "for i in range(1,11):\n",
    "    print(i)"
   ]
  },
  {
   "cell_type": "markdown",
   "id": "f424d837",
   "metadata": {},
   "source": [
    "#### 2.\tExplain the difference between a for loop and a while loop in Python."
   ]
  },
  {
   "cell_type": "code",
   "execution_count": null,
   "id": "504f8f37",
   "metadata": {},
   "outputs": [],
   "source": []
  },
  {
   "cell_type": "markdown",
   "id": "13b3550a",
   "metadata": {},
   "source": [
    "#### 3.\tWrite a Python program to calculate the sum of all numbers from 1 to 100 using a for loop."
   ]
  },
  {
   "cell_type": "code",
   "execution_count": 5,
   "id": "c4ccecac",
   "metadata": {},
   "outputs": [
    {
     "name": "stdout",
     "output_type": "stream",
     "text": [
      "5050\n"
     ]
    }
   ],
   "source": [
    "summ = 0\n",
    "for i in range(1,101):\n",
    "    summ+=i\n",
    "    \n",
    "print(summ)\n",
    "    "
   ]
  },
  {
   "cell_type": "markdown",
   "id": "1b6711e2",
   "metadata": {},
   "source": [
    "#### 4.\tHow do you iterate through a list using a for loop in Python?"
   ]
  },
  {
   "cell_type": "code",
   "execution_count": 7,
   "id": "7fe727f8",
   "metadata": {},
   "outputs": [
    {
     "name": "stdout",
     "output_type": "stream",
     "text": [
      "11\n",
      "24\n",
      "43\n",
      "78\n",
      "sandeep\n",
      "python\n"
     ]
    }
   ],
   "source": [
    "list_var = [11,24,43,78, \"sandeep\", \"python\"]\n",
    "\n",
    "for i in list_var:\n",
    "    print(i)"
   ]
  },
  {
   "cell_type": "markdown",
   "id": "594e8ceb",
   "metadata": {},
   "source": [
    "#### 5. Write a Python program to find the product of all elements in a list using a for loop."
   ]
  },
  {
   "cell_type": "code",
   "execution_count": 11,
   "id": "e54207ea",
   "metadata": {},
   "outputs": [
    {
     "name": "stdout",
     "output_type": "stream",
     "text": [
      "100\n"
     ]
    }
   ],
   "source": [
    "num = [1,2,2,5,5]\n",
    "mul = 1\n",
    "for i in num:\n",
    "    mul*=i\n",
    "    \n",
    "print(mul)"
   ]
  },
  {
   "cell_type": "markdown",
   "id": "f566adb3",
   "metadata": {},
   "source": [
    "#### 6. Create a Python program that prints all even numbers from 1 to 20 using a for loop."
   ]
  },
  {
   "cell_type": "code",
   "execution_count": 57,
   "id": "984df605",
   "metadata": {},
   "outputs": [
    {
     "name": "stdout",
     "output_type": "stream",
     "text": [
      "[2, 4, 6, 8, 10, 12, 14, 16, 18, 20]\n"
     ]
    }
   ],
   "source": [
    "lst = []\n",
    "for i in range(1,21):\n",
    "    if i%2==0:\n",
    "        lst.append(i)\n",
    "print(lst)"
   ]
  },
  {
   "cell_type": "markdown",
   "id": "e3df6d92",
   "metadata": {},
   "source": [
    "#### 7. Write a Python program that calculates the factorial of a number using a for loop."
   ]
  },
  {
   "cell_type": "code",
   "execution_count": 21,
   "id": "9de5f490",
   "metadata": {},
   "outputs": [
    {
     "name": "stdout",
     "output_type": "stream",
     "text": [
      "120\n"
     ]
    }
   ],
   "source": [
    "n = 5\n",
    "fact = 1\n",
    "\n",
    "for i in range(1,n+1):\n",
    "    fact = fact*i\n",
    "print(fact)"
   ]
  },
  {
   "cell_type": "markdown",
   "id": "2c30e085",
   "metadata": {},
   "source": [
    "#### 8. How can you iterate through the characters of a string using a for loop in Python?"
   ]
  },
  {
   "cell_type": "code",
   "execution_count": 80,
   "id": "5138e911",
   "metadata": {},
   "outputs": [
    {
     "name": "stdout",
     "output_type": "stream",
     "text": [
      "Enter string: Hello world\n",
      "['H', 'e', 'l', 'l', 'o', ' ', 'w', 'o', 'r', 'l', 'd']\n"
     ]
    }
   ],
   "source": [
    "user_input = str(input(\"Enter string: \"))\n",
    "user_input = list(user_input)\n",
    "\n",
    "lst = []\n",
    "\n",
    "for i in range(len(user_input)):\n",
    "    lst.append(user_input[i])\n",
    "    \n",
    "print(lst)\n",
    "    \n"
   ]
  },
  {
   "cell_type": "markdown",
   "id": "5c92362a",
   "metadata": {},
   "source": [
    "#### 9. Write a Python program to find the largest number in a list using a for loop.\n"
   ]
  },
  {
   "cell_type": "code",
   "execution_count": 39,
   "id": "65d83ee8",
   "metadata": {},
   "outputs": [
    {
     "name": "stdout",
     "output_type": "stream",
     "text": [
      "93\n"
     ]
    }
   ],
   "source": [
    "num = [11,55,25,74,93,29]\n",
    "\n",
    "max_num = num[0]\n",
    "\n",
    "for i in num:\n",
    "    if i>max_num:\n",
    "        max_num = i\n",
    "\n",
    "print(max_num)\n"
   ]
  },
  {
   "cell_type": "markdown",
   "id": "99a1ddd5",
   "metadata": {},
   "source": [
    "#### 10. Create a Python program that prints the Fibonacci sequence up to a specified limit using a for loop.\n"
   ]
  },
  {
   "cell_type": "code",
   "execution_count": 56,
   "id": "b0447f57",
   "metadata": {},
   "outputs": [],
   "source": [
    "# first = 0\n",
    "# second = 1\n",
    "# print(first)\n",
    "# print(second)\n",
    "\n",
    "# for i in range(1,9):\n",
    "#     third = first + second\n",
    "#     print(third)\n",
    "#     first,second=second,third\n",
    "\n",
    "\n",
    "    \n",
    "\n"
   ]
  },
  {
   "cell_type": "markdown",
   "id": "b95c721d",
   "metadata": {},
   "source": [
    "#### 11. Write a Python program to count the number of vowels in a given string using a for loop."
   ]
  },
  {
   "cell_type": "code",
   "execution_count": 84,
   "id": "1dc3a6df",
   "metadata": {},
   "outputs": [
    {
     "name": "stdout",
     "output_type": "stream",
     "text": [
      "enter sentence: hello world this is sandeep\n",
      "8\n"
     ]
    }
   ],
   "source": [
    "sentence = str(input(\"enter sentence: \"))\n",
    "vowel = ['a','e','i','o','u']\n",
    "count = 0\n",
    "\n",
    "for i in sentence:\n",
    "    if i in vowel:\n",
    "        count+=1\n",
    "        \n",
    "print(count)\n"
   ]
  },
  {
   "cell_type": "markdown",
   "id": "faa71c9d",
   "metadata": {},
   "source": [
    "#### 12. Create a Python program that generates a multiplication table for a given number using a for loop."
   ]
  },
  {
   "cell_type": "code",
   "execution_count": null,
   "id": "a7c358d4",
   "metadata": {},
   "outputs": [],
   "source": []
  },
  {
   "cell_type": "markdown",
   "id": "f0015bcf",
   "metadata": {},
   "source": [
    "#### 13. Write a Python program to reverse a list using a for loop."
   ]
  },
  {
   "cell_type": "code",
   "execution_count": 86,
   "id": "53b49e8d",
   "metadata": {},
   "outputs": [
    {
     "name": "stdout",
     "output_type": "stream",
     "text": [
      "['chowdhury', 'sandeep', 3, 2, 1]\n"
     ]
    }
   ],
   "source": [
    "lst = [1,2,3,\"sandeep\", \"chowdhury\"]\n",
    "\n",
    "for i in lst:\n",
    "    i=lst[::-1]\n",
    "    \n",
    "print(i)"
   ]
  },
  {
   "cell_type": "markdown",
   "id": "2083d610",
   "metadata": {},
   "source": [
    "#### 14. Write a Python program to find the common elements between two lists using a for loop."
   ]
  },
  {
   "cell_type": "code",
   "execution_count": 94,
   "id": "7f2996c3",
   "metadata": {},
   "outputs": [
    {
     "name": "stdout",
     "output_type": "stream",
     "text": [
      "1\n",
      "6\n",
      "world\n"
     ]
    }
   ],
   "source": [
    "lst1 = [1,2,6,\"sandeep\", \"world\"]\n",
    "lst2 = [1,6,\"hello\", \"world\", 7]\n",
    "\n",
    "for i in lst1:\n",
    "    if i in lst2:\n",
    "        print(i)\n",
    "    \n",
    "    "
   ]
  },
  {
   "cell_type": "markdown",
   "id": "bc1980e8",
   "metadata": {},
   "source": [
    "#### 15. Explain how to use a for loop to iterate through the keys and values of a dictionary in Python."
   ]
  },
  {
   "cell_type": "code",
   "execution_count": 108,
   "id": "46a983f0",
   "metadata": {},
   "outputs": [
    {
     "name": "stdout",
     "output_type": "stream",
     "text": [
      "----------------------- keys--------------------------------\n",
      "num1\n",
      "num2\n",
      "num3\n",
      "----------------------- values--------------------------------\n",
      "sandeep\n",
      "python\n",
      "world\n"
     ]
    }
   ],
   "source": [
    "lst = {'num1':\"sandeep\", 'num2':\"python\", 'num3':\"world\"}\n",
    "\n",
    "print('----------------------- keys--------------------------------')\n",
    "for key in lst:\n",
    "    print(key)\n",
    "    \n",
    "print('----------------------- values--------------------------------')\n",
    "\n",
    "for i in lst.values():\n",
    "    print(i)"
   ]
  },
  {
   "cell_type": "markdown",
   "id": "495a3d77",
   "metadata": {},
   "source": [
    "#### 16. Write a Python program to find the GCD (Greatest Common Divisor) of two numbers using a for loop."
   ]
  },
  {
   "cell_type": "code",
   "execution_count": 144,
   "id": "2f89f568",
   "metadata": {},
   "outputs": [
    {
     "name": "stdout",
     "output_type": "stream",
     "text": [
      "GCD of 25 and 125 is 5\n"
     ]
    }
   ],
   "source": [
    "num1 = 25\n",
    "num2 = 125\n",
    "\n",
    "# print(min(num1, num2))\n",
    "gcd = 1\n",
    " \n",
    "for i in range(1, min(num1, num2)):\n",
    "    if num1 % i == 0 and num2 % i == 0:\n",
    "        gcd = i\n",
    "print(\"GCD of\", num1, \"and\", num2, \"is\", gcd)"
   ]
  },
  {
   "cell_type": "markdown",
   "id": "2798c058",
   "metadata": {},
   "source": [
    "#### 17. Create a Python program that checks if a string is a palindrome using a for loop."
   ]
  },
  {
   "cell_type": "code",
   "execution_count": 140,
   "id": "e278296b",
   "metadata": {},
   "outputs": [
    {
     "name": "stdout",
     "output_type": "stream",
     "text": [
      "pallindrome\n"
     ]
    }
   ],
   "source": [
    "user_str = \"civic\"\n",
    "\n",
    "rev_str = \"\"\n",
    "\n",
    "for i in user_str:\n",
    "    rev_str = rev_str+i\n",
    "    \n",
    "if user_str == rev_str:\n",
    "        print(\"pallindrome\")\n",
    "else:\n",
    "        print(\"not pallindrome\")\n"
   ]
  },
  {
   "cell_type": "markdown",
   "id": "cea3294d",
   "metadata": {},
   "source": [
    "#### 18. Write a Python program to remove duplicates from a list using a for loop."
   ]
  },
  {
   "cell_type": "code",
   "execution_count": 135,
   "id": "5592b2e0",
   "metadata": {},
   "outputs": [
    {
     "name": "stdout",
     "output_type": "stream",
     "text": [
      "[1, 2, 4, 6, 'world', 'sandeep', 'hello']\n"
     ]
    }
   ],
   "source": [
    "lst = [1,2,4,2,6,4,2,\"world\",\"sandeep\", \"hello\",\"world\"]\n",
    "new_lst = []\n",
    "\n",
    "for i in lst:\n",
    "    if i not in new_lst:\n",
    "        new_lst.append(i)\n",
    "        \n",
    "print(new_lst)"
   ]
  },
  {
   "cell_type": "markdown",
   "id": "98b3b0b9",
   "metadata": {},
   "source": [
    "#### 19. Create a Python program that counts the number of words in a sentence using a for loop."
   ]
  },
  {
   "cell_type": "code",
   "execution_count": 124,
   "id": "1e218e05",
   "metadata": {},
   "outputs": [
    {
     "name": "stdout",
     "output_type": "stream",
     "text": [
      "enter sentence: hello world\n",
      "11\n"
     ]
    }
   ],
   "source": [
    "user_input = str(input(\"enter sentence: \"))\n",
    "\n",
    "count = 0\n",
    "\n",
    "for i in user_input:\n",
    "    count+=1\n",
    "#     print(i, count(i))\n",
    "\n",
    "print(count)\n",
    "                 "
   ]
  },
  {
   "cell_type": "markdown",
   "id": "b44eb4b3",
   "metadata": {},
   "source": [
    "#### 20. Write a Python program to find the sum of all odd numbers from 1 to 50 using a for loop."
   ]
  },
  {
   "cell_type": "code",
   "execution_count": 132,
   "id": "8f6d9428",
   "metadata": {},
   "outputs": [
    {
     "name": "stdout",
     "output_type": "stream",
     "text": [
      "625\n"
     ]
    }
   ],
   "source": [
    "summ = 0\n",
    "for i in range(1,51):\n",
    "    if i%2!=0:\n",
    "        summ+=i\n",
    "\n",
    "print(summ)"
   ]
  },
  {
   "cell_type": "markdown",
   "id": "bfbb80f9",
   "metadata": {},
   "source": [
    "#### 21. Write a Python program that checks if a given year is a leap year using a for loop."
   ]
  },
  {
   "cell_type": "code",
   "execution_count": null,
   "id": "74aa258f",
   "metadata": {},
   "outputs": [],
   "source": []
  },
  {
   "cell_type": "markdown",
   "id": "76cf595c",
   "metadata": {},
   "source": [
    "#### 22. Create a Python program that calculates the square root of a number using a for loop."
   ]
  },
  {
   "cell_type": "code",
   "execution_count": 145,
   "id": "728c1c0e",
   "metadata": {},
   "outputs": [
    {
     "ename": "TypeError",
     "evalue": "'int' object is not iterable",
     "output_type": "error",
     "traceback": [
      "\u001b[1;31m---------------------------------------------------------------------------\u001b[0m",
      "\u001b[1;31mTypeError\u001b[0m                                 Traceback (most recent call last)",
      "\u001b[1;32m~\\AppData\\Local\\Temp/ipykernel_1584/3195565521.py\u001b[0m in \u001b[0;36m<module>\u001b[1;34m\u001b[0m\n\u001b[0;32m      1\u001b[0m \u001b[0mnum\u001b[0m \u001b[1;33m=\u001b[0m \u001b[1;36m4\u001b[0m\u001b[1;33m\u001b[0m\u001b[1;33m\u001b[0m\u001b[0m\n\u001b[0;32m      2\u001b[0m \u001b[1;33m\u001b[0m\u001b[0m\n\u001b[1;32m----> 3\u001b[1;33m \u001b[1;32mfor\u001b[0m \u001b[0mi\u001b[0m \u001b[1;32min\u001b[0m \u001b[0mnum\u001b[0m\u001b[1;33m:\u001b[0m\u001b[1;33m\u001b[0m\u001b[1;33m\u001b[0m\u001b[0m\n\u001b[0m\u001b[0;32m      4\u001b[0m     \u001b[0mnum\u001b[0m \u001b[1;33m=\u001b[0m \u001b[0mi\u001b[0m\u001b[1;33m*\u001b[0m\u001b[0mi\u001b[0m\u001b[1;33m\u001b[0m\u001b[1;33m\u001b[0m\u001b[0m\n\u001b[0;32m      5\u001b[0m \u001b[1;33m\u001b[0m\u001b[0m\n",
      "\u001b[1;31mTypeError\u001b[0m: 'int' object is not iterable"
     ]
    }
   ],
   "source": [
    "sample_list = [2,4,6,8]\n",
    "result = [number ** 2 for number in sample_list]\n",
    "print(result)"
   ]
  },
  {
   "cell_type": "markdown",
   "id": "6199e5a5",
   "metadata": {},
   "source": [
    "#### 23. Write a Python program to find the LCM (Least Common Multiple) of two numbers using a for loop."
   ]
  },
  {
   "cell_type": "code",
   "execution_count": null,
   "id": "939f6113",
   "metadata": {},
   "outputs": [],
   "source": []
  },
  {
   "cell_type": "code",
   "execution_count": null,
   "id": "a9740743",
   "metadata": {},
   "outputs": [],
   "source": []
  }
 ],
 "metadata": {
  "kernelspec": {
   "display_name": "Python 3 (ipykernel)",
   "language": "python",
   "name": "python3"
  },
  "language_info": {
   "codemirror_mode": {
    "name": "ipython",
    "version": 3
   },
   "file_extension": ".py",
   "mimetype": "text/x-python",
   "name": "python",
   "nbconvert_exporter": "python",
   "pygments_lexer": "ipython3",
   "version": "3.9.7"
  }
 },
 "nbformat": 4,
 "nbformat_minor": 5
}
