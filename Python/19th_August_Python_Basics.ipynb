{
 "cells": [
  {
   "cell_type": "markdown",
   "id": "c544f146",
   "metadata": {},
   "source": [
    "## `PWskills Assignment-19th_Aug_2023`"
   ]
  },
  {
   "cell_type": "markdown",
   "id": "176b7925",
   "metadata": {},
   "source": [
    "### `TOPIC: Python Basics Variable`"
   ]
  },
  {
   "cell_type": "markdown",
   "id": "58228a7e",
   "metadata": {},
   "source": [
    "#### 1. Declare two variables, `x` and `y`, and assign them integer values. Swap the values of these variables without using any temporary variable."
   ]
  },
  {
   "cell_type": "code",
   "execution_count": 1,
   "id": "48cd9266",
   "metadata": {},
   "outputs": [
    {
     "name": "stdout",
     "output_type": "stream",
     "text": [
      "x= 3\n",
      "y= 2\n"
     ]
    }
   ],
   "source": [
    "# Intially assigned values are:\n",
    "x= 2\n",
    "y= 3\n",
    "\n",
    "x,y = y,x\n",
    "\n",
    "# after swapping values are:\n",
    "print(\"x=\",x)\n",
    "print(\"y=\",y)"
   ]
  },
  {
   "cell_type": "markdown",
   "id": "cd0acf6a",
   "metadata": {},
   "source": [
    "#### 2. Create a program that calculates the area of a rectangle. Take the length and width as inputs from the user and store them in variables. Calculate and display the area."
   ]
  },
  {
   "cell_type": "code",
   "execution_count": null,
   "id": "7a56d02c",
   "metadata": {},
   "outputs": [
    {
     "name": "stdout",
     "output_type": "stream",
     "text": [
      "Enter the length: 3\n"
     ]
    }
   ],
   "source": [
    "# user input\n",
    "length = float(input(\"Enter the length: \"))\n",
    "width = float(input(\"Enter the width: \"))\n",
    "\n",
    "# area calculation\n",
    "Area = length*width\n",
    "\n",
    "# using f-string\n",
    "print(f'Area of the rectangle is {Area}')"
   ]
  },
  {
   "cell_type": "markdown",
   "id": "583b19ed",
   "metadata": {},
   "source": [
    "#### 3. Write a Python program that converts temperatures from Celsius to Fahrenheit. Take the temperature in Celsius as input, store it in a variable, convert it to Fahrenheit, and display the result."
   ]
  },
  {
   "cell_type": "code",
   "execution_count": null,
   "id": "966d9334",
   "metadata": {},
   "outputs": [],
   "source": [
    "# Celsius to Fahrenheit Formula is given as: F= (C * 9/5) + 32 or F= (C * 1.8) + 32\n",
    "\n",
    "# input is celcius as C\n",
    "C = float(input(\"Enter the temp.in celcius: \"))\n",
    "\n",
    "# Calculating Fahrenheit as F\n",
    "F= (C * 1.8) + 32\n",
    "\n",
    "print(f'Temperature in Fahrenheit is {F}')\n",
    "\n"
   ]
  },
  {
   "cell_type": "markdown",
   "id": "01c61410",
   "metadata": {},
   "source": [
    "### `TOPIC: String Based Questions`"
   ]
  },
  {
   "cell_type": "markdown",
   "id": "f748e057",
   "metadata": {},
   "source": [
    "#### 1. Write a Python program that takes a string as input and prints the length of the string."
   ]
  },
  {
   "cell_type": "code",
   "execution_count": null,
   "id": "025f803c",
   "metadata": {},
   "outputs": [],
   "source": [
    "# user input\n",
    "str_input = str(input(\"Enter your string: \"))\n",
    "\n",
    "#calculating length\n",
    "len_input = len(str_input)\n",
    "\n",
    "print(f'Length of the string is {len_input}')"
   ]
  },
  {
   "cell_type": "markdown",
   "id": "b0027996",
   "metadata": {},
   "source": [
    "#### 2. Create a program that takes a sentence from the user and counts the number of vowels (a, e, i, o, u) in the string."
   ]
  },
  {
   "cell_type": "code",
   "execution_count": null,
   "id": "95e744d4",
   "metadata": {},
   "outputs": [],
   "source": [
    "# user input\n",
    "sent_input = str(input(\"Enter your sentence: \"))\n",
    "\n",
    "#calculating a,e,i,o,u\n",
    "count = 0\n",
    "vowels = ['a' , 'e' , 'i' ,'o' , 'u']\n",
    "for i in sent_input:                         # storing all the indexes of the string\n",
    "    if i in vowels:                          # condition if those indexes contains vowels as well\n",
    "        count += 1                           # if yes, increment the count until string ends\n",
    "print (f'Count of vowels: {count}')\n"
   ]
  },
  {
   "cell_type": "markdown",
   "id": "619a3d19",
   "metadata": {},
   "source": [
    "#### 3. Given a string, reverse the order of characters using string slicing and print the reversed string."
   ]
  },
  {
   "cell_type": "code",
   "execution_count": null,
   "id": "70210df5",
   "metadata": {},
   "outputs": [],
   "source": [
    "# user input\n",
    "str_input = str(input(\"Enter the String: \"))\n",
    "\n",
    "# reversing the string\n",
    "rev_str = str_input[::-1]\n",
    "\n",
    "print(f'The reverse string: {rev_str}')\n"
   ]
  },
  {
   "cell_type": "markdown",
   "id": "62e49bf5",
   "metadata": {},
   "source": [
    "#### 4. Write a program that takes a string as input and checks if it is a palindrome (reads the same forwards and backwards)."
   ]
  },
  {
   "cell_type": "code",
   "execution_count": null,
   "id": "fcec7ddd",
   "metadata": {},
   "outputs": [],
   "source": [
    "# A palindrome is a word, phrase, or sentence that reads the same backward or forward\n",
    "input_str = str(input(\"Enter the string: \"))\n",
    "\n",
    "# reversing the string\n",
    "rev_str = input_str[::-1]\n",
    "\n",
    "# comparing if input_str is same as rev_str\n",
    "if input_str == rev_str:\n",
    "    print(\"It is palindrome\")\n",
    "else:\n",
    "    print(\"It is not palindrome\")"
   ]
  },
  {
   "cell_type": "markdown",
   "id": "96a914d9",
   "metadata": {},
   "source": [
    "#### 5. Create a program that takes a string as input and removes all the spaces from it. Print the modified string without spaces."
   ]
  },
  {
   "cell_type": "code",
   "execution_count": null,
   "id": "bbb02941",
   "metadata": {},
   "outputs": [],
   "source": [
    "#user input\n",
    "input_str = str(input(\"Enter the /sentence: \"))\n",
    "\n",
    "#removing the spaces\n",
    "rem_str = input_str.replace(\" \", \"\")\n",
    "print(f'sentence without spaces: {rem_str}')"
   ]
  },
  {
   "cell_type": "code",
   "execution_count": null,
   "id": "8b0544a9",
   "metadata": {},
   "outputs": [],
   "source": []
  }
 ],
 "metadata": {
  "kernelspec": {
   "display_name": "Python 3",
   "language": "python",
   "name": "python3"
  },
  "language_info": {
   "codemirror_mode": {
    "name": "ipython",
    "version": 3
   },
   "file_extension": ".py",
   "mimetype": "text/x-python",
   "name": "python",
   "nbconvert_exporter": "python",
   "pygments_lexer": "ipython3",
   "version": "3.8.8"
  }
 },
 "nbformat": 4,
 "nbformat_minor": 5
}
