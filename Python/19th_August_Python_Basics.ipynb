{
 "cells": [
  {
   "cell_type": "markdown",
   "id": "db4f084a",
   "metadata": {},
   "source": [
    "## `PWskills Assignment-19th_Aug_2023`"
   ]
  },
  {
   "cell_type": "markdown",
   "id": "204f916d",
   "metadata": {},
   "source": [
    "### `TOPIC: Python Basics Variable`"
   ]
  },
  {
   "cell_type": "markdown",
   "id": "be27cc21",
   "metadata": {},
   "source": [
    "#### 1. Declare two variables, `x` and `y`, and assign them integer values. Swap the values of these variables without using any temporary variable."
   ]
  },
  {
   "cell_type": "code",
   "execution_count": 1,
   "id": "52d5fd73",
   "metadata": {},
   "outputs": [
    {
     "name": "stdout",
     "output_type": "stream",
     "text": [
      "x= 3\n",
      "y= 2\n"
     ]
    }
   ],
   "source": [
    "# Intially assigned values are:\n",
    "x= 2\n",
    "y= 3\n",
    "\n",
    "x,y = y,x\n",
    "\n",
    "# after swapping values are:\n",
    "print(\"x=\",x)\n",
    "print(\"y=\",y)"
   ]
  },
  {
   "cell_type": "markdown",
   "id": "097f708a",
   "metadata": {},
   "source": [
    "#### 2. Create a program that calculates the area of a rectangle. Take the length and width as inputs from the user and store them in variables. Calculate and display the area."
   ]
  },
  {
   "cell_type": "code",
   "execution_count": 2,
   "id": "c6a062cb",
   "metadata": {},
   "outputs": [
    {
     "name": "stdout",
     "output_type": "stream",
     "text": [
      "Enter the length: 3\n",
      "Enter the width: 5\n",
      "Area of the rectangle is 15.0\n"
     ]
    }
   ],
   "source": [
    "# user input\n",
    "length = float(input(\"Enter the length: \"))\n",
    "width = float(input(\"Enter the width: \"))\n",
    "\n",
    "# area calculation\n",
    "Area = length*width\n",
    "\n",
    "# using f-string\n",
    "print(f'Area of the rectangle is {Area}')"
   ]
  },
  {
   "cell_type": "markdown",
   "id": "34d0ebb7",
   "metadata": {},
   "source": [
    "#### 3. Write a Python program that converts temperatures from Celsius to Fahrenheit. Take the temperature in Celsius as input, store it in a variable, convert it to Fahrenheit, and display the result."
   ]
  },
  {
   "cell_type": "code",
   "execution_count": 3,
   "id": "cb439331",
   "metadata": {},
   "outputs": [
    {
     "name": "stdout",
     "output_type": "stream",
     "text": [
      "Enter the temp.in celcius: 37.2\n",
      "Temperature in Fahrenheit is 98.96000000000001\n"
     ]
    }
   ],
   "source": [
    "# Celsius to Fahrenheit Formula is given as: F= (C * 9/5) + 32 or F= (C * 1.8) + 32\n",
    "\n",
    "# input is celcius as C\n",
    "C = float(input(\"Enter the temp.in celcius: \"))\n",
    "\n",
    "# Calculating Fahrenheit as F\n",
    "F= (C * 1.8) + 32\n",
    "\n",
    "print(f'Temperature in Fahrenheit is {F}')\n",
    "\n"
   ]
  },
  {
   "cell_type": "markdown",
   "id": "d92cde96",
   "metadata": {},
   "source": [
    "### `TOPIC: String Based Questions`"
   ]
  },
  {
   "cell_type": "markdown",
   "id": "94e71e0c",
   "metadata": {},
   "source": [
    "#### 1. Write a Python program that takes a string as input and prints the length of the string."
   ]
  },
  {
   "cell_type": "code",
   "execution_count": 4,
   "id": "c1f9660d",
   "metadata": {},
   "outputs": [
    {
     "name": "stdout",
     "output_type": "stream",
     "text": [
      "Enter your string: Sandeep\n",
      "Length of the string is 7\n"
     ]
    }
   ],
   "source": [
    "# user input\n",
    "str_input = str(input(\"Enter your string: \"))\n",
    "\n",
    "#calculating length\n",
    "len_input = len(str_input)\n",
    "\n",
    "print(f'Length of the string is {len_input}')"
   ]
  },
  {
   "cell_type": "markdown",
   "id": "8c62f792",
   "metadata": {},
   "source": [
    "#### 2. Create a program that takes a sentence from the user and counts the number of vowels (a, e, i, o, u) in the string."
   ]
  },
  {
   "cell_type": "code",
   "execution_count": 5,
   "id": "6fab797d",
   "metadata": {},
   "outputs": [
    {
     "name": "stdout",
     "output_type": "stream",
     "text": [
      "Enter your sentence: Hello This is Sandeep\n",
      "Count of vowels: 7\n"
     ]
    }
   ],
   "source": [
    "# user input\n",
    "sent_input = str(input(\"Enter your sentence: \"))\n",
    "\n",
    "#calculating a,e,i,o,u\n",
    "count = 0\n",
    "vowels = ['a' , 'e' , 'i' ,'o' , 'u']\n",
    "for i in sent_input:                         # storing all the indexes of the string\n",
    "    if i in vowels:                          # condition if those indexes contains vowels as well\n",
    "        count += 1                           # if yes, increment the count until string ends\n",
    "print (f'Count of vowels: {count}')\n"
   ]
  },
  {
   "cell_type": "markdown",
   "id": "d7ee375d",
   "metadata": {},
   "source": [
    "#### 3. Given a string, reverse the order of characters using string slicing and print the reversed string."
   ]
  },
  {
   "cell_type": "code",
   "execution_count": 6,
   "id": "ebe18f16",
   "metadata": {},
   "outputs": [
    {
     "name": "stdout",
     "output_type": "stream",
     "text": [
      "Enter the String: Sandeep\n",
      "The reverse string: peednaS\n"
     ]
    }
   ],
   "source": [
    "# user input\n",
    "str_input = str(input(\"Enter the String: \"))\n",
    "\n",
    "# reversing the string\n",
    "rev_str = str_input[::-1]\n",
    "\n",
    "print(f'The reverse string: {rev_str}')\n"
   ]
  },
  {
   "cell_type": "markdown",
   "id": "47cf6c36",
   "metadata": {},
   "source": [
    "#### 4. Write a program that takes a string as input and checks if it is a palindrome (reads the same forwards and backwards)."
   ]
  },
  {
   "cell_type": "code",
   "execution_count": 7,
   "id": "bbffda24",
   "metadata": {},
   "outputs": [
    {
     "name": "stdout",
     "output_type": "stream",
     "text": [
      "Enter the string: Sandeep\n",
      "It is not palindrome\n"
     ]
    }
   ],
   "source": [
    "# A palindrome is a word, phrase, or sentence that reads the same backward or forward\n",
    "input_str = str(input(\"Enter the string: \"))\n",
    "\n",
    "# reversing the string\n",
    "rev_str = input_str[::-1]\n",
    "\n",
    "# comparing if input_str is same as rev_str\n",
    "if input_str == rev_str:\n",
    "    print(\"It is palindrome\")\n",
    "else:\n",
    "    print(\"It is not palindrome\")"
   ]
  },
  {
   "cell_type": "markdown",
   "id": "4511b0bb",
   "metadata": {},
   "source": [
    "#### 5. Create a program that takes a string as input and removes all the spaces from it. Print the modified string without spaces."
   ]
  },
  {
   "cell_type": "code",
   "execution_count": 8,
   "id": "5bdd8a10",
   "metadata": {},
   "outputs": [
    {
     "name": "stdout",
     "output_type": "stream",
     "text": [
      "Enter the /sentence: Hi this is sandeep\n",
      "sentence without spaces: Hithisissandeep\n"
     ]
    }
   ],
   "source": [
    "#user input\n",
    "input_str = str(input(\"Enter the /sentence: \"))\n",
    "\n",
    "#removing the spaces\n",
    "rem_str = input_str.replace(\" \", \"\")\n",
    "print(f'sentence without spaces: {rem_str}')"
   ]
  }
 ],
 "metadata": {
  "kernelspec": {
   "display_name": "Python 3 (ipykernel)",
   "language": "python",
   "name": "python3"
  },
  "language_info": {
   "codemirror_mode": {
    "name": "ipython",
    "version": 3
   },
   "file_extension": ".py",
   "mimetype": "text/x-python",
   "name": "python",
   "nbconvert_exporter": "python",
   "pygments_lexer": "ipython3",
   "version": "3.9.7"
  }
 },
 "nbformat": 4,
 "nbformat_minor": 5
}
