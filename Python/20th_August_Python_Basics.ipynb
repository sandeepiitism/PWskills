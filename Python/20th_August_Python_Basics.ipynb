{
 "cells": [
  {
   "cell_type": "markdown",
   "id": "50f4dda5",
   "metadata": {},
   "source": [
    "## `PWskills Assignment-20th_Aug_2023`"
   ]
  },
  {
   "cell_type": "markdown",
   "id": "58d430e2",
   "metadata": {},
   "source": [
    "### `TOPIC: String Based Assignment Problem`"
   ]
  },
  {
   "cell_type": "markdown",
   "id": "7e3ed112",
   "metadata": {},
   "source": [
    "#### 1. Write a program to reverse a string."
   ]
  },
  {
   "cell_type": "code",
   "execution_count": 3,
   "id": "aefd61b8",
   "metadata": {},
   "outputs": [
    {
     "name": "stdout",
     "output_type": "stream",
     "text": [
      "Enter the String: sandeep\n",
      "The reverse string: peednas\n"
     ]
    }
   ],
   "source": [
    "# user input\n",
    "str_input = str(input(\"Enter the String: \"))\n",
    "\n",
    "# reversing the string\n",
    "rev_str = str_input[::-1]\n",
    "\n",
    "print(f'The reverse string: {rev_str}')"
   ]
  },
  {
   "cell_type": "markdown",
   "id": "cff1a6f6",
   "metadata": {},
   "source": [
    "#### 2. Check if a string is a palindrome."
   ]
  },
  {
   "cell_type": "code",
   "execution_count": 2,
   "id": "67fb52dc",
   "metadata": {},
   "outputs": [
    {
     "name": "stdout",
     "output_type": "stream",
     "text": [
      "Enter the string: malama\n",
      "It is not palindrome\n"
     ]
    }
   ],
   "source": [
    "# A palindrome is a word, phrase, or sentence that reads the same backward or forward\n",
    "input_str = str(input(\"Enter the string: \"))\n",
    "\n",
    "# reversing the string\n",
    "rev_str = input_str[::-1]\n",
    "\n",
    "# comparing if input_str is same as rev_str\n",
    "if input_str == rev_str:\n",
    "    print(\"It is palindrome\")\n",
    "else:\n",
    "    print(\"It is not palindrome\")"
   ]
  },
  {
   "cell_type": "markdown",
   "id": "da31c070",
   "metadata": {},
   "source": [
    "#### 3. Convert a string to uppercase."
   ]
  },
  {
   "cell_type": "code",
   "execution_count": 5,
   "id": "19854323",
   "metadata": {},
   "outputs": [
    {
     "name": "stdout",
     "output_type": "stream",
     "text": [
      "Enter the String: sandeep\n",
      "The upper string: SANDEEP\n"
     ]
    }
   ],
   "source": [
    "# user input\n",
    "str_input = str(input(\"Enter the String: \"))\n",
    "\n",
    "# uppercase the string\n",
    "up_str = str_input.upper()\n",
    "\n",
    "print(f'The upper string: {up_str}')"
   ]
  },
  {
   "cell_type": "markdown",
   "id": "bf9a3b9d",
   "metadata": {},
   "source": [
    "#### 4. Convert a string to lowercase."
   ]
  },
  {
   "cell_type": "code",
   "execution_count": 7,
   "id": "9590d3d6",
   "metadata": {},
   "outputs": [
    {
     "name": "stdout",
     "output_type": "stream",
     "text": [
      "Enter the String: SanDeeP\n",
      "The lower string: sandeep\n"
     ]
    }
   ],
   "source": [
    "# user input\n",
    "str_input = str(input(\"Enter the String: \"))\n",
    "\n",
    "# uppercase the string\n",
    "low_str = str_input.lower()\n",
    "\n",
    "print(f'The lower string: {low_str}')"
   ]
  },
  {
   "cell_type": "markdown",
   "id": "b6f96ec9",
   "metadata": {},
   "source": [
    "#### 5. Count the number of vowels in a string."
   ]
  },
  {
   "cell_type": "code",
   "execution_count": 9,
   "id": "f786900a",
   "metadata": {},
   "outputs": [
    {
     "name": "stdout",
     "output_type": "stream",
     "text": [
      "Enter the String: sandeep is in india\n",
      "Count of vowels: 8\n"
     ]
    }
   ],
   "source": [
    "# user input\n",
    "str_input = str(input(\"Enter the String: \"))\n",
    "\n",
    "count = 0\n",
    "vowels = ['a', 'e', 'i', 'o', 'u']\n",
    "\n",
    "for i in str_input:\n",
    "    if i in vowels:\n",
    "        count +=1\n",
    "    else:\n",
    "        pass\n",
    "    \n",
    "print (f'Count of vowels: {count}')"
   ]
  },
  {
   "cell_type": "markdown",
   "id": "7c56358e",
   "metadata": {},
   "source": [
    "#### 6. Count the number of consonants in a string."
   ]
  },
  {
   "cell_type": "code",
   "execution_count": 11,
   "id": "496ed690",
   "metadata": {},
   "outputs": [
    {
     "name": "stdout",
     "output_type": "stream",
     "text": [
      "Enter the String: sandeep is in India\n",
      "Count of consonents: 12\n"
     ]
    }
   ],
   "source": [
    "# user input\n",
    "str_input = str(input(\"Enter the String: \"))\n",
    "\n",
    "count = 0\n",
    "vowels = ['a', 'e', 'i', 'o', 'u']\n",
    "\n",
    "for i in str_input:\n",
    "    if i not in vowels:\n",
    "        count +=1\n",
    "    else:\n",
    "        pass\n",
    "    \n",
    "print (f'Count of consonents: {count}')"
   ]
  },
  {
   "cell_type": "markdown",
   "id": "4746c367",
   "metadata": {},
   "source": [
    "#### 7. Remove all whitespaces from a string."
   ]
  },
  {
   "cell_type": "code",
   "execution_count": 13,
   "id": "50b7af57",
   "metadata": {},
   "outputs": [
    {
     "name": "stdout",
     "output_type": "stream",
     "text": [
      "Enter the String: hi this is sandeep\n",
      "The spaceless_string is: hithisissandeep\n"
     ]
    }
   ],
   "source": [
    "# user input\n",
    "str_input = str(input(\"Enter the String: \"))\n",
    "\n",
    "# removing all the whitespaces \n",
    "spaceless_string = str_input.replace(' ', '')\n",
    "\n",
    "print(f'The spaceless_string is: {spaceless_string}')"
   ]
  },
  {
   "cell_type": "markdown",
   "id": "0d8a51e0",
   "metadata": {},
   "source": [
    "#### 8. Find the length of a string without using the `len()` function."
   ]
  },
  {
   "cell_type": "code",
   "execution_count": 15,
   "id": "76d02a95",
   "metadata": {},
   "outputs": [
    {
     "name": "stdout",
     "output_type": "stream",
     "text": [
      "Enter the String: sandeep\n",
      "The length of the string is: 7\n"
     ]
    }
   ],
   "source": [
    "# user input\n",
    "str_input = str(input(\"Enter the String: \"))\n",
    "\n",
    "# counting the letters gives len\n",
    "count = 0\n",
    "for i in str_input:\n",
    "    count+=1\n",
    "    \n",
    "print(f'The length of the string is: {count}')"
   ]
  },
  {
   "cell_type": "markdown",
   "id": "f3f390c6",
   "metadata": {},
   "source": [
    "#### 9. Check if a string contains a specific word."
   ]
  },
  {
   "cell_type": "code",
   "execution_count": 17,
   "id": "189c5aa0",
   "metadata": {},
   "outputs": [
    {
     "name": "stdout",
     "output_type": "stream",
     "text": [
      "Enter the String: Hi this is SandeeP here\n",
      "specific word found\n"
     ]
    }
   ],
   "source": [
    "# user input\n",
    "str_input = str(input(\"Enter the String: \"))\n",
    "str_input = str_input.lower()  ## converting it all into lower case\n",
    "\n",
    "spec_word = \"sandeep\"\n",
    "\n",
    "if spec_word in str_input:\n",
    "    print(\"specific word found\")\n",
    "else:\n",
    "    print(\"specific word not found\")\n",
    "    "
   ]
  },
  {
   "cell_type": "markdown",
   "id": "5f548b99",
   "metadata": {},
   "source": [
    "#### 10. Replace a word in a string with another word."
   ]
  },
  {
   "cell_type": "code",
   "execution_count": 18,
   "id": "3976d73b",
   "metadata": {},
   "outputs": [
    {
     "name": "stdout",
     "output_type": "stream",
     "text": [
      "Enter the sentence: Hi this is sandeep\n",
      "Enter the word from the sentence: Hi\n",
      "Enter the word to be replaced: Hello\n",
      "The spaceless_string is: Hello this is sandeep\n"
     ]
    }
   ],
   "source": [
    "# user input\n",
    "str_input = str(input(\"Enter the sentence: \"))\n",
    "\n",
    "# replacing word in a sentence \n",
    "word_present = str(input(\"Enter the word you want to replace from the sentence: \"))\n",
    "word_replaced = str(input(\"Enter the word to be replaced in the sentence: \"))\n",
    "new_sentence = str_input.replace(word_present,word_replaced)\n",
    "\n",
    "print(f'The spaceless_string is: {new_sentence}')"
   ]
  },
  {
   "cell_type": "markdown",
   "id": "d82ffd59",
   "metadata": {},
   "source": [
    "#### 11. Count the occurrences of a word in a string."
   ]
  },
  {
   "cell_type": "code",
   "execution_count": 6,
   "id": "a64a2cfb",
   "metadata": {},
   "outputs": [
    {
     "name": "stdout",
     "output_type": "stream",
     "text": [
      "Enter your sentence: this is a mountain which is big and is located in north\n",
      "4\n"
     ]
    }
   ],
   "source": [
    "#user input sentence\n",
    "user_input = str(input(\"Enter your sentence: \"))\n",
    "\n",
    "word = \"is\"\n",
    "\n",
    "word_occurance = user_input.count(word)\n",
    "print(word_occurance)\n",
    "                \n",
    "                 \n",
    "                 "
   ]
  },
  {
   "cell_type": "markdown",
   "id": "5ee4a60c",
   "metadata": {},
   "source": [
    "#### 12. Find the first occurrence of a word in a string."
   ]
  },
  {
   "cell_type": "code",
   "execution_count": null,
   "id": "b596aeb0",
   "metadata": {},
   "outputs": [],
   "source": []
  }
 ],
 "metadata": {
  "kernelspec": {
   "display_name": "Python 3",
   "language": "python",
   "name": "python3"
  },
  "language_info": {
   "codemirror_mode": {
    "name": "ipython",
    "version": 3
   },
   "file_extension": ".py",
   "mimetype": "text/x-python",
   "name": "python",
   "nbconvert_exporter": "python",
   "pygments_lexer": "ipython3",
   "version": "3.8.8"
  }
 },
 "nbformat": 4,
 "nbformat_minor": 5
}
