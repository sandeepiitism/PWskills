{
 "cells": [
  {
   "cell_type": "markdown",
   "id": "50f4dda5",
   "metadata": {},
   "source": [
    "## `PWskills Assignment-20th_Aug_2023`"
   ]
  },
  {
   "cell_type": "markdown",
   "id": "58d430e2",
   "metadata": {},
   "source": [
    "### `TOPIC: String Based Assignment Problem`"
   ]
  },
  {
   "cell_type": "markdown",
   "id": "7e3ed112",
   "metadata": {},
   "source": [
    "#### 1. Write a program to reverse a string."
   ]
  },
  {
   "cell_type": "code",
   "execution_count": 3,
   "id": "aefd61b8",
   "metadata": {},
   "outputs": [
    {
     "name": "stdout",
     "output_type": "stream",
     "text": [
      "Enter the String: sandeep\n",
      "The reverse string: peednas\n"
     ]
    }
   ],
   "source": [
    "# user input\n",
    "str_input = str(input(\"Enter the String: \"))\n",
    "\n",
    "# reversing the string\n",
    "rev_str = str_input[::-1]\n",
    "\n",
    "print(f'The reverse string: {rev_str}')"
   ]
  },
  {
   "cell_type": "markdown",
   "id": "cff1a6f6",
   "metadata": {},
   "source": [
    "#### 2. Check if a string is a palindrome."
   ]
  },
  {
   "cell_type": "code",
   "execution_count": 2,
   "id": "67fb52dc",
   "metadata": {},
   "outputs": [
    {
     "name": "stdout",
     "output_type": "stream",
     "text": [
      "Enter the string: malama\n",
      "It is not palindrome\n"
     ]
    }
   ],
   "source": [
    "# A palindrome is a word, phrase, or sentence that reads the same backward or forward\n",
    "input_str = str(input(\"Enter the string: \"))\n",
    "\n",
    "# reversing the string\n",
    "rev_str = input_str[::-1]\n",
    "\n",
    "# comparing if input_str is same as rev_str\n",
    "if input_str == rev_str:\n",
    "    print(\"It is palindrome\")\n",
    "else:\n",
    "    print(\"It is not palindrome\")"
   ]
  },
  {
   "cell_type": "markdown",
   "id": "da31c070",
   "metadata": {},
   "source": [
    "#### 3. Convert a string to uppercase."
   ]
  },
  {
   "cell_type": "code",
   "execution_count": 5,
   "id": "19854323",
   "metadata": {},
   "outputs": [
    {
     "name": "stdout",
     "output_type": "stream",
     "text": [
      "Enter the String: sandeep\n",
      "The upper string: SANDEEP\n"
     ]
    }
   ],
   "source": [
    "# user input\n",
    "str_input = str(input(\"Enter the String: \"))\n",
    "\n",
    "# uppercase the string\n",
    "up_str = str_input.upper()\n",
    "\n",
    "print(f'The upper string: {up_str}')"
   ]
  },
  {
   "cell_type": "markdown",
   "id": "bf9a3b9d",
   "metadata": {},
   "source": [
    "#### 4. Convert a string to lowercase."
   ]
  },
  {
   "cell_type": "code",
   "execution_count": 7,
   "id": "9590d3d6",
   "metadata": {},
   "outputs": [
    {
     "name": "stdout",
     "output_type": "stream",
     "text": [
      "Enter the String: SanDeeP\n",
      "The lower string: sandeep\n"
     ]
    }
   ],
   "source": [
    "# user input\n",
    "str_input = str(input(\"Enter the String: \"))\n",
    "\n",
    "# uppercase the string\n",
    "low_str = str_input.lower()\n",
    "\n",
    "print(f'The lower string: {low_str}')"
   ]
  },
  {
   "cell_type": "markdown",
   "id": "b6f96ec9",
   "metadata": {},
   "source": [
    "#### 5. Count the number of vowels in a string."
   ]
  },
  {
   "cell_type": "code",
   "execution_count": 9,
   "id": "f786900a",
   "metadata": {},
   "outputs": [
    {
     "name": "stdout",
     "output_type": "stream",
     "text": [
      "Enter the String: sandeep is in india\n",
      "Count of vowels: 8\n"
     ]
    }
   ],
   "source": [
    "# user input\n",
    "str_input = str(input(\"Enter the String: \"))\n",
    "\n",
    "count = 0\n",
    "vowels = ['a', 'e', 'i', 'o', 'u']\n",
    "\n",
    "for i in str_input:\n",
    "    if i in vowels:\n",
    "        count +=1\n",
    "    else:\n",
    "        pass\n",
    "    \n",
    "print (f'Count of vowels: {count}')"
   ]
  },
  {
   "cell_type": "markdown",
   "id": "7c56358e",
   "metadata": {},
   "source": [
    "#### 6. Count the number of consonants in a string."
   ]
  },
  {
   "cell_type": "code",
   "execution_count": 11,
   "id": "496ed690",
   "metadata": {},
   "outputs": [
    {
     "name": "stdout",
     "output_type": "stream",
     "text": [
      "Enter the String: sandeep is in India\n",
      "Count of consonents: 12\n"
     ]
    }
   ],
   "source": [
    "# user input\n",
    "str_input = str(input(\"Enter the String: \"))\n",
    "\n",
    "count = 0\n",
    "vowels = ['a', 'e', 'i', 'o', 'u']\n",
    "\n",
    "for i in str_input:\n",
    "    if i not in vowels:\n",
    "        count +=1\n",
    "    else:\n",
    "        pass\n",
    "    \n",
    "print (f'Count of consonents: {count}')"
   ]
  },
  {
   "cell_type": "markdown",
   "id": "4746c367",
   "metadata": {},
   "source": [
    "#### 7. Remove all whitespaces from a string."
   ]
  },
  {
   "cell_type": "code",
   "execution_count": 13,
   "id": "50b7af57",
   "metadata": {},
   "outputs": [
    {
     "name": "stdout",
     "output_type": "stream",
     "text": [
      "Enter the String: hi this is sandeep\n",
      "The spaceless_string is: hithisissandeep\n"
     ]
    }
   ],
   "source": [
    "# user input\n",
    "str_input = str(input(\"Enter the String: \"))\n",
    "\n",
    "# removing all the whitespaces \n",
    "spaceless_string = str_input.replace(' ', '')\n",
    "\n",
    "print(f'The spaceless_string is: {spaceless_string}')"
   ]
  },
  {
   "cell_type": "markdown",
   "id": "0d8a51e0",
   "metadata": {},
   "source": [
    "#### 8. Find the length of a string without using the `len()` function."
   ]
  },
  {
   "cell_type": "code",
   "execution_count": 15,
   "id": "76d02a95",
   "metadata": {},
   "outputs": [
    {
     "name": "stdout",
     "output_type": "stream",
     "text": [
      "Enter the String: sandeep\n",
      "The length of the string is: 7\n"
     ]
    }
   ],
   "source": [
    "# user input\n",
    "str_input = str(input(\"Enter the String: \"))\n",
    "\n",
    "# counting the letters gives len\n",
    "count = 0\n",
    "for i in str_input:\n",
    "    count+=1\n",
    "    \n",
    "print(f'The length of the string is: {count}')"
   ]
  },
  {
   "cell_type": "markdown",
   "id": "f3f390c6",
   "metadata": {},
   "source": [
    "#### 9. Check if a string contains a specific word."
   ]
  },
  {
   "cell_type": "code",
   "execution_count": 17,
   "id": "189c5aa0",
   "metadata": {},
   "outputs": [
    {
     "name": "stdout",
     "output_type": "stream",
     "text": [
      "Enter the String: Hi this is SandeeP here\n",
      "specific word found\n"
     ]
    }
   ],
   "source": [
    "# user input\n",
    "str_input = str(input(\"Enter the String: \"))\n",
    "str_input = str_input.lower()  ## converting it all into lower case\n",
    "\n",
    "spec_word = \"sandeep\"\n",
    "\n",
    "if spec_word in str_input:\n",
    "    print(\"specific word found\")\n",
    "else:\n",
    "    print(\"specific word not found\")\n",
    "    "
   ]
  },
  {
   "cell_type": "markdown",
   "id": "5f548b99",
   "metadata": {},
   "source": [
    "#### 10. Replace a word in a string with another word."
   ]
  },
  {
   "cell_type": "code",
   "execution_count": 18,
   "id": "3976d73b",
   "metadata": {},
   "outputs": [
    {
     "name": "stdout",
     "output_type": "stream",
     "text": [
      "Enter the sentence: Hi this is sandeep\n",
      "Enter the word from the sentence: Hi\n",
      "Enter the word to be replaced: Hello\n",
      "The spaceless_string is: Hello this is sandeep\n"
     ]
    }
   ],
   "source": [
    "# user input\n",
    "str_input = str(input(\"Enter the sentence: \"))\n",
    "\n",
    "# replacing word in a sentence \n",
    "word_present = str(input(\"Enter the word you want to replace from the sentence: \"))\n",
    "word_replaced = str(input(\"Enter the word to be replaced in the sentence: \"))\n",
    "new_sentence = str_input.replace(word_present,word_replaced)\n",
    "\n",
    "print(f'The spaceless_string is: {new_sentence}')"
   ]
  },
  {
   "cell_type": "markdown",
   "id": "d82ffd59",
   "metadata": {},
   "source": [
    "#### 11. Count the occurrences of a word in a string."
   ]
  },
  {
   "cell_type": "code",
   "execution_count": 1,
   "id": "a64a2cfb",
   "metadata": {},
   "outputs": [
    {
     "name": "stdout",
     "output_type": "stream",
     "text": [
      "Enter your sentence: hello world, this is a big world around other world\n",
      "3\n"
     ]
    }
   ],
   "source": [
    "#user input sentence\n",
    "user_input = str(input(\"Enter your sentence: \"))\n",
    "\n",
    "word = \"world\"\n",
    "\n",
    "word_occurance = user_input.count(word)\n",
    "print(word_occurance)\n",
    "                \n",
    "                 \n",
    "                 "
   ]
  },
  {
   "cell_type": "markdown",
   "id": "5ee4a60c",
   "metadata": {},
   "source": [
    "#### 12. Find the first occurrence of a word in a string."
   ]
  },
  {
   "cell_type": "code",
   "execution_count": 34,
   "id": "00bb8e99",
   "metadata": {},
   "outputs": [
    {
     "name": "stdout",
     "output_type": "stream",
     "text": [
      "Enter your sentence: hey world for the world in the world\n",
      "3\n"
     ]
    }
   ],
   "source": [
    "#user input sentence\n",
    "user_string = str(input(\"Enter your sentence: \"))\n",
    "word = 'world'\n",
    "\n",
    "len_user = len(user_string)\n",
    "len_word = len(word)\n",
    "\n",
    "## break used for printing the first match and exit the loop\n",
    "\n",
    "for i in range(len_user - len_word+1):\n",
    "    if string[i:i+len_word] == word:\n",
    "        print(i)\n",
    "        break\n"
   ]
  },
  {
   "cell_type": "markdown",
   "id": "2d8c1901",
   "metadata": {},
   "source": [
    "#### 13. Find the last occurrence of a word in a string."
   ]
  },
  {
   "cell_type": "code",
   "execution_count": null,
   "id": "d00698c3",
   "metadata": {},
   "outputs": [],
   "source": []
  },
  {
   "cell_type": "markdown",
   "id": "335eb91c",
   "metadata": {},
   "source": [
    "#### 14. Split a string into a list of words."
   ]
  },
  {
   "cell_type": "code",
   "execution_count": 44,
   "id": "de8b8dcb",
   "metadata": {},
   "outputs": [
    {
     "name": "stdout",
     "output_type": "stream",
     "text": [
      " enter your string: Hi This is sandeep\n"
     ]
    },
    {
     "data": {
      "text/plain": [
       "['Hi', 'This', 'is', 'sandeep']"
      ]
     },
     "execution_count": 44,
     "metadata": {},
     "output_type": "execute_result"
    }
   ],
   "source": [
    "user_input = str(input(\" enter your string: \"))\n",
    "\n",
    "#splitting it into words\n",
    "word = user_input.split()\n",
    "word"
   ]
  },
  {
   "cell_type": "markdown",
   "id": "afee0680",
   "metadata": {},
   "source": [
    "#### 15. Join a list of words into a string."
   ]
  },
  {
   "cell_type": "code",
   "execution_count": 70,
   "id": "73d1846d",
   "metadata": {},
   "outputs": [
    {
     "name": "stdout",
     "output_type": "stream",
     "text": [
      "Hi This is sandeep from India \n"
     ]
    }
   ],
   "source": [
    "words = ['Hi', 'This', 'is', 'sandeep', 'from', 'India']\n",
    "\n",
    "sentence = \"\"\n",
    "\n",
    "# checking if length not matched keep adding the strings\n",
    "for i in range(len(words)):\n",
    "    if i != len(words):\n",
    "        sentence += words[i] + \" \"\n",
    "    else:\n",
    "        pass\n",
    "\n",
    "print(sentence)"
   ]
  },
  {
   "cell_type": "markdown",
   "id": "77e22323",
   "metadata": {},
   "source": [
    "#### 16. Convert a string where words are separated by spaces to one where words are separated by underscores."
   ]
  },
  {
   "cell_type": "code",
   "execution_count": 78,
   "id": "56930de4",
   "metadata": {},
   "outputs": [
    {
     "data": {
      "text/plain": [
       "'Hi_this_is_Sandeep_from_India'"
      ]
     },
     "execution_count": 78,
     "metadata": {},
     "output_type": "execute_result"
    }
   ],
   "source": [
    "sentence = \"Hi this is Sandeep from India\"\n",
    "\n",
    "# use replace function\n",
    "\n",
    "un_sentence = sentence.replace(\" \", \"_\")\n",
    "un_sentence"
   ]
  },
  {
   "cell_type": "markdown",
   "id": "9a5b757f",
   "metadata": {},
   "source": [
    "#### 17. Check if a string starts with a specific word or phrase."
   ]
  },
  {
   "cell_type": "code",
   "execution_count": 100,
   "id": "8dc3dd40",
   "metadata": {},
   "outputs": [
    {
     "name": "stdout",
     "output_type": "stream",
     "text": [
      "Enter the sentence: The world is round\n",
      "string starts with specific word\n"
     ]
    }
   ],
   "source": [
    "user_str = str(input(\"Enter the sentence: \"))\n",
    "word =\"The\"\n",
    "\n",
    "first_str= user_str.split()\n",
    "\n",
    "\n",
    "if word == first_str[0]:\n",
    "    print('string starts with specific word')\n",
    "else:\n",
    "    print('does not matches')\n"
   ]
  },
  {
   "cell_type": "markdown",
   "id": "0180b1b1",
   "metadata": {},
   "source": [
    "#### 18. Check if a string ends with a specific word or phrase."
   ]
  },
  {
   "cell_type": "code",
   "execution_count": 103,
   "id": "58d7dcd2",
   "metadata": {},
   "outputs": [
    {
     "name": "stdout",
     "output_type": "stream",
     "text": [
      "Enter the sentence: hi this is sandeep, thank you\n",
      "string ends with specific word\n"
     ]
    }
   ],
   "source": [
    "user_str = str(input(\"Enter the sentence: \"))\n",
    "word =\"you\"\n",
    "\n",
    "last_str= user_str.split()[-1]\n",
    "\n",
    "if word == last_str:\n",
    "    print('string ends with specific word')\n",
    "else:\n",
    "    print('does not matches')"
   ]
  },
  {
   "cell_type": "markdown",
   "id": "0135d64d",
   "metadata": {},
   "source": [
    "#### 19. Convert a string to title case (e.g., \"hello world\" to \"Hello World\")."
   ]
  },
  {
   "cell_type": "code",
   "execution_count": 105,
   "id": "6540dadf",
   "metadata": {},
   "outputs": [
    {
     "data": {
      "text/plain": [
       "'Hello World'"
      ]
     },
     "execution_count": 105,
     "metadata": {},
     "output_type": "execute_result"
    }
   ],
   "source": [
    "sent = \"hello world\"\n",
    "title_sent = sent.title()\n",
    "title_sent"
   ]
  },
  {
   "cell_type": "markdown",
   "id": "b58b17af",
   "metadata": {},
   "source": [
    "#### 20. Find the longest word in a string."
   ]
  },
  {
   "cell_type": "code",
   "execution_count": 150,
   "id": "474191ac",
   "metadata": {},
   "outputs": [
    {
     "name": "stdout",
     "output_type": "stream",
     "text": [
      "Enter the sentence: sandeep this side from India\n",
      "largest word is: sandeep\n"
     ]
    }
   ],
   "source": [
    "user_str = input(\"Enter the sentence: \")\n",
    "\n",
    "user_str = user_str.split()\n",
    "\n",
    "largest_word = ''\n",
    "\n",
    "for i in user_str:\n",
    "    if len(i)>len(largest_word):\n",
    "        largest_word=i\n",
    "        \n",
    "print(f'largest word is: {largest_word}')\n"
   ]
  },
  {
   "cell_type": "markdown",
   "id": "e1afd546",
   "metadata": {},
   "source": [
    "#### 21. Find the shortest word in a string."
   ]
  },
  {
   "cell_type": "code",
   "execution_count": 161,
   "id": "c2e00e62",
   "metadata": {},
   "outputs": [
    {
     "name": "stdout",
     "output_type": "stream",
     "text": [
      "Enter the sentence: sandeep this side from India\n",
      "shortest word is: \n"
     ]
    }
   ],
   "source": [
    "# user_str = input(\"Enter the sentence: \")\n",
    "\n",
    "# user_str = user_str.split()\n",
    "\n",
    "# shortest_word = \"\"\n",
    "\n",
    "# for i in user_str:\n",
    "#     if len(i)<len(shortest_word):\n",
    "#         shortest_word=i\n",
    "            \n",
    "# print(f'shortest word is: {shortest_word}')"
   ]
  },
  {
   "cell_type": "markdown",
   "id": "9547a208",
   "metadata": {},
   "source": [
    "#### 22. Reverse the order of words in a string."
   ]
  },
  {
   "cell_type": "code",
   "execution_count": 166,
   "id": "ac9a5bf5",
   "metadata": {},
   "outputs": [
    {
     "name": "stdout",
     "output_type": "stream",
     "text": [
      "sandeep is this Hi \n"
     ]
    }
   ],
   "source": [
    "user_str = \" Hi this is sandeep\"\n",
    "user_str = user_str.split()\n",
    "user_str = user_str[::-1]\n",
    "\n",
    "rev_sentence = ''\n",
    "\n",
    "for i in range(len(user_str)):\n",
    "     if i != len(user_str):\n",
    "        rev_sentence += user_str[i] + \" \"\n",
    "    \n",
    "print(rev_sentence)\n",
    "    \n",
    "    "
   ]
  },
  {
   "cell_type": "markdown",
   "id": "18a09c4d",
   "metadata": {},
   "source": [
    "#### 23. Check if a string is alphanumeric."
   ]
  },
  {
   "cell_type": "code",
   "execution_count": 182,
   "id": "b6bdb569",
   "metadata": {},
   "outputs": [
    {
     "name": "stdout",
     "output_type": "stream",
     "text": [
      "Checking whether 123abc is alphanumeric\n",
      "True\n",
      "Checking whether 123#$%abc is alphanumeric\n",
      "False\n"
     ]
    }
   ],
   "source": [
    "user = input(\"enter word: \")\n",
    "\n",
    "letter = []\n",
    "for i in user:\n",
    "    letter.append(i)\n",
    "\n"
   ]
  },
  {
   "cell_type": "markdown",
   "id": "efd4fc4f",
   "metadata": {},
   "source": [
    "#### 24. Extract all digits from a string."
   ]
  },
  {
   "cell_type": "code",
   "execution_count": 184,
   "id": "b9571627",
   "metadata": {},
   "outputs": [
    {
     "name": "stdout",
     "output_type": "stream",
     "text": [
      "Enter sentence with digits: sandeep 123 sdvskj 3884\n",
      "The original string : sandeep 123 sdvskj 3884\n"
     ]
    },
    {
     "ename": "SyntaxError",
     "evalue": "'return' outside function (Temp/ipykernel_8056/1088320300.py, line 11)",
     "output_type": "error",
     "traceback": [
      "\u001b[1;36m  File \u001b[1;32m\"C:\\Users\\CHS9NA\\AppData\\Local\\Temp/ipykernel_8056/1088320300.py\"\u001b[1;36m, line \u001b[1;32m11\u001b[0m\n\u001b[1;33m    return i\u001b[0m\n\u001b[1;37m    ^\u001b[0m\n\u001b[1;31mSyntaxError\u001b[0m\u001b[1;31m:\u001b[0m 'return' outside function\n"
     ]
    }
   ],
   "source": [
    "user_string = input(\"Enter sentence with digits: \")\n",
    "\n",
    "# printing original string\n",
    "print(\"The original string : \" + user_string)\n",
    "\n",
    "# using List comprehension + isdigit() +split()\n",
    "# getting numbers from string\n",
    "\n",
    "# for i in user_string.split():\n",
    "#     if i.isdigit():\n",
    "#         return i\n",
    "# res = [int(i) for i in test_string.split() if i.isdigit()]\n",
    "\n",
    "# print result\n",
    "print(\"The numbers list is :\" + str(i))\n"
   ]
  }
 ],
 "metadata": {
  "kernelspec": {
   "display_name": "Python 3 (ipykernel)",
   "language": "python",
   "name": "python3"
  },
  "language_info": {
   "codemirror_mode": {
    "name": "ipython",
    "version": 3
   },
   "file_extension": ".py",
   "mimetype": "text/x-python",
   "name": "python",
   "nbconvert_exporter": "python",
   "pygments_lexer": "ipython3",
   "version": "3.9.7"
  }
 },
 "nbformat": 4,
 "nbformat_minor": 5
}
