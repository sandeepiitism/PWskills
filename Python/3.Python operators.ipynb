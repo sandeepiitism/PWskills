{
  "cells": [
    {
      "cell_type": "markdown",
      "source": [
        "TUPLE\n",
        "DICT\n",
        "SETS"
      ],
      "metadata": {
        "id": "_rmnvkFHkO1x"
      },
      "id": "_rmnvkFHkO1x"
    },
    {
      "cell_type": "code",
      "execution_count": 2,
      "id": "f79f28d0-4ea0-4706-b296-dcc70cea7558",
      "metadata": {
        "id": "f79f28d0-4ea0-4706-b296-dcc70cea7558"
      },
      "outputs": [],
      "source": [
        "x=10"
      ]
    },
    {
      "cell_type": "code",
      "execution_count": 3,
      "id": "df6a4322-9174-44cf-ad66-2b63bd298bfb",
      "metadata": {
        "id": "df6a4322-9174-44cf-ad66-2b63bd298bfb"
      },
      "outputs": [],
      "source": [
        "x=1.34"
      ]
    },
    {
      "cell_type": "code",
      "execution_count": 4,
      "id": "d0e9f54c-6c06-4690-9c7b-02d9ec108b97",
      "metadata": {
        "id": "d0e9f54c-6c06-4690-9c7b-02d9ec108b97"
      },
      "outputs": [],
      "source": [
        "x=\"sandeep\""
      ]
    },
    {
      "cell_type": "code",
      "execution_count": 5,
      "id": "4dac4362-727f-4b6b-b7d5-3267244fe58c",
      "metadata": {
        "id": "4dac4362-727f-4b6b-b7d5-3267244fe58c"
      },
      "outputs": [],
      "source": [
        "x=['hi',4,3.14]"
      ]
    },
    {
      "cell_type": "code",
      "execution_count": 6,
      "id": "32aceda8-497a-4bf1-a21d-9420f5798172",
      "metadata": {
        "id": "32aceda8-497a-4bf1-a21d-9420f5798172"
      },
      "outputs": [],
      "source": [
        "y={'name':'sandeep'}"
      ]
    },
    {
      "cell_type": "code",
      "execution_count": 7,
      "id": "a5add821-d2ba-4cee-b17e-aaeb0f8908ce",
      "metadata": {
        "id": "a5add821-d2ba-4cee-b17e-aaeb0f8908ce"
      },
      "outputs": [],
      "source": [
        "h=(1,2,3,5)"
      ]
    },
    {
      "cell_type": "code",
      "execution_count": 8,
      "id": "f250183b-3372-40f9-8149-b372f2831250",
      "metadata": {
        "id": "f250183b-3372-40f9-8149-b372f2831250",
        "outputId": "5a50dc00-64f9-44cc-bd8f-7ada112b43b2",
        "colab": {
          "base_uri": "https://localhost:8080/"
        }
      },
      "outputs": [
        {
          "output_type": "execute_result",
          "data": {
            "text/plain": [
              "dict"
            ]
          },
          "metadata": {},
          "execution_count": 8
        }
      ],
      "source": [
        "type(y)"
      ]
    },
    {
      "cell_type": "code",
      "execution_count": 9,
      "id": "df580999-21ee-49ff-be32-4b2dd37c2b58",
      "metadata": {
        "id": "df580999-21ee-49ff-be32-4b2dd37c2b58",
        "outputId": "85174ff9-6dd2-4f52-99b3-cd2e7a6351ab",
        "colab": {
          "base_uri": "https://localhost:8080/"
        }
      },
      "outputs": [
        {
          "name": "stdout",
          "output_type": "stream",
          "text": [
            "hi\n"
          ]
        }
      ],
      "source": [
        "x=input()"
      ]
    },
    {
      "cell_type": "code",
      "execution_count": 10,
      "id": "e3dee209-363c-4d4b-82da-dd4f6161cd14",
      "metadata": {
        "id": "e3dee209-363c-4d4b-82da-dd4f6161cd14",
        "outputId": "949fc5e5-92d5-4734-bde0-5cccdc68fdb7",
        "colab": {
          "base_uri": "https://localhost:8080/",
          "height": 36
        }
      },
      "outputs": [
        {
          "output_type": "execute_result",
          "data": {
            "text/plain": [
              "'hi'"
            ],
            "application/vnd.google.colaboratory.intrinsic+json": {
              "type": "string"
            }
          },
          "metadata": {},
          "execution_count": 10
        }
      ],
      "source": [
        "x"
      ]
    },
    {
      "cell_type": "code",
      "execution_count": 11,
      "id": "026fd3fc-1dec-46c6-837d-fc769708328f",
      "metadata": {
        "id": "026fd3fc-1dec-46c6-837d-fc769708328f",
        "outputId": "1ae89d13-af77-4353-c453-47f8f96fbe6f",
        "colab": {
          "base_uri": "https://localhost:8080/"
        }
      },
      "outputs": [
        {
          "name": "stdout",
          "output_type": "stream",
          "text": [
            "6\n"
          ]
        }
      ],
      "source": [
        "y=input()"
      ]
    },
    {
      "cell_type": "code",
      "execution_count": 12,
      "id": "046f0d64-582e-4a09-85a7-ad36b77dc8e0",
      "metadata": {
        "id": "046f0d64-582e-4a09-85a7-ad36b77dc8e0",
        "outputId": "865553f9-60a8-4103-d11c-2e087d639b5c",
        "colab": {
          "base_uri": "https://localhost:8080/"
        }
      },
      "outputs": [
        {
          "name": "stdout",
          "output_type": "stream",
          "text": [
            "enter your namesandeep\n"
          ]
        }
      ],
      "source": [
        "w=input(\"enter your name\")"
      ]
    },
    {
      "cell_type": "code",
      "execution_count": 13,
      "id": "b88bd8ba-ca37-4d9e-8c4a-fbe80b292ad2",
      "metadata": {
        "id": "b88bd8ba-ca37-4d9e-8c4a-fbe80b292ad2",
        "outputId": "32451079-2ff1-4b5d-9cea-69de28eb1a0e",
        "colab": {
          "base_uri": "https://localhost:8080/",
          "height": 36
        }
      },
      "outputs": [
        {
          "output_type": "execute_result",
          "data": {
            "text/plain": [
              "'sandeep'"
            ],
            "application/vnd.google.colaboratory.intrinsic+json": {
              "type": "string"
            }
          },
          "metadata": {},
          "execution_count": 13
        }
      ],
      "source": [
        "w"
      ]
    },
    {
      "cell_type": "code",
      "execution_count": 14,
      "id": "a68d7b14-fc94-48d5-b8ba-a2231f57c356",
      "metadata": {
        "id": "a68d7b14-fc94-48d5-b8ba-a2231f57c356",
        "outputId": "212f4dd1-2b4c-4e96-8fde-e9e51ea086f9",
        "colab": {
          "base_uri": "https://localhost:8080/"
        }
      },
      "outputs": [
        {
          "output_type": "stream",
          "name": "stdout",
          "text": [
            "hi\n"
          ]
        }
      ],
      "source": [
        "print(\"hi\")"
      ]
    },
    {
      "cell_type": "code",
      "execution_count": 15,
      "id": "de7cd57a-d9cc-4248-b8ef-698e69699f44",
      "metadata": {
        "id": "de7cd57a-d9cc-4248-b8ef-698e69699f44",
        "outputId": "aff4b725-5086-44d4-e68e-8f9e7ef4462e",
        "colab": {
          "base_uri": "https://localhost:8080/"
        }
      },
      "outputs": [
        {
          "output_type": "stream",
          "name": "stdout",
          "text": [
            "enter your namesandeep\n",
            "sandeep\n"
          ]
        }
      ],
      "source": [
        "x=input(\"enter your name\")\n",
        "print(x)"
      ]
    },
    {
      "cell_type": "code",
      "execution_count": 16,
      "id": "9856a852-fafa-4094-88f7-4bea945b65ae",
      "metadata": {
        "id": "9856a852-fafa-4094-88f7-4bea945b65ae",
        "outputId": "b699af65-db7a-4826-ad24-b8088a2f49f5",
        "colab": {
          "base_uri": "https://localhost:8080/"
        }
      },
      "outputs": [
        {
          "output_type": "stream",
          "name": "stdout",
          "text": [
            "enter your age30\n",
            "my age is 30\n"
          ]
        }
      ],
      "source": [
        "y=input(\"enter your age\")\n",
        "print(\"my age is \" + y)"
      ]
    },
    {
      "cell_type": "code",
      "execution_count": 17,
      "id": "98e46d66-d97a-4864-9a82-35a29105b216",
      "metadata": {
        "id": "98e46d66-d97a-4864-9a82-35a29105b216",
        "outputId": "e4a7747e-c161-4da5-9984-818c6472fbd5",
        "colab": {
          "base_uri": "https://localhost:8080/"
        }
      },
      "outputs": [
        {
          "output_type": "stream",
          "name": "stdout",
          "text": [
            "40\n"
          ]
        }
      ],
      "source": [
        "x=10\n",
        "y=30\n",
        "print(x+y)"
      ]
    },
    {
      "cell_type": "code",
      "execution_count": 18,
      "id": "ea7203d7-812c-4903-bd48-c6b6ea3538da",
      "metadata": {
        "id": "ea7203d7-812c-4903-bd48-c6b6ea3538da",
        "outputId": "4454de75-4d64-4b68-e29e-1784297e5944",
        "colab": {
          "base_uri": "https://localhost:8080/"
        }
      },
      "outputs": [
        {
          "output_type": "stream",
          "name": "stdout",
          "text": [
            "enter first number3\n",
            "enter second number5\n",
            "8\n"
          ]
        }
      ],
      "source": [
        "b =int(input(\"enter first number\"))\n",
        "c = int(input(\"enter second number\"))\n",
        "print(b+c)\n"
      ]
    },
    {
      "cell_type": "code",
      "execution_count": 19,
      "id": "9809de27-7337-4e1a-a4e7-9b843e2d04cd",
      "metadata": {
        "id": "9809de27-7337-4e1a-a4e7-9b843e2d04cd",
        "outputId": "f7e70238-6e02-45b2-fb75-51e37d95dd92",
        "colab": {
          "base_uri": "https://localhost:8080/"
        }
      },
      "outputs": [
        {
          "output_type": "stream",
          "name": "stdout",
          "text": [
            "enter any number33\n",
            "33\n"
          ]
        }
      ],
      "source": [
        "x=int(input(\"enter any number\"))\n",
        "print(x)"
      ]
    },
    {
      "cell_type": "code",
      "execution_count": 20,
      "id": "fb9cf2d4-af8b-43ea-a245-f8b4989c1d99",
      "metadata": {
        "id": "fb9cf2d4-af8b-43ea-a245-f8b4989c1d99",
        "outputId": "801ee7b2-3ec2-4381-fe46-282a44ad6e25",
        "colab": {
          "base_uri": "https://localhost:8080/"
        }
      },
      "outputs": [
        {
          "output_type": "stream",
          "name": "stdout",
          "text": [
            "sandeep\n"
          ]
        }
      ],
      "source": [
        "print(\"sandeep\")"
      ]
    },
    {
      "cell_type": "code",
      "execution_count": 21,
      "id": "4fc0b210-fc27-441b-87af-f4dc412feb1a",
      "metadata": {
        "id": "4fc0b210-fc27-441b-87af-f4dc412feb1a",
        "outputId": "eca6d67d-08db-4d73-dd57-4707f2ea6975",
        "colab": {
          "base_uri": "https://localhost:8080/"
        }
      },
      "outputs": [
        {
          "output_type": "stream",
          "name": "stdout",
          "text": [
            "hi ok  sandeep\n"
          ]
        }
      ],
      "source": [
        "x=\"hi\"\n",
        "y=\"sandeep\"\n",
        "\n",
        "print(f\"{x} ok  {y}\")"
      ]
    },
    {
      "cell_type": "code",
      "execution_count": 22,
      "id": "9bf9b6df-5a91-422f-9a2d-ffbb9c082c97",
      "metadata": {
        "id": "9bf9b6df-5a91-422f-9a2d-ffbb9c082c97",
        "outputId": "4536e976-f2e1-4da7-95ef-da00a8b23229",
        "colab": {
          "base_uri": "https://localhost:8080/"
        }
      },
      "outputs": [
        {
          "output_type": "stream",
          "name": "stdout",
          "text": [
            "san\n"
          ]
        }
      ],
      "source": [
        "print(\"san\")"
      ]
    },
    {
      "cell_type": "code",
      "execution_count": 23,
      "id": "ab44862c-ae3c-4aec-b150-ea79ae308828",
      "metadata": {
        "id": "ab44862c-ae3c-4aec-b150-ea79ae308828",
        "outputId": "23444158-179f-4b8b-edb2-9fcba4217691",
        "colab": {
          "base_uri": "https://localhost:8080/"
        }
      },
      "outputs": [
        {
          "output_type": "stream",
          "name": "stdout",
          "text": [
            "5\n"
          ]
        }
      ],
      "source": [
        "print(\"5\")"
      ]
    },
    {
      "cell_type": "code",
      "execution_count": 24,
      "id": "602de39a-9a54-4ea7-b8de-d39de1467cb5",
      "metadata": {
        "id": "602de39a-9a54-4ea7-b8de-d39de1467cb5",
        "outputId": "216c47df-1c75-4089-ad53-1d73ccf96bf0",
        "colab": {
          "base_uri": "https://localhost:8080/"
        }
      },
      "outputs": [
        {
          "output_type": "stream",
          "name": "stdout",
          "text": [
            "abcd and san and abcd \n"
          ]
        }
      ],
      "source": [
        "print(\"{2} and {0} and {2} \".format(\"san\",\"deep\",\"abcd\"))"
      ]
    },
    {
      "cell_type": "code",
      "execution_count": 25,
      "id": "e46ed8f2-901a-4181-9254-fc84829863df",
      "metadata": {
        "id": "e46ed8f2-901a-4181-9254-fc84829863df",
        "outputId": "bdd16f8f-1b46-4077-9e8a-232bf93e5662",
        "colab": {
          "base_uri": "https://localhost:8080/"
        }
      },
      "outputs": [
        {
          "output_type": "stream",
          "name": "stdout",
          "text": [
            "89074562\n",
            "Hii!!\n",
            "$$Howareyou??\n",
            "10*10 = 100\n",
            "(12 > 10) and True\n",
            "I am here to learn \"python\n",
            "\n"
          ]
        }
      ],
      "source": [
        "print(\"\"\"89074562\n",
        "Hii!!\n",
        "$$Howareyou??\n",
        "10*10 = 100\n",
        "(12 > 10) and True\n",
        "I am here to learn \"python\n",
        "\"\"\")\n"
      ]
    },
    {
      "cell_type": "code",
      "execution_count": 26,
      "id": "885a4076-d03a-4aff-9770-99dc9ab0393c",
      "metadata": {
        "id": "885a4076-d03a-4aff-9770-99dc9ab0393c",
        "outputId": "f469b79f-f7c8-4adb-f192-21808adb019e",
        "colab": {
          "base_uri": "https://localhost:8080/"
        }
      },
      "outputs": [
        {
          "output_type": "stream",
          "name": "stdout",
          "text": [
            "$\n",
            "$ $ \n",
            "$ $ $\n",
            "$ $ $ $\n",
            "$ $ $ $ $\n",
            "\n"
          ]
        }
      ],
      "source": [
        "print(\"\"\"$\n",
        "$ $\n",
        "$ $ $\n",
        "$ $ $ $\n",
        "$ $ $ $ $\n",
        "\"\"\")\n"
      ]
    },
    {
      "cell_type": "code",
      "execution_count": 27,
      "id": "e99664f8-f129-4f37-bd71-b8fec821e178",
      "metadata": {
        "id": "e99664f8-f129-4f37-bd71-b8fec821e178",
        "outputId": "4fa982b4-b5ac-4b4e-ef7c-ca62b2ab8942",
        "colab": {
          "base_uri": "https://localhost:8080/"
        }
      },
      "outputs": [
        {
          "output_type": "stream",
          "name": "stdout",
          "text": [
            "enter the stringsandeep\n",
            "!sandeep!\n"
          ]
        }
      ],
      "source": [
        "x=input('enter the string')\n",
        "y=x\n",
        "z=\"!\" + x + \"!\"\n",
        "print(z)\n"
      ]
    },
    {
      "cell_type": "code",
      "execution_count": 28,
      "id": "4b9fde0d-6fd7-4602-80b1-b2b1ed471e01",
      "metadata": {
        "id": "4b9fde0d-6fd7-4602-80b1-b2b1ed471e01"
      },
      "outputs": [],
      "source": [
        "a=10\n",
        "b=20"
      ]
    },
    {
      "cell_type": "code",
      "execution_count": 29,
      "id": "ff299200-13ff-47f4-9529-76ff1688ba3d",
      "metadata": {
        "id": "ff299200-13ff-47f4-9529-76ff1688ba3d",
        "outputId": "09dcb19b-c363-4693-8e71-5e4ffacf3ea7",
        "colab": {
          "base_uri": "https://localhost:8080/"
        }
      },
      "outputs": [
        {
          "output_type": "execute_result",
          "data": {
            "text/plain": [
              "30"
            ]
          },
          "metadata": {},
          "execution_count": 29
        }
      ],
      "source": [
        "a+b"
      ]
    },
    {
      "cell_type": "code",
      "execution_count": 30,
      "id": "b45499ad-b74d-44d9-844d-53dc138ef374",
      "metadata": {
        "id": "b45499ad-b74d-44d9-844d-53dc138ef374",
        "outputId": "c7b7019f-c620-4537-f283-a451ca941153",
        "colab": {
          "base_uri": "https://localhost:8080/"
        }
      },
      "outputs": [
        {
          "output_type": "execute_result",
          "data": {
            "text/plain": [
              "10"
            ]
          },
          "metadata": {},
          "execution_count": 30
        }
      ],
      "source": [
        "b-a"
      ]
    },
    {
      "cell_type": "code",
      "execution_count": 31,
      "id": "0cc3de56-2479-497c-8ffe-b82b12a0f0d6",
      "metadata": {
        "id": "0cc3de56-2479-497c-8ffe-b82b12a0f0d6",
        "outputId": "486cf742-8930-4fb8-9996-dc4e63bf41e0",
        "colab": {
          "base_uri": "https://localhost:8080/"
        }
      },
      "outputs": [
        {
          "output_type": "execute_result",
          "data": {
            "text/plain": [
              "200"
            ]
          },
          "metadata": {},
          "execution_count": 31
        }
      ],
      "source": [
        "a * b"
      ]
    },
    {
      "cell_type": "code",
      "execution_count": 32,
      "id": "f0f5c191-75cb-48ff-b053-53256507cc18",
      "metadata": {
        "id": "f0f5c191-75cb-48ff-b053-53256507cc18",
        "outputId": "b8f8519b-159c-481d-a82d-7e9aeabf9d2a",
        "colab": {
          "base_uri": "https://localhost:8080/"
        }
      },
      "outputs": [
        {
          "output_type": "execute_result",
          "data": {
            "text/plain": [
              "2.0"
            ]
          },
          "metadata": {},
          "execution_count": 32
        }
      ],
      "source": [
        "b/a"
      ]
    },
    {
      "cell_type": "code",
      "execution_count": 33,
      "id": "f66126a8-270d-49b7-9bb1-8e666d3a956d",
      "metadata": {
        "id": "f66126a8-270d-49b7-9bb1-8e666d3a956d",
        "outputId": "07ae5d9b-caa2-4350-90a8-98688868598c",
        "colab": {
          "base_uri": "https://localhost:8080/"
        }
      },
      "outputs": [
        {
          "output_type": "execute_result",
          "data": {
            "text/plain": [
              "0"
            ]
          },
          "metadata": {},
          "execution_count": 33
        }
      ],
      "source": [
        "b%a"
      ]
    },
    {
      "cell_type": "code",
      "execution_count": 34,
      "id": "f217d457-5462-4976-91c1-7f037a36cd91",
      "metadata": {
        "id": "f217d457-5462-4976-91c1-7f037a36cd91"
      },
      "outputs": [],
      "source": [
        "a =10"
      ]
    },
    {
      "cell_type": "code",
      "execution_count": 35,
      "id": "b8161af1-0d3e-4405-9a14-96b7fb9f0da3",
      "metadata": {
        "id": "b8161af1-0d3e-4405-9a14-96b7fb9f0da3"
      },
      "outputs": [],
      "source": [
        "b=10"
      ]
    },
    {
      "cell_type": "code",
      "execution_count": 36,
      "id": "62e3f74e-6d0d-4626-9b85-b55f182481e9",
      "metadata": {
        "id": "62e3f74e-6d0d-4626-9b85-b55f182481e9",
        "outputId": "d8cef2ed-e5bd-4813-ba8f-a8e35059e75b",
        "colab": {
          "base_uri": "https://localhost:8080/"
        }
      },
      "outputs": [
        {
          "output_type": "execute_result",
          "data": {
            "text/plain": [
              "True"
            ]
          },
          "metadata": {},
          "execution_count": 36
        }
      ],
      "source": [
        "a==b"
      ]
    },
    {
      "cell_type": "code",
      "execution_count": 37,
      "id": "17109110-d371-4ba4-a121-1ffc2ff615c7",
      "metadata": {
        "id": "17109110-d371-4ba4-a121-1ffc2ff615c7",
        "outputId": "3637694d-4854-42a0-8a5f-3dde5ccffa14",
        "colab": {
          "base_uri": "https://localhost:8080/"
        }
      },
      "outputs": [
        {
          "output_type": "execute_result",
          "data": {
            "text/plain": [
              "True"
            ]
          },
          "metadata": {},
          "execution_count": 37
        }
      ],
      "source": [
        "a is b # identity operator"
      ]
    },
    {
      "cell_type": "code",
      "execution_count": 38,
      "id": "a483a752-56af-44df-8c4f-a431e42b06d9",
      "metadata": {
        "id": "a483a752-56af-44df-8c4f-a431e42b06d9"
      },
      "outputs": [],
      "source": [
        "a = 20"
      ]
    },
    {
      "cell_type": "code",
      "execution_count": 39,
      "id": "3027e69e-7396-4e61-bb56-6295604a1ef6",
      "metadata": {
        "id": "3027e69e-7396-4e61-bb56-6295604a1ef6"
      },
      "outputs": [],
      "source": [
        "b = 30"
      ]
    },
    {
      "cell_type": "code",
      "execution_count": 40,
      "id": "0bb163df-c7c4-4b90-9721-595d1e0051d4",
      "metadata": {
        "id": "0bb163df-c7c4-4b90-9721-595d1e0051d4",
        "outputId": "44bbdb13-85d0-4729-eb98-3fa25ae584ba",
        "colab": {
          "base_uri": "https://localhost:8080/"
        }
      },
      "outputs": [
        {
          "output_type": "execute_result",
          "data": {
            "text/plain": [
              "False"
            ]
          },
          "metadata": {},
          "execution_count": 40
        }
      ],
      "source": [
        "a is b"
      ]
    },
    {
      "cell_type": "code",
      "execution_count": 41,
      "id": "7eda19c6-0b8d-4f99-b8a1-6037793221c2",
      "metadata": {
        "id": "7eda19c6-0b8d-4f99-b8a1-6037793221c2",
        "outputId": "36a82358-2456-48a6-f458-0462be5e5dcc",
        "colab": {
          "base_uri": "https://localhost:8080/"
        }
      },
      "outputs": [
        {
          "output_type": "execute_result",
          "data": {
            "text/plain": [
              "False"
            ]
          },
          "metadata": {},
          "execution_count": 41
        }
      ],
      "source": [
        "a == b"
      ]
    },
    {
      "cell_type": "code",
      "execution_count": 42,
      "id": "51c7aa59-4973-470c-9ded-8a8a93097fb6",
      "metadata": {
        "id": "51c7aa59-4973-470c-9ded-8a8a93097fb6",
        "outputId": "38f686dc-bcd4-4197-f84b-edc4bf65ecd9",
        "colab": {
          "base_uri": "https://localhost:8080/"
        }
      },
      "outputs": [
        {
          "output_type": "execute_result",
          "data": {
            "text/plain": [
              "134186002006864"
            ]
          },
          "metadata": {},
          "execution_count": 42
        }
      ],
      "source": [
        "id(a)"
      ]
    },
    {
      "cell_type": "code",
      "execution_count": 43,
      "id": "e49619b0-bd70-40eb-bc55-59b1b7906033",
      "metadata": {
        "id": "e49619b0-bd70-40eb-bc55-59b1b7906033",
        "outputId": "2ddfb7cd-2647-48f4-faf8-e12239a2578e",
        "colab": {
          "base_uri": "https://localhost:8080/"
        }
      },
      "outputs": [
        {
          "output_type": "execute_result",
          "data": {
            "text/plain": [
              "134186002007184"
            ]
          },
          "metadata": {},
          "execution_count": 43
        }
      ],
      "source": [
        "id(b)"
      ]
    },
    {
      "cell_type": "code",
      "execution_count": 44,
      "id": "fe2e6e82-8294-49b0-bd59-0cd61b196c0c",
      "metadata": {
        "id": "fe2e6e82-8294-49b0-bd59-0cd61b196c0c",
        "outputId": "11736981-e4e5-436c-ebc4-01d03430b816",
        "colab": {
          "base_uri": "https://localhost:8080/"
        }
      },
      "outputs": [
        {
          "output_type": "execute_result",
          "data": {
            "text/plain": [
              "False"
            ]
          },
          "metadata": {},
          "execution_count": 44
        }
      ],
      "source": [
        "a is b"
      ]
    },
    {
      "cell_type": "code",
      "execution_count": 45,
      "id": "c0345155-5fd8-4b17-b08c-1c8b257da602",
      "metadata": {
        "id": "c0345155-5fd8-4b17-b08c-1c8b257da602",
        "outputId": "61d91b75-316d-45ee-de41-c77754dcf978",
        "colab": {
          "base_uri": "https://localhost:8080/"
        }
      },
      "outputs": [
        {
          "output_type": "execute_result",
          "data": {
            "text/plain": [
              "True"
            ]
          },
          "metadata": {},
          "execution_count": 45
        }
      ],
      "source": [
        " a!= b"
      ]
    },
    {
      "cell_type": "code",
      "execution_count": 46,
      "id": "1ca26537-09f0-46c8-88ce-9a65efe8e4e7",
      "metadata": {
        "id": "1ca26537-09f0-46c8-88ce-9a65efe8e4e7"
      },
      "outputs": [],
      "source": [
        "a = [1,2,3]"
      ]
    },
    {
      "cell_type": "code",
      "execution_count": 47,
      "id": "4d460b05-97ce-4fdb-97d6-7aa0ba40146a",
      "metadata": {
        "id": "4d460b05-97ce-4fdb-97d6-7aa0ba40146a"
      },
      "outputs": [],
      "source": [
        "b = [1,2,3]"
      ]
    },
    {
      "cell_type": "code",
      "execution_count": 48,
      "id": "0ee11fd1-0db6-4888-9e7e-4403bff3261f",
      "metadata": {
        "id": "0ee11fd1-0db6-4888-9e7e-4403bff3261f",
        "outputId": "4566e1cd-e9ce-4ff4-e590-39b5409329ae",
        "colab": {
          "base_uri": "https://localhost:8080/"
        }
      },
      "outputs": [
        {
          "output_type": "execute_result",
          "data": {
            "text/plain": [
              "True"
            ]
          },
          "metadata": {},
          "execution_count": 48
        }
      ],
      "source": [
        "a == b"
      ]
    },
    {
      "cell_type": "code",
      "execution_count": 49,
      "id": "bbb893e4-3c2a-4c77-8592-790caf7cd0f6",
      "metadata": {
        "id": "bbb893e4-3c2a-4c77-8592-790caf7cd0f6",
        "outputId": "71070ba4-5ab7-498a-aa7b-f230c3adada8",
        "colab": {
          "base_uri": "https://localhost:8080/"
        }
      },
      "outputs": [
        {
          "output_type": "execute_result",
          "data": {
            "text/plain": [
              "False"
            ]
          },
          "metadata": {},
          "execution_count": 49
        }
      ],
      "source": [
        "a is b"
      ]
    },
    {
      "cell_type": "code",
      "execution_count": 50,
      "id": "97e1b3a1-59cb-489f-b161-49af0b264781",
      "metadata": {
        "id": "97e1b3a1-59cb-489f-b161-49af0b264781",
        "outputId": "0da0ff54-41e3-4dd5-8da2-de9e59b45f47",
        "colab": {
          "base_uri": "https://localhost:8080/"
        }
      },
      "outputs": [
        {
          "output_type": "execute_result",
          "data": {
            "text/plain": [
              "134185789590464"
            ]
          },
          "metadata": {},
          "execution_count": 50
        }
      ],
      "source": [
        "id(a)"
      ]
    },
    {
      "cell_type": "code",
      "execution_count": 51,
      "id": "702df503-9935-4eb6-a81a-2f7ff00d119a",
      "metadata": {
        "id": "702df503-9935-4eb6-a81a-2f7ff00d119a",
        "outputId": "f4492569-1449-451f-d8b5-2d1a5500b4c5",
        "colab": {
          "base_uri": "https://localhost:8080/"
        }
      },
      "outputs": [
        {
          "output_type": "execute_result",
          "data": {
            "text/plain": [
              "134185788579328"
            ]
          },
          "metadata": {},
          "execution_count": 51
        }
      ],
      "source": [
        "id(b)"
      ]
    },
    {
      "cell_type": "code",
      "execution_count": 52,
      "id": "f4046891-8814-4bec-a154-3f806c5ffdc6",
      "metadata": {
        "id": "f4046891-8814-4bec-a154-3f806c5ffdc6"
      },
      "outputs": [],
      "source": [
        "a=[1,2,3]"
      ]
    },
    {
      "cell_type": "code",
      "execution_count": 53,
      "id": "e830a239-122c-4df9-b9f8-c5bd30226cb2",
      "metadata": {
        "id": "e830a239-122c-4df9-b9f8-c5bd30226cb2"
      },
      "outputs": [],
      "source": [
        "b=a"
      ]
    },
    {
      "cell_type": "code",
      "execution_count": 54,
      "id": "d847c6cc-aea1-4ba9-a1da-f4f89e3f7364",
      "metadata": {
        "id": "d847c6cc-aea1-4ba9-a1da-f4f89e3f7364",
        "outputId": "e0dec699-eb42-4b27-8ece-8cf9223887eb",
        "colab": {
          "base_uri": "https://localhost:8080/"
        }
      },
      "outputs": [
        {
          "output_type": "execute_result",
          "data": {
            "text/plain": [
              "True"
            ]
          },
          "metadata": {},
          "execution_count": 54
        }
      ],
      "source": [
        "a is b"
      ]
    },
    {
      "cell_type": "code",
      "execution_count": 55,
      "id": "b8ab1f60-b79e-42e3-87c1-672d63b42248",
      "metadata": {
        "id": "b8ab1f60-b79e-42e3-87c1-672d63b42248",
        "outputId": "9cf04c77-b040-415b-891c-787e63a74750",
        "colab": {
          "base_uri": "https://localhost:8080/"
        }
      },
      "outputs": [
        {
          "output_type": "execute_result",
          "data": {
            "text/plain": [
              "True"
            ]
          },
          "metadata": {},
          "execution_count": 55
        }
      ],
      "source": [
        "a == b"
      ]
    },
    {
      "cell_type": "code",
      "execution_count": 56,
      "id": "5d5eb164-6a09-474f-9819-722d1a6fbb64",
      "metadata": {
        "id": "5d5eb164-6a09-474f-9819-722d1a6fbb64",
        "outputId": "29e75f78-313a-4a38-ace9-10a853330782",
        "colab": {
          "base_uri": "https://localhost:8080/"
        }
      },
      "outputs": [
        {
          "output_type": "stream",
          "name": "stdout",
          "text": [
            "Enter an integer: 10\n",
            "5003154509899970\n"
          ]
        }
      ],
      "source": [
        "x = int(input(\"Enter an integer: \"))\n",
        "y=3**35//x\n",
        "print(y)\n"
      ]
    },
    {
      "cell_type": "code",
      "execution_count": 57,
      "id": "9b3c18b2-0f33-4625-9763-563fc28469d6",
      "metadata": {
        "id": "9b3c18b2-0f33-4625-9763-563fc28469d6",
        "outputId": "7fe0b020-0244-4f00-adad-1fd0b5baf9ee",
        "colab": {
          "base_uri": "https://localhost:8080/"
        }
      },
      "outputs": [
        {
          "output_type": "execute_result",
          "data": {
            "text/plain": [
              "4"
            ]
          },
          "metadata": {},
          "execution_count": 57
        }
      ],
      "source": [
        "2**2"
      ]
    },
    {
      "cell_type": "code",
      "execution_count": 58,
      "id": "a203026f-5230-4712-aa59-0f146e7ed074",
      "metadata": {
        "id": "a203026f-5230-4712-aa59-0f146e7ed074"
      },
      "outputs": [],
      "source": [
        "a = 10"
      ]
    },
    {
      "cell_type": "code",
      "execution_count": 59,
      "id": "3a8b07e1-6514-4853-ac8d-4f933e683d90",
      "metadata": {
        "id": "3a8b07e1-6514-4853-ac8d-4f933e683d90"
      },
      "outputs": [],
      "source": [
        "b=20"
      ]
    },
    {
      "cell_type": "code",
      "execution_count": 60,
      "id": "ac81a075-03d9-4fdb-9d78-b3ad2056154a",
      "metadata": {
        "id": "ac81a075-03d9-4fdb-9d78-b3ad2056154a",
        "outputId": "5f83b50d-cb51-40fa-d478-f62e4c0f0aac",
        "colab": {
          "base_uri": "https://localhost:8080/"
        }
      },
      "outputs": [
        {
          "output_type": "execute_result",
          "data": {
            "text/plain": [
              "False"
            ]
          },
          "metadata": {},
          "execution_count": 60
        }
      ],
      "source": [
        "a > b"
      ]
    },
    {
      "cell_type": "code",
      "execution_count": 61,
      "id": "b1395022-58a2-4561-985f-e19abf7c42df",
      "metadata": {
        "id": "b1395022-58a2-4561-985f-e19abf7c42df",
        "outputId": "fb3fc3ca-5d41-4342-9f7f-b0cabbae038d",
        "colab": {
          "base_uri": "https://localhost:8080/"
        }
      },
      "outputs": [
        {
          "output_type": "execute_result",
          "data": {
            "text/plain": [
              "True"
            ]
          },
          "metadata": {},
          "execution_count": 61
        }
      ],
      "source": [
        "a < b"
      ]
    },
    {
      "cell_type": "code",
      "execution_count": 62,
      "id": "6ffb27bf-e4e5-420f-bba5-a3ec5f1af1b3",
      "metadata": {
        "id": "6ffb27bf-e4e5-420f-bba5-a3ec5f1af1b3",
        "outputId": "1662d8a1-8dfa-4614-aa12-96a22a0593e7",
        "colab": {
          "base_uri": "https://localhost:8080/"
        }
      },
      "outputs": [
        {
          "output_type": "execute_result",
          "data": {
            "text/plain": [
              "2"
            ]
          },
          "metadata": {},
          "execution_count": 62
        }
      ],
      "source": [
        "5%3\n"
      ]
    },
    {
      "cell_type": "code",
      "execution_count": 63,
      "id": "afd9b277-7f0f-4026-81ff-281525b89dad",
      "metadata": {
        "id": "afd9b277-7f0f-4026-81ff-281525b89dad",
        "outputId": "271e7c78-c060-4a3d-935a-9060a1035c8f",
        "colab": {
          "base_uri": "https://localhost:8080/"
        }
      },
      "outputs": [
        {
          "output_type": "execute_result",
          "data": {
            "text/plain": [
              "2"
            ]
          },
          "metadata": {},
          "execution_count": 63
        }
      ],
      "source": [
        "5%3\n"
      ]
    },
    {
      "cell_type": "code",
      "execution_count": 64,
      "id": "02287fb0-409c-4f69-a55d-4c00153b9831",
      "metadata": {
        "id": "02287fb0-409c-4f69-a55d-4c00153b9831"
      },
      "outputs": [],
      "source": [
        "a = 10"
      ]
    },
    {
      "cell_type": "code",
      "execution_count": 65,
      "id": "16aa6418-c331-4902-8743-d2b0db6a8337",
      "metadata": {
        "id": "16aa6418-c331-4902-8743-d2b0db6a8337"
      },
      "outputs": [],
      "source": [
        "b = 4"
      ]
    },
    {
      "cell_type": "code",
      "execution_count": 66,
      "id": "6060ed48-2769-4717-a36a-9a597af28f39",
      "metadata": {
        "id": "6060ed48-2769-4717-a36a-9a597af28f39",
        "outputId": "e9ed62a4-3e7b-4ada-cd15-e2dd52c6338f",
        "colab": {
          "base_uri": "https://localhost:8080/",
          "height": 36
        }
      },
      "outputs": [
        {
          "output_type": "execute_result",
          "data": {
            "text/plain": [
              "'0b1010'"
            ],
            "application/vnd.google.colaboratory.intrinsic+json": {
              "type": "string"
            }
          },
          "metadata": {},
          "execution_count": 66
        }
      ],
      "source": [
        "bin(a)"
      ]
    },
    {
      "cell_type": "code",
      "execution_count": 67,
      "id": "bdbd58ce-8fc4-4bd4-b88f-d7f604b79382",
      "metadata": {
        "id": "bdbd58ce-8fc4-4bd4-b88f-d7f604b79382",
        "outputId": "3d49654d-3656-4aa2-eb0c-7a71a87dfbb0",
        "colab": {
          "base_uri": "https://localhost:8080/",
          "height": 36
        }
      },
      "outputs": [
        {
          "output_type": "execute_result",
          "data": {
            "text/plain": [
              "'0b100'"
            ],
            "application/vnd.google.colaboratory.intrinsic+json": {
              "type": "string"
            }
          },
          "metadata": {},
          "execution_count": 67
        }
      ],
      "source": [
        "bin(b)"
      ]
    },
    {
      "cell_type": "code",
      "execution_count": 68,
      "id": "0850b285-c117-48bd-a081-91a7c310d324",
      "metadata": {
        "id": "0850b285-c117-48bd-a081-91a7c310d324",
        "outputId": "49d540d2-da96-40ee-d3f5-e3539024d138",
        "colab": {
          "base_uri": "https://localhost:8080/"
        }
      },
      "outputs": [
        {
          "output_type": "execute_result",
          "data": {
            "text/plain": [
              "0"
            ]
          },
          "metadata": {},
          "execution_count": 68
        }
      ],
      "source": [
        "a & b\n",
        "# and operator"
      ]
    },
    {
      "cell_type": "code",
      "execution_count": 69,
      "id": "b0e5602f-d12b-4258-8fa1-135527beca78",
      "metadata": {
        "id": "b0e5602f-d12b-4258-8fa1-135527beca78",
        "outputId": "1c10d281-5619-407b-c4df-3f3de312557f",
        "colab": {
          "base_uri": "https://localhost:8080/"
        }
      },
      "outputs": [
        {
          "output_type": "execute_result",
          "data": {
            "text/plain": [
              "14"
            ]
          },
          "metadata": {},
          "execution_count": 69
        }
      ],
      "source": [
        "a | b\n",
        "# or"
      ]
    },
    {
      "cell_type": "code",
      "execution_count": 70,
      "id": "bf4ae149-a5c7-4a40-ab65-4a748f66dc4f",
      "metadata": {
        "id": "bf4ae149-a5c7-4a40-ab65-4a748f66dc4f",
        "outputId": "9b5e333b-7bb8-4f05-af5e-958294b263f0",
        "colab": {
          "base_uri": "https://localhost:8080/"
        }
      },
      "outputs": [
        {
          "output_type": "execute_result",
          "data": {
            "text/plain": [
              "10"
            ]
          },
          "metadata": {},
          "execution_count": 70
        }
      ],
      "source": [
        "a"
      ]
    },
    {
      "cell_type": "code",
      "execution_count": 71,
      "id": "ac2ff05b-7d78-4977-a427-55f10b81ae0e",
      "metadata": {
        "id": "ac2ff05b-7d78-4977-a427-55f10b81ae0e",
        "outputId": "d3bcac58-c41b-40fb-d14b-63d24db1565d",
        "colab": {
          "base_uri": "https://localhost:8080/"
        }
      },
      "outputs": [
        {
          "output_type": "execute_result",
          "data": {
            "text/plain": [
              "-11"
            ]
          },
          "metadata": {},
          "execution_count": 71
        }
      ],
      "source": [
        "~a"
      ]
    },
    {
      "cell_type": "code",
      "execution_count": 72,
      "id": "7899d78d-8334-4772-a0a5-3eddb0656da9",
      "metadata": {
        "id": "7899d78d-8334-4772-a0a5-3eddb0656da9",
        "outputId": "0fd8789c-0e0c-4ee2-d950-1b11907e42b2",
        "colab": {
          "base_uri": "https://localhost:8080/"
        }
      },
      "outputs": [
        {
          "output_type": "execute_result",
          "data": {
            "text/plain": [
              "14"
            ]
          },
          "metadata": {},
          "execution_count": 72
        }
      ],
      "source": [
        "a ^ b"
      ]
    },
    {
      "cell_type": "code",
      "execution_count": 73,
      "id": "3b8ced6f-fd70-4aaa-9b7e-0c6ccabee8da",
      "metadata": {
        "id": "3b8ced6f-fd70-4aaa-9b7e-0c6ccabee8da"
      },
      "outputs": [],
      "source": [
        "a = 10"
      ]
    },
    {
      "cell_type": "code",
      "execution_count": 74,
      "id": "487e0774-a031-46b1-926a-dc6d71a3617b",
      "metadata": {
        "id": "487e0774-a031-46b1-926a-dc6d71a3617b"
      },
      "outputs": [],
      "source": [
        "b = 4"
      ]
    },
    {
      "cell_type": "code",
      "execution_count": 75,
      "id": "a09428ff-69c8-4688-b7b7-2534d1c9cb59",
      "metadata": {
        "id": "a09428ff-69c8-4688-b7b7-2534d1c9cb59",
        "outputId": "ef0f4c49-da5e-4fa6-caa3-50fcb09d94f2",
        "colab": {
          "base_uri": "https://localhost:8080/",
          "height": 36
        }
      },
      "outputs": [
        {
          "output_type": "execute_result",
          "data": {
            "text/plain": [
              "'0b1010'"
            ],
            "application/vnd.google.colaboratory.intrinsic+json": {
              "type": "string"
            }
          },
          "metadata": {},
          "execution_count": 75
        }
      ],
      "source": [
        "bin(a)"
      ]
    },
    {
      "cell_type": "code",
      "execution_count": 76,
      "id": "89794a0c-6b02-40a6-8943-55cc0927b793",
      "metadata": {
        "id": "89794a0c-6b02-40a6-8943-55cc0927b793",
        "outputId": "6eb0c241-750f-4274-ea45-51a2fe379c80",
        "colab": {
          "base_uri": "https://localhost:8080/",
          "height": 36
        }
      },
      "outputs": [
        {
          "output_type": "execute_result",
          "data": {
            "text/plain": [
              "'0b100'"
            ],
            "application/vnd.google.colaboratory.intrinsic+json": {
              "type": "string"
            }
          },
          "metadata": {},
          "execution_count": 76
        }
      ],
      "source": [
        "bin(b)"
      ]
    },
    {
      "cell_type": "code",
      "execution_count": 77,
      "id": "9caefef8-69e2-4f37-8b43-22493ba55e47",
      "metadata": {
        "id": "9caefef8-69e2-4f37-8b43-22493ba55e47",
        "outputId": "3802fae2-9a45-4862-fa54-3a042eab2736",
        "colab": {
          "base_uri": "https://localhost:8080/"
        }
      },
      "outputs": [
        {
          "output_type": "execute_result",
          "data": {
            "text/plain": [
              "14"
            ]
          },
          "metadata": {},
          "execution_count": 77
        }
      ],
      "source": [
        "a ^ b"
      ]
    },
    {
      "cell_type": "code",
      "execution_count": 79,
      "id": "eb538116-accc-4583-b03a-37c4b038fb82",
      "metadata": {
        "id": "eb538116-accc-4583-b03a-37c4b038fb82"
      },
      "outputs": [],
      "source": [
        "# 1010\n",
        "# 0100\n",
        "# -----\n",
        "# 1110"
      ]
    },
    {
      "cell_type": "code",
      "execution_count": 80,
      "id": "cf2d236c-c0f5-4cb8-889c-939af7e13c57",
      "metadata": {
        "id": "cf2d236c-c0f5-4cb8-889c-939af7e13c57"
      },
      "outputs": [],
      "source": [
        "a = 10"
      ]
    },
    {
      "cell_type": "code",
      "execution_count": 81,
      "id": "537161ee-3da2-47cb-83b2-56d5ca2bef16",
      "metadata": {
        "id": "537161ee-3da2-47cb-83b2-56d5ca2bef16",
        "outputId": "666745ba-81fe-4870-d3a3-22aa04da40df",
        "colab": {
          "base_uri": "https://localhost:8080/"
        }
      },
      "outputs": [
        {
          "output_type": "execute_result",
          "data": {
            "text/plain": [
              "5"
            ]
          },
          "metadata": {},
          "execution_count": 81
        }
      ],
      "source": [
        "a >> 1"
      ]
    },
    {
      "cell_type": "code",
      "execution_count": 82,
      "id": "e3077f2a-e681-4f8d-a686-6b82603b5d50",
      "metadata": {
        "id": "e3077f2a-e681-4f8d-a686-6b82603b5d50"
      },
      "outputs": [],
      "source": [
        "a = 10"
      ]
    },
    {
      "cell_type": "code",
      "execution_count": 83,
      "id": "f66f6374-2a70-445c-9054-ec47916e96df",
      "metadata": {
        "id": "f66f6374-2a70-445c-9054-ec47916e96df",
        "outputId": "b987f916-d26d-4a6b-8a32-3654624449bc",
        "colab": {
          "base_uri": "https://localhost:8080/"
        }
      },
      "outputs": [
        {
          "output_type": "execute_result",
          "data": {
            "text/plain": [
              "20"
            ]
          },
          "metadata": {},
          "execution_count": 83
        }
      ],
      "source": [
        "a << 1"
      ]
    },
    {
      "cell_type": "code",
      "execution_count": 84,
      "id": "fabf557c-8bf3-4d38-82a1-b8d3f6ef9cf6",
      "metadata": {
        "id": "fabf557c-8bf3-4d38-82a1-b8d3f6ef9cf6"
      },
      "outputs": [],
      "source": [
        "a = 10"
      ]
    },
    {
      "cell_type": "code",
      "execution_count": 85,
      "id": "9dbcb5e0-270f-418e-b787-666ec3b57b3c",
      "metadata": {
        "id": "9dbcb5e0-270f-418e-b787-666ec3b57b3c",
        "outputId": "faa84926-7d87-4526-efd0-72bcbbf00d1b",
        "colab": {
          "base_uri": "https://localhost:8080/"
        }
      },
      "outputs": [
        {
          "output_type": "execute_result",
          "data": {
            "text/plain": [
              "-11"
            ]
          },
          "metadata": {},
          "execution_count": 85
        }
      ],
      "source": [
        "~a"
      ]
    },
    {
      "cell_type": "code",
      "execution_count": 86,
      "id": "d31566b2-f7b7-4839-9522-466e5cd0b33c",
      "metadata": {
        "id": "d31566b2-f7b7-4839-9522-466e5cd0b33c"
      },
      "outputs": [],
      "source": [
        "a= 10"
      ]
    },
    {
      "cell_type": "code",
      "execution_count": 87,
      "id": "42e82c5c-3422-408f-8b42-a540d14a1f3c",
      "metadata": {
        "id": "42e82c5c-3422-408f-8b42-a540d14a1f3c"
      },
      "outputs": [],
      "source": [
        "a = a+ 1"
      ]
    },
    {
      "cell_type": "code",
      "execution_count": 88,
      "id": "9433c282-30ef-45d3-9c97-698cb3bd53b1",
      "metadata": {
        "id": "9433c282-30ef-45d3-9c97-698cb3bd53b1",
        "outputId": "3c01ee5e-695d-4b18-c1a9-a3bf13f87621",
        "colab": {
          "base_uri": "https://localhost:8080/"
        }
      },
      "outputs": [
        {
          "output_type": "execute_result",
          "data": {
            "text/plain": [
              "11"
            ]
          },
          "metadata": {},
          "execution_count": 88
        }
      ],
      "source": [
        "a"
      ]
    },
    {
      "cell_type": "code",
      "execution_count": 89,
      "id": "5d120f59-7b26-4a5f-b10a-a8cd025f8469",
      "metadata": {
        "id": "5d120f59-7b26-4a5f-b10a-a8cd025f8469",
        "outputId": "a82c3764-ec54-414a-a2d1-61441918deda",
        "colab": {
          "base_uri": "https://localhost:8080/",
          "height": 106
        }
      },
      "outputs": [
        {
          "output_type": "error",
          "ename": "SyntaxError",
          "evalue": "invalid syntax (<ipython-input-89-10ec5c82e2cd>, line 1)",
          "traceback": [
            "\u001b[0;36m  File \u001b[0;32m\"<ipython-input-89-10ec5c82e2cd>\"\u001b[0;36m, line \u001b[0;32m1\u001b[0m\n\u001b[0;31m    a+=\u001b[0m\n\u001b[0m       ^\u001b[0m\n\u001b[0;31mSyntaxError\u001b[0m\u001b[0;31m:\u001b[0m invalid syntax\n"
          ]
        }
      ],
      "source": [
        "a+="
      ]
    },
    {
      "cell_type": "code",
      "execution_count": 90,
      "id": "555287b5-725c-4b73-8bdd-c3efa57b6e12",
      "metadata": {
        "id": "555287b5-725c-4b73-8bdd-c3efa57b6e12"
      },
      "outputs": [],
      "source": [
        "a = a+ 1"
      ]
    },
    {
      "cell_type": "code",
      "execution_count": 91,
      "id": "2dd5b1d8-72ac-4ba1-8372-08c09fa6c08d",
      "metadata": {
        "id": "2dd5b1d8-72ac-4ba1-8372-08c09fa6c08d"
      },
      "outputs": [],
      "source": [
        "a= 10"
      ]
    },
    {
      "cell_type": "code",
      "execution_count": 92,
      "id": "bf68cc36-d10e-4506-9a56-95505ec7a129",
      "metadata": {
        "id": "bf68cc36-d10e-4506-9a56-95505ec7a129",
        "outputId": "f78d3b0b-06d8-4e9c-eb9c-fe09ce40fab9",
        "colab": {
          "base_uri": "https://localhost:8080/",
          "height": 106
        }
      },
      "outputs": [
        {
          "output_type": "error",
          "ename": "SyntaxError",
          "evalue": "invalid syntax (<ipython-input-92-55dbd5ca55ad>, line 2)",
          "traceback": [
            "\u001b[0;36m  File \u001b[0;32m\"<ipython-input-92-55dbd5ca55ad>\"\u001b[0;36m, line \u001b[0;32m2\u001b[0m\n\u001b[0;31m    a+*\u001b[0m\n\u001b[0m      ^\u001b[0m\n\u001b[0;31mSyntaxError\u001b[0m\u001b[0;31m:\u001b[0m invalid syntax\n"
          ]
        }
      ],
      "source": [
        "a+=3\n",
        "a+*"
      ]
    },
    {
      "cell_type": "code",
      "execution_count": 93,
      "id": "d43cb400-bc17-486f-ad4e-f9a75ee403bc",
      "metadata": {
        "id": "d43cb400-bc17-486f-ad4e-f9a75ee403bc",
        "outputId": "dc8faa12-a9d0-438d-b6d9-edd1c2fef462",
        "colab": {
          "base_uri": "https://localhost:8080/"
        }
      },
      "outputs": [
        {
          "output_type": "execute_result",
          "data": {
            "text/plain": [
              "10"
            ]
          },
          "metadata": {},
          "execution_count": 93
        }
      ],
      "source": [
        "a"
      ]
    },
    {
      "cell_type": "code",
      "execution_count": 94,
      "id": "cf9a2b6d-7c38-477b-a40f-a35e55181b3c",
      "metadata": {
        "id": "cf9a2b6d-7c38-477b-a40f-a35e55181b3c"
      },
      "outputs": [],
      "source": [
        "a = a+3"
      ]
    }
  ],
  "metadata": {
    "kernelspec": {
      "display_name": "Python 3 (ipykernel)",
      "language": "python",
      "name": "python3"
    },
    "language_info": {
      "codemirror_mode": {
        "name": "ipython",
        "version": 3
      },
      "file_extension": ".py",
      "mimetype": "text/x-python",
      "name": "python",
      "nbconvert_exporter": "python",
      "pygments_lexer": "ipython3",
      "version": "3.10.8"
    },
    "colab": {
      "provenance": []
    }
  },
  "nbformat": 4,
  "nbformat_minor": 5
}