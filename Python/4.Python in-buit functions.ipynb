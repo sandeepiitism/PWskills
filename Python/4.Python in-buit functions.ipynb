{
 "cells": [
  {
   "cell_type": "markdown",
   "id": "3deccc17",
   "metadata": {},
   "source": [
    "# Python in-builts functions"
   ]
  },
  {
   "cell_type": "code",
   "execution_count": 1,
   "id": "820d7dd4",
   "metadata": {},
   "outputs": [],
   "source": [
    "s1 = \"sandeep\""
   ]
  },
  {
   "cell_type": "code",
   "execution_count": 2,
   "id": "f767fa7e",
   "metadata": {},
   "outputs": [
    {
     "data": {
      "text/plain": [
       "2"
      ]
     },
     "execution_count": 2,
     "metadata": {},
     "output_type": "execute_result"
    }
   ],
   "source": [
    "### count occurance of e\n",
    "s1.count(\"e\")"
   ]
  },
  {
   "cell_type": "code",
   "execution_count": 3,
   "id": "4e01de1d",
   "metadata": {},
   "outputs": [
    {
     "data": {
      "text/plain": [
       "3"
      ]
     },
     "execution_count": 3,
     "metadata": {},
     "output_type": "execute_result"
    }
   ],
   "source": [
    "### find the index of d , but if not find it will give -1\n",
    "s1.find(\"d\")"
   ]
  },
  {
   "cell_type": "code",
   "execution_count": 6,
   "id": "15982975",
   "metadata": {},
   "outputs": [
    {
     "data": {
      "text/plain": [
       "-1"
      ]
     },
     "execution_count": 6,
     "metadata": {},
     "output_type": "execute_result"
    }
   ],
   "source": [
    "s1.find(\"z\")"
   ]
  },
  {
   "cell_type": "code",
   "execution_count": 4,
   "id": "a3882b84",
   "metadata": {},
   "outputs": [
    {
     "data": {
      "text/plain": [
       "3"
      ]
     },
     "execution_count": 4,
     "metadata": {},
     "output_type": "execute_result"
    }
   ],
   "source": [
    "### same as above finding index\n",
    "s1.index(\"d\")"
   ]
  },
  {
   "cell_type": "code",
   "execution_count": 5,
   "id": "d9b138a6",
   "metadata": {},
   "outputs": [
    {
     "ename": "ValueError",
     "evalue": "substring not found",
     "output_type": "error",
     "traceback": [
      "\u001b[1;31m---------------------------------------------------------------------------\u001b[0m",
      "\u001b[1;31mValueError\u001b[0m                                Traceback (most recent call last)",
      "\u001b[1;32m~\\AppData\\Local\\Temp/ipykernel_15328/2723690859.py\u001b[0m in \u001b[0;36m<module>\u001b[1;34m\u001b[0m\n\u001b[1;32m----> 1\u001b[1;33m \u001b[0ms1\u001b[0m\u001b[1;33m.\u001b[0m\u001b[0mindex\u001b[0m\u001b[1;33m(\u001b[0m\u001b[1;34m\"z\"\u001b[0m\u001b[1;33m)\u001b[0m\u001b[1;33m\u001b[0m\u001b[1;33m\u001b[0m\u001b[0m\n\u001b[0m",
      "\u001b[1;31mValueError\u001b[0m: substring not found"
     ]
    }
   ],
   "source": [
    "s1.index(\"z\")"
   ]
  },
  {
   "cell_type": "code",
   "execution_count": 7,
   "id": "de5f622d",
   "metadata": {},
   "outputs": [
    {
     "data": {
      "text/plain": [
       "'SANDEEP'"
      ]
     },
     "execution_count": 7,
     "metadata": {},
     "output_type": "execute_result"
    }
   ],
   "source": [
    "s1.upper()"
   ]
  },
  {
   "cell_type": "code",
   "execution_count": 8,
   "id": "4d9bc95c",
   "metadata": {},
   "outputs": [
    {
     "data": {
      "text/plain": [
       "'sandeep'"
      ]
     },
     "execution_count": 8,
     "metadata": {},
     "output_type": "execute_result"
    }
   ],
   "source": [
    "s1.lower()"
   ]
  },
  {
   "cell_type": "code",
   "execution_count": 9,
   "id": "28afc755",
   "metadata": {},
   "outputs": [
    {
     "data": {
      "text/plain": [
       "'Sandeep'"
      ]
     },
     "execution_count": 9,
     "metadata": {},
     "output_type": "execute_result"
    }
   ],
   "source": [
    "s1.title()"
   ]
  },
  {
   "cell_type": "code",
   "execution_count": 10,
   "id": "bb864dc1",
   "metadata": {},
   "outputs": [
    {
     "data": {
      "text/plain": [
       "' Hello World My Name Is Sandeep'"
      ]
     },
     "execution_count": 10,
     "metadata": {},
     "output_type": "execute_result"
    }
   ],
   "source": [
    "s2 = \" hello World my name is sAndeep\"\n",
    "s2.title()"
   ]
  },
  {
   "cell_type": "code",
   "execution_count": 11,
   "id": "bc1a2021",
   "metadata": {},
   "outputs": [
    {
     "data": {
      "text/plain": [
       "['hello', 'World', 'my', 'name', 'is', 'sAndeep']"
      ]
     },
     "execution_count": 11,
     "metadata": {},
     "output_type": "execute_result"
    }
   ],
   "source": [
    "s2.split()  ### there are whitespaces so splited it"
   ]
  },
  {
   "cell_type": "code",
   "execution_count": 12,
   "id": "58814030",
   "metadata": {},
   "outputs": [
    {
     "data": {
      "text/plain": [
       "[' hello World my name is sAndeep']"
      ]
     },
     "execution_count": 12,
     "metadata": {},
     "output_type": "execute_result"
    }
   ],
   "source": [
    "s2.split(\",\")  ### there is no cooma"
   ]
  },
  {
   "cell_type": "code",
   "execution_count": 13,
   "id": "a3502782",
   "metadata": {},
   "outputs": [
    {
     "data": {
      "text/plain": [
       "[' hello World my name is sAndeep']"
      ]
     },
     "execution_count": 13,
     "metadata": {},
     "output_type": "execute_result"
    }
   ],
   "source": [
    "s2.split(\"/\")  #### there is no / "
   ]
  },
  {
   "cell_type": "code",
   "execution_count": 14,
   "id": "b798fdf2",
   "metadata": {},
   "outputs": [
    {
     "data": {
      "text/plain": [
       "['Hello', ' World', ' My Name', ' Is', ' Sandeep']"
      ]
     },
     "execution_count": 14,
     "metadata": {},
     "output_type": "execute_result"
    }
   ],
   "source": [
    "s3 = 'Hello, World, My Name, Is, Sandeep'\n",
    "s3.split(\",\")   ### as per comma splited"
   ]
  },
  {
   "cell_type": "code",
   "execution_count": 15,
   "id": "315ccf00",
   "metadata": {},
   "outputs": [
    {
     "data": {
      "text/plain": [
       "['Hello,', 'World,', 'My', 'Name,', 'Is,', 'Sandeep']"
      ]
     },
     "execution_count": 15,
     "metadata": {},
     "output_type": "execute_result"
    }
   ],
   "source": [
    "s3.split(\" \") ### as per whitespace splited"
   ]
  },
  {
   "cell_type": "code",
   "execution_count": 17,
   "id": "6ec66874",
   "metadata": {},
   "outputs": [
    {
     "data": {
      "text/plain": [
       "['Hell', ', W', 'rld, My Name, Is, Sandeep']"
      ]
     },
     "execution_count": 17,
     "metadata": {},
     "output_type": "execute_result"
    }
   ],
   "source": [
    "s3.split(\"o\")  ### split as per word o"
   ]
  },
  {
   "cell_type": "code",
   "execution_count": 18,
   "id": "462d9829",
   "metadata": {},
   "outputs": [
    {
     "data": {
      "text/plain": [
       "['hi this is sandeep', ' This is a python workbook']"
      ]
     },
     "execution_count": 18,
     "metadata": {},
     "output_type": "execute_result"
    }
   ],
   "source": [
    "s4 = \"hi this is sandeep. This is a python workbook\"\n",
    "s4.split(\".\")"
   ]
  },
  {
   "cell_type": "code",
   "execution_count": 19,
   "id": "a4f7fc83",
   "metadata": {},
   "outputs": [
    {
     "data": {
      "text/plain": [
       "' This is a python workbook'"
      ]
     },
     "execution_count": 19,
     "metadata": {},
     "output_type": "execute_result"
    }
   ],
   "source": [
    "s4.split(\".\")[1]  ### separate by . and finding the sentence"
   ]
  },
  {
   "cell_type": "code",
   "execution_count": 20,
   "id": "337d7ec6",
   "metadata": {},
   "outputs": [
    {
     "data": {
      "text/plain": [
       "'hi thiz iz zandeep. Thiz iz a python workbook'"
      ]
     },
     "execution_count": 20,
     "metadata": {},
     "output_type": "execute_result"
    }
   ],
   "source": [
    "s4.replace(\"s\", \"z\")"
   ]
  },
  {
   "cell_type": "code",
   "execution_count": 21,
   "id": "7e2aca69",
   "metadata": {},
   "outputs": [
    {
     "data": {
      "text/plain": [
       "'hi this is sandeep. This is a pythqn wqrkbqqk'"
      ]
     },
     "execution_count": 21,
     "metadata": {},
     "output_type": "execute_result"
    }
   ],
   "source": [
    "s4.replace(\"o\", \"q\")"
   ]
  },
  {
   "cell_type": "code",
   "execution_count": 22,
   "id": "5e0e8c48",
   "metadata": {},
   "outputs": [
    {
     "data": {
      "text/plain": [
       "'hi this is sandeep. This is a python workbook'"
      ]
     },
     "execution_count": 22,
     "metadata": {},
     "output_type": "execute_result"
    }
   ],
   "source": [
    "### original string never changes\n",
    "s4"
   ]
  },
  {
   "cell_type": "code",
   "execution_count": 24,
   "id": "634f597b",
   "metadata": {},
   "outputs": [
    {
     "data": {
      "text/plain": [
       "'     sandeep'"
      ]
     },
     "execution_count": 24,
     "metadata": {},
     "output_type": "execute_result"
    }
   ],
   "source": [
    "s5 = \"     sandeep     \"\n",
    "s5.rstrip()                ### remove right side whitespaces"
   ]
  },
  {
   "cell_type": "code",
   "execution_count": 25,
   "id": "4cf052e0",
   "metadata": {},
   "outputs": [
    {
     "data": {
      "text/plain": [
       "'sandeep     '"
      ]
     },
     "execution_count": 25,
     "metadata": {},
     "output_type": "execute_result"
    }
   ],
   "source": [
    "s5.lstrip()          ### remove left side whitespaces"
   ]
  },
  {
   "cell_type": "code",
   "execution_count": 26,
   "id": "fbe82ca5",
   "metadata": {},
   "outputs": [
    {
     "data": {
      "text/plain": [
       "'sandeep'"
      ]
     },
     "execution_count": 26,
     "metadata": {},
     "output_type": "execute_result"
    }
   ],
   "source": [
    "s5.strip()    #### both side"
   ]
  },
  {
   "cell_type": "code",
   "execution_count": 29,
   "id": "2bbf7e35",
   "metadata": {},
   "outputs": [],
   "source": [
    "s6 = \"sandeep\""
   ]
  },
  {
   "cell_type": "code",
   "execution_count": 30,
   "id": "fd9dd9ee",
   "metadata": {},
   "outputs": [
    {
     "data": {
      "text/plain": [
       "True"
      ]
     },
     "execution_count": 30,
     "metadata": {},
     "output_type": "execute_result"
    }
   ],
   "source": [
    "### anything start with --> is ---> always gives true or false\n",
    "\n",
    "s6.isalnum()  #"
   ]
  },
  {
   "cell_type": "code",
   "execution_count": 31,
   "id": "fd2f2946",
   "metadata": {},
   "outputs": [
    {
     "data": {
      "text/plain": [
       "True"
      ]
     },
     "execution_count": 31,
     "metadata": {},
     "output_type": "execute_result"
    }
   ],
   "source": [
    "s6.isalpha() ## only alpha"
   ]
  },
  {
   "cell_type": "code",
   "execution_count": 32,
   "id": "5df78cd9",
   "metadata": {},
   "outputs": [
    {
     "data": {
      "text/plain": [
       "False"
      ]
     },
     "execution_count": 32,
     "metadata": {},
     "output_type": "execute_result"
    }
   ],
   "source": [
    "s6.isnumeric()"
   ]
  },
  {
   "cell_type": "code",
   "execution_count": 33,
   "id": "4ed75088",
   "metadata": {},
   "outputs": [
    {
     "data": {
      "text/plain": [
       "True"
      ]
     },
     "execution_count": 33,
     "metadata": {},
     "output_type": "execute_result"
    }
   ],
   "source": [
    "s6.islower()"
   ]
  },
  {
   "cell_type": "code",
   "execution_count": 36,
   "id": "f5e53030",
   "metadata": {},
   "outputs": [
    {
     "data": {
      "text/plain": [
       "[1, 2, 3, 4, 'sandeep', 'chowdhury']"
      ]
     },
     "execution_count": 36,
     "metadata": {},
     "output_type": "execute_result"
    }
   ],
   "source": [
    "l1 = [1,2,3,4, \"sandeep\"]\n",
    "l1.append(\"chowdhury\")          ### append always append at end by default\n",
    "l1"
   ]
  },
  {
   "cell_type": "code",
   "execution_count": 37,
   "id": "634b0b44",
   "metadata": {},
   "outputs": [
    {
     "data": {
      "text/plain": [
       "[1, 2, 100, 3, 4, 'sandeep', 'chowdhury']"
      ]
     },
     "execution_count": 37,
     "metadata": {},
     "output_type": "execute_result"
    }
   ],
   "source": [
    "l1.insert(2, 100)   ### inserting something after the index\n",
    "l1"
   ]
  },
  {
   "cell_type": "code",
   "execution_count": 40,
   "id": "6ffe8ae1",
   "metadata": {},
   "outputs": [
    {
     "name": "stdout",
     "output_type": "stream",
     "text": [
      "[1, 2, 100, 3, 4, 'sandeep', 'chowdhury', 'p', 'y', 't', 'h', 'o', 'n', 'p', 'y', 't', 'h', 'o', 'n', 'p', 'y', 't', 'h', 'o', 'n']\n"
     ]
    }
   ],
   "source": [
    "l1.extend(\"python\")   ## extend\n",
    "print(l1)"
   ]
  },
  {
   "cell_type": "code",
   "execution_count": 41,
   "id": "fce01154",
   "metadata": {},
   "outputs": [
    {
     "data": {
      "text/plain": [
       "[1, 2, 3, 'p', 'y', 't', 'h', 'o', 'n']"
      ]
     },
     "execution_count": 41,
     "metadata": {},
     "output_type": "execute_result"
    }
   ],
   "source": [
    "l3 = [1,2,3]\n",
    "l3.extend(\"python\")    ## extend splits the letters and append\n",
    "l3"
   ]
  },
  {
   "cell_type": "code",
   "execution_count": 43,
   "id": "92d2a468",
   "metadata": {},
   "outputs": [
    {
     "data": {
      "text/plain": [
       "[1, 2, 3, [5, 6, 7]]"
      ]
     },
     "execution_count": 43,
     "metadata": {},
     "output_type": "execute_result"
    }
   ],
   "source": [
    "### appending list inside a list\n",
    "l4 = [1,2,3]\n",
    "l4.append([5,6,7])\n",
    "l4"
   ]
  },
  {
   "cell_type": "code",
   "execution_count": 44,
   "id": "e3b46f28",
   "metadata": {},
   "outputs": [
    {
     "data": {
      "text/plain": [
       "[1, [11, 22, 33], 2, 3, [5, 6, 7]]"
      ]
     },
     "execution_count": 44,
     "metadata": {},
     "output_type": "execute_result"
    }
   ],
   "source": [
    "### insert list inside a list\n",
    "l4.insert(1, [11,22,33])\n",
    "l4"
   ]
  },
  {
   "cell_type": "code",
   "execution_count": 45,
   "id": "75f96caa",
   "metadata": {},
   "outputs": [
    {
     "data": {
      "text/plain": [
       "[1, [11, 22, 33], 2, 3, [5, 6, 7], 10, 100, 1000]"
      ]
     },
     "execution_count": 45,
     "metadata": {},
     "output_type": "execute_result"
    }
   ],
   "source": [
    "### extend list inside a list ---> split and append\n",
    "l4.extend([10,100,1000])\n",
    "l4"
   ]
  },
  {
   "cell_type": "code",
   "execution_count": 46,
   "id": "5ce105d2",
   "metadata": {},
   "outputs": [
    {
     "data": {
      "text/plain": [
       "1000"
      ]
     },
     "execution_count": 46,
     "metadata": {},
     "output_type": "execute_result"
    }
   ],
   "source": [
    "### pop ---> bydefault pop out the last element\n",
    "l4.pop()"
   ]
  },
  {
   "cell_type": "code",
   "execution_count": 47,
   "id": "d84180d9",
   "metadata": {},
   "outputs": [
    {
     "data": {
      "text/plain": [
       "[1, [11, 22, 33], 2, 3, [5, 6, 7], 10, 100]"
      ]
     },
     "execution_count": 47,
     "metadata": {},
     "output_type": "execute_result"
    }
   ],
   "source": [
    "l4"
   ]
  },
  {
   "cell_type": "code",
   "execution_count": 48,
   "id": "0880b707",
   "metadata": {},
   "outputs": [
    {
     "data": {
      "text/plain": [
       "[1, [11, 22, 33], 3, [5, 6, 7], 10, 100]"
      ]
     },
     "execution_count": 48,
     "metadata": {},
     "output_type": "execute_result"
    }
   ],
   "source": [
    "l4.pop(2)\n",
    "l4"
   ]
  },
  {
   "cell_type": "code",
   "execution_count": 53,
   "id": "ffa5b7a3",
   "metadata": {},
   "outputs": [
    {
     "ename": "IndexError",
     "evalue": "pop index out of range",
     "output_type": "error",
     "traceback": [
      "\u001b[1;31m---------------------------------------------------------------------------\u001b[0m",
      "\u001b[1;31mIndexError\u001b[0m                                Traceback (most recent call last)",
      "\u001b[1;32m~\\AppData\\Local\\Temp/ipykernel_15328/3810410491.py\u001b[0m in \u001b[0;36m<module>\u001b[1;34m\u001b[0m\n\u001b[1;32m----> 1\u001b[1;33m \u001b[0ml4\u001b[0m\u001b[1;33m.\u001b[0m\u001b[0mpop\u001b[0m\u001b[1;33m(\u001b[0m\u001b[1;36m1000\u001b[0m\u001b[1;33m)\u001b[0m\u001b[1;33m\u001b[0m\u001b[1;33m\u001b[0m\u001b[0m\n\u001b[0m",
      "\u001b[1;31mIndexError\u001b[0m: pop index out of range"
     ]
    }
   ],
   "source": [
    "l4.pop(1000) "
   ]
  },
  {
   "cell_type": "code",
   "execution_count": 49,
   "id": "aa7a4cdf",
   "metadata": {},
   "outputs": [],
   "source": [
    "### del removes eveything\n",
    "l5 = [1,2,3,4]\n",
    "del l5"
   ]
  },
  {
   "cell_type": "code",
   "execution_count": 50,
   "id": "d17e47bd",
   "metadata": {},
   "outputs": [
    {
     "ename": "NameError",
     "evalue": "name 'l5' is not defined",
     "output_type": "error",
     "traceback": [
      "\u001b[1;31m---------------------------------------------------------------------------\u001b[0m",
      "\u001b[1;31mNameError\u001b[0m                                 Traceback (most recent call last)",
      "\u001b[1;32m~\\AppData\\Local\\Temp/ipykernel_15328/1189056189.py\u001b[0m in \u001b[0;36m<module>\u001b[1;34m\u001b[0m\n\u001b[1;32m----> 1\u001b[1;33m \u001b[0ml5\u001b[0m\u001b[1;33m\u001b[0m\u001b[1;33m\u001b[0m\u001b[0m\n\u001b[0m",
      "\u001b[1;31mNameError\u001b[0m: name 'l5' is not defined"
     ]
    }
   ],
   "source": [
    "l5"
   ]
  },
  {
   "cell_type": "code",
   "execution_count": 52,
   "id": "b032425c",
   "metadata": {},
   "outputs": [
    {
     "data": {
      "text/plain": [
       "[1, 2, 3, 'a', 's']"
      ]
     },
     "execution_count": 52,
     "metadata": {},
     "output_type": "execute_result"
    }
   ],
   "source": [
    "### Remove ---> removes the first occurance\n",
    "l6 = [1,2,3,\"s\",\"a\", \"s\"]\n",
    "l6.remove(\"s\")\n",
    "l6"
   ]
  },
  {
   "cell_type": "code",
   "execution_count": 55,
   "id": "60361435",
   "metadata": {},
   "outputs": [
    {
     "data": {
      "text/plain": [
       "[]"
      ]
     },
     "execution_count": 55,
     "metadata": {},
     "output_type": "execute_result"
    }
   ],
   "source": [
    "### clear ---> clear the array\n",
    "l6.clear()\n",
    "l6"
   ]
  },
  {
   "cell_type": "code",
   "execution_count": 56,
   "id": "63908a58",
   "metadata": {},
   "outputs": [
    {
     "data": {
      "text/plain": [
       "['s', 'a', 's', 3, 2, 1]"
      ]
     },
     "execution_count": 56,
     "metadata": {},
     "output_type": "execute_result"
    }
   ],
   "source": [
    "### reverse the entries\n",
    "l7= [1,2,3,\"s\",\"a\", \"s\"]\n",
    "l7.reverse()\n",
    "l7"
   ]
  },
  {
   "cell_type": "code",
   "execution_count": 57,
   "id": "1d7cbefd",
   "metadata": {},
   "outputs": [
    {
     "ename": "TypeError",
     "evalue": "'<' not supported between instances of 'int' and 'str'",
     "output_type": "error",
     "traceback": [
      "\u001b[1;31m---------------------------------------------------------------------------\u001b[0m",
      "\u001b[1;31mTypeError\u001b[0m                                 Traceback (most recent call last)",
      "\u001b[1;32m~\\AppData\\Local\\Temp/ipykernel_15328/926487732.py\u001b[0m in \u001b[0;36m<module>\u001b[1;34m\u001b[0m\n\u001b[1;32m----> 1\u001b[1;33m \u001b[0ml7\u001b[0m\u001b[1;33m.\u001b[0m\u001b[0msort\u001b[0m\u001b[1;33m(\u001b[0m\u001b[1;33m)\u001b[0m\u001b[1;33m\u001b[0m\u001b[1;33m\u001b[0m\u001b[0m\n\u001b[0m",
      "\u001b[1;31mTypeError\u001b[0m: '<' not supported between instances of 'int' and 'str'"
     ]
    }
   ],
   "source": [
    "### sort --> not applicable for heterogenous data\n",
    "l7.sort()"
   ]
  },
  {
   "cell_type": "code",
   "execution_count": 59,
   "id": "13853bba",
   "metadata": {},
   "outputs": [
    {
     "data": {
      "text/plain": [
       "[2, 4, 7, 8, 9]"
      ]
     },
     "execution_count": 59,
     "metadata": {},
     "output_type": "execute_result"
    }
   ],
   "source": [
    "l8 = [4,2,7,8,9]\n",
    "l8.sort()\n",
    "l8"
   ]
  },
  {
   "cell_type": "code",
   "execution_count": 60,
   "id": "8080c92e",
   "metadata": {},
   "outputs": [
    {
     "data": {
      "text/plain": [
       "['abc', 'btc', 'cde']"
      ]
     },
     "execution_count": 60,
     "metadata": {},
     "output_type": "execute_result"
    }
   ],
   "source": [
    "l9 = [\"cde\", \"abc\", \"btc\"]\n",
    "l9.sort()\n",
    "l9"
   ]
  },
  {
   "cell_type": "code",
   "execution_count": 61,
   "id": "22555189",
   "metadata": {},
   "outputs": [
    {
     "data": {
      "text/plain": [
       "['cde', 'btc', 'abc']"
      ]
     },
     "execution_count": 61,
     "metadata": {},
     "output_type": "execute_result"
    }
   ],
   "source": [
    "l9.sort(reverse=True)  ### descending order sorting\n",
    "l9"
   ]
  },
  {
   "cell_type": "code",
   "execution_count": 66,
   "id": "800c9c49",
   "metadata": {},
   "outputs": [
    {
     "name": "stdout",
     "output_type": "stream",
     "text": [
      "None\n"
     ]
    }
   ],
   "source": [
    "### sorting duplicate values\n",
    "l10 = [7,5,2,4,4,1,6,7,7,3,5]\n",
    "l11=list(set(l10)).sort()\n",
    "print(l11)"
   ]
  },
  {
   "cell_type": "code",
   "execution_count": 68,
   "id": "dffb6f89",
   "metadata": {},
   "outputs": [
    {
     "data": {
      "text/plain": [
       "{1, 2, 3, 4, 5, 6, 7}"
      ]
     },
     "execution_count": 68,
     "metadata": {},
     "output_type": "execute_result"
    }
   ],
   "source": [
    "l10 = [7,5,2,4,4,1,6,7,7,3,5]\n",
    "l11= set(l10)                ### already sorted here so not sorting or printing again\n",
    "l11"
   ]
  },
  {
   "cell_type": "code",
   "execution_count": 69,
   "id": "00fde0b1",
   "metadata": {},
   "outputs": [
    {
     "data": {
      "text/plain": [
       "[1, 2, 3, 4, 5, 6, 7]"
      ]
     },
     "execution_count": 69,
     "metadata": {},
     "output_type": "execute_result"
    }
   ],
   "source": [
    "l12 = list(l11)\n",
    "l12"
   ]
  },
  {
   "cell_type": "code",
   "execution_count": 71,
   "id": "c446cba0",
   "metadata": {},
   "outputs": [],
   "source": [
    "l13 = l12.sort()\n",
    "l13"
   ]
  },
  {
   "cell_type": "code",
   "execution_count": 77,
   "id": "90731f75",
   "metadata": {},
   "outputs": [
    {
     "data": {
      "text/plain": [
       "[100, 2, 3, 4]"
      ]
     },
     "execution_count": 77,
     "metadata": {},
     "output_type": "execute_result"
    }
   ],
   "source": [
    "### equals ---> assign another list on the same memory\n",
    "l14 = [1,2,3,4]\n",
    "l15 = l14\n",
    "\n",
    "l15[0]=100\n",
    "l14\n"
   ]
  },
  {
   "cell_type": "code",
   "execution_count": 78,
   "id": "4802a03f",
   "metadata": {},
   "outputs": [
    {
     "data": {
      "text/plain": [
       "[1, 2, 3, 4]"
      ]
     },
     "execution_count": 78,
     "metadata": {},
     "output_type": "execute_result"
    }
   ],
   "source": [
    "### copy ----> assign another memory\n",
    "\n",
    "l14 = [1,2,3,4]\n",
    "l15 = l14.copy()\n",
    "\n",
    "l15[0]=100\n",
    "l14"
   ]
  },
  {
   "cell_type": "code",
   "execution_count": 79,
   "id": "377bed92",
   "metadata": {},
   "outputs": [
    {
     "data": {
      "text/plain": [
       "{1, 3, 5, 8, 300}"
      ]
     },
     "execution_count": 79,
     "metadata": {},
     "output_type": "execute_result"
    }
   ],
   "source": [
    "### add ---> aading element inside the set\n",
    "s7 = {1,3,8,3,1,5,8,3}\n",
    "s7.add(300)\n",
    "s7"
   ]
  },
  {
   "cell_type": "code",
   "execution_count": 80,
   "id": "9d5e217c",
   "metadata": {},
   "outputs": [
    {
     "data": {
      "text/plain": [
       "{1, 3, 4, 5, 8, 300}"
      ]
     },
     "execution_count": 80,
     "metadata": {},
     "output_type": "execute_result"
    }
   ],
   "source": [
    "s7.add(4)\n",
    "s7"
   ]
  },
  {
   "cell_type": "code",
   "execution_count": 81,
   "id": "41ee1073",
   "metadata": {},
   "outputs": [
    {
     "data": {
      "text/plain": [
       "{3, 4, 5, 8, 300}"
      ]
     },
     "execution_count": 81,
     "metadata": {},
     "output_type": "execute_result"
    }
   ],
   "source": [
    "#### discard ---> removes first element\n",
    "s7.discard(1)\n",
    "s7"
   ]
  },
  {
   "cell_type": "code",
   "execution_count": 82,
   "id": "7b375f5f",
   "metadata": {},
   "outputs": [
    {
     "data": {
      "text/plain": [
       "{4, 5, 8, 300}"
      ]
     },
     "execution_count": 82,
     "metadata": {},
     "output_type": "execute_result"
    }
   ],
   "source": [
    "### pop set ----> it removes from begining in case of sets\n",
    "s7.pop()\n",
    "s7"
   ]
  },
  {
   "cell_type": "code",
   "execution_count": null,
   "id": "0627bc6b",
   "metadata": {},
   "outputs": [],
   "source": []
  }
 ],
 "metadata": {
  "kernelspec": {
   "display_name": "Python 3 (ipykernel)",
   "language": "python",
   "name": "python3"
  },
  "language_info": {
   "codemirror_mode": {
    "name": "ipython",
    "version": 3
   },
   "file_extension": ".py",
   "mimetype": "text/x-python",
   "name": "python",
   "nbconvert_exporter": "python",
   "pygments_lexer": "ipython3",
   "version": "3.9.7"
  }
 },
 "nbformat": 4,
 "nbformat_minor": 5
}
